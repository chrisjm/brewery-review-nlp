{
 "cells": [
  {
   "cell_type": "markdown",
   "metadata": {},
   "source": [
    "# 03 - Preprocessing & Model Training 🤖\n",
    "\n",
    "## Problem\n",
    "\n",
    "How can we generate short descriptions including a list of popular beer styles from brewery reviews with natural language processing (NLP)? \n",
    "\n",
    "NOTE: This is similar to how Google Maps provides short blurbs for businesses such as “From scratch, Northern Italian dining.” \n",
    "\n",
    "For example, \"Spacious warehouse brewery with daily food trucks. Allows dogs. Features IPAs, Hazy IPAs, and high-gravity stouts.\"\n",
    "\n",
    "## Notebook Objectives\n",
    "\n",
    "* Understand the importance of creating a model training development data set.\n",
    "* Correctly identify when to create dummy features or one-hot encoded features.\n",
    "* Understand the importance of magnitude standardization.\n",
    "* Apply the train and test split to the development dataset effectively."
   ]
  },
  {
   "cell_type": "code",
   "execution_count": 1,
   "metadata": {},
   "outputs": [],
   "source": [
    "import numpy as np\n",
    "import pandas as pd\n",
    "import matplotlib.pyplot as plt\n",
    "import seaborn as sns\n",
    "import warnings\n",
    "import json\n",
    "import time\n",
    "import math\n",
    "from pprint import pprint\n",
    "\n",
    "import random\n",
    "random.seed(42)\n",
    "\n",
    "# Progress bar\n",
    "# from tqdm import tqdm, trange\n",
    "from tqdm.notebook import tqdm, trange\n",
    "\n",
    "# NLP Toolkit\n",
    "import spacy\n",
    "from spacy import displacy\n",
    "from spacy.util import minibatch, compounding, decaying\n",
    "\n",
    "%matplotlib inline"
   ]
  },
  {
   "cell_type": "code",
   "execution_count": 2,
   "metadata": {},
   "outputs": [],
   "source": [
    "# Set default plot size\n",
    "plt.rcParams['figure.figsize'] = (10, 5)"
   ]
  },
  {
   "cell_type": "code",
   "execution_count": 3,
   "metadata": {},
   "outputs": [],
   "source": [
    "# Load small English language model for sentence separation.\n",
    "nlp = spacy.load(\"en_core_web_sm\")"
   ]
  },
  {
   "cell_type": "code",
   "execution_count": 4,
   "metadata": {},
   "outputs": [
    {
     "data": {
      "text/html": [
       "<div>\n",
       "<style scoped>\n",
       "    .dataframe tbody tr th:only-of-type {\n",
       "        vertical-align: middle;\n",
       "    }\n",
       "\n",
       "    .dataframe tbody tr th {\n",
       "        vertical-align: top;\n",
       "    }\n",
       "\n",
       "    .dataframe thead th {\n",
       "        text-align: right;\n",
       "    }\n",
       "</style>\n",
       "<table border=\"1\" class=\"dataframe\">\n",
       "  <thead>\n",
       "    <tr style=\"text-align: right;\">\n",
       "      <th></th>\n",
       "      <th>review_text</th>\n",
       "      <th>rating</th>\n",
       "      <th>date</th>\n",
       "      <th>brewery_name</th>\n",
       "      <th>street</th>\n",
       "      <th>city</th>\n",
       "      <th>tokens</th>\n",
       "      <th>sents</th>\n",
       "    </tr>\n",
       "  </thead>\n",
       "  <tbody>\n",
       "    <tr>\n",
       "      <th>0</th>\n",
       "      <td>Got to visit the newest brewery in Birmingham ...</td>\n",
       "      <td>4.13</td>\n",
       "      <td>2019-07-25</td>\n",
       "      <td>Birmingham District Brewing</td>\n",
       "      <td>2201 2nd Ave S, Ste 102</td>\n",
       "      <td>Birmingham</td>\n",
       "      <td>110</td>\n",
       "      <td>8</td>\n",
       "    </tr>\n",
       "    <tr>\n",
       "      <th>1</th>\n",
       "      <td>Nice big space, very clean, and friendly staff...</td>\n",
       "      <td>4.04</td>\n",
       "      <td>2018-10-23</td>\n",
       "      <td>Trimtab Brewing Company</td>\n",
       "      <td>2721 5th Ave S</td>\n",
       "      <td>Birmingham</td>\n",
       "      <td>105</td>\n",
       "      <td>7</td>\n",
       "    </tr>\n",
       "    <tr>\n",
       "      <th>2</th>\n",
       "      <td>The vibe of trim tab is interesting.....they h...</td>\n",
       "      <td>4.04</td>\n",
       "      <td>2018-08-24</td>\n",
       "      <td>Trimtab Brewing Company</td>\n",
       "      <td>2721 5th Ave S</td>\n",
       "      <td>Birmingham</td>\n",
       "      <td>116</td>\n",
       "      <td>9</td>\n",
       "    </tr>\n",
       "    <tr>\n",
       "      <th>3</th>\n",
       "      <td>Stopped here late one night before closing, th...</td>\n",
       "      <td>4.07</td>\n",
       "      <td>2017-07-11</td>\n",
       "      <td>Trimtab Brewing Company</td>\n",
       "      <td>2721 5th Ave S</td>\n",
       "      <td>Birmingham</td>\n",
       "      <td>74</td>\n",
       "      <td>5</td>\n",
       "    </tr>\n",
       "    <tr>\n",
       "      <th>4</th>\n",
       "      <td>Extremely relaxed brewery. Great service with ...</td>\n",
       "      <td>4.10</td>\n",
       "      <td>2018-01-21</td>\n",
       "      <td>Trimtab Brewing Company</td>\n",
       "      <td>2721 5th Ave S</td>\n",
       "      <td>Birmingham</td>\n",
       "      <td>33</td>\n",
       "      <td>5</td>\n",
       "    </tr>\n",
       "  </tbody>\n",
       "</table>\n",
       "</div>"
      ],
      "text/plain": [
       "                                         review_text  rating       date  \\\n",
       "0  Got to visit the newest brewery in Birmingham ...    4.13 2019-07-25   \n",
       "1  Nice big space, very clean, and friendly staff...    4.04 2018-10-23   \n",
       "2  The vibe of trim tab is interesting.....they h...    4.04 2018-08-24   \n",
       "3  Stopped here late one night before closing, th...    4.07 2017-07-11   \n",
       "4  Extremely relaxed brewery. Great service with ...    4.10 2018-01-21   \n",
       "\n",
       "                  brewery_name                   street        city  tokens  \\\n",
       "0  Birmingham District Brewing  2201 2nd Ave S, Ste 102  Birmingham     110   \n",
       "1      Trimtab Brewing Company           2721 5th Ave S  Birmingham     105   \n",
       "2      Trimtab Brewing Company           2721 5th Ave S  Birmingham     116   \n",
       "3      Trimtab Brewing Company           2721 5th Ave S  Birmingham      74   \n",
       "4      Trimtab Brewing Company           2721 5th Ave S  Birmingham      33   \n",
       "\n",
       "   sents  \n",
       "0      8  \n",
       "1      7  \n",
       "2      9  \n",
       "3      5  \n",
       "4      5  "
      ]
     },
     "execution_count": 4,
     "metadata": {},
     "output_type": "execute_result"
    }
   ],
   "source": [
    "# Load data\n",
    "df = pd.read_csv('../data/raw/brewery_reviews.csv', index_col=0, parse_dates=['date'])\n",
    "df.head()"
   ]
  },
  {
   "cell_type": "code",
   "execution_count": 5,
   "metadata": {},
   "outputs": [],
   "source": [
    "# We don't need reviews without text for this work\n",
    "df.dropna(inplace=True)"
   ]
  },
  {
   "cell_type": "code",
   "execution_count": 6,
   "metadata": {},
   "outputs": [
    {
     "data": {
      "text/plain": [
       "194504"
      ]
     },
     "execution_count": 6,
     "metadata": {},
     "output_type": "execute_result"
    }
   ],
   "source": [
    "# Count sentences\n",
    "df['sents'].sum()"
   ]
  },
  {
   "cell_type": "code",
   "execution_count": 7,
   "metadata": {},
   "outputs": [
    {
     "name": "stdout",
     "output_type": "stream",
     "text": [
      "--- 554.999528169632 seconds ---\n"
     ]
    }
   ],
   "source": [
    "# Separate reviews into sentences for annotation.\n",
    "# WARNING: THIS TAKES A LONG TIME (~8 minutes)\n",
    "start_time = time.time()\n",
    "\n",
    "sentence_list = []\n",
    "for review in df['review_text']:\n",
    "    doc = nlp(review)\n",
    "    for sent in doc.sents:\n",
    "        sentence_list.append(sent.text)\n",
    "        \n",
    "print(\"--- %s seconds ---\" % (time.time() - start_time))"
   ]
  },
  {
   "cell_type": "code",
   "execution_count": 12,
   "metadata": {},
   "outputs": [],
   "source": [
    "# Get sentence length (i.e. number of tokens per sentence)\n",
    "sentence_length = [len(sent) for sent in sentence_list]"
   ]
  },
  {
   "cell_type": "code",
   "execution_count": 13,
   "metadata": {},
   "outputs": [
    {
     "data": {
      "image/png": "[encoded data removed]",
      "text/plain": [
       "<Figure size 720x360 with 1 Axes>"
      ]
     },
     "metadata": {
      "needs_background": "light"
     },
     "output_type": "display_data"
    }
   ],
   "source": [
    "# Visualize\n",
    "sns.histplot(data=sentence_length)\n",
    "plt.ylabel('Count')\n",
    "plt.xlabel('Sentence Length (characters)')\n",
    "plt.show()"
   ]
  },
  {
   "cell_type": "code",
   "execution_count": 14,
   "metadata": {},
   "outputs": [],
   "source": [
    "# Create DataFrame of sentence\n",
    "sent_df = pd.DataFrame(sentence_length)"
   ]
  },
  {
   "cell_type": "code",
   "execution_count": 15,
   "metadata": {},
   "outputs": [
    {
     "data": {
      "text/html": [
       "<div>\n",
       "<style scoped>\n",
       "    .dataframe tbody tr th:only-of-type {\n",
       "        vertical-align: middle;\n",
       "    }\n",
       "\n",
       "    .dataframe tbody tr th {\n",
       "        vertical-align: top;\n",
       "    }\n",
       "\n",
       "    .dataframe thead th {\n",
       "        text-align: right;\n",
       "    }\n",
       "</style>\n",
       "<table border=\"1\" class=\"dataframe\">\n",
       "  <thead>\n",
       "    <tr style=\"text-align: right;\">\n",
       "      <th></th>\n",
       "      <th>0</th>\n",
       "    </tr>\n",
       "  </thead>\n",
       "  <tbody>\n",
       "    <tr>\n",
       "      <th>count</th>\n",
       "      <td>194504.000000</td>\n",
       "    </tr>\n",
       "    <tr>\n",
       "      <th>mean</th>\n",
       "      <td>71.953297</td>\n",
       "    </tr>\n",
       "    <tr>\n",
       "      <th>std</th>\n",
       "      <td>44.211408</td>\n",
       "    </tr>\n",
       "    <tr>\n",
       "      <th>min</th>\n",
       "      <td>1.000000</td>\n",
       "    </tr>\n",
       "    <tr>\n",
       "      <th>25%</th>\n",
       "      <td>41.000000</td>\n",
       "    </tr>\n",
       "    <tr>\n",
       "      <th>50%</th>\n",
       "      <td>64.000000</td>\n",
       "    </tr>\n",
       "    <tr>\n",
       "      <th>75%</th>\n",
       "      <td>94.000000</td>\n",
       "    </tr>\n",
       "    <tr>\n",
       "      <th>max</th>\n",
       "      <td>983.000000</td>\n",
       "    </tr>\n",
       "  </tbody>\n",
       "</table>\n",
       "</div>"
      ],
      "text/plain": [
       "                   0\n",
       "count  194504.000000\n",
       "mean       71.953297\n",
       "std        44.211408\n",
       "min         1.000000\n",
       "25%        41.000000\n",
       "50%        64.000000\n",
       "75%        94.000000\n",
       "max       983.000000"
      ]
     },
     "execution_count": 15,
     "metadata": {},
     "output_type": "execute_result"
    }
   ],
   "source": [
    "# Inspect\n",
    "sent_df.describe()"
   ]
  },
  {
   "cell_type": "code",
   "execution_count": 18,
   "metadata": {},
   "outputs": [],
   "source": [
    "def find_outliers(array):\n",
    "    \"\"\"\n",
    "    Returns a tuple of (lower, upper) cut-offs so you can do something like:\n",
    "    `sent_list_cleaned = [sent for sent in sent_list if len(sent) >= lower and len(sent) <= upper]`\n",
    "    \"\"\"\n",
    "    data = np.array(array)\n",
    "    # calculate interquartile range\n",
    "    q25, q75 = np.percentile(data, 25), np.percentile(data, 75)\n",
    "    iqr = q75 - q25\n",
    "    print(f'Percentiles: 25th={q25}, 75th={q75}, IQR={iqr}')\n",
    "    # calculate the outlier cutoff\n",
    "    cut_off = iqr * 1.5\n",
    "    lower, upper = q25, q75 + cut_off\n",
    "    print(f'Cut-offs: lower={lower}, upper={upper}')\n",
    "    # identify outliers\n",
    "    outliers = [x for x in data if x < lower or x > upper]\n",
    "    print(f'Identified outliers: {len(outliers)}')\n",
    "    # remove outliers\n",
    "    outliers_removed = [x for x in data if x >= lower and x <= upper]\n",
    "    print(f'Non-outlier observations: {len(outliers_removed)}')\n",
    "    \n",
    "    return lower, upper"
   ]
  },
  {
   "cell_type": "code",
   "execution_count": 19,
   "metadata": {},
   "outputs": [
    {
     "name": "stdout",
     "output_type": "stream",
     "text": [
      "Percentiles: 25th=41.0, 75th=94.0, IQR=53.0\n",
      "Cut-offs: lower=41.0, upper=173.5\n",
      "Identified outliers: 54088\n",
      "Non-outlier observations: 140416\n"
     ]
    }
   ],
   "source": [
    "lower, upper = find_outliers(sentence_length)"
   ]
  },
  {
   "cell_type": "code",
   "execution_count": 20,
   "metadata": {},
   "outputs": [],
   "source": [
    "# Create list of sentences of a non-outlier length\n",
    "sents_cleaned = [sent for sent in sentence_list if len(sent) >= lower and len(sent) <= upper]"
   ]
  },
  {
   "cell_type": "code",
   "execution_count": 21,
   "metadata": {},
   "outputs": [],
   "source": [
    "# Write random sentences to text file for import into Doccano\n",
    "sents_np = np.array(sents_cleaned)\n",
    "sizes = [100, 500, 1000, 5000]\n",
    "\n",
    "for size in sizes:\n",
    "    random_sents = np.random.choice(sents_np, size=size, replace=False)\n",
    "    with open(f'../data/processed/brewery-review-sentences-{size}.txt','w') as write:\n",
    "        write.write(\"\\n\".join(random_sents))"
   ]
  },
  {
   "cell_type": "markdown",
   "metadata": {},
   "source": [
    "## Full Review Text vs. Sentences\n",
    "\n",
    "After loading 500 sentences into Doccano and starting to annotate, I realized the context may be more helpful from a user experience perspective and useful for a model training persepctive."
   ]
  },
  {
   "cell_type": "code",
   "execution_count": 22,
   "metadata": {},
   "outputs": [
    {
     "data": {
      "image/png": "[encoded data removed]",
      "text/plain": [
       "<Figure size 720x360 with 1 Axes>"
      ]
     },
     "metadata": {
      "needs_background": "light"
     },
     "output_type": "display_data"
    }
   ],
   "source": [
    "sns.histplot(data=df, x='tokens')\n",
    "plt.xlabel('# Tokens (Words) in Review')\n",
    "plt.ylabel('Count')\n",
    "plt.show()"
   ]
  },
  {
   "cell_type": "code",
   "execution_count": 23,
   "metadata": {},
   "outputs": [
    {
     "name": "stdout",
     "output_type": "stream",
     "text": [
      "Percentiles: 25th=38.0, 75th=110.0, IQR=72.0\n",
      "Cut-offs: lower=38.0, upper=218.0\n",
      "Identified outliers: 10639\n",
      "Non-outlier observations: 26895\n"
     ]
    }
   ],
   "source": [
    "lower, upper = find_outliers(df['tokens'])"
   ]
  },
  {
   "cell_type": "code",
   "execution_count": 24,
   "metadata": {},
   "outputs": [
    {
     "data": {
      "text/plain": [
       "26895"
      ]
     },
     "execution_count": 24,
     "metadata": {},
     "output_type": "execute_result"
    }
   ],
   "source": [
    "df_cleaned = df[(df['tokens'] >= lower) & (df['tokens'] <= upper)]\n",
    "len(df_cleaned)"
   ]
  },
  {
   "cell_type": "code",
   "execution_count": 25,
   "metadata": {},
   "outputs": [],
   "source": [
    "# Write random sentences to text file for import into Doccano\n",
    "reviews_np = np.array(df_cleaned['review_text'])\n",
    "sizes = [100, 500, 1000, 5000]\n",
    "\n",
    "for size in sizes:\n",
    "    random_reviews = np.random.choice(reviews_np, size=size, replace=False)\n",
    "    with open(f'../data/processed/brewery-reviews-{size}.txt','w') as write:\n",
    "        write.write(\"\\n\".join(random_reviews))"
   ]
  },
  {
   "cell_type": "markdown",
   "metadata": {},
   "source": [
    "## Model Training v1"
   ]
  },
  {
   "cell_type": "code",
   "execution_count": 26,
   "metadata": {},
   "outputs": [
    {
     "name": "stdout",
     "output_type": "stream",
     "text": [
      "[INFO] Stored the spacy training data and filename is ../data/annotations/export-reviews-100-v2.txt\n"
     ]
    }
   ],
   "source": [
    "# Load the TRAIN_DATA from the Doccano export\n",
    "filename = (\"../data/annotations/export-reviews-100-v2.json\")\n",
    "TRAIN_DATA = []\n",
    "\n",
    "with open(filename) as file:\n",
    "    lines = file.readlines()\n",
    "    for train_data in lines:\n",
    "        data = json.loads(train_data)\n",
    "        if len(data['labels']) == 0 and data['annotation_approver'] == None: continue\n",
    "        ents = [tuple(entity[:3]) for entity in data['labels']]\n",
    "        TRAIN_DATA.append((data['text'],{'entities':ents}))\n",
    "\n",
    "with open('{}'.format(filename.replace('json','txt')),'w') as write:\n",
    "    write.write(str(TRAIN_DATA))\n",
    "\n",
    "print(\"[INFO] Stored the spacy training data and filename is {}\".format(filename.replace('json','txt')))"
   ]
  },
  {
   "cell_type": "code",
   "execution_count": 27,
   "metadata": {},
   "outputs": [
    {
     "name": "stdout",
     "output_type": "stream",
     "text": [
      "['Feature', 'Beer Style', 'Location']\n"
     ]
    }
   ],
   "source": [
    "# Load the LABELS from the Doccano export\n",
    "labels_filename = (\"../data/processed/brewery-review-labels.json\")\n",
    "LABELS = []\n",
    "\n",
    "with open(labels_filename) as file:\n",
    "    labels = json.load(file)\n",
    "    LABELS = [label['text'] for label in labels]\n",
    "    \n",
    "print(LABELS)"
   ]
  },
  {
   "cell_type": "code",
   "execution_count": 28,
   "metadata": {},
   "outputs": [
    {
     "name": "stdout",
     "output_type": "stream",
     "text": [
      "Created blank 'en' model\n",
      "Adding LABEL 'Feature'\n",
      "Adding LABEL 'Beer Style'\n",
      "Adding LABEL 'Location'\n"
     ]
    }
   ],
   "source": [
    "# Load existing Language model and add the LABELS \n",
    "\n",
    "# Load existing model\n",
    "# model = \"en_core_web_sm\"\n",
    "\n",
    "# nlp = spacy.load(model)\n",
    "# print(f\"Loading model '{model}'\")\n",
    "\n",
    "# Alternate: Create blank Language class\n",
    "nlp = spacy.blank(\"en\")\n",
    "print(\"Created blank 'en' model\")\n",
    "\n",
    "# Either add NER to pipeline or grab it so we can add labels\n",
    "if \"ner\" not in nlp.pipe_names:\n",
    "    ner = nlp.create_pipe(\"ner\")\n",
    "    nlp.add_pipe(ner, last=True)\n",
    "else:\n",
    "    ner = nlp.get_pipe(\"ner\")\n",
    "\n",
    "for label in LABELS:\n",
    "    print(f\"Adding LABEL '{label}'\")\n",
    "    ner.add_label(label)"
   ]
  },
  {
   "cell_type": "code",
   "execution_count": 29,
   "metadata": {},
   "outputs": [
    {
     "data": {
      "application/vnd.jupyter.widget-view+json": {
       "model_id": "6fe893f1b5824414b6dfad25a7330bae",
       "version_major": 2,
       "version_minor": 0
      },
      "text/plain": [
       "HBox(children=(HTML(value=''), FloatProgress(value=0.0, max=200.0), HTML(value='')))"
      ]
     },
     "metadata": {},
     "output_type": "display_data"
    },
    {
     "name": "stdout",
     "output_type": "stream",
     "text": [
      "\n"
     ]
    }
   ],
   "source": [
    "# Train the model\n",
    "\n",
    "# Number of iterations\n",
    "n_iter=200\n",
    "\n",
    "# Drop to prevent over-fitting\n",
    "drop = decaying(0.6, 0.2, 1e-4)\n",
    "\n",
    "# Set optimizer and begin training\n",
    "optimizer = nlp.begin_training()\n",
    "\n",
    "# Minibatch sizes\n",
    "sizes = compounding(1.0, 4.0, 1.001)\n",
    "\n",
    "loss = []\n",
    "\n",
    "pipe_exceptions = [\"ner\", \"trf_wordpiecer\", \"trf_tok2vec\"]\n",
    "other_pipes = [pipe for pipe in nlp.pipe_names if pipe not in pipe_exceptions]\n",
    "# only train NER\n",
    "with nlp.disable_pipes(*other_pipes), warnings.catch_warnings():\n",
    "    # show warnings for misaligned entity spans once\n",
    "    warnings.filterwarnings(\"once\", category=UserWarning, module='spacy')\n",
    "\n",
    "    # batch up the examples using spaCy's minibatch\n",
    "    # NOTE: These are defaults from https://spacy.io/usage/training#ner\n",
    "    with trange(n_iter) as pbar:\n",
    "        for _ in pbar:\n",
    "            # Randomize the training data\n",
    "            random.shuffle(TRAIN_DATA)\n",
    "\n",
    "            # Create batches\n",
    "            batches = minibatch(TRAIN_DATA, size=sizes)\n",
    "\n",
    "            # Train and update\n",
    "            losses = {}\n",
    "            for batch in batches:\n",
    "                texts, annotations = zip(*batch)\n",
    "                nlp.update(texts, annotations, sgd=optimizer, drop=next(drop), losses=losses)\n",
    "\n",
    "            # Logging\n",
    "            loss.append(losses['ner'])\n",
    "            pbar.set_postfix(loss=losses['ner'])"
   ]
  },
  {
   "cell_type": "code",
   "execution_count": 30,
   "metadata": {},
   "outputs": [
    {
     "data": {
      "image/png": "[encoded data removed]",
      "text/plain": [
       "<Figure size 720x360 with 1 Axes>"
      ]
     },
     "metadata": {
      "needs_background": "light"
     },
     "output_type": "display_data"
    }
   ],
   "source": [
    "plt.plot(range(n_iter), loss)\n",
    "plt.xlabel('Epochs')\n",
    "plt.ylabel('Loss')\n",
    "plt.show()"
   ]
  },
  {
   "cell_type": "markdown",
   "metadata": {},
   "source": [
    "## Model Training v2\n",
    "\n",
    "1. Load in annotations from Doccano\n",
    "2. Randomize and split into train and test sets\n",
    "3. Use spacy CLI to train and save model\n",
    "\n",
    "### Reference\n",
    "\n",
    "* https://medium.com/@justindavies/training-spacy-ner-models-with-doccano-8d8203e29bfa"
   ]
  },
  {
   "cell_type": "code",
   "execution_count": 31,
   "metadata": {},
   "outputs": [
    {
     "name": "stdout",
     "output_type": "stream",
     "text": [
      "Number of examples: 100\n"
     ]
    }
   ],
   "source": [
    "# Load the annotations from the Doccano export\n",
    "\n",
    "filename = (\"../data/annotations/export-reviews-100-v2.json\")\n",
    "\n",
    "# Array of tuples [(TEXT, {'entities': ENTITIES[]})]\n",
    "DATA = []\n",
    "\n",
    "with open(filename) as file:\n",
    "    lines = file.readlines()\n",
    "    for annot_data in lines:\n",
    "        data = json.loads(annot_data)\n",
    "        \n",
    "        # Ignore annotations without labels and no approval\n",
    "        if len(data['labels']) == 0 and data['annotation_approver'] == None: continue\n",
    "\n",
    "        # Create entities and append\n",
    "        ents = [tuple(entity[:3]) for entity in data['labels']]\n",
    "        DATA.append((data['text'], {'entities': ents}))\n",
    "\n",
    "print(f\"Number of examples: {len(DATA)}\")"
   ]
  },
  {
   "cell_type": "code",
   "execution_count": 33,
   "metadata": {},
   "outputs": [],
   "source": [
    "# Convert Doccano JSONL to spaCy-compatible JSONL\n",
    "\n",
    "filename = (\"../data/annotations/export-reviews-100-v2.json\")\n",
    "\n",
    "with open(filename) as file:\n",
    "    lines = file.readlines()\n",
    "    \n",
    "    for line in lines:\n",
    "        line = json.loads(line)\n",
    "        \n",
    "        # Ignore annotations without labels and no approval\n",
    "        if len(line['labels']) == 0 and line['annotation_approver'] == None: continue\n",
    "        \n",
    "        # Rename \"labels\" to \"entities\"\n",
    "        if \"labels\" in line:\n",
    "            line[\"entities\"] = line.pop(\"labels\")\n",
    "        else:\n",
    "            line[\"entities\"] = []\n",
    "\n",
    "        # Reorganize the entities\n",
    "        tmp_ents = []\n",
    "        for entity in line[\"entities\"]:\n",
    "            if entity[2] in LABELS:\n",
    "                tmp_ents.append({\"start\": entity[0], \"end\": entity[1], \"label\": entity[2]})\n",
    "            line[\"entities\"] = tmp_ents\n",
    "        \n",
    "        with open(filename.replace('.json','-spacy.jsonl'), 'a+') as write:\n",
    "            write.write(json.dumps({\"entities\": line[\"entities\"], \"text\": line[\"text\"]}))\n",
    "            write.write(\"\\n\")"
   ]
  },
  {
   "cell_type": "code",
   "execution_count": 34,
   "metadata": {},
   "outputs": [
    {
     "name": "stdout",
     "output_type": "stream",
     "text": [
      "train: 90\n",
      "test: 10\n"
     ]
    }
   ],
   "source": [
    "# Randomize and split into train and test\n",
    "filename = (\"../data/annotations/export-reviews-100-v2-spacy.jsonl\")\n",
    "\n",
    "with open(filename) as file:\n",
    "    DATA = file.readlines()\n",
    "\n",
    "random.shuffle(DATA)\n",
    "n = math.floor(0.9 * len(DATA))\n",
    "train_data = DATA[:n]\n",
    "test_data = DATA[n:]\n",
    "\n",
    "print(f\"train: {len(train_data)}\")\n",
    "print(f\"test: {len(test_data)}\")"
   ]
  },
  {
   "cell_type": "code",
   "execution_count": 35,
   "metadata": {},
   "outputs": [
    {
     "name": "stdout",
     "output_type": "stream",
     "text": [
      "[INFO] Stored the spacy training data at ../data/annotations/export-reviews-100-v2-spacy-train.jsonl\n",
      "[INFO] Stored the spacy dev data at ../data/annotations/export-reviews-100-v2-spacy-dev.jsonl\n"
     ]
    }
   ],
   "source": [
    "train_filename = \"../data/annotations/export-reviews-100-v2-spacy-train.jsonl\"\n",
    "test_filename = \"../data/annotations/export-reviews-100-v2-spacy-dev.jsonl\"\n",
    "\n",
    "with open(train_filename, 'w') as write:\n",
    "    write.write(\"\".join(train_data))\n",
    "\n",
    "print(\"[INFO] Stored the spacy training data at {}\".format(train_filename))\n",
    "\n",
    "with open(test_filename, 'w') as write:\n",
    "    write.write(\"\".join(test_data))\n",
    "\n",
    "print(\"[INFO] Stored the spacy dev data at {}\".format(test_filename))"
   ]
  },
  {
   "cell_type": "code",
   "execution_count": 36,
   "metadata": {},
   "outputs": [],
   "source": [
    "# Convert JSONL to spaCy JSON\n",
    "# python -m spacy convert export-reviews-100-v2-spacy-train.jsonl ./ --lang en\n",
    "# python -m spacy convert export-reviews-100-v2-spacy-dev.jsonl ./ --lang en\n",
    "\n",
    "# Train model\n",
    "# python -m spacy train en model ./export-reviews-100-v2-spacy-train.json ./export-reviews-100-v2-spacy-dev.json -b en_core_web_sm -p ner\n",
    "\n",
    "# Evaluate model\n",
    "# python -m spacy evaluate models/model-final data/annotations/export-reviews-100-v2-spacy-dev.json --displacy-path reports/displacy"
   ]
  },
  {
   "cell_type": "code",
   "execution_count": 38,
   "metadata": {},
   "outputs": [],
   "source": [
    "# Load saved model\n",
    "nlp = nlp.from_disk(\"../models/v1/model-final\")"
   ]
  },
  {
   "cell_type": "code",
   "execution_count": 39,
   "metadata": {},
   "outputs": [
    {
     "data": {
      "text/html": [
       "<span class=\"tex2jax_ignore\"><div class=\"entities\" style=\"line-height: 2.5; direction: ltr\">Nice \n",
       "<mark class=\"entity\" style=\"background: #80CBC4; padding: 0.45em 0.6em; margin: 0 0.25em; line-height: 1; border-radius: 0.35em;\">\n",
       "    old fashion building\n",
       "    <span style=\"font-size: 0.8em; font-weight: bold; line-height: 1; border-radius: 0.35em; text-transform: uppercase; vertical-align: middle; margin-left: 0.5rem\">Feature</span>\n",
       "</mark>\n",
       ". I love the door \n",
       "<mark class=\"entity\" style=\"background: #80CBC4; padding: 0.45em 0.6em; margin: 0 0.25em; line-height: 1; border-radius: 0.35em;\">\n",
       "    knobs for beer taps\n",
       "    <span style=\"font-size: 0.8em; font-weight: bold; line-height: 1; border-radius: 0.35em; text-transform: uppercase; vertical-align: middle; margin-left: 0.5rem\">Feature</span>\n",
       "</mark>\n",
       ". The beer \n",
       "<mark class=\"entity\" style=\"background: #80CBC4; padding: 0.45em 0.6em; margin: 0 0.25em; line-height: 1; border-radius: 0.35em;\">\n",
       "    selection offers over ten taps\n",
       "    <span style=\"font-size: 0.8em; font-weight: bold; line-height: 1; border-radius: 0.35em; text-transform: uppercase; vertical-align: middle; margin-left: 0.5rem\">Feature</span>\n",
       "</mark>\n",
       ". The bar was rented for the night for an association I belong to. There were a couple of hot banquet offerings. They were slightly different and pretty good flavor. The service was good for the event.</br></div></span>"
      ],
      "text/plain": [
       "<IPython.core.display.HTML object>"
      ]
     },
     "metadata": {},
     "output_type": "display_data"
    },
    {
     "data": {
      "text/html": [
       "<span class=\"tex2jax_ignore\"><div class=\"entities\" style=\"line-height: 2.5; direction: ltr\">This place feels more like a bar than a restaurant, but they do pour their own and other it in \n",
       "<mark class=\"entity\" style=\"background: #80CBC4; padding: 0.45em 0.6em; margin: 0 0.25em; line-height: 1; border-radius: 0.35em;\">\n",
       "    flights\n",
       "    <span style=\"font-size: 0.8em; font-weight: bold; line-height: 1; border-radius: 0.35em; text-transform: uppercase; vertical-align: middle; margin-left: 0.5rem\">Feature</span>\n",
       "</mark>\n",
       ". Located blocks from Petco Park with an inviting porch, it definitely caters to Padres \n",
       "<mark class=\"entity\" style=\"background: #80CBC4; padding: 0.45em 0.6em; margin: 0 0.25em; line-height: 1; border-radius: 0.35em;\">\n",
       "    fans\n",
       "    <span style=\"font-size: 0.8em; font-weight: bold; line-height: 1; border-radius: 0.35em; text-transform: uppercase; vertical-align: middle; margin-left: 0.5rem\">Feature</span>\n",
       "</mark>\n",
       " and out-of-towners in for a visit. I can't say I loved the beers I had there, but the bartender was helpful an \n",
       "<mark class=\"entity\" style=\"background: #80CBC4; padding: 0.45em 0.6em; margin: 0 0.25em; line-height: 1; border-radius: 0.35em;\">\n",
       "    courteous\n",
       "    <span style=\"font-size: 0.8em; font-weight: bold; line-height: 1; border-radius: 0.35em; text-transform: uppercase; vertical-align: middle; margin-left: 0.5rem\">Feature</span>\n",
       "</mark>\n",
       " and Half Door was a more than inviting place to kill a \n",
       "<mark class=\"entity\" style=\"background: #80CBC4; padding: 0.45em 0.6em; margin: 0 0.25em; line-height: 1; border-radius: 0.35em;\">\n",
       "    happy hour\n",
       "    <span style=\"font-size: 0.8em; font-weight: bold; line-height: 1; border-radius: 0.35em; text-transform: uppercase; vertical-align: middle; margin-left: 0.5rem\">Feature</span>\n",
       "</mark>\n",
       ".</br></div></span>"
      ],
      "text/plain": [
       "<IPython.core.display.HTML object>"
      ]
     },
     "metadata": {},
     "output_type": "display_data"
    },
    {
     "data": {
      "text/html": [
       "<span class=\"tex2jax_ignore\"><div class=\"entities\" style=\"line-height: 2.5; direction: ltr\">Old converted house in downtown with porch/ \n",
       "<mark class=\"entity\" style=\"background: #80CBC4; padding: 0.45em 0.6em; margin: 0 0.25em; line-height: 1; border-radius: 0.35em;\">\n",
       "    patio seating\n",
       "    <span style=\"font-size: 0.8em; font-weight: bold; line-height: 1; border-radius: 0.35em; text-transform: uppercase; vertical-align: middle; margin-left: 0.5rem\">Feature</span>\n",
       "</mark>\n",
       ". L-shaped bar seats about 15... additional seat around. \n",
       "<mark class=\"entity\" style=\"background: #80CBC4; padding: 0.45em 0.6em; margin: 0 0.25em; line-height: 1; border-radius: 0.35em;\">\n",
       "    16 beers on tap\n",
       "    <span style=\"font-size: 0.8em; font-weight: bold; line-height: 1; border-radius: 0.35em; text-transform: uppercase; vertical-align: middle; margin-left: 0.5rem\">Feature</span>\n",
       "</mark>\n",
       ", half theirs, half local guests... nice mix. \n",
       "<mark class=\"entity\" style=\"background: #80CBC4; padding: 0.45em 0.6em; margin: 0 0.25em; line-height: 1; border-radius: 0.35em;\">\n",
       "    Friendly local vibe\n",
       "    <span style=\"font-size: 0.8em; font-weight: bold; line-height: 1; border-radius: 0.35em; text-transform: uppercase; vertical-align: middle; margin-left: 0.5rem\">Feature</span>\n",
       "</mark>\n",
       ". \n",
       "<mark class=\"entity\" style=\"background: #80CBC4; padding: 0.45em 0.6em; margin: 0 0.25em; line-height: 1; border-radius: 0.35em;\">\n",
       "    Good service\n",
       "    <span style=\"font-size: 0.8em; font-weight: bold; line-height: 1; border-radius: 0.35em; text-transform: uppercase; vertical-align: middle; margin-left: 0.5rem\">Feature</span>\n",
       "</mark>\n",
       ". Very tasty food.</br></div></span>"
      ],
      "text/plain": [
       "<IPython.core.display.HTML object>"
      ]
     },
     "metadata": {},
     "output_type": "display_data"
    },
    {
     "data": {
      "text/html": [
       "<span class=\"tex2jax_ignore\"><div class=\"entities\" style=\"line-height: 2.5; direction: ltr\">\n",
       "<mark class=\"entity\" style=\"background: #80CBC4; padding: 0.45em 0.6em; margin: 0 0.25em; line-height: 1; border-radius: 0.35em;\">\n",
       "    Nice chill\n",
       "    <span style=\"font-size: 0.8em; font-weight: bold; line-height: 1; border-radius: 0.35em; text-transform: uppercase; vertical-align: middle; margin-left: 0.5rem\">Feature</span>\n",
       "</mark>\n",
       " place, staff was \n",
       "<mark class=\"entity\" style=\"background: #80CBC4; padding: 0.45em 0.6em; margin: 0 0.25em; line-height: 1; border-radius: 0.35em;\">\n",
       "    really nice\n",
       "    <span style=\"font-size: 0.8em; font-weight: bold; line-height: 1; border-radius: 0.35em; text-transform: uppercase; vertical-align: middle; margin-left: 0.5rem\">Feature</span>\n",
       "</mark>\n",
       " and helpful offered samples of their house stuff which was really good, The house \n",
       "<mark class=\"entity\" style=\"background: #FDD835; padding: 0.45em 0.6em; margin: 0 0.25em; line-height: 1; border-radius: 0.35em;\">\n",
       "    IPA\n",
       "    <span style=\"font-size: 0.8em; font-weight: bold; line-height: 1; border-radius: 0.35em; text-transform: uppercase; vertical-align: middle; margin-left: 0.5rem\">Beer Style</span>\n",
       "</mark>\n",
       " was nice. Had a old hotel bar \n",
       "<mark class=\"entity\" style=\"background: #80CBC4; padding: 0.45em 0.6em; margin: 0 0.25em; line-height: 1; border-radius: 0.35em;\">\n",
       "    saloon feel\n",
       "    <span style=\"font-size: 0.8em; font-weight: bold; line-height: 1; border-radius: 0.35em; text-transform: uppercase; vertical-align: middle; margin-left: 0.5rem\">Feature</span>\n",
       "</mark>\n",
       ". will revisit for sure.</br></div></span>"
      ],
      "text/plain": [
       "<IPython.core.display.HTML object>"
      ]
     },
     "metadata": {},
     "output_type": "display_data"
    },
    {
     "name": "stderr",
     "output_type": "stream",
     "text": [
      "/Users/chris/opt/anaconda3/envs/brewery-review-nlp/lib/python3.9/site-packages/spacy/displacy/__init__.py:189: UserWarning: [W006] No entities to visualize found in Doc object. If this is surprising to you, make sure the Doc was processed using a model that supports named entity recognition, and check the `doc.ents` property manually if necessary.\n",
      "  warnings.warn(Warnings.W006)\n"
     ]
    },
    {
     "data": {
      "text/html": [
       "<span class=\"tex2jax_ignore\"><div class=\"entities\" style=\"line-height: 2.5; direction: ltr\">Stopped by here last Monday night to try some beers. Very laid back place with upper and lower porches and bar, table and coach seating. Bar tender was very nice and offered samples right away. You can do a flight of 3-6 beers and they had everything from a wide range of styles. Everything I had was very good and most were pretty true to style. The food looked good, but as we had already eaten we did not get a chance to try it.</br></div></span>"
      ],
      "text/plain": [
       "<IPython.core.display.HTML object>"
      ]
     },
     "metadata": {},
     "output_type": "display_data"
    },
    {
     "data": {
      "text/html": [
       "<span class=\"tex2jax_ignore\"><div class=\"entities\" style=\"line-height: 2.5; direction: ltr\">Tucked away in an \n",
       "<mark class=\"entity\" style=\"background: #80CBC4; padding: 0.45em 0.6em; margin: 0 0.25em; line-height: 1; border-radius: 0.35em;\">\n",
       "    old house\n",
       "    <span style=\"font-size: 0.8em; font-weight: bold; line-height: 1; border-radius: 0.35em; text-transform: uppercase; vertical-align: middle; margin-left: 0.5rem\">Feature</span>\n",
       "</mark>\n",
       " \n",
       "<mark class=\"entity\" style=\"background: #9FA8DA; padding: 0.45em 0.6em; margin: 0 0.25em; line-height: 1; border-radius: 0.35em;\">\n",
       "    near Petco\n",
       "    <span style=\"font-size: 0.8em; font-weight: bold; line-height: 1; border-radius: 0.35em; text-transform: uppercase; vertical-align: middle; margin-left: 0.5rem\">Location</span>\n",
       "</mark>\n",
       ". Loved the food, the beer was average at best. Their NE \n",
       "<mark class=\"entity\" style=\"background: #FDD835; padding: 0.45em 0.6em; margin: 0 0.25em; line-height: 1; border-radius: 0.35em;\">\n",
       "    IPA\n",
       "    <span style=\"font-size: 0.8em; font-weight: bold; line-height: 1; border-radius: 0.35em; text-transform: uppercase; vertical-align: middle; margin-left: 0.5rem\">Beer Style</span>\n",
       "</mark>\n",
       " wasn't very good, but their dark beers were worth the pour. I might go back, it's not a bad choice but in \n",
       "<mark class=\"entity\" style=\"background: #9FA8DA; padding: 0.45em 0.6em; margin: 0 0.25em; line-height: 1; border-radius: 0.35em;\">\n",
       "    San Diego\n",
       "    <span style=\"font-size: 0.8em; font-weight: bold; line-height: 1; border-radius: 0.35em; text-transform: uppercase; vertical-align: middle; margin-left: 0.5rem\">Location</span>\n",
       "</mark>\n",
       " there's a lot of better places.</br></div></span>"
      ],
      "text/plain": [
       "<IPython.core.display.HTML object>"
      ]
     },
     "metadata": {},
     "output_type": "display_data"
    },
    {
     "data": {
      "text/html": [
       "<span class=\"tex2jax_ignore\"><div class=\"entities\" style=\"line-height: 2.5; direction: ltr\">What a fantastic discovery on our first day in \n",
       "<mark class=\"entity\" style=\"background: #9FA8DA; padding: 0.45em 0.6em; margin: 0 0.25em; line-height: 1; border-radius: 0.35em;\">\n",
       "    San Diego\n",
       "    <span style=\"font-size: 0.8em; font-weight: bold; line-height: 1; border-radius: 0.35em; text-transform: uppercase; vertical-align: middle; margin-left: 0.5rem\">Location</span>\n",
       "</mark>\n",
       ". \n",
       "<mark class=\"entity\" style=\"background: #80CBC4; padding: 0.45em 0.6em; margin: 0 0.25em; line-height: 1; border-radius: 0.35em;\">\n",
       "    Knowledgeable staff\n",
       "    <span style=\"font-size: 0.8em; font-weight: bold; line-height: 1; border-radius: 0.35em; text-transform: uppercase; vertical-align: middle; margin-left: 0.5rem\">Feature</span>\n",
       "</mark>\n",
       " with put being snobby. Wonderful setting in a \n",
       "<mark class=\"entity\" style=\"background: #80CBC4; padding: 0.45em 0.6em; margin: 0 0.25em; line-height: 1; border-radius: 0.35em;\">\n",
       "    old Victorian house\n",
       "    <span style=\"font-size: 0.8em; font-weight: bold; line-height: 1; border-radius: 0.35em; text-transform: uppercase; vertical-align: middle; margin-left: 0.5rem\">Feature</span>\n",
       "</mark>\n",
       ". Many of the beers were unfiltered yummy ness. \n",
       "<mark class=\"entity\" style=\"background: #80CBC4; padding: 0.45em 0.6em; margin: 0 0.25em; line-height: 1; border-radius: 0.35em;\">\n",
       "    Good selection\n",
       "    <span style=\"font-size: 0.8em; font-weight: bold; line-height: 1; border-radius: 0.35em; text-transform: uppercase; vertical-align: middle; margin-left: 0.5rem\">Feature</span>\n",
       "</mark>\n",
       " of local Honda too.</br></div></span>"
      ],
      "text/plain": [
       "<IPython.core.display.HTML object>"
      ]
     },
     "metadata": {},
     "output_type": "display_data"
    },
    {
     "data": {
      "text/html": [
       "<span class=\"tex2jax_ignore\"><div class=\"entities\" style=\"line-height: 2.5; direction: ltr\">I'll start off by saying I really enjoyed my visit here. It's located in a former two story house near Gaslamp District and Petco Park. They have patio seating outside with a bar area inside and tables on two levels. The atmosphere here is unique. It has a nice inviting feel. For me, it's somewhat similar to the same vibe I get when visiting \n",
       "<mark class=\"entity\" style=\"background: #9FA8DA; padding: 0.45em 0.6em; margin: 0 0.25em; line-height: 1; border-radius: 0.35em;\">\n",
       "    Queenstown Public\n",
       "    <span style=\"font-size: 0.8em; font-weight: bold; line-height: 1; border-radius: 0.35em; text-transform: uppercase; vertical-align: middle; margin-left: 0.5rem\">Location</span>\n",
       "</mark>\n",
       " House near Little Italy.</br></div></span>"
      ],
      "text/plain": [
       "<IPython.core.display.HTML object>"
      ]
     },
     "metadata": {},
     "output_type": "display_data"
    },
    {
     "data": {
      "text/html": [
       "<span class=\"tex2jax_ignore\"><div class=\"entities\" style=\"line-height: 2.5; direction: ltr\">The house beers were solid. I had \n",
       "<mark class=\"entity\" style=\"background: #FDD835; padding: 0.45em 0.6em; margin: 0 0.25em; line-height: 1; border-radius: 0.35em;\">\n",
       "    Imperial Stout\n",
       "    <span style=\"font-size: 0.8em; font-weight: bold; line-height: 1; border-radius: 0.35em; text-transform: uppercase; vertical-align: middle; margin-left: 0.5rem\">Beer Style</span>\n",
       "</mark>\n",
       ", \n",
       "<mark class=\"entity\" style=\"background: #FDD835; padding: 0.45em 0.6em; margin: 0 0.25em; line-height: 1; border-radius: 0.35em;\">\n",
       "    IPA\n",
       "    <span style=\"font-size: 0.8em; font-weight: bold; line-height: 1; border-radius: 0.35em; text-transform: uppercase; vertical-align: middle; margin-left: 0.5rem\">Beer Style</span>\n",
       "</mark>\n",
       ", and a \n",
       "<mark class=\"entity\" style=\"background: #FDD835; padding: 0.45em 0.6em; margin: 0 0.25em; line-height: 1; border-radius: 0.35em;\">\n",
       "    Berliner Weissbier\n",
       "    <span style=\"font-size: 0.8em; font-weight: bold; line-height: 1; border-radius: 0.35em; text-transform: uppercase; vertical-align: middle; margin-left: 0.5rem\">Beer Style</span>\n",
       "</mark>\n",
       ". They also had several \n",
       "<mark class=\"entity\" style=\"background: #80CBC4; padding: 0.45em 0.6em; margin: 0 0.25em; line-height: 1; border-radius: 0.35em;\">\n",
       "    guest beers on tap\n",
       "    <span style=\"font-size: 0.8em; font-weight: bold; line-height: 1; border-radius: 0.35em; text-transform: uppercase; vertical-align: middle; margin-left: 0.5rem\">Feature</span>\n",
       "</mark>\n",
       ". Beer and cocktail menu in a leather portfolio. Very nice. I had their meat pie with braised short rib. Delicious! This is a \n",
       "<mark class=\"entity\" style=\"background: #80CBC4; padding: 0.45em 0.6em; margin: 0 0.25em; line-height: 1; border-radius: 0.35em;\">\n",
       "    nice little place\n",
       "    <span style=\"font-size: 0.8em; font-weight: bold; line-height: 1; border-radius: 0.35em; text-transform: uppercase; vertical-align: middle; margin-left: 0.5rem\">Feature</span>\n",
       "</mark>\n",
       ". I'll be back for sure.</br></div></span>"
      ],
      "text/plain": [
       "<IPython.core.display.HTML object>"
      ]
     },
     "metadata": {},
     "output_type": "display_data"
    },
    {
     "data": {
      "text/html": [
       "<span class=\"tex2jax_ignore\"><div class=\"entities\" style=\"line-height: 2.5; direction: ltr\">During my \n",
       "<mark class=\"entity\" style=\"background: #9FA8DA; padding: 0.45em 0.6em; margin: 0 0.25em; line-height: 1; border-radius: 0.35em;\">\n",
       "    San Diego\n",
       "    <span style=\"font-size: 0.8em; font-weight: bold; line-height: 1; border-radius: 0.35em; text-transform: uppercase; vertical-align: middle; margin-left: 0.5rem\">Location</span>\n",
       "</mark>\n",
       " visit, I hit this place up two times. Located in a house with a nice sized porch that has plenty of seats. The bar is just inside and it is full of old wood and is dark, and gives you a \n",
       "<mark class=\"entity\" style=\"background: #80CBC4; padding: 0.45em 0.6em; margin: 0 0.25em; line-height: 1; border-radius: 0.35em;\">\n",
       "    cool pub feel\n",
       "    <span style=\"font-size: 0.8em; font-weight: bold; line-height: 1; border-radius: 0.35em; text-transform: uppercase; vertical-align: middle; margin-left: 0.5rem\">Feature</span>\n",
       "</mark>\n",
       ". Definitely a younger crowd here too. There were about \n",
       "<mark class=\"entity\" style=\"background: #80CBC4; padding: 0.45em 0.6em; margin: 0 0.25em; line-height: 1; border-radius: 0.35em;\">\n",
       "    10-12\n",
       "    <span style=\"font-size: 0.8em; font-weight: bold; line-height: 1; border-radius: 0.35em; text-transform: uppercase; vertical-align: middle; margin-left: 0.5rem\">Feature</span>\n",
       "</mark>\n",
       " brews on tap, and they covered many styles including some \n",
       "<mark class=\"entity\" style=\"background: #FDD835; padding: 0.45em 0.6em; margin: 0 0.25em; line-height: 1; border-radius: 0.35em;\">\n",
       "    sours\n",
       "    <span style=\"font-size: 0.8em; font-weight: bold; line-height: 1; border-radius: 0.35em; text-transform: uppercase; vertical-align: middle; margin-left: 0.5rem\">Beer Style</span>\n",
       "</mark>\n",
       ". The \n",
       "<mark class=\"entity\" style=\"background: #FDD835; padding: 0.45em 0.6em; margin: 0 0.25em; line-height: 1; border-radius: 0.35em;\">\n",
       "    Double IPA\n",
       "    <span style=\"font-size: 0.8em; font-weight: bold; line-height: 1; border-radius: 0.35em; text-transform: uppercase; vertical-align: middle; margin-left: 0.5rem\">Beer Style</span>\n",
       "</mark>\n",
       " and high \n",
       "<mark class=\"entity\" style=\"background: #80CBC4; padding: 0.45em 0.6em; margin: 0 0.25em; line-height: 1; border-radius: 0.35em;\">\n",
       "    hopped\n",
       "    <span style=\"font-size: 0.8em; font-weight: bold; line-height: 1; border-radius: 0.35em; text-transform: uppercase; vertical-align: middle; margin-left: 0.5rem\">Feature</span>\n",
       "</mark>\n",
       " \n",
       "<mark class=\"entity\" style=\"background: #FDD835; padding: 0.45em 0.6em; margin: 0 0.25em; line-height: 1; border-radius: 0.35em;\">\n",
       "    pale ales\n",
       "    <span style=\"font-size: 0.8em; font-weight: bold; line-height: 1; border-radius: 0.35em; text-transform: uppercase; vertical-align: middle; margin-left: 0.5rem\">Beer Style</span>\n",
       "</mark>\n",
       " were very good. Prices are \n",
       "<mark class=\"entity\" style=\"background: #80CBC4; padding: 0.45em 0.6em; margin: 0 0.25em; line-height: 1; border-radius: 0.35em;\">\n",
       "    reasonable\n",
       "    <span style=\"font-size: 0.8em; font-weight: bold; line-height: 1; border-radius: 0.35em; text-transform: uppercase; vertical-align: middle; margin-left: 0.5rem\">Feature</span>\n",
       "</mark>\n",
       " and service was good. This is a must stop for anyone visiting the downtown area.</br></div></span>"
      ],
      "text/plain": [
       "<IPython.core.display.HTML object>"
      ]
     },
     "metadata": {},
     "output_type": "display_data"
    },
    {
     "data": {
      "text/html": [
       "<span class=\"tex2jax_ignore\"><div class=\"entities\" style=\"line-height: 2.5; direction: ltr\">Half Door is a recent entry to \n",
       "<mark class=\"entity\" style=\"background: #9FA8DA; padding: 0.45em 0.6em; margin: 0 0.25em; line-height: 1; border-radius: 0.35em;\">\n",
       "    San Diego\n",
       "    <span style=\"font-size: 0.8em; font-weight: bold; line-height: 1; border-radius: 0.35em; text-transform: uppercase; vertical-align: middle; margin-left: 0.5rem\">Location</span>\n",
       "</mark>\n",
       "'s magnificent beer scene. Located in a regular two-story clapboard house, a few blocks east of the touristy GasLight District, this place is a sheer delight. First, the building itself: an inviting house with a large terrace for outdoor dining and drinking and an upstairs balcony for the same. Inside, there is a well-polished bar amid a woody Victorian décor and bric-a-brac - and, of course, there is an actual half-door. There are about a dozen house beers along with a few guest, such as Monkey's Paw. The beers are very good (I heartily recommend the Coleman Dry \n",
       "<mark class=\"entity\" style=\"background: #9FA8DA; padding: 0.45em 0.6em; margin: 0 0.25em; line-height: 1; border-radius: 0.35em;\">\n",
       "    Stout\n",
       "    <span style=\"font-size: 0.8em; font-weight: bold; line-height: 1; border-radius: 0.35em; text-transform: uppercase; vertical-align: middle; margin-left: 0.5rem\">Location</span>\n",
       "</mark>\n",
       "). \n",
       "<mark class=\"entity\" style=\"background: #80CBC4; padding: 0.45em 0.6em; margin: 0 0.25em; line-height: 1; border-radius: 0.35em;\">\n",
       "    Excellent service\n",
       "    <span style=\"font-size: 0.8em; font-weight: bold; line-height: 1; border-radius: 0.35em; text-transform: uppercase; vertical-align: middle; margin-left: 0.5rem\">Feature</span>\n",
       "</mark>\n",
       " and a menu loaded with delicious food (I recommend the sausage mac-n-cheese.) </br></div></span>"
      ],
      "text/plain": [
       "<IPython.core.display.HTML object>"
      ]
     },
     "metadata": {},
     "output_type": "display_data"
    },
    {
     "data": {
      "text/html": [
       "<span class=\"tex2jax_ignore\"><div class=\"entities\" style=\"line-height: 2.5; direction: ltr\">Half-Door should be included in any \n",
       "<mark class=\"entity\" style=\"background: #80CBC4; padding: 0.45em 0.6em; margin: 0 0.25em; line-height: 1; border-radius: 0.35em;\">\n",
       "    Gaslight/East\n",
       "    <span style=\"font-size: 0.8em; font-weight: bold; line-height: 1; border-radius: 0.35em; text-transform: uppercase; vertical-align: middle; margin-left: 0.5rem\">Feature</span>\n",
       "</mark>\n",
       " Village crawl - it is a few blocks from \n",
       "<mark class=\"entity\" style=\"background: #9FA8DA; padding: 0.45em 0.6em; margin: 0 0.25em; line-height: 1; border-radius: 0.35em;\">\n",
       "    Mission\n",
       "    <span style=\"font-size: 0.8em; font-weight: bold; line-height: 1; border-radius: 0.35em; text-transform: uppercase; vertical-align: middle; margin-left: 0.5rem\">Location</span>\n",
       "</mark>\n",
       " Brewery, another great venue that I have reviewed recently. Hey, check them both out! UPDATE: Returned for lunch during a November 2019 visit. Still a great place with delicious food - I had the Pork Belly hash, this time.</br></div></span>"
      ],
      "text/plain": [
       "<IPython.core.display.HTML object>"
      ]
     },
     "metadata": {},
     "output_type": "display_data"
    },
    {
     "data": {
      "text/html": [
       "<span class=\"tex2jax_ignore\"><div class=\"entities\" style=\"line-height: 2.5; direction: ltr\">One of my favorite stops of my \n",
       "<mark class=\"entity\" style=\"background: #9FA8DA; padding: 0.45em 0.6em; margin: 0 0.25em; line-height: 1; border-radius: 0.35em;\">\n",
       "    San Diego\n",
       "    <span style=\"font-size: 0.8em; font-weight: bold; line-height: 1; border-radius: 0.35em; text-transform: uppercase; vertical-align: middle; margin-left: 0.5rem\">Location</span>\n",
       "</mark>\n",
       " trip. It was strongly recommended by others who visited and was not disappointed. Very \n",
       "<mark class=\"entity\" style=\"background: #80CBC4; padding: 0.45em 0.6em; margin: 0 0.25em; line-height: 1; border-radius: 0.35em;\">\n",
       "    friendly\n",
       "    <span style=\"font-size: 0.8em; font-weight: bold; line-height: 1; border-radius: 0.35em; text-transform: uppercase; vertical-align: middle; margin-left: 0.5rem\">Feature</span>\n",
       "</mark>\n",
       " and prompt staff, solid beers and the few apps we had were amazing. Would have loved to spend more time there and would stop there again in a heartbeat.</br></div></span>"
      ],
      "text/plain": [
       "<IPython.core.display.HTML object>"
      ]
     },
     "metadata": {},
     "output_type": "display_data"
    },
    {
     "data": {
      "text/html": [
       "<span class=\"tex2jax_ignore\"><div class=\"entities\" style=\"line-height: 2.5; direction: ltr\">Awesome looking corner lot building dripping with Old Southern Charm. Irish. The 2 beers I had were great for the style. Took 40 minutes to get a beer though. The waiter forgot about us. Trying to not let that one extremely disappointing aspect color my review. Would love to go here again but sit at the awesome looking bar.</div></span>"
      ],
      "text/plain": [
       "<IPython.core.display.HTML object>"
      ]
     },
     "metadata": {},
     "output_type": "display_data"
    }
   ],
   "source": [
    "# Test trained model with real data\n",
    "with open('../data/raw/reviews_san-diego_half-door-brewing-co.txt') as file:\n",
    "    reviews = file.readlines()\n",
    "\n",
    "colors = {\"FEATURE\": \"#80CBC4\", \"BEER STYLE\": \"#FDD835\", \"LOCATION\": \"#9FA8DA\"}\n",
    "options = {\"colors\": colors} \n",
    "    \n",
    "for review in reviews:\n",
    "    doc = nlp(review)\n",
    "    displacy.render(doc, style=\"ent\", options=options)"
   ]
  },
  {
   "cell_type": "code",
   "execution_count": 40,
   "metadata": {},
   "outputs": [
    {
     "data": {
      "text/html": [
       "<span class=\"tex2jax_ignore\"><div class=\"entities\" style=\"line-height: 2.5; direction: ltr\">This place is the real deal. The penultimate craft brewery experience in the \n",
       "<mark class=\"entity\" style=\"background: #9FA8DA; padding: 0.45em 0.6em; margin: 0 0.25em; line-height: 1; border-radius: 0.35em;\">\n",
       "    San Diego\n",
       "    <span style=\"font-size: 0.8em; font-weight: bold; line-height: 1; border-radius: 0.35em; text-transform: uppercase; vertical-align: middle; margin-left: 0.5rem\">Location</span>\n",
       "</mark>\n",
       " area and up there with the best in all of Southern California. Quality is top notch, variety of offerings is more than enough for several visits, and the food options outside were satisfying (though a tad expensive). Even during the pandemic, it was a vibrant and modern facility and the kind of destination I had expected and hoped for. Been waiting years to finally visit. And they have their own street/address, so you know they’re special.</br></div></span>"
      ],
      "text/plain": [
       "<IPython.core.display.HTML object>"
      ]
     },
     "metadata": {},
     "output_type": "display_data"
    },
    {
     "data": {
      "text/html": [
       "<span class=\"tex2jax_ignore\"><div class=\"entities\" style=\"line-height: 2.5; direction: ltr\">Visited with my wife on a recent trip to \n",
       "<mark class=\"entity\" style=\"background: #9FA8DA; padding: 0.45em 0.6em; margin: 0 0.25em; line-height: 1; border-radius: 0.35em;\">\n",
       "    San Diego\n",
       "    <span style=\"font-size: 0.8em; font-weight: bold; line-height: 1; border-radius: 0.35em; text-transform: uppercase; vertical-align: middle; margin-left: 0.5rem\">Location</span>\n",
       "</mark>\n",
       " and Los Angeles. Tried the following as part of a flight: AleSmith \n",
       "<mark class=\"entity\" style=\"background: #9FA8DA; padding: 0.45em 0.6em; margin: 0 0.25em; line-height: 1; border-radius: 0.35em;\">\n",
       "    Evil Dead\n",
       "    <span style=\"font-size: 0.8em; font-weight: bold; line-height: 1; border-radius: 0.35em; text-transform: uppercase; vertical-align: middle; margin-left: 0.5rem\">Location</span>\n",
       "</mark>\n",
       " Red AleSmith Decadence 2017 AleSmith \n",
       "<mark class=\"entity\" style=\"background: #9FA8DA; padding: 0.45em 0.6em; margin: 0 0.25em; line-height: 1; border-radius: 0.35em;\">\n",
       "    San Diego Pale Ale\n",
       "    <span style=\"font-size: 0.8em; font-weight: bold; line-height: 1; border-radius: 0.35em; text-transform: uppercase; vertical-align: middle; margin-left: 0.5rem\">Location</span>\n",
       "</mark>\n",
       " .394 AleSmith Speedway \n",
       "<mark class=\"entity\" style=\"background: #FDD835; padding: 0.45em 0.6em; margin: 0 0.25em; line-height: 1; border-radius: 0.35em;\">\n",
       "    Stout\n",
       "    <span style=\"font-size: 0.8em; font-weight: bold; line-height: 1; border-radius: 0.35em; text-transform: uppercase; vertical-align: middle; margin-left: 0.5rem\">Beer Style</span>\n",
       "</mark>\n",
       " - Vietnamese Coffee Beers were superb across the board. Also bought some Old Numbskull and Speedway \n",
       "<mark class=\"entity\" style=\"background: #FDD835; padding: 0.45em 0.6em; margin: 0 0.25em; line-height: 1; border-radius: 0.35em;\">\n",
       "    Stout\n",
       "    <span style=\"font-size: 0.8em; font-weight: bold; line-height: 1; border-radius: 0.35em; text-transform: uppercase; vertical-align: middle; margin-left: 0.5rem\">Beer Style</span>\n",
       "</mark>\n",
       " to go; both were phenomenal. Service at the bar was fine as the beertender was quick to grab our drinks. The guy in the retail store was a bit more engaging, which we appreciated. Cool atmosphere in the beautiful, \n",
       "<mark class=\"entity\" style=\"background: #80CBC4; padding: 0.45em 0.6em; margin: 0 0.25em; line-height: 1; border-radius: 0.35em;\">\n",
       "    gargantuan taproom\n",
       "    <span style=\"font-size: 0.8em; font-weight: bold; line-height: 1; border-radius: 0.35em; text-transform: uppercase; vertical-align: middle; margin-left: 0.5rem\">Feature</span>\n",
       "</mark>\n",
       " and we had fun touring the Tony Gwynn Museum. Our overall experience was very special, and we would happily come back.</br></div></span>"
      ],
      "text/plain": [
       "<IPython.core.display.HTML object>"
      ]
     },
     "metadata": {},
     "output_type": "display_data"
    },
    {
     "data": {
      "text/html": [
       "<span class=\"tex2jax_ignore\"><div class=\"entities\" style=\"line-height: 2.5; direction: ltr\">Huge \n",
       "<mark class=\"entity\" style=\"background: #80CBC4; padding: 0.45em 0.6em; margin: 0 0.25em; line-height: 1; border-radius: 0.35em;\">\n",
       "    tasting room\n",
       "    <span style=\"font-size: 0.8em; font-weight: bold; line-height: 1; border-radius: 0.35em; text-transform: uppercase; vertical-align: middle; margin-left: 0.5rem\">Feature</span>\n",
       "</mark>\n",
       " in the front of brewery building. Merch shop is on the left as one enters, and the right opens up to a two-story taproom with windows into the brewery. Zigzag bar seats probably 40 to 50, and there are a number of tables spread about the \n",
       "<mark class=\"entity\" style=\"background: #80CBC4; padding: 0.45em 0.6em; margin: 0 0.25em; line-height: 1; border-radius: 0.35em;\">\n",
       "    room\n",
       "    <span style=\"font-size: 0.8em; font-weight: bold; line-height: 1; border-radius: 0.35em; text-transform: uppercase; vertical-align: middle; margin-left: 0.5rem\">Feature</span>\n",
       "</mark>\n",
       ". Additionally, there is a patio in front with nightly food truck. \n",
       "<mark class=\"entity\" style=\"background: #80CBC4; padding: 0.45em 0.6em; margin: 0 0.25em; line-height: 1; border-radius: 0.35em;\">\n",
       "    25 beers on tap\n",
       "    <span style=\"font-size: 0.8em; font-weight: bold; line-height: 1; border-radius: 0.35em; text-transform: uppercase; vertical-align: middle; margin-left: 0.5rem\">Feature</span>\n",
       "</mark>\n",
       ", half were brewery only seasonals and \n",
       "<mark class=\"entity\" style=\"background: #80CBC4; padding: 0.45em 0.6em; margin: 0 0.25em; line-height: 1; border-radius: 0.35em;\">\n",
       "    specials\n",
       "    <span style=\"font-size: 0.8em; font-weight: bold; line-height: 1; border-radius: 0.35em; text-transform: uppercase; vertical-align: middle; margin-left: 0.5rem\">Feature</span>\n",
       "</mark>\n",
       ". Place had an after-work unwind sort of vibe. \n",
       "<mark class=\"entity\" style=\"background: #80CBC4; padding: 0.45em 0.6em; margin: 0 0.25em; line-height: 1; border-radius: 0.35em;\">\n",
       "    Friendly efficient bartenders\n",
       "    <span style=\"font-size: 0.8em; font-weight: bold; line-height: 1; border-radius: 0.35em; text-transform: uppercase; vertical-align: middle; margin-left: 0.5rem\">Feature</span>\n",
       "</mark>\n",
       ".</br></div></span>"
      ],
      "text/plain": [
       "<IPython.core.display.HTML object>"
      ]
     },
     "metadata": {},
     "output_type": "display_data"
    },
    {
     "data": {
      "text/html": [
       "<span class=\"tex2jax_ignore\"><div class=\"entities\" style=\"line-height: 2.5; direction: ltr\">AleSmith is a fairly large tasting \n",
       "<mark class=\"entity\" style=\"background: #80CBC4; padding: 0.45em 0.6em; margin: 0 0.25em; line-height: 1; border-radius: 0.35em;\">\n",
       "    room\n",
       "    <span style=\"font-size: 0.8em; font-weight: bold; line-height: 1; border-radius: 0.35em; text-transform: uppercase; vertical-align: middle; margin-left: 0.5rem\">Feature</span>\n",
       "</mark>\n",
       " and production house. Tonight they had a couple of food trucks. Once you enter the building you have a gift shop and place to purchase beers to go. There is a large bar area with a view to the production area behind it. They had ample seating inside and out. The beer \n",
       "<mark class=\"entity\" style=\"background: #80CBC4; padding: 0.45em 0.6em; margin: 0 0.25em; line-height: 1; border-radius: 0.35em;\">\n",
       "    selection\n",
       "    <span style=\"font-size: 0.8em; font-weight: bold; line-height: 1; border-radius: 0.35em; text-transform: uppercase; vertical-align: middle; margin-left: 0.5rem\">Feature</span>\n",
       "</mark>\n",
       " tonight was nice. They had a couple Speedway variants I tried - Jamaican Blue \n",
       "<mark class=\"entity\" style=\"background: #9FA8DA; padding: 0.45em 0.6em; margin: 0 0.25em; line-height: 1; border-radius: 0.35em;\">\n",
       "    Mountain\n",
       "    <span style=\"font-size: 0.8em; font-weight: bold; line-height: 1; border-radius: 0.35em; text-transform: uppercase; vertical-align: middle; margin-left: 0.5rem\">Location</span>\n",
       "</mark>\n",
       " and Thai. Both were solid beers. Had a couple of tasters and made my way back to my hotel I'm staying for a conference. Overall, a splendid place to visit and hang out with friends.</br></div></span>"
      ],
      "text/plain": [
       "<IPython.core.display.HTML object>"
      ]
     },
     "metadata": {},
     "output_type": "display_data"
    },
    {
     "data": {
      "text/html": [
       "<span class=\"tex2jax_ignore\"><div class=\"entities\" style=\"line-height: 2.5; direction: ltr\">Clean well kept and organized all around nice \n",
       "<mark class=\"entity\" style=\"background: #80CBC4; padding: 0.45em 0.6em; margin: 0 0.25em; line-height: 1; border-radius: 0.35em;\">\n",
       "    family friendly\n",
       "    <span style=\"font-size: 0.8em; font-weight: bold; line-height: 1; border-radius: 0.35em; text-transform: uppercase; vertical-align: middle; margin-left: 0.5rem\">Feature</span>\n",
       "</mark>\n",
       " atmosphere large bar with lots of \n",
       "<mark class=\"entity\" style=\"background: #80CBC4; padding: 0.45em 0.6em; margin: 0 0.25em; line-height: 1; border-radius: 0.35em;\">\n",
       "    open seating\n",
       "    <span style=\"font-size: 0.8em; font-weight: bold; line-height: 1; border-radius: 0.35em; text-transform: uppercase; vertical-align: middle; margin-left: 0.5rem\">Feature</span>\n",
       "</mark>\n",
       " options. Staff is \n",
       "<mark class=\"entity\" style=\"background: #80CBC4; padding: 0.45em 0.6em; margin: 0 0.25em; line-height: 1; border-radius: 0.35em;\">\n",
       "    friendly\n",
       "    <span style=\"font-size: 0.8em; font-weight: bold; line-height: 1; border-radius: 0.35em; text-transform: uppercase; vertical-align: middle; margin-left: 0.5rem\">Feature</span>\n",
       "</mark>\n",
       " and \n",
       "<mark class=\"entity\" style=\"background: #80CBC4; padding: 0.45em 0.6em; margin: 0 0.25em; line-height: 1; border-radius: 0.35em;\">\n",
       "    knowledgeable\n",
       "    <span style=\"font-size: 0.8em; font-weight: bold; line-height: 1; border-radius: 0.35em; text-transform: uppercase; vertical-align: middle; margin-left: 0.5rem\">Feature</span>\n",
       "</mark>\n",
       " food truck they had looked and smelled very good. Some games outside and \n",
       "<mark class=\"entity\" style=\"background: #80CBC4; padding: 0.45em 0.6em; margin: 0 0.25em; line-height: 1; border-radius: 0.35em;\">\n",
       "    nice upper deck\n",
       "    <span style=\"font-size: 0.8em; font-weight: bold; line-height: 1; border-radius: 0.35em; text-transform: uppercase; vertical-align: middle; margin-left: 0.5rem\">Feature</span>\n",
       "</mark>\n",
       " with view and seeing the blue angels fly over didn’t hurt. Adding a signature non alcoholic drink or two and would have been 5s across the top!</br></div></span>"
      ],
      "text/plain": [
       "<IPython.core.display.HTML object>"
      ]
     },
     "metadata": {},
     "output_type": "display_data"
    },
    {
     "data": {
      "text/html": [
       "<span class=\"tex2jax_ignore\"><div class=\"entities\" style=\"line-height: 2.5; direction: ltr\">Really \n",
       "<mark class=\"entity\" style=\"background: #80CBC4; padding: 0.45em 0.6em; margin: 0 0.25em; line-height: 1; border-radius: 0.35em;\">\n",
       "    nice place\n",
       "    <span style=\"font-size: 0.8em; font-weight: bold; line-height: 1; border-radius: 0.35em; text-transform: uppercase; vertical-align: middle; margin-left: 0.5rem\">Feature</span>\n",
       "</mark>\n",
       ". The \n",
       "<mark class=\"entity\" style=\"background: #80CBC4; padding: 0.45em 0.6em; margin: 0 0.25em; line-height: 1; border-radius: 0.35em;\">\n",
       "    patio\n",
       "    <span style=\"font-size: 0.8em; font-weight: bold; line-height: 1; border-radius: 0.35em; text-transform: uppercase; vertical-align: middle; margin-left: 0.5rem\">Feature</span>\n",
       "</mark>\n",
       " was set up perfect with great food trucks and \n",
       "<mark class=\"entity\" style=\"background: #80CBC4; padding: 0.45em 0.6em; margin: 0 0.25em; line-height: 1; border-radius: 0.35em;\">\n",
       "    patio games\n",
       "    <span style=\"font-size: 0.8em; font-weight: bold; line-height: 1; border-radius: 0.35em; text-transform: uppercase; vertical-align: middle; margin-left: 0.5rem\">Feature</span>\n",
       "</mark>\n",
       ". Really big tasting \n",
       "<mark class=\"entity\" style=\"background: #80CBC4; padding: 0.45em 0.6em; margin: 0 0.25em; line-height: 1; border-radius: 0.35em;\">\n",
       "    room\n",
       "    <span style=\"font-size: 0.8em; font-weight: bold; line-height: 1; border-radius: 0.35em; text-transform: uppercase; vertical-align: middle; margin-left: 0.5rem\">Feature</span>\n",
       "</mark>\n",
       " with 30 plus beers on tap and the Tony Gwynn museum was awesome !</br></div></span>"
      ],
      "text/plain": [
       "<IPython.core.display.HTML object>"
      ]
     },
     "metadata": {},
     "output_type": "display_data"
    },
    {
     "data": {
      "text/html": [
       "<span class=\"tex2jax_ignore\"><div class=\"entities\" style=\"line-height: 2.5; direction: ltr\">This place is beautifully designed, as far as the architecture and layout. \n",
       "<mark class=\"entity\" style=\"background: #80CBC4; padding: 0.45em 0.6em; margin: 0 0.25em; line-height: 1; border-radius: 0.35em;\">\n",
       "    Beautiful building\n",
       "    <span style=\"font-size: 0.8em; font-weight: bold; line-height: 1; border-radius: 0.35em; text-transform: uppercase; vertical-align: middle; margin-left: 0.5rem\">Feature</span>\n",
       "</mark>\n",
       ", huge \n",
       "<mark class=\"entity\" style=\"background: #80CBC4; padding: 0.45em 0.6em; margin: 0 0.25em; line-height: 1; border-radius: 0.35em;\">\n",
       "    open space\n",
       "    <span style=\"font-size: 0.8em; font-weight: bold; line-height: 1; border-radius: 0.35em; text-transform: uppercase; vertical-align: middle; margin-left: 0.5rem\">Feature</span>\n",
       "</mark>\n",
       " with plenty of bar seating, table, outdoors, private area and special \n",
       "<mark class=\"entity\" style=\"background: #FDD835; padding: 0.45em 0.6em; margin: 0 0.25em; line-height: 1; border-radius: 0.35em;\">\n",
       "    barrel\n",
       "    <span style=\"font-size: 0.8em; font-weight: bold; line-height: 1; border-radius: 0.35em; text-transform: uppercase; vertical-align: middle; margin-left: 0.5rem\">Beer Style</span>\n",
       "</mark>\n",
       " age room. Quality of establishment is top notch. Everything is in excellent shape and the mini-museum for Tony Gwynn is fantastic (with a bunch of his trophies and all). Can't complain about the service or the staff in general either. They were not only quick but they also brought beer from their barrel aging section (where I was supposed to go to get BA beers on draft). Their shop clerk was also \n",
       "<mark class=\"entity\" style=\"background: #80CBC4; padding: 0.45em 0.6em; margin: 0 0.25em; line-height: 1; border-radius: 0.35em;\">\n",
       "    really friendly\n",
       "    <span style=\"font-size: 0.8em; font-weight: bold; line-height: 1; border-radius: 0.35em; text-transform: uppercase; vertical-align: middle; margin-left: 0.5rem\">Feature</span>\n",
       "</mark>\n",
       " and insightful. \n",
       "<mark class=\"entity\" style=\"background: #80CBC4; padding: 0.45em 0.6em; margin: 0 0.25em; line-height: 1; border-radius: 0.35em;\">\n",
       "    Selection\n",
       "    <span style=\"font-size: 0.8em; font-weight: bold; line-height: 1; border-radius: 0.35em; text-transform: uppercase; vertical-align: middle; margin-left: 0.5rem\">Feature</span>\n",
       "</mark>\n",
       " was \n",
       "<mark class=\"entity\" style=\"background: #80CBC4; padding: 0.45em 0.6em; margin: 0 0.25em; line-height: 1; border-radius: 0.35em;\">\n",
       "    huge\n",
       "    <span style=\"font-size: 0.8em; font-weight: bold; line-height: 1; border-radius: 0.35em; text-transform: uppercase; vertical-align: middle; margin-left: 0.5rem\">Feature</span>\n",
       "</mark>\n",
       ", of both regular offering and \n",
       "<mark class=\"entity\" style=\"background: #FDD835; padding: 0.45em 0.6em; margin: 0 0.25em; line-height: 1; border-radius: 0.35em;\">\n",
       "    barrel aged\n",
       "    <span style=\"font-size: 0.8em; font-weight: bold; line-height: 1; border-radius: 0.35em; text-transform: uppercase; vertical-align: middle; margin-left: 0.5rem\">Beer Style</span>\n",
       "</mark>\n",
       ". They do not serve food but there is a food truck outside always if you get hungry. Just a \n",
       "<mark class=\"entity\" style=\"background: #80CBC4; padding: 0.45em 0.6em; margin: 0 0.25em; line-height: 1; border-radius: 0.35em;\">\n",
       "    great place\n",
       "    <span style=\"font-size: 0.8em; font-weight: bold; line-height: 1; border-radius: 0.35em; text-transform: uppercase; vertical-align: middle; margin-left: 0.5rem\">Feature</span>\n",
       "</mark>\n",
       " to visit. Wish it was closer to downtown \n",
       "<mark class=\"entity\" style=\"background: #9FA8DA; padding: 0.45em 0.6em; margin: 0 0.25em; line-height: 1; border-radius: 0.35em;\">\n",
       "    San Diego\n",
       "    <span style=\"font-size: 0.8em; font-weight: bold; line-height: 1; border-radius: 0.35em; text-transform: uppercase; vertical-align: middle; margin-left: 0.5rem\">Location</span>\n",
       "</mark>\n",
       " but it is totally worth a \n",
       "<mark class=\"entity\" style=\"background: #80CBC4; padding: 0.45em 0.6em; margin: 0 0.25em; line-height: 1; border-radius: 0.35em;\">\n",
       "    25 min\n",
       "    <span style=\"font-size: 0.8em; font-weight: bold; line-height: 1; border-radius: 0.35em; text-transform: uppercase; vertical-align: middle; margin-left: 0.5rem\">Feature</span>\n",
       "</mark>\n",
       " drive from there to visit this \n",
       "<mark class=\"entity\" style=\"background: #80CBC4; padding: 0.45em 0.6em; margin: 0 0.25em; line-height: 1; border-radius: 0.35em;\">\n",
       "    unique place\n",
       "    <span style=\"font-size: 0.8em; font-weight: bold; line-height: 1; border-radius: 0.35em; text-transform: uppercase; vertical-align: middle; margin-left: 0.5rem\">Feature</span>\n",
       "</mark>\n",
       ".</br></div></span>"
      ],
      "text/plain": [
       "<IPython.core.display.HTML object>"
      ]
     },
     "metadata": {},
     "output_type": "display_data"
    },
    {
     "data": {
      "text/html": [
       "<span class=\"tex2jax_ignore\"><div class=\"entities\" style=\"line-height: 2.5; direction: ltr\">this is a brewery i have respected forever, one of the first to turn me on to strong ales like \n",
       "<mark class=\"entity\" style=\"background: #80CBC4; padding: 0.45em 0.6em; margin: 0 0.25em; line-height: 1; border-radius: 0.35em;\">\n",
       "    old ale\n",
       "    <span style=\"font-size: 0.8em; font-weight: bold; line-height: 1; border-radius: 0.35em; text-transform: uppercase; vertical-align: middle; margin-left: 0.5rem\">Feature</span>\n",
       "</mark>\n",
       " and \n",
       "<mark class=\"entity\" style=\"background: #FDD835; padding: 0.45em 0.6em; margin: 0 0.25em; line-height: 1; border-radius: 0.35em;\">\n",
       "    barleywine\n",
       "    <span style=\"font-size: 0.8em; font-weight: bold; line-height: 1; border-radius: 0.35em; text-transform: uppercase; vertical-align: middle; margin-left: 0.5rem\">Beer Style</span>\n",
       "</mark>\n",
       ", and i have been a longtime lover of their speedway stout, so it was sort of a full circle thing for me to get to visit their enormous new(ish) brewery. its a \n",
       "<mark class=\"entity\" style=\"background: #80CBC4; padding: 0.45em 0.6em; margin: 0 0.25em; line-height: 1; border-radius: 0.35em;\">\n",
       "    huge space\n",
       "    <span style=\"font-size: 0.8em; font-weight: bold; line-height: 1; border-radius: 0.35em; text-transform: uppercase; vertical-align: middle; margin-left: 0.5rem\">Feature</span>\n",
       "</mark>\n",
       ", almost feels like a hotel lobby, with big leather couches, high ceilings, low light, noisy and bustling, kind of an urban industrial feel to it, tanks visible behind the bar, tons of \n",
       "<mark class=\"entity\" style=\"background: #80CBC4; padding: 0.45em 0.6em; margin: 0 0.25em; line-height: 1; border-radius: 0.35em;\">\n",
       "    fermentation capacity\n",
       "    <span style=\"font-size: 0.8em; font-weight: bold; line-height: 1; border-radius: 0.35em; text-transform: uppercase; vertical-align: middle; margin-left: 0.5rem\">Feature</span>\n",
       "</mark>\n",
       " here, \n",
       "<mark class=\"entity\" style=\"background: #80CBC4; padding: 0.45em 0.6em; margin: 0 0.25em; line-height: 1; border-radius: 0.35em;\">\n",
       "    huge\n",
       "    <span style=\"font-size: 0.8em; font-weight: bold; line-height: 1; border-radius: 0.35em; text-transform: uppercase; vertical-align: middle; margin-left: 0.5rem\">Feature</span>\n",
       "</mark>\n",
       " but comfortable, if a bit overly refined and lacking uniqueness as a space. its comfortable though, and it was exiting just to be here. the beer list included all of the staples, a few new ones by me, and a range of speedway variants i was super pumped to get into, including jamaican, vietnamese, chire, and thai. they were all awesome! they also have a cool gift shop with some bottles to go. a neat mix of people in here from corporate gathering to laid back california looking folks, mellow for how busy it was. service was fine, sort of unexcited but we didnt spend much time at the bar, opting instead for one of the leather couches where we had our minds blown by the speedway flight. its cool to see how successful these guys have been, their new space is \n",
       "<mark class=\"entity\" style=\"background: #80CBC4; padding: 0.45em 0.6em; margin: 0 0.25em; line-height: 1; border-radius: 0.35em;\">\n",
       "    beautiful\n",
       "    <span style=\"font-size: 0.8em; font-weight: bold; line-height: 1; border-radius: 0.35em; text-transform: uppercase; vertical-align: middle; margin-left: 0.5rem\">Feature</span>\n",
       "</mark>\n",
       ", and the beers continue to speak for themselves. we had a great time here, definitely worth a visit, and if you are unfamiliar with their beers, be sure not to miss it!</br></div></span>"
      ],
      "text/plain": [
       "<IPython.core.display.HTML object>"
      ]
     },
     "metadata": {},
     "output_type": "display_data"
    },
    {
     "data": {
      "text/html": [
       "<span class=\"tex2jax_ignore\"><div class=\"entities\" style=\"line-height: 2.5; direction: ltr\">This was my first time to AleSmith. Very cool facility, \n",
       "<mark class=\"entity\" style=\"background: #80CBC4; padding: 0.45em 0.6em; margin: 0 0.25em; line-height: 1; border-radius: 0.35em;\">\n",
       "    huge\n",
       "    <span style=\"font-size: 0.8em; font-weight: bold; line-height: 1; border-radius: 0.35em; text-transform: uppercase; vertical-align: middle; margin-left: 0.5rem\">Feature</span>\n",
       "</mark>\n",
       "! The \n",
       "<mark class=\"entity\" style=\"background: #80CBC4; padding: 0.45em 0.6em; margin: 0 0.25em; line-height: 1; border-radius: 0.35em;\">\n",
       "    selection\n",
       "    <span style=\"font-size: 0.8em; font-weight: bold; line-height: 1; border-radius: 0.35em; text-transform: uppercase; vertical-align: middle; margin-left: 0.5rem\">Feature</span>\n",
       "</mark>\n",
       " when I went was great for Speedway Stout variants, but for those looking beyond \n",
       "<mark class=\"entity\" style=\"background: #80CBC4; padding: 0.45em 0.6em; margin: 0 0.25em; line-height: 1; border-radius: 0.35em;\">\n",
       "    heavy stouts\n",
       "    <span style=\"font-size: 0.8em; font-weight: bold; line-height: 1; border-radius: 0.35em; text-transform: uppercase; vertical-align: middle; margin-left: 0.5rem\">Feature</span>\n",
       "</mark>\n",
       ", I’ve gotta say there maybe could have been a little more. Service was great, speedy and \n",
       "<mark class=\"entity\" style=\"background: #80CBC4; padding: 0.45em 0.6em; margin: 0 0.25em; line-height: 1; border-radius: 0.35em;\">\n",
       "    friendly\n",
       "    <span style=\"font-size: 0.8em; font-weight: bold; line-height: 1; border-radius: 0.35em; text-transform: uppercase; vertical-align: middle; margin-left: 0.5rem\">Feature</span>\n",
       "</mark>\n",
       ". Beer quality was solid, from what I had. With the right event going on, during a full house \n",
       "<mark class=\"entity\" style=\"background: #80CBC4; padding: 0.45em 0.6em; margin: 0 0.25em; line-height: 1; border-radius: 0.35em;\">\n",
       "    session\n",
       "    <span style=\"font-size: 0.8em; font-weight: bold; line-height: 1; border-radius: 0.35em; text-transform: uppercase; vertical-align: middle; margin-left: 0.5rem\">Feature</span>\n",
       "</mark>\n",
       ", I can really see this being a \n",
       "<mark class=\"entity\" style=\"background: #80CBC4; padding: 0.45em 0.6em; margin: 0 0.25em; line-height: 1; border-radius: 0.35em;\">\n",
       "    fun\n",
       "    <span style=\"font-size: 0.8em; font-weight: bold; line-height: 1; border-radius: 0.35em; text-transform: uppercase; vertical-align: middle; margin-left: 0.5rem\">Feature</span>\n",
       "</mark>\n",
       " place to be!</br></div></span>"
      ],
      "text/plain": [
       "<IPython.core.display.HTML object>"
      ]
     },
     "metadata": {},
     "output_type": "display_data"
    },
    {
     "data": {
      "text/html": [
       "<span class=\"tex2jax_ignore\"><div class=\"entities\" style=\"line-height: 2.5; direction: ltr\">Hit up AleSmith on a recent trip to \n",
       "<mark class=\"entity\" style=\"background: #9FA8DA; padding: 0.45em 0.6em; margin: 0 0.25em; line-height: 1; border-radius: 0.35em;\">\n",
       "    San Diego\n",
       "    <span style=\"font-size: 0.8em; font-weight: bold; line-height: 1; border-radius: 0.35em; text-transform: uppercase; vertical-align: middle; margin-left: 0.5rem\">Location</span>\n",
       "</mark>\n",
       ". Lots of people, big crowd with big lines and long waits to get a beer. There was not enough seats for my friends and I, so we had to stand on the deck near the restrooms. Service was not that good but I could understand as they seemed understaffed for a Saturday afternoon. My recommendation is that they expand their tasting room, add more seats and staff.</br></div></span>"
      ],
      "text/plain": [
       "<IPython.core.display.HTML object>"
      ]
     },
     "metadata": {},
     "output_type": "display_data"
    },
    {
     "data": {
      "text/html": [
       "<span class=\"tex2jax_ignore\"><div class=\"entities\" style=\"line-height: 2.5; direction: ltr\">Arguably the best brewery in SD. They upgraded to a much larger tasting room a couple years back and have been working on revamping/expanding it since. The brewery not only boasts a large tasting \n",
       "<mark class=\"entity\" style=\"background: #80CBC4; padding: 0.45em 0.6em; margin: 0 0.25em; line-height: 1; border-radius: 0.35em;\">\n",
       "    room\n",
       "    <span style=\"font-size: 0.8em; font-weight: bold; line-height: 1; border-radius: 0.35em; text-transform: uppercase; vertical-align: middle; margin-left: 0.5rem\">Feature</span>\n",
       "</mark>\n",
       " with both indoor and \n",
       "<mark class=\"entity\" style=\"background: #80CBC4; padding: 0.45em 0.6em; margin: 0 0.25em; line-height: 1; border-radius: 0.35em;\">\n",
       "    outdoor seating\n",
       "    <span style=\"font-size: 0.8em; font-weight: bold; line-height: 1; border-radius: 0.35em; text-transform: uppercase; vertical-align: middle; margin-left: 0.5rem\">Feature</span>\n",
       "</mark>\n",
       " but they also have: fire pits, \n",
       "<mark class=\"entity\" style=\"background: #80CBC4; padding: 0.45em 0.6em; margin: 0 0.25em; line-height: 1; border-radius: 0.35em;\">\n",
       "    daily food trucks\n",
       "    <span style=\"font-size: 0.8em; font-weight: bold; line-height: 1; border-radius: 0.35em; text-transform: uppercase; vertical-align: middle; margin-left: 0.5rem\">Feature</span>\n",
       "</mark>\n",
       ", a Tony Gwynn museum on-site (free), games, gift/bottle shop, tours and a \n",
       "<mark class=\"entity\" style=\"background: #80CBC4; padding: 0.45em 0.6em; margin: 0 0.25em; line-height: 1; border-radius: 0.35em;\">\n",
       "    private barrel\n",
       "    <span style=\"font-size: 0.8em; font-weight: bold; line-height: 1; border-radius: 0.35em; text-transform: uppercase; vertical-align: middle; margin-left: 0.5rem\">Feature</span>\n",
       "</mark>\n",
       "-aged only tasting room (&quot;Anvil &amp; Stave&quot;). Super \n",
       "<mark class=\"entity\" style=\"background: #80CBC4; padding: 0.45em 0.6em; margin: 0 0.25em; line-height: 1; border-radius: 0.35em;\">\n",
       "    friendly\n",
       "    <span style=\"font-size: 0.8em; font-weight: bold; line-height: 1; border-radius: 0.35em; text-transform: uppercase; vertical-align: middle; margin-left: 0.5rem\">Feature</span>\n",
       "</mark>\n",
       " and \n",
       "<mark class=\"entity\" style=\"background: #80CBC4; padding: 0.45em 0.6em; margin: 0 0.25em; line-height: 1; border-radius: 0.35em;\">\n",
       "    helpful staff\n",
       "    <span style=\"font-size: 0.8em; font-weight: bold; line-height: 1; border-radius: 0.35em; text-transform: uppercase; vertical-align: middle; margin-left: 0.5rem\">Feature</span>\n",
       "</mark>\n",
       " and Alesmith always has about \n",
       "<mark class=\"entity\" style=\"background: #80CBC4; padding: 0.45em 0.6em; margin: 0 0.25em; line-height: 1; border-radius: 0.35em;\">\n",
       "    20 beers\n",
       "    <span style=\"font-size: 0.8em; font-weight: bold; line-height: 1; border-radius: 0.35em; text-transform: uppercase; vertical-align: middle; margin-left: 0.5rem\">Feature</span>\n",
       "</mark>\n",
       " to choose from which include the every day favorites and a handful of \n",
       "<mark class=\"entity\" style=\"background: #FDD835; padding: 0.45em 0.6em; margin: 0 0.25em; line-height: 1; border-radius: 0.35em;\">\n",
       "    barrel-aged\n",
       "    <span style=\"font-size: 0.8em; font-weight: bold; line-height: 1; border-radius: 0.35em; text-transform: uppercase; vertical-align: middle; margin-left: 0.5rem\">Beer Style</span>\n",
       "</mark>\n",
       ", limited, or special beers. When in SD, this is a must.</br></div></span>"
      ],
      "text/plain": [
       "<IPython.core.display.HTML object>"
      ]
     },
     "metadata": {},
     "output_type": "display_data"
    },
    {
     "data": {
      "text/html": [
       "<span class=\"tex2jax_ignore\"><div class=\"entities\" style=\"line-height: 2.5; direction: ltr\">There are a lot of places in industrial parks, and most of them feel like it. That said, AleSmith has done a lot to make this a welcoming space. Lots of \n",
       "<mark class=\"entity\" style=\"background: #80CBC4; padding: 0.45em 0.6em; margin: 0 0.25em; line-height: 1; border-radius: 0.35em;\">\n",
       "    room\n",
       "    <span style=\"font-size: 0.8em; font-weight: bold; line-height: 1; border-radius: 0.35em; text-transform: uppercase; vertical-align: middle; margin-left: 0.5rem\">Feature</span>\n",
       "</mark>\n",
       " for the \n",
       "<mark class=\"entity\" style=\"background: #80CBC4; padding: 0.45em 0.6em; margin: 0 0.25em; line-height: 1; border-radius: 0.35em;\">\n",
       "    happy hour\n",
       "    <span style=\"font-size: 0.8em; font-weight: bold; line-height: 1; border-radius: 0.35em; text-transform: uppercase; vertical-align: middle; margin-left: 0.5rem\">Feature</span>\n",
       "</mark>\n",
       " crowd in the main space, plus a cave-like hidden \n",
       "<mark class=\"entity\" style=\"background: #80CBC4; padding: 0.45em 0.6em; margin: 0 0.25em; line-height: 1; border-radius: 0.35em;\">\n",
       "    room\n",
       "    <span style=\"font-size: 0.8em; font-weight: bold; line-height: 1; border-radius: 0.35em; text-transform: uppercase; vertical-align: middle; margin-left: 0.5rem\">Feature</span>\n",
       "</mark>\n",
       " for \n",
       "<mark class=\"entity\" style=\"background: #FDD835; padding: 0.45em 0.6em; margin: 0 0.25em; line-height: 1; border-radius: 0.35em;\">\n",
       "    barrel\n",
       "    <span style=\"font-size: 0.8em; font-weight: bold; line-height: 1; border-radius: 0.35em; text-transform: uppercase; vertical-align: middle; margin-left: 0.5rem\">Beer Style</span>\n",
       "</mark>\n",
       "\n",
       "<mark class=\"entity\" style=\"background: #9FA8DA; padding: 0.45em 0.6em; margin: 0 0.25em; line-height: 1; border-radius: 0.35em;\">\n",
       "    -aged\n",
       "    <span style=\"font-size: 0.8em; font-weight: bold; line-height: 1; border-radius: 0.35em; text-transform: uppercase; vertical-align: middle; margin-left: 0.5rem\">Location</span>\n",
       "</mark>\n",
       " brews. Food trucks are usually outside, and I had to get the bacon grilled cheese. I could spend a lot of time there if I lived nearby, and I was kinda sad I had to move on to the next place because of my limited time. (\n",
       "<mark class=\"entity\" style=\"background: #9FA8DA; padding: 0.45em 0.6em; margin: 0 0.25em; line-height: 1; border-radius: 0.35em;\">\n",
       "    San Diego\n",
       "    <span style=\"font-size: 0.8em; font-weight: bold; line-height: 1; border-radius: 0.35em; text-transform: uppercase; vertical-align: middle; margin-left: 0.5rem\">Location</span>\n",
       "</mark>\n",
       ". Poor poor pitiful me, right?)</br></div></span>"
      ],
      "text/plain": [
       "<IPython.core.display.HTML object>"
      ]
     },
     "metadata": {},
     "output_type": "display_data"
    },
    {
     "data": {
      "text/html": [
       "<span class=\"tex2jax_ignore\"><div class=\"entities\" style=\"line-height: 2.5; direction: ltr\">This place is pretty awesome. \n",
       "<mark class=\"entity\" style=\"background: #80CBC4; padding: 0.45em 0.6em; margin: 0 0.25em; line-height: 1; border-radius: 0.35em;\">\n",
       "    Awesome selection\n",
       "    <span style=\"font-size: 0.8em; font-weight: bold; line-height: 1; border-radius: 0.35em; text-transform: uppercase; vertical-align: middle; margin-left: 0.5rem\">Feature</span>\n",
       "</mark>\n",
       " of beer, very open with different types of seating, including outdoors. \n",
       "<mark class=\"entity\" style=\"background: #80CBC4; padding: 0.45em 0.6em; margin: 0 0.25em; line-height: 1; border-radius: 0.35em;\">\n",
       "    Great service\n",
       "    <span style=\"font-size: 0.8em; font-weight: bold; line-height: 1; border-radius: 0.35em; text-transform: uppercase; vertical-align: middle; margin-left: 0.5rem\">Feature</span>\n",
       "</mark>\n",
       " and \n",
       "<mark class=\"entity\" style=\"background: #80CBC4; padding: 0.45em 0.6em; margin: 0 0.25em; line-height: 1; border-radius: 0.35em;\">\n",
       "    nice vibe\n",
       "    <span style=\"font-size: 0.8em; font-weight: bold; line-height: 1; border-radius: 0.35em; text-transform: uppercase; vertical-align: middle; margin-left: 0.5rem\">Feature</span>\n",
       "</mark>\n",
       ". I could totally hang out here all day with some friends and drink.</br></div></span>"
      ],
      "text/plain": [
       "<IPython.core.display.HTML object>"
      ]
     },
     "metadata": {},
     "output_type": "display_data"
    },
    {
     "data": {
      "text/html": [
       "<span class=\"tex2jax_ignore\"><div class=\"entities\" style=\"line-height: 2.5; direction: ltr\">This is a must-stop place if in the \n",
       "<mark class=\"entity\" style=\"background: #9FA8DA; padding: 0.45em 0.6em; margin: 0 0.25em; line-height: 1; border-radius: 0.35em;\">\n",
       "    San Diego\n",
       "    <span style=\"font-size: 0.8em; font-weight: bold; line-height: 1; border-radius: 0.35em; text-transform: uppercase; vertical-align: middle; margin-left: 0.5rem\">Location</span>\n",
       "</mark>\n",
       " area. A little off the beaten path, especially if you are staying downtown but worth it. The Anvil &amp; Stave is a really cool experience and something you have to do if you are there. The main tasting room has a \n",
       "<mark class=\"entity\" style=\"background: #80CBC4; padding: 0.45em 0.6em; margin: 0 0.25em; line-height: 1; border-radius: 0.35em;\">\n",
       "    cool vibe\n",
       "    <span style=\"font-size: 0.8em; font-weight: bold; line-height: 1; border-radius: 0.35em; text-transform: uppercase; vertical-align: middle; margin-left: 0.5rem\">Feature</span>\n",
       "</mark>\n",
       " and a \n",
       "<mark class=\"entity\" style=\"background: #80CBC4; padding: 0.45em 0.6em; margin: 0 0.25em; line-height: 1; border-radius: 0.35em;\">\n",
       "    nice selection\n",
       "    <span style=\"font-size: 0.8em; font-weight: bold; line-height: 1; border-radius: 0.35em; text-transform: uppercase; vertical-align: middle; margin-left: 0.5rem\">Feature</span>\n",
       "</mark>\n",
       " of beer but the Anvil &amp; Stave is the highlight for sure.</br></div></span>"
      ],
      "text/plain": [
       "<IPython.core.display.HTML object>"
      ]
     },
     "metadata": {},
     "output_type": "display_data"
    },
    {
     "data": {
      "text/html": [
       "<span class=\"tex2jax_ignore\"><div class=\"entities\" style=\"line-height: 2.5; direction: ltr\">Nice location right \n",
       "<mark class=\"entity\" style=\"background: #9FA8DA; padding: 0.45em 0.6em; margin: 0 0.25em; line-height: 1; border-radius: 0.35em;\">\n",
       "    off Miramar\n",
       "    <span style=\"font-size: 0.8em; font-weight: bold; line-height: 1; border-radius: 0.35em; text-transform: uppercase; vertical-align: middle; margin-left: 0.5rem\">Location</span>\n",
       "</mark>\n",
       ". Very clean and open. No food available unless there is a food truck. Solid offerings of beer including some barrell aged options plus some r and d. Worth a visit if in \n",
       "<mark class=\"entity\" style=\"background: #9FA8DA; padding: 0.45em 0.6em; margin: 0 0.25em; line-height: 1; border-radius: 0.35em;\">\n",
       "    San Diego\n",
       "    <span style=\"font-size: 0.8em; font-weight: bold; line-height: 1; border-radius: 0.35em; text-transform: uppercase; vertical-align: middle; margin-left: 0.5rem\">Location</span>\n",
       "</mark>\n",
       " and just around he corner from Ballast Point brewery/restaraunt.</br></div></span>"
      ],
      "text/plain": [
       "<IPython.core.display.HTML object>"
      ]
     },
     "metadata": {},
     "output_type": "display_data"
    },
    {
     "data": {
      "text/html": [
       "<span class=\"tex2jax_ignore\"><div class=\"entities\" style=\"line-height: 2.5; direction: ltr\">Made two stops here and found a huge \n",
       "<mark class=\"entity\" style=\"background: #80CBC4; padding: 0.45em 0.6em; margin: 0 0.25em; line-height: 1; border-radius: 0.35em;\">\n",
       "    open space\n",
       "    <span style=\"font-size: 0.8em; font-weight: bold; line-height: 1; border-radius: 0.35em; text-transform: uppercase; vertical-align: middle; margin-left: 0.5rem\">Feature</span>\n",
       "</mark>\n",
       ", long bar area, movies showing and a pretty big gift shop that also had bottle sales. If you come on the right day, you'll luck out with some Speedway variants, if not you'll just have to settle for variants of some other beer. Hard to go wrong either way. I'd go here if I had a big group by the way.</br></div></span>"
      ],
      "text/plain": [
       "<IPython.core.display.HTML object>"
      ]
     },
     "metadata": {},
     "output_type": "display_data"
    },
    {
     "data": {
      "text/html": [
       "<span class=\"tex2jax_ignore\"><div class=\"entities\" style=\"line-height: 2.5; direction: ltr\">All Hail, Alesmith. I remain mystified that a brewer in one of the most consistently warm climates can produce such astounding stouts. But the story starts two years ago because Alesmith has two on my quest to taste &quot;10001 Beers You Must Taste Before You Die&quot; and they don't distribute in my state. When their beer starts to dribble into Illinois, I was advised by the largest beverage retailer in Chicagoland that I would be lucky to get any soon. A month later, we visit my wife's cousin in \n",
       "<mark class=\"entity\" style=\"background: #9FA8DA; padding: 0.45em 0.6em; margin: 0 0.25em; line-height: 1; border-radius: 0.35em;\">\n",
       "    San Diego\n",
       "    <span style=\"font-size: 0.8em; font-weight: bold; line-height: 1; border-radius: 0.35em; text-transform: uppercase; vertical-align: middle; margin-left: 0.5rem\">Location</span>\n",
       "</mark>\n",
       " and he has a driver without much to do. So it seemed like a genius-stroke to ask him to take me to Alesmith. I could drink all I wanted! Well, we arrived and I discovered : no \n",
       "<mark class=\"entity\" style=\"background: #80CBC4; padding: 0.45em 0.6em; margin: 0 0.25em; line-height: 1; border-radius: 0.35em;\">\n",
       "    flights\n",
       "    <span style=\"font-size: 0.8em; font-weight: bold; line-height: 1; border-radius: 0.35em; text-transform: uppercase; vertical-align: middle; margin-left: 0.5rem\">Feature</span>\n",
       "</mark>\n",
       ", but they sold bottles. We were flying out tomorrow, so I didn't want to buy bottles. Dilemma. Then, I saw a clique of restauranteurs sampling the brews. Without introducing myself, I went over and acted like I knew their biz. The conceit worked and I sampled at least five brews... all excellent and an astounding stout. Lesson: Beer-hunting requires more than persistent, it requires guile... albeit for a good cause.</br></div></span>"
      ],
      "text/plain": [
       "<IPython.core.display.HTML object>"
      ]
     },
     "metadata": {},
     "output_type": "display_data"
    },
    {
     "data": {
      "text/html": [
       "<span class=\"tex2jax_ignore\"><div class=\"entities\" style=\"line-height: 2.5; direction: ltr\">Very \n",
       "<mark class=\"entity\" style=\"background: #80CBC4; padding: 0.45em 0.6em; margin: 0 0.25em; line-height: 1; border-radius: 0.35em;\">\n",
       "    cool place\n",
       "    <span style=\"font-size: 0.8em; font-weight: bold; line-height: 1; border-radius: 0.35em; text-transform: uppercase; vertical-align: middle; margin-left: 0.5rem\">Feature</span>\n",
       "</mark>\n",
       ", just wish the beer was better. Food truck was pulled up for good eats. \n",
       "<mark class=\"entity\" style=\"background: #80CBC4; padding: 0.45em 0.6em; margin: 0 0.25em; line-height: 1; border-radius: 0.35em;\">\n",
       "    Outdoor patio\n",
       "    <span style=\"font-size: 0.8em; font-weight: bold; line-height: 1; border-radius: 0.35em; text-transform: uppercase; vertical-align: middle; margin-left: 0.5rem\">Feature</span>\n",
       "</mark>\n",
       " area had a cool area to \n",
       "<mark class=\"entity\" style=\"background: #80CBC4; padding: 0.45em 0.6em; margin: 0 0.25em; line-height: 1; border-radius: 0.35em;\">\n",
       "    chill\n",
       "    <span style=\"font-size: 0.8em; font-weight: bold; line-height: 1; border-radius: 0.35em; text-transform: uppercase; vertical-align: middle; margin-left: 0.5rem\">Feature</span>\n",
       "</mark>\n",
       " by the fire and others were playing corn hole. Inside was massive with lots of stools and tables, all of which were taken on the Saturday evening I was there. Loved the place but unless they produce better beer, I'll probably skip next time (no Speedway stout or any variants available the day I was there).</br></div></span>"
      ],
      "text/plain": [
       "<IPython.core.display.HTML object>"
      ]
     },
     "metadata": {},
     "output_type": "display_data"
    },
    {
     "data": {
      "text/html": [
       "<span class=\"tex2jax_ignore\"><div class=\"entities\" style=\"line-height: 2.5; direction: ltr\">Stopped here to check out their beers because they don't make it to DE. Beers were great as expected. The tasting room is spacious and they offer a rack of four samples for tasting. We were there during mid afternoon on a Friday and they were busy but not crowded. Not a bad place to hang out and drink some beer.</br></div></span>"
      ],
      "text/plain": [
       "<IPython.core.display.HTML object>"
      ]
     },
     "metadata": {},
     "output_type": "display_data"
    },
    {
     "data": {
      "text/html": [
       "<span class=\"tex2jax_ignore\"><div class=\"entities\" style=\"line-height: 2.5; direction: ltr\">The \n",
       "<mark class=\"entity\" style=\"background: #80CBC4; padding: 0.45em 0.6em; margin: 0 0.25em; line-height: 1; border-radius: 0.35em;\">\n",
       "    new tasting room\n",
       "    <span style=\"font-size: 0.8em; font-weight: bold; line-height: 1; border-radius: 0.35em; text-transform: uppercase; vertical-align: middle; margin-left: 0.5rem\">Feature</span>\n",
       "</mark>\n",
       " is a \n",
       "<mark class=\"entity\" style=\"background: #80CBC4; padding: 0.45em 0.6em; margin: 0 0.25em; line-height: 1; border-radius: 0.35em;\">\n",
       "    huge space\n",
       "    <span style=\"font-size: 0.8em; font-weight: bold; line-height: 1; border-radius: 0.35em; text-transform: uppercase; vertical-align: middle; margin-left: 0.5rem\">Feature</span>\n",
       "</mark>\n",
       " in an \n",
       "<mark class=\"entity\" style=\"background: #9FA8DA; padding: 0.45em 0.6em; margin: 0 0.25em; line-height: 1; border-radius: 0.35em;\">\n",
       "    industrial park\n",
       "    <span style=\"font-size: 0.8em; font-weight: bold; line-height: 1; border-radius: 0.35em; text-transform: uppercase; vertical-align: middle; margin-left: 0.5rem\">Location</span>\n",
       "</mark>\n",
       ". Still a \n",
       "<mark class=\"entity\" style=\"background: #80CBC4; padding: 0.45em 0.6em; margin: 0 0.25em; line-height: 1; border-radius: 0.35em;\">\n",
       "    decent vibe\n",
       "    <span style=\"font-size: 0.8em; font-weight: bold; line-height: 1; border-radius: 0.35em; text-transform: uppercase; vertical-align: middle; margin-left: 0.5rem\">Feature</span>\n",
       "</mark>\n",
       " given the size and location. They typically have \n",
       "<mark class=\"entity\" style=\"background: #80CBC4; padding: 0.45em 0.6em; margin: 0 0.25em; line-height: 1; border-radius: 0.35em;\">\n",
       "    10-12\n",
       "    <span style=\"font-size: 0.8em; font-weight: bold; line-height: 1; border-radius: 0.35em; text-transform: uppercase; vertical-align: middle; margin-left: 0.5rem\">Feature</span>\n",
       "</mark>\n",
       " standards on tap and \n",
       "<mark class=\"entity\" style=\"background: #80CBC4; padding: 0.45em 0.6em; margin: 0 0.25em; line-height: 1; border-radius: 0.35em;\">\n",
       "    5-6\n",
       "    <span style=\"font-size: 0.8em; font-weight: bold; line-height: 1; border-radius: 0.35em; text-transform: uppercase; vertical-align: middle; margin-left: 0.5rem\">Feature</span>\n",
       "</mark>\n",
       " \n",
       "<mark class=\"entity\" style=\"background: #FDD835; padding: 0.45em 0.6em; margin: 0 0.25em; line-height: 1; border-radius: 0.35em;\">\n",
       "    specialty beers\n",
       "    <span style=\"font-size: 0.8em; font-weight: bold; line-height: 1; border-radius: 0.35em; text-transform: uppercase; vertical-align: middle; margin-left: 0.5rem\">Beer Style</span>\n",
       "</mark>\n",
       ". A series of Mikkeller collabs were available when I visited. As with their standard bottled beers - nothing really blew me away, just a broad range of solid offerings. Beer tenders seemed to be reasonably \n",
       "<mark class=\"entity\" style=\"background: #80CBC4; padding: 0.45em 0.6em; margin: 0 0.25em; line-height: 1; border-radius: 0.35em;\">\n",
       "    knowledgable\n",
       "    <span style=\"font-size: 0.8em; font-weight: bold; line-height: 1; border-radius: 0.35em; text-transform: uppercase; vertical-align: middle; margin-left: 0.5rem\">Feature</span>\n",
       "</mark>\n",
       " and \n",
       "<mark class=\"entity\" style=\"background: #80CBC4; padding: 0.45em 0.6em; margin: 0 0.25em; line-height: 1; border-radius: 0.35em;\">\n",
       "    helpful\n",
       "    <span style=\"font-size: 0.8em; font-weight: bold; line-height: 1; border-radius: 0.35em; text-transform: uppercase; vertical-align: middle; margin-left: 0.5rem\">Feature</span>\n",
       "</mark>\n",
       ". In most towns Alesmith would stand out but not in SD these days.</div></span>"
      ],
      "text/plain": [
       "<IPython.core.display.HTML object>"
      ]
     },
     "metadata": {},
     "output_type": "display_data"
    }
   ],
   "source": [
    "# Test trained model\n",
    "with open('../data/raw/reviews_san-diego_alesmith.txt') as file:\n",
    "    reviews = file.readlines()\n",
    "\n",
    "colors = {\"FEATURE\": \"#80CBC4\", \"BEER STYLE\": \"#FDD835\", \"LOCATION\": \"#9FA8DA\"}\n",
    "options = {\"colors\": colors} \n",
    "    \n",
    "for review in reviews:\n",
    "    doc = nlp(review)\n",
    "    displacy.render(doc, style=\"ent\", options=options)"
   ]
  }
 ],
 "metadata": {
  "kernelspec": {
   "display_name": "Python 3",
   "language": "python",
   "name": "python3"
  },
  "language_info": {
   "codemirror_mode": {
    "name": "ipython",
    "version": 3
   },
   "file_extension": ".py",
   "mimetype": "text/x-python",
   "name": "python",
   "nbconvert_exporter": "python",
   "pygments_lexer": "ipython3",
   "version": "3.9.0"
  }
 },
 "nbformat": 4,
 "nbformat_minor": 4
}
