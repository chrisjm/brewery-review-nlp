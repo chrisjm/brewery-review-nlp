{
 "cells": [
  {
   "cell_type": "markdown",
   "metadata": {},
   "source": [
    "# 04 - Preprocessing & Model Training 🤖\n",
    "\n",
    "## Problem\n",
    "\n",
    "How can we generate short descriptions including a list of popular beer styles from brewery reviews with natural language processing (NLP)? \n",
    "\n",
    "NOTE: This is similar to how Google Maps provides short blurbs for businesses such as “From scratch, Northern Italian dining.” \n",
    "\n",
    "For example, \"Spacious warehouse brewery with daily food trucks. Allows dogs. Features IPAs, Hazy IPAs, and high-gravity stouts.\"\n",
    "\n",
    "## Notebook Objectives\n",
    "\n",
    "* Understand the importance of creating a model training development data set.\n",
    "* Correctly identify when to create dummy features or one-hot encoded features.\n",
    "* Understand the importance of magnitude standardization.\n",
    "* Apply the train and test split to the development dataset effectively."
   ]
  },
  {
   "cell_type": "code",
   "execution_count": 1,
   "metadata": {},
   "outputs": [],
   "source": [
    "import numpy as np\n",
    "import pandas as pd\n",
    "import matplotlib.pyplot as plt\n",
    "import seaborn as sns\n",
    "import warnings\n",
    "import json\n",
    "import time\n",
    "import math\n",
    "from pprint import pprint\n",
    "\n",
    "import random\n",
    "random.seed(42)\n",
    "\n",
    "# Progress bar\n",
    "# from tqdm import tqdm, trange\n",
    "from tqdm.notebook import tqdm, trange\n",
    "\n",
    "# NLP Toolkit\n",
    "import spacy\n",
    "from spacy import displacy\n",
    "from spacy.util import minibatch, compounding, decaying\n",
    "\n",
    "%matplotlib inline"
   ]
  },
  {
   "cell_type": "code",
   "execution_count": 2,
   "metadata": {},
   "outputs": [],
   "source": [
    "# Set default plot size\n",
    "plt.rcParams['figure.figsize'] = (10, 5)"
   ]
  },
  {
   "cell_type": "code",
   "execution_count": 3,
   "metadata": {},
   "outputs": [],
   "source": [
    "BASE_MODEL_PATH = \"../models/base_model\""
   ]
  },
  {
   "cell_type": "code",
   "execution_count": 4,
   "metadata": {},
   "outputs": [],
   "source": [
    "# Load small English language model for sentence separation.\n",
    "nlp = spacy.load(\"en_core_web_sm\")"
   ]
  },
  {
   "cell_type": "code",
   "execution_count": 5,
   "metadata": {},
   "outputs": [
    {
     "data": {
      "text/html": [
       "<div>\n",
       "<style scoped>\n",
       "    .dataframe tbody tr th:only-of-type {\n",
       "        vertical-align: middle;\n",
       "    }\n",
       "\n",
       "    .dataframe tbody tr th {\n",
       "        vertical-align: top;\n",
       "    }\n",
       "\n",
       "    .dataframe thead th {\n",
       "        text-align: right;\n",
       "    }\n",
       "</style>\n",
       "<table border=\"1\" class=\"dataframe\">\n",
       "  <thead>\n",
       "    <tr style=\"text-align: right;\">\n",
       "      <th></th>\n",
       "      <th>review_text</th>\n",
       "      <th>rating</th>\n",
       "      <th>date</th>\n",
       "      <th>brewery_name</th>\n",
       "      <th>street</th>\n",
       "      <th>city</th>\n",
       "      <th>tokens</th>\n",
       "      <th>sents</th>\n",
       "    </tr>\n",
       "  </thead>\n",
       "  <tbody>\n",
       "    <tr>\n",
       "      <th>0</th>\n",
       "      <td>Got to visit the newest brewery in Birmingham ...</td>\n",
       "      <td>4.13</td>\n",
       "      <td>2019-07-25</td>\n",
       "      <td>Birmingham District Brewing</td>\n",
       "      <td>2201 2nd Ave S, Ste 102</td>\n",
       "      <td>Birmingham</td>\n",
       "      <td>110</td>\n",
       "      <td>8</td>\n",
       "    </tr>\n",
       "    <tr>\n",
       "      <th>1</th>\n",
       "      <td>Nice big space, very clean, and friendly staff...</td>\n",
       "      <td>4.04</td>\n",
       "      <td>2018-10-23</td>\n",
       "      <td>Trimtab Brewing Company</td>\n",
       "      <td>2721 5th Ave S</td>\n",
       "      <td>Birmingham</td>\n",
       "      <td>105</td>\n",
       "      <td>7</td>\n",
       "    </tr>\n",
       "    <tr>\n",
       "      <th>2</th>\n",
       "      <td>The vibe of trim tab is interesting.....they h...</td>\n",
       "      <td>4.04</td>\n",
       "      <td>2018-08-24</td>\n",
       "      <td>Trimtab Brewing Company</td>\n",
       "      <td>2721 5th Ave S</td>\n",
       "      <td>Birmingham</td>\n",
       "      <td>116</td>\n",
       "      <td>9</td>\n",
       "    </tr>\n",
       "    <tr>\n",
       "      <th>3</th>\n",
       "      <td>Stopped here late one night before closing, th...</td>\n",
       "      <td>4.07</td>\n",
       "      <td>2017-07-11</td>\n",
       "      <td>Trimtab Brewing Company</td>\n",
       "      <td>2721 5th Ave S</td>\n",
       "      <td>Birmingham</td>\n",
       "      <td>74</td>\n",
       "      <td>5</td>\n",
       "    </tr>\n",
       "    <tr>\n",
       "      <th>4</th>\n",
       "      <td>Extremely relaxed brewery. Great service with ...</td>\n",
       "      <td>4.10</td>\n",
       "      <td>2018-01-21</td>\n",
       "      <td>Trimtab Brewing Company</td>\n",
       "      <td>2721 5th Ave S</td>\n",
       "      <td>Birmingham</td>\n",
       "      <td>33</td>\n",
       "      <td>5</td>\n",
       "    </tr>\n",
       "  </tbody>\n",
       "</table>\n",
       "</div>"
      ],
      "text/plain": [
       "                                         review_text  rating       date  \\\n",
       "0  Got to visit the newest brewery in Birmingham ...    4.13 2019-07-25   \n",
       "1  Nice big space, very clean, and friendly staff...    4.04 2018-10-23   \n",
       "2  The vibe of trim tab is interesting.....they h...    4.04 2018-08-24   \n",
       "3  Stopped here late one night before closing, th...    4.07 2017-07-11   \n",
       "4  Extremely relaxed brewery. Great service with ...    4.10 2018-01-21   \n",
       "\n",
       "                  brewery_name                   street        city  tokens  \\\n",
       "0  Birmingham District Brewing  2201 2nd Ave S, Ste 102  Birmingham     110   \n",
       "1      Trimtab Brewing Company           2721 5th Ave S  Birmingham     105   \n",
       "2      Trimtab Brewing Company           2721 5th Ave S  Birmingham     116   \n",
       "3      Trimtab Brewing Company           2721 5th Ave S  Birmingham      74   \n",
       "4      Trimtab Brewing Company           2721 5th Ave S  Birmingham      33   \n",
       "\n",
       "   sents  \n",
       "0      8  \n",
       "1      7  \n",
       "2      9  \n",
       "3      5  \n",
       "4      5  "
      ]
     },
     "execution_count": 5,
     "metadata": {},
     "output_type": "execute_result"
    }
   ],
   "source": [
    "# Load data\n",
    "df = pd.read_csv('../data/raw/brewery_reviews.csv', index_col=0, parse_dates=['date'])\n",
    "df.head()"
   ]
  },
  {
   "cell_type": "code",
   "execution_count": 6,
   "metadata": {},
   "outputs": [],
   "source": [
    "# We don't need reviews without text for this work\n",
    "df.dropna(inplace=True)"
   ]
  },
  {
   "cell_type": "code",
   "execution_count": 7,
   "metadata": {},
   "outputs": [
    {
     "data": {
      "text/plain": [
       "194504"
      ]
     },
     "execution_count": 7,
     "metadata": {},
     "output_type": "execute_result"
    }
   ],
   "source": [
    "# Count sentences\n",
    "df['sents'].sum()"
   ]
  },
  {
   "cell_type": "code",
   "execution_count": 9,
   "metadata": {},
   "outputs": [
    {
     "data": {
      "application/vnd.jupyter.widget-view+json": {
       "model_id": "d470081524b04665b8641c58f2b653d9",
       "version_major": 2,
       "version_minor": 0
      },
      "text/plain": [
       "HBox(children=(HTML(value=''), FloatProgress(value=0.0, max=37534.0), HTML(value='')))"
      ]
     },
     "metadata": {},
     "output_type": "display_data"
    },
    {
     "name": "stdout",
     "output_type": "stream",
     "text": [
      "\n"
     ]
    }
   ],
   "source": [
    "# Separate reviews into sentences for annotation.\n",
    "# WARNING: THIS TAKES A LONG TIME (~8 minutes)\n",
    "sentence_list = []\n",
    "for review in tqdm(df['review_text']):\n",
    "    doc = nlp(review)\n",
    "    for sent in doc.sents:\n",
    "        sentence_list.append(sent.text)"
   ]
  },
  {
   "cell_type": "code",
   "execution_count": 10,
   "metadata": {},
   "outputs": [],
   "source": [
    "# Get sentence length (i.e. number of tokens per sentence)\n",
    "sentence_length = [len(sent) for sent in sentence_list]"
   ]
  },
  {
   "cell_type": "code",
   "execution_count": 11,
   "metadata": {},
   "outputs": [
    {
     "data": {
      "image/png": "[encoded data removed]",
      "text/plain": [
       "<Figure size 720x360 with 1 Axes>"
      ]
     },
     "metadata": {
      "needs_background": "light"
     },
     "output_type": "display_data"
    }
   ],
   "source": [
    "# Visualize\n",
    "sns.histplot(data=sentence_length)\n",
    "plt.ylabel('Count')\n",
    "plt.xlabel('Sentence Length (characters)')\n",
    "plt.show()"
   ]
  },
  {
   "cell_type": "code",
   "execution_count": 12,
   "metadata": {},
   "outputs": [],
   "source": [
    "# Create DataFrame of sentence\n",
    "sent_df = pd.DataFrame(sentence_length)"
   ]
  },
  {
   "cell_type": "code",
   "execution_count": 13,
   "metadata": {},
   "outputs": [
    {
     "data": {
      "text/html": [
       "<div>\n",
       "<style scoped>\n",
       "    .dataframe tbody tr th:only-of-type {\n",
       "        vertical-align: middle;\n",
       "    }\n",
       "\n",
       "    .dataframe tbody tr th {\n",
       "        vertical-align: top;\n",
       "    }\n",
       "\n",
       "    .dataframe thead th {\n",
       "        text-align: right;\n",
       "    }\n",
       "</style>\n",
       "<table border=\"1\" class=\"dataframe\">\n",
       "  <thead>\n",
       "    <tr style=\"text-align: right;\">\n",
       "      <th></th>\n",
       "      <th>0</th>\n",
       "    </tr>\n",
       "  </thead>\n",
       "  <tbody>\n",
       "    <tr>\n",
       "      <th>count</th>\n",
       "      <td>195586.000000</td>\n",
       "    </tr>\n",
       "    <tr>\n",
       "      <th>mean</th>\n",
       "      <td>71.549441</td>\n",
       "    </tr>\n",
       "    <tr>\n",
       "      <th>std</th>\n",
       "      <td>44.162881</td>\n",
       "    </tr>\n",
       "    <tr>\n",
       "      <th>min</th>\n",
       "      <td>1.000000</td>\n",
       "    </tr>\n",
       "    <tr>\n",
       "      <th>25%</th>\n",
       "      <td>40.000000</td>\n",
       "    </tr>\n",
       "    <tr>\n",
       "      <th>50%</th>\n",
       "      <td>64.000000</td>\n",
       "    </tr>\n",
       "    <tr>\n",
       "      <th>75%</th>\n",
       "      <td>94.000000</td>\n",
       "    </tr>\n",
       "    <tr>\n",
       "      <th>max</th>\n",
       "      <td>1087.000000</td>\n",
       "    </tr>\n",
       "  </tbody>\n",
       "</table>\n",
       "</div>"
      ],
      "text/plain": [
       "                   0\n",
       "count  195586.000000\n",
       "mean       71.549441\n",
       "std        44.162881\n",
       "min         1.000000\n",
       "25%        40.000000\n",
       "50%        64.000000\n",
       "75%        94.000000\n",
       "max      1087.000000"
      ]
     },
     "execution_count": 13,
     "metadata": {},
     "output_type": "execute_result"
    }
   ],
   "source": [
    "# Inspect\n",
    "sent_df.describe()"
   ]
  },
  {
   "cell_type": "code",
   "execution_count": 14,
   "metadata": {},
   "outputs": [],
   "source": [
    "def find_outliers(array):\n",
    "    \"\"\"\n",
    "    Returns a tuple of (lower, upper) cut-offs so you can do something like:\n",
    "    `sent_list_cleaned = [sent for sent in sent_list if len(sent) >= lower and len(sent) <= upper]`\n",
    "    \"\"\"\n",
    "    data = np.array(array)\n",
    "    # calculate interquartile range\n",
    "    q25, q75 = np.percentile(data, 25), np.percentile(data, 75)\n",
    "    iqr = q75 - q25\n",
    "    print(f'Percentiles: 25th={q25}, 75th={q75}, IQR={iqr}')\n",
    "    # calculate the outlier cutoff\n",
    "    cut_off = iqr * 1.5\n",
    "    lower, upper = q25, q75 + cut_off\n",
    "    print(f'Cut-offs: lower={lower}, upper={upper}')\n",
    "    # identify outliers\n",
    "    outliers = [x for x in data if x < lower or x > upper]\n",
    "    print(f'Identified outliers: {len(outliers)}')\n",
    "    # remove outliers\n",
    "    outliers_removed = [x for x in data if x >= lower and x <= upper]\n",
    "    print(f'Non-outlier observations: {len(outliers_removed)}')\n",
    "    \n",
    "    return lower, upper"
   ]
  },
  {
   "cell_type": "code",
   "execution_count": 15,
   "metadata": {},
   "outputs": [
    {
     "name": "stdout",
     "output_type": "stream",
     "text": [
      "Percentiles: 25th=40.0, 75th=94.0, IQR=54.0\n",
      "Cut-offs: lower=40.0, upper=175.0\n",
      "Identified outliers: 52760\n",
      "Non-outlier observations: 142826\n"
     ]
    }
   ],
   "source": [
    "lower, upper = find_outliers(sentence_length)"
   ]
  },
  {
   "cell_type": "code",
   "execution_count": 16,
   "metadata": {},
   "outputs": [],
   "source": [
    "# Create list of sentences of a non-outlier length\n",
    "sents_cleaned = [sent for sent in sentence_list if len(sent) >= lower and len(sent) <= upper]"
   ]
  },
  {
   "cell_type": "code",
   "execution_count": 21,
   "metadata": {},
   "outputs": [],
   "source": [
    "# Write random sentences to text file for import into Doccano\n",
    "sents_np = np.array(sents_cleaned)\n",
    "sizes = [100, 500, 1000, 5000]\n",
    "\n",
    "for size in sizes:\n",
    "    random_sents = np.random.choice(sents_np, size=size, replace=False)\n",
    "    with open(f'../data/processed/brewery-review-sentences-{size}.txt','w') as write:\n",
    "        write.write(\"\\n\".join(random_sents))"
   ]
  },
  {
   "cell_type": "markdown",
   "metadata": {},
   "source": [
    "## Full Review Text vs. Sentences\n",
    "\n",
    "After loading 500 sentences into Doccano and starting to annotate, I realized the context may be more helpful from a user experience perspective and useful for a model training persepctive."
   ]
  },
  {
   "cell_type": "code",
   "execution_count": 17,
   "metadata": {},
   "outputs": [
    {
     "data": {
      "image/png": "[encoded data removed]",
      "text/plain": [
       "<Figure size 720x360 with 1 Axes>"
      ]
     },
     "metadata": {
      "needs_background": "light"
     },
     "output_type": "display_data"
    }
   ],
   "source": [
    "sns.histplot(data=df, x='tokens')\n",
    "plt.xlabel('# Tokens (Words) in Review')\n",
    "plt.ylabel('Count')\n",
    "plt.show()"
   ]
  },
  {
   "cell_type": "code",
   "execution_count": 18,
   "metadata": {},
   "outputs": [
    {
     "name": "stdout",
     "output_type": "stream",
     "text": [
      "Percentiles: 25th=38.0, 75th=110.0, IQR=72.0\n",
      "Cut-offs: lower=38.0, upper=218.0\n",
      "Identified outliers: 10639\n",
      "Non-outlier observations: 26895\n"
     ]
    }
   ],
   "source": [
    "lower, upper = find_outliers(df['tokens'])"
   ]
  },
  {
   "cell_type": "code",
   "execution_count": 19,
   "metadata": {},
   "outputs": [
    {
     "data": {
      "text/plain": [
       "26895"
      ]
     },
     "execution_count": 19,
     "metadata": {},
     "output_type": "execute_result"
    }
   ],
   "source": [
    "df_cleaned = df[(df['tokens'] >= lower) & (df['tokens'] <= upper)]\n",
    "len(df_cleaned)"
   ]
  },
  {
   "cell_type": "code",
   "execution_count": 25,
   "metadata": {},
   "outputs": [],
   "source": [
    "# Write random sentences to text file for import into Doccano\n",
    "reviews_np = np.array(df_cleaned['review_text'])\n",
    "sizes = [100, 500, 1000, 5000]\n",
    "\n",
    "for size in sizes:\n",
    "    random_reviews = np.random.choice(reviews_np, size=size, replace=False)\n",
    "    with open(f'../data/processed/brewery-reviews-{size}.txt','w') as write:\n",
    "        write.write(\"\\n\".join(random_reviews))"
   ]
  },
  {
   "cell_type": "markdown",
   "metadata": {},
   "source": [
    "## Model Training v1"
   ]
  },
  {
   "cell_type": "code",
   "execution_count": 20,
   "metadata": {},
   "outputs": [
    {
     "name": "stdout",
     "output_type": "stream",
     "text": [
      "[INFO] Stored the spacy training data and filename is ../data/annotations/final-training-set/reviews-annotated-ner-200-p2.txt\n"
     ]
    }
   ],
   "source": [
    "# Load the TRAIN_DATA from the Doccano export\n",
    "filename = (\"../data/annotations/final-training-set/reviews-annotated-ner-200-p2.json\")\n",
    "TRAIN_DATA = []\n",
    "\n",
    "with open(filename) as file:\n",
    "    lines = file.readlines()\n",
    "    for train_data in lines:\n",
    "        data = json.loads(train_data)\n",
    "        if len(data['labels']) == 0 and data['annotation_approver'] == None: continue\n",
    "        ents = [tuple(entity[:3]) for entity in data['labels']]\n",
    "        TRAIN_DATA.append((data['text'],{'entities':ents}))\n",
    "\n",
    "with open('{}'.format(filename.replace('json','txt')),'w') as write:\n",
    "    write.write(str(TRAIN_DATA))\n",
    "\n",
    "print(\"[INFO] Stored the spacy training data and filename is {}\".format(filename.replace('json','txt')))"
   ]
  },
  {
   "cell_type": "code",
   "execution_count": 21,
   "metadata": {},
   "outputs": [
    {
     "name": "stdout",
     "output_type": "stream",
     "text": [
      "['BEER_STYLE', 'LOCATION', 'BREWERY', 'FEATURE']\n"
     ]
    }
   ],
   "source": [
    "# Load the LABELS from the Doccano export\n",
    "labels_filename = (\"../data/annotations/final-training-set/labels.json\")\n",
    "LABELS = []\n",
    "\n",
    "with open(labels_filename) as file:\n",
    "    labels = json.load(file)\n",
    "    LABELS = [label['text'] for label in labels]\n",
    "    \n",
    "print(LABELS)"
   ]
  },
  {
   "cell_type": "code",
   "execution_count": 22,
   "metadata": {},
   "outputs": [
    {
     "name": "stdout",
     "output_type": "stream",
     "text": [
      "Loading model 'en_core_web_md'\n",
      "Adding LABEL 'BEER_STYLE'\n",
      "Adding LABEL 'LOCATION'\n",
      "Adding LABEL 'BREWERY'\n",
      "Adding LABEL 'FEATURE'\n",
      "Saved base model to ../models/base_model\n"
     ]
    }
   ],
   "source": [
    "# Transfer Learning\n",
    "# With an existing model, add the labels and save as the `base_model`\n",
    "\n",
    "model = \"en_core_web_md\"\n",
    "nlp = spacy.load(model)\n",
    "print(f\"Loading model '{model}'\")\n",
    "\n",
    "# Get the NER component so we can add labels\n",
    "ner = nlp.get_pipe(\"ner\")\n",
    "\n",
    "# Add labels\n",
    "for label in LABELS:\n",
    "    print(f\"Adding LABEL '{label}'\")\n",
    "    ner.add_label(label)\n",
    "\n",
    "# Save the model to disk\n",
    "nlp.to_disk(BASE_MODEL_PATH)\n",
    "print(f\"Saved base model to {BASE_MODEL_PATH}\")"
   ]
  },
  {
   "cell_type": "code",
   "execution_count": 29,
   "metadata": {},
   "outputs": [
    {
     "data": {
      "application/vnd.jupyter.widget-view+json": {
       "model_id": "8f5405369cbf48a2b094f13414947f2f",
       "version_major": 2,
       "version_minor": 0
      },
      "text/plain": [
       "HBox(children=(HTML(value=''), FloatProgress(value=0.0), HTML(value='')))"
      ]
     },
     "metadata": {},
     "output_type": "display_data"
    },
    {
     "name": "stderr",
     "output_type": "stream",
     "text": [
      "/Users/chris/opt/anaconda3/envs/brewery-review-nlp/lib/python3.9/site-packages/spacy/language.py:482: UserWarning: [W030] Some entities could not be aligned in the text \"Atmosphere was industrial, but homey with a casual...\" with entities \"[(95, 102, 'FEATURE'), (15, 25, 'FEATURE'), (44, 5...\". Use `spacy.gold.biluo_tags_from_offsets(nlp.make_doc(text), entities)` to check the alignment. Misaligned entities (with BILUO tag '-') will be ignored during training.\n",
      "  gold = GoldParse(doc, **gold)\n",
      "/Users/chris/opt/anaconda3/envs/brewery-review-nlp/lib/python3.9/site-packages/spacy/language.py:482: UserWarning: [W030] Some entities could not be aligned in the text \"What a cool place! Very laid back, clean warehouse...\" with entities \"[(24, 33, 'FEATURE'), (51, 67, 'LOCATION'), (73, 8...\". Use `spacy.gold.biluo_tags_from_offsets(nlp.make_doc(text), entities)` to check the alignment. Misaligned entities (with BILUO tag '-') will be ignored during training.\n",
      "  gold = GoldParse(doc, **gold)\n",
      "/Users/chris/opt/anaconda3/envs/brewery-review-nlp/lib/python3.9/site-packages/spacy/language.py:482: UserWarning: [W030] Some entities could not be aligned in the text \"A new, relaxing chill little spot for sipping some...\" with entities \"[(2, 5, 'FEATURE'), (7, 15, 'FEATURE'), (16, 21, '...\". Use `spacy.gold.biluo_tags_from_offsets(nlp.make_doc(text), entities)` to check the alignment. Misaligned entities (with BILUO tag '-') will be ignored during training.\n",
      "  gold = GoldParse(doc, **gold)\n",
      "/Users/chris/opt/anaconda3/envs/brewery-review-nlp/lib/python3.9/site-packages/spacy/language.py:482: UserWarning: [W030] Some entities could not be aligned in the text \"Basically, this is a liquor warehouse. The guys st...\" with entities \"[(315, 324, 'FEATURE'), (420, 430, 'LOCATION'), (5...\". Use `spacy.gold.biluo_tags_from_offsets(nlp.make_doc(text), entities)` to check the alignment. Misaligned entities (with BILUO tag '-') will be ignored during training.\n",
      "  gold = GoldParse(doc, **gold)\n",
      "/Users/chris/opt/anaconda3/envs/brewery-review-nlp/lib/python3.9/site-packages/spacy/language.py:482: UserWarning: [W030] Some entities could not be aligned in the text \"Hip, wide open beer hall vibe. Cafeteria-style ord...\" with entities \"[(15, 24, 'FEATURE'), (0, 3, 'FEATURE'), (5, 14, '...\". Use `spacy.gold.biluo_tags_from_offsets(nlp.make_doc(text), entities)` to check the alignment. Misaligned entities (with BILUO tag '-') will be ignored during training.\n",
      "  gold = GoldParse(doc, **gold)\n"
     ]
    },
    {
     "name": "stdout",
     "output_type": "stream",
     "text": [
      "\n"
     ]
    }
   ],
   "source": [
    "# Train the model\n",
    "\n",
    "# Load base_model\n",
    "nlp = spacy.load(BASE_MODEL_PATH)\n",
    "\n",
    "# Number of iterations\n",
    "n_iter=100\n",
    "\n",
    "# Drop to prevent over-fitting\n",
    "drop = decaying(0.6, 0.2, 1e-4)\n",
    "\n",
    "# Resume training since we're using a base model\n",
    "optimizer = nlp.resume_training()\n",
    "\n",
    "# Minibatch sizes\n",
    "sizes = compounding(1.0, 4.0, 1.001)\n",
    "\n",
    "loss = []\n",
    "\n",
    "pipe_exceptions = [\"ner\", \"trf_wordpiecer\", \"trf_tok2vec\"]\n",
    "other_pipes = [pipe for pipe in nlp.pipe_names if pipe not in pipe_exceptions]\n",
    "# only train NER\n",
    "with nlp.disable_pipes(*other_pipes), warnings.catch_warnings():\n",
    "    # show warnings for misaligned entity spans once\n",
    "    warnings.filterwarnings(\"once\", category=UserWarning, module='spacy')\n",
    "\n",
    "    # batch up the examples using spaCy's minibatch\n",
    "    # NOTE: These are defaults from https://spacy.io/usage/training#ner\n",
    "    with trange(n_iter) as pbar:\n",
    "        for _ in pbar:\n",
    "            # Randomize the training data\n",
    "            random.shuffle(TRAIN_DATA)\n",
    "\n",
    "            # Create batches\n",
    "            batches = minibatch(TRAIN_DATA, size=sizes)\n",
    "\n",
    "            # Train and update\n",
    "            losses = {}\n",
    "            for batch in batches:\n",
    "                texts, annotations = zip(*batch)\n",
    "                nlp.update(texts, annotations, sgd=optimizer, drop=next(drop), losses=losses)\n",
    "\n",
    "            # Logging\n",
    "            loss.append(losses['ner'])\n",
    "            pbar.set_postfix(loss=losses['ner'])"
   ]
  },
  {
   "cell_type": "code",
   "execution_count": 30,
   "metadata": {},
   "outputs": [
    {
     "data": {
      "image/png": "[encoded data removed]",
      "text/plain": [
       "<Figure size 720x360 with 1 Axes>"
      ]
     },
     "metadata": {
      "needs_background": "light"
     },
     "output_type": "display_data"
    }
   ],
   "source": [
    "plt.plot(range(n_iter), loss)\n",
    "plt.xlabel('Epochs')\n",
    "plt.ylabel('Loss')\n",
    "plt.show()"
   ]
  },
  {
   "cell_type": "code",
   "execution_count": 34,
   "metadata": {},
   "outputs": [],
   "source": [
    "# Save Model\n",
    "nlp.to_disk(\"../models/v5/model-final/\")"
   ]
  },
  {
   "cell_type": "markdown",
   "metadata": {},
   "source": [
    "## Model Training v2\n",
    "\n",
    "1. Load in annotations from Doccano\n",
    "2. Randomize and split into train and test sets\n",
    "3. Use spacy CLI to train and save model\n",
    "\n",
    "### Reference\n",
    "\n",
    "* https://medium.com/@justindavies/training-spacy-ner-models-with-doccano-8d8203e29bfa"
   ]
  },
  {
   "cell_type": "code",
   "execution_count": 81,
   "metadata": {},
   "outputs": [
    {
     "name": "stdout",
     "output_type": "stream",
     "text": [
      "Number of examples: 200\n"
     ]
    }
   ],
   "source": [
    "# Load the annotations from the Doccano export\n",
    "\n",
    "filename = (\"../data/annotations/final-training-set/reviews-annotated-ner-200-p2.json\")\n",
    "\n",
    "# Array of tuples [(TEXT, {'entities': ENTITIES[]})]\n",
    "DATA = []\n",
    "\n",
    "with open(filename) as file:\n",
    "    lines = file.readlines()\n",
    "    for annot_data in lines:\n",
    "        data = json.loads(annot_data)\n",
    "        \n",
    "        # Ignore annotations without labels and no approval\n",
    "        if len(data['labels']) == 0 and data['annotation_approver'] == None: continue\n",
    "\n",
    "        # Create entities and append\n",
    "        ents = [tuple(entity[:3]) for entity in data['labels']]\n",
    "        DATA.append((data['text'], {'entities': ents}))\n",
    "\n",
    "print(f\"Number of examples: {len(DATA)}\")"
   ]
  },
  {
   "cell_type": "code",
   "execution_count": 82,
   "metadata": {},
   "outputs": [],
   "source": [
    "# Convert Doccano JSONL to spaCy-compatible JSONL\n",
    "with open(filename) as file:\n",
    "    lines = file.readlines()\n",
    "    \n",
    "    for line in lines:\n",
    "        line = json.loads(line)\n",
    "        \n",
    "        # Ignore annotations without labels and no approval\n",
    "        if len(line['labels']) == 0 and line['annotation_approver'] == None: continue\n",
    "        \n",
    "        # Rename \"labels\" to \"entities\"\n",
    "        if \"labels\" in line:\n",
    "            line[\"entities\"] = line.pop(\"labels\")\n",
    "        else:\n",
    "            line[\"entities\"] = []\n",
    "\n",
    "        # Reorganize the entities\n",
    "        tmp_ents = []\n",
    "        for entity in line[\"entities\"]:\n",
    "            if entity[2] in LABELS:\n",
    "                tmp_ents.append({\"start\": entity[0], \"end\": entity[1], \"label\": entity[2]})\n",
    "            line[\"entities\"] = tmp_ents\n",
    "        \n",
    "        with open(filename.replace('.json','-spacy.jsonl'), 'a+') as write:\n",
    "            write.write(json.dumps({\"entities\": line[\"entities\"], \"text\": line[\"text\"]}))\n",
    "            write.write(\"\\n\")"
   ]
  },
  {
   "cell_type": "code",
   "execution_count": 23,
   "metadata": {},
   "outputs": [
    {
     "name": "stdout",
     "output_type": "stream",
     "text": [
      "train: 180\n",
      "test: 20\n"
     ]
    }
   ],
   "source": [
    "# Randomize and split into train and test\n",
    "spacy_filename = filename.replace('.json','-spacy.jsonl')\n",
    "train_set_ratio = 0.9\n",
    "\n",
    "with open(spacy_filename) as file:\n",
    "    DATA = file.readlines()\n",
    "\n",
    "random.shuffle(DATA)\n",
    "n = math.floor(train_set_ratio * len(DATA))\n",
    "train_data = DATA[:n]\n",
    "test_data = DATA[n:]\n",
    "\n",
    "print(f\"train: {len(train_data)}\")\n",
    "print(f\"test: {len(test_data)}\")"
   ]
  },
  {
   "cell_type": "code",
   "execution_count": 24,
   "metadata": {},
   "outputs": [
    {
     "name": "stdout",
     "output_type": "stream",
     "text": [
      "[INFO] Stored the spacy training data at ../data/annotations/final-training-set/reviews-annotated-ner-200-p2-spacy-train.jsonl\n",
      "[INFO] Stored the spacy dev data at ../data/annotations/final-training-set/reviews-annotated-ner-200-p2-spacy-test.jsonl\n"
     ]
    }
   ],
   "source": [
    "train_filename = spacy_filename.replace('.jsonl',f'-train-{len(train_data)}.jsonl')\n",
    "test_filename = spacy_filename.replace('.jsonl',f'-dev-{len(test_data)}.jsonl')\n",
    "\n",
    "with open(train_filename, 'w') as write:\n",
    "    write.write(\"\".join(train_data))\n",
    "\n",
    "print(\"[INFO] Stored the spacy training data at {}\".format(train_filename))\n",
    "\n",
    "with open(test_filename, 'w') as write:\n",
    "    write.write(\"\".join(test_data))\n",
    "\n",
    "print(\"[INFO] Stored the spacy dev data at {}\".format(test_filename))"
   ]
  },
  {
   "cell_type": "code",
   "execution_count": 36,
   "metadata": {},
   "outputs": [],
   "source": [
    "# Convert JSONL to spaCy JSON\n",
    "# python -m spacy convert ./data/annotations/final-training-set/reviews-annotated-ner-200-p2-spacy-train.jsonl ./data/annotations/final-training-set/ --lang en\n",
    "# python -m spacy convert ./data/annotations/final-training-set/reviews-annotated-ner-200-p2-spacy-test.jsonl ./data/annotations/final-training-set/ --lang en\n",
    "\n",
    "# Test / Debug Data\n",
    "# python -m spacy debug-data en ./data/annotations/final-training-set/reviews-annotated-ner-200-p2-spacy-train.json ./data/annotations/final-training-set/reviews-annotated-ner-200-p2-spacy-test.json --base-model ./models/base_model --pipeline ner\n",
    "\n",
    "# Train model\n",
    "# python -m spacy train en ./models/v4/ ./data/annotations/final-training-set/reviews-annotated-ner-200-p2-spacy-train.json ./data/annotations/final-training-set/reviews-annotated-ner-200-p2-spacy-test.json -b ./models/base_model -p ner\n",
    "\n",
    "# Evaluate model\n",
    "# python -m spacy evaluate ./models/v4/model-final ./data/annotations/final-training-set/reviews-annotated-ner-200-p2-spacy-test.json --displacy-path reports/evaluations/v4"
   ]
  },
  {
   "cell_type": "markdown",
   "metadata": {},
   "source": [
    "## Evaluate Model (manually)"
   ]
  },
  {
   "cell_type": "code",
   "execution_count": 42,
   "metadata": {},
   "outputs": [],
   "source": [
    "# Load saved model\n",
    "nlp = nlp.from_disk(\"../models/v5/model-final\")"
   ]
  },
  {
   "cell_type": "code",
   "execution_count": 43,
   "metadata": {},
   "outputs": [],
   "source": [
    "# Set up colors and options for displaCy\n",
    "colors = {\"FEATURE\": \"#80CBC4\", \"BEER_STYLE\": \"#FDD835\", \"LOCATION\": \"#C5CAE9\", \"BREWERY\": \"#AED581\"}\n",
    "options = {\"colors\": colors} "
   ]
  },
  {
   "cell_type": "code",
   "execution_count": 44,
   "metadata": {},
   "outputs": [
    {
     "data": {
      "text/html": [
       "<span class=\"tex2jax_ignore\"><div class=\"entities\" style=\"line-height: 2.5; direction: ltr\">Nice \n",
       "<mark class=\"entity\" style=\"background: #80CBC4; padding: 0.45em 0.6em; margin: 0 0.25em; line-height: 1; border-radius: 0.35em;\">\n",
       "    old fashion building\n",
       "    <span style=\"font-size: 0.8em; font-weight: bold; line-height: 1; border-radius: 0.35em; text-transform: uppercase; vertical-align: middle; margin-left: 0.5rem\">FEATURE</span>\n",
       "</mark>\n",
       ". I love the door knobs for beer taps. The beer \n",
       "<mark class=\"entity\" style=\"background: #80CBC4; padding: 0.45em 0.6em; margin: 0 0.25em; line-height: 1; border-radius: 0.35em;\">\n",
       "    selection\n",
       "    <span style=\"font-size: 0.8em; font-weight: bold; line-height: 1; border-radius: 0.35em; text-transform: uppercase; vertical-align: middle; margin-left: 0.5rem\">FEATURE</span>\n",
       "</mark>\n",
       " offers over ten taps. The bar was rented for the night for an association I belong to. There were a couple of hot banquet offerings. They were slightly different and pretty good flavor. The service was good for the event.</br></div></span>"
      ],
      "text/plain": [
       "<IPython.core.display.HTML object>"
      ]
     },
     "metadata": {},
     "output_type": "display_data"
    },
    {
     "data": {
      "text/html": [
       "<span class=\"tex2jax_ignore\"><div class=\"entities\" style=\"line-height: 2.5; direction: ltr\">This place feels more like a bar than a restaurant, but they do pour their own and other it in flights. Located blocks from \n",
       "<mark class=\"entity\" style=\"background: #AED581; padding: 0.45em 0.6em; margin: 0 0.25em; line-height: 1; border-radius: 0.35em;\">\n",
       "    Petco Park\n",
       "    <span style=\"font-size: 0.8em; font-weight: bold; line-height: 1; border-radius: 0.35em; text-transform: uppercase; vertical-align: middle; margin-left: 0.5rem\">BREWERY</span>\n",
       "</mark>\n",
       " with an \n",
       "<mark class=\"entity\" style=\"background: #80CBC4; padding: 0.45em 0.6em; margin: 0 0.25em; line-height: 1; border-radius: 0.35em;\">\n",
       "    inviting\n",
       "    <span style=\"font-size: 0.8em; font-weight: bold; line-height: 1; border-radius: 0.35em; text-transform: uppercase; vertical-align: middle; margin-left: 0.5rem\">FEATURE</span>\n",
       "</mark>\n",
       " porch, it definitely caters to Padres fans and out-of-towners in for a visit. I can't say I loved the beers I had there, but the bartender was \n",
       "<mark class=\"entity\" style=\"background: #80CBC4; padding: 0.45em 0.6em; margin: 0 0.25em; line-height: 1; border-radius: 0.35em;\">\n",
       "    helpful\n",
       "    <span style=\"font-size: 0.8em; font-weight: bold; line-height: 1; border-radius: 0.35em; text-transform: uppercase; vertical-align: middle; margin-left: 0.5rem\">FEATURE</span>\n",
       "</mark>\n",
       " an courteous and \n",
       "<mark class=\"entity\" style=\"background: #AED581; padding: 0.45em 0.6em; margin: 0 0.25em; line-height: 1; border-radius: 0.35em;\">\n",
       "    Half Door\n",
       "    <span style=\"font-size: 0.8em; font-weight: bold; line-height: 1; border-radius: 0.35em; text-transform: uppercase; vertical-align: middle; margin-left: 0.5rem\">BREWERY</span>\n",
       "</mark>\n",
       " was a more than \n",
       "<mark class=\"entity\" style=\"background: #80CBC4; padding: 0.45em 0.6em; margin: 0 0.25em; line-height: 1; border-radius: 0.35em;\">\n",
       "    inviting\n",
       "    <span style=\"font-size: 0.8em; font-weight: bold; line-height: 1; border-radius: 0.35em; text-transform: uppercase; vertical-align: middle; margin-left: 0.5rem\">FEATURE</span>\n",
       "</mark>\n",
       " place to kill a happy hour.</br></div></span>"
      ],
      "text/plain": [
       "<IPython.core.display.HTML object>"
      ]
     },
     "metadata": {},
     "output_type": "display_data"
    },
    {
     "data": {
      "text/html": [
       "<span class=\"tex2jax_ignore\"><div class=\"entities\" style=\"line-height: 2.5; direction: ltr\">\n",
       "<mark class=\"entity\" style=\"background: #80CBC4; padding: 0.45em 0.6em; margin: 0 0.25em; line-height: 1; border-radius: 0.35em;\">\n",
       "    Old\n",
       "    <span style=\"font-size: 0.8em; font-weight: bold; line-height: 1; border-radius: 0.35em; text-transform: uppercase; vertical-align: middle; margin-left: 0.5rem\">FEATURE</span>\n",
       "</mark>\n",
       " converted \n",
       "<mark class=\"entity\" style=\"background: #80CBC4; padding: 0.45em 0.6em; margin: 0 0.25em; line-height: 1; border-radius: 0.35em;\">\n",
       "    house\n",
       "    <span style=\"font-size: 0.8em; font-weight: bold; line-height: 1; border-radius: 0.35em; text-transform: uppercase; vertical-align: middle; margin-left: 0.5rem\">FEATURE</span>\n",
       "</mark>\n",
       " \n",
       "<mark class=\"entity\" style=\"background: #C5CAE9; padding: 0.45em 0.6em; margin: 0 0.25em; line-height: 1; border-radius: 0.35em;\">\n",
       "    in downtown\n",
       "    <span style=\"font-size: 0.8em; font-weight: bold; line-height: 1; border-radius: 0.35em; text-transform: uppercase; vertical-align: middle; margin-left: 0.5rem\">LOCATION</span>\n",
       "</mark>\n",
       " with porch/ \n",
       "<mark class=\"entity\" style=\"background: #80CBC4; padding: 0.45em 0.6em; margin: 0 0.25em; line-height: 1; border-radius: 0.35em;\">\n",
       "    patio\n",
       "    <span style=\"font-size: 0.8em; font-weight: bold; line-height: 1; border-radius: 0.35em; text-transform: uppercase; vertical-align: middle; margin-left: 0.5rem\">FEATURE</span>\n",
       "</mark>\n",
       " seating. L-shaped bar seats about 15... additional seat around. \n",
       "<mark class=\"entity\" style=\"background: #80CBC4; padding: 0.45em 0.6em; margin: 0 0.25em; line-height: 1; border-radius: 0.35em;\">\n",
       "    16 beers on tap\n",
       "    <span style=\"font-size: 0.8em; font-weight: bold; line-height: 1; border-radius: 0.35em; text-transform: uppercase; vertical-align: middle; margin-left: 0.5rem\">FEATURE</span>\n",
       "</mark>\n",
       ", half theirs, half local guests... nice mix. \n",
       "<mark class=\"entity\" style=\"background: #80CBC4; padding: 0.45em 0.6em; margin: 0 0.25em; line-height: 1; border-radius: 0.35em;\">\n",
       "    Friendly\n",
       "    <span style=\"font-size: 0.8em; font-weight: bold; line-height: 1; border-radius: 0.35em; text-transform: uppercase; vertical-align: middle; margin-left: 0.5rem\">FEATURE</span>\n",
       "</mark>\n",
       " local vibe. Good service. Very tasty food.</br></div></span>"
      ],
      "text/plain": [
       "<IPython.core.display.HTML object>"
      ]
     },
     "metadata": {},
     "output_type": "display_data"
    },
    {
     "data": {
      "text/html": [
       "<span class=\"tex2jax_ignore\"><div class=\"entities\" style=\"line-height: 2.5; direction: ltr\">Nice chill place, staff was really nice and \n",
       "<mark class=\"entity\" style=\"background: #80CBC4; padding: 0.45em 0.6em; margin: 0 0.25em; line-height: 1; border-radius: 0.35em;\">\n",
       "    helpful\n",
       "    <span style=\"font-size: 0.8em; font-weight: bold; line-height: 1; border-radius: 0.35em; text-transform: uppercase; vertical-align: middle; margin-left: 0.5rem\">FEATURE</span>\n",
       "</mark>\n",
       " offered samples of their house stuff which was really good, The house \n",
       "<mark class=\"entity\" style=\"background: #FDD835; padding: 0.45em 0.6em; margin: 0 0.25em; line-height: 1; border-radius: 0.35em;\">\n",
       "    IPA\n",
       "    <span style=\"font-size: 0.8em; font-weight: bold; line-height: 1; border-radius: 0.35em; text-transform: uppercase; vertical-align: middle; margin-left: 0.5rem\">BEER_STYLE</span>\n",
       "</mark>\n",
       " was nice. Had a old hotel bar saloon feel. will revisit for sure.</br></div></span>"
      ],
      "text/plain": [
       "<IPython.core.display.HTML object>"
      ]
     },
     "metadata": {},
     "output_type": "display_data"
    },
    {
     "data": {
      "text/html": [
       "<span class=\"tex2jax_ignore\"><div class=\"entities\" style=\"line-height: 2.5; direction: ltr\">Stopped by here last Monday night to try some beers. Very \n",
       "<mark class=\"entity\" style=\"background: #80CBC4; padding: 0.45em 0.6em; margin: 0 0.25em; line-height: 1; border-radius: 0.35em;\">\n",
       "    laid back\n",
       "    <span style=\"font-size: 0.8em; font-weight: bold; line-height: 1; border-radius: 0.35em; text-transform: uppercase; vertical-align: middle; margin-left: 0.5rem\">FEATURE</span>\n",
       "</mark>\n",
       " place with upper and lower porches and bar, table and coach seating. Bar tender was very nice and offered samples right away. You can do a flight of 3-6 beers and they had everything from a wide range of styles. Everything I had was very good and most were pretty true to style. The food looked good, but as we had already eaten we did not get a chance to try it.</br></div></span>"
      ],
      "text/plain": [
       "<IPython.core.display.HTML object>"
      ]
     },
     "metadata": {},
     "output_type": "display_data"
    },
    {
     "data": {
      "text/html": [
       "<span class=\"tex2jax_ignore\"><div class=\"entities\" style=\"line-height: 2.5; direction: ltr\">Tucked away in an \n",
       "<mark class=\"entity\" style=\"background: #80CBC4; padding: 0.45em 0.6em; margin: 0 0.25em; line-height: 1; border-radius: 0.35em;\">\n",
       "    old house\n",
       "    <span style=\"font-size: 0.8em; font-weight: bold; line-height: 1; border-radius: 0.35em; text-transform: uppercase; vertical-align: middle; margin-left: 0.5rem\">FEATURE</span>\n",
       "</mark>\n",
       " near Petco. Loved the food, the beer was average at best. Their NE \n",
       "<mark class=\"entity\" style=\"background: #FDD835; padding: 0.45em 0.6em; margin: 0 0.25em; line-height: 1; border-radius: 0.35em;\">\n",
       "    IPA\n",
       "    <span style=\"font-size: 0.8em; font-weight: bold; line-height: 1; border-radius: 0.35em; text-transform: uppercase; vertical-align: middle; margin-left: 0.5rem\">BEER_STYLE</span>\n",
       "</mark>\n",
       " wasn't very good, but their dark beers were worth the pour. I might go back, it's not a bad choice but \n",
       "<mark class=\"entity\" style=\"background: #C5CAE9; padding: 0.45em 0.6em; margin: 0 0.25em; line-height: 1; border-radius: 0.35em;\">\n",
       "    in San Diego\n",
       "    <span style=\"font-size: 0.8em; font-weight: bold; line-height: 1; border-radius: 0.35em; text-transform: uppercase; vertical-align: middle; margin-left: 0.5rem\">LOCATION</span>\n",
       "</mark>\n",
       " there's a lot of better places.</br></div></span>"
      ],
      "text/plain": [
       "<IPython.core.display.HTML object>"
      ]
     },
     "metadata": {},
     "output_type": "display_data"
    },
    {
     "data": {
      "text/html": [
       "<span class=\"tex2jax_ignore\"><div class=\"entities\" style=\"line-height: 2.5; direction: ltr\">What a \n",
       "<mark class=\"entity\" style=\"background: #80CBC4; padding: 0.45em 0.6em; margin: 0 0.25em; line-height: 1; border-radius: 0.35em;\">\n",
       "    fantastic discovery\n",
       "    <span style=\"font-size: 0.8em; font-weight: bold; line-height: 1; border-radius: 0.35em; text-transform: uppercase; vertical-align: middle; margin-left: 0.5rem\">FEATURE</span>\n",
       "</mark>\n",
       " on our first day \n",
       "<mark class=\"entity\" style=\"background: #C5CAE9; padding: 0.45em 0.6em; margin: 0 0.25em; line-height: 1; border-radius: 0.35em;\">\n",
       "    in San Diego\n",
       "    <span style=\"font-size: 0.8em; font-weight: bold; line-height: 1; border-radius: 0.35em; text-transform: uppercase; vertical-align: middle; margin-left: 0.5rem\">LOCATION</span>\n",
       "</mark>\n",
       ". \n",
       "<mark class=\"entity\" style=\"background: #80CBC4; padding: 0.45em 0.6em; margin: 0 0.25em; line-height: 1; border-radius: 0.35em;\">\n",
       "    Knowledgeable\n",
       "    <span style=\"font-size: 0.8em; font-weight: bold; line-height: 1; border-radius: 0.35em; text-transform: uppercase; vertical-align: middle; margin-left: 0.5rem\">FEATURE</span>\n",
       "</mark>\n",
       " staff with put being snobby. \n",
       "<mark class=\"entity\" style=\"background: #80CBC4; padding: 0.45em 0.6em; margin: 0 0.25em; line-height: 1; border-radius: 0.35em;\">\n",
       "    Wonderful\n",
       "    <span style=\"font-size: 0.8em; font-weight: bold; line-height: 1; border-radius: 0.35em; text-transform: uppercase; vertical-align: middle; margin-left: 0.5rem\">FEATURE</span>\n",
       "</mark>\n",
       " setting in a \n",
       "<mark class=\"entity\" style=\"background: #80CBC4; padding: 0.45em 0.6em; margin: 0 0.25em; line-height: 1; border-radius: 0.35em;\">\n",
       "    old Victorian house\n",
       "    <span style=\"font-size: 0.8em; font-weight: bold; line-height: 1; border-radius: 0.35em; text-transform: uppercase; vertical-align: middle; margin-left: 0.5rem\">FEATURE</span>\n",
       "</mark>\n",
       ". Many of the beers were unfiltered yummy ness. \n",
       "<mark class=\"entity\" style=\"background: #80CBC4; padding: 0.45em 0.6em; margin: 0 0.25em; line-height: 1; border-radius: 0.35em;\">\n",
       "    Good selection\n",
       "    <span style=\"font-size: 0.8em; font-weight: bold; line-height: 1; border-radius: 0.35em; text-transform: uppercase; vertical-align: middle; margin-left: 0.5rem\">FEATURE</span>\n",
       "</mark>\n",
       " of local \n",
       "<mark class=\"entity\" style=\"background: #FDD835; padding: 0.45em 0.6em; margin: 0 0.25em; line-height: 1; border-radius: 0.35em;\">\n",
       "    Honda\n",
       "    <span style=\"font-size: 0.8em; font-weight: bold; line-height: 1; border-radius: 0.35em; text-transform: uppercase; vertical-align: middle; margin-left: 0.5rem\">BEER_STYLE</span>\n",
       "</mark>\n",
       " too.</br></div></span>"
      ],
      "text/plain": [
       "<IPython.core.display.HTML object>"
      ]
     },
     "metadata": {},
     "output_type": "display_data"
    },
    {
     "data": {
      "text/html": [
       "<span class=\"tex2jax_ignore\"><div class=\"entities\" style=\"line-height: 2.5; direction: ltr\">I'll start off by saying I really enjoyed my visit here. It's located in a former \n",
       "<mark class=\"entity\" style=\"background: #80CBC4; padding: 0.45em 0.6em; margin: 0 0.25em; line-height: 1; border-radius: 0.35em;\">\n",
       "    two story house\n",
       "    <span style=\"font-size: 0.8em; font-weight: bold; line-height: 1; border-radius: 0.35em; text-transform: uppercase; vertical-align: middle; margin-left: 0.5rem\">FEATURE</span>\n",
       "</mark>\n",
       " \n",
       "<mark class=\"entity\" style=\"background: #C5CAE9; padding: 0.45em 0.6em; margin: 0 0.25em; line-height: 1; border-radius: 0.35em;\">\n",
       "    near Gaslamp District\n",
       "    <span style=\"font-size: 0.8em; font-weight: bold; line-height: 1; border-radius: 0.35em; text-transform: uppercase; vertical-align: middle; margin-left: 0.5rem\">LOCATION</span>\n",
       "</mark>\n",
       " and \n",
       "<mark class=\"entity\" style=\"background: #C5CAE9; padding: 0.45em 0.6em; margin: 0 0.25em; line-height: 1; border-radius: 0.35em;\">\n",
       "    Petco Park\n",
       "    <span style=\"font-size: 0.8em; font-weight: bold; line-height: 1; border-radius: 0.35em; text-transform: uppercase; vertical-align: middle; margin-left: 0.5rem\">LOCATION</span>\n",
       "</mark>\n",
       ". They have \n",
       "<mark class=\"entity\" style=\"background: #80CBC4; padding: 0.45em 0.6em; margin: 0 0.25em; line-height: 1; border-radius: 0.35em;\">\n",
       "    patio\n",
       "    <span style=\"font-size: 0.8em; font-weight: bold; line-height: 1; border-radius: 0.35em; text-transform: uppercase; vertical-align: middle; margin-left: 0.5rem\">FEATURE</span>\n",
       "</mark>\n",
       " seating outside with a bar area inside and tables on two levels. The atmosphere here is unique. It has a nice \n",
       "<mark class=\"entity\" style=\"background: #80CBC4; padding: 0.45em 0.6em; margin: 0 0.25em; line-height: 1; border-radius: 0.35em;\">\n",
       "    inviting\n",
       "    <span style=\"font-size: 0.8em; font-weight: bold; line-height: 1; border-radius: 0.35em; text-transform: uppercase; vertical-align: middle; margin-left: 0.5rem\">FEATURE</span>\n",
       "</mark>\n",
       " feel. For me, it's somewhat similar to the same vibe I get when visiting \n",
       "<mark class=\"entity\" style=\"background: #AED581; padding: 0.45em 0.6em; margin: 0 0.25em; line-height: 1; border-radius: 0.35em;\">\n",
       "    Queenstown Public House\n",
       "    <span style=\"font-size: 0.8em; font-weight: bold; line-height: 1; border-radius: 0.35em; text-transform: uppercase; vertical-align: middle; margin-left: 0.5rem\">BREWERY</span>\n",
       "</mark>\n",
       " near Little Italy.</br></div></span>"
      ],
      "text/plain": [
       "<IPython.core.display.HTML object>"
      ]
     },
     "metadata": {},
     "output_type": "display_data"
    },
    {
     "data": {
      "text/html": [
       "<span class=\"tex2jax_ignore\"><div class=\"entities\" style=\"line-height: 2.5; direction: ltr\">The \n",
       "<mark class=\"entity\" style=\"background: #FDD835; padding: 0.45em 0.6em; margin: 0 0.25em; line-height: 1; border-radius: 0.35em;\">\n",
       "    house beers\n",
       "    <span style=\"font-size: 0.8em; font-weight: bold; line-height: 1; border-radius: 0.35em; text-transform: uppercase; vertical-align: middle; margin-left: 0.5rem\">BEER_STYLE</span>\n",
       "</mark>\n",
       " were solid. I had \n",
       "<mark class=\"entity\" style=\"background: #FDD835; padding: 0.45em 0.6em; margin: 0 0.25em; line-height: 1; border-radius: 0.35em;\">\n",
       "    Imperial Stout\n",
       "    <span style=\"font-size: 0.8em; font-weight: bold; line-height: 1; border-radius: 0.35em; text-transform: uppercase; vertical-align: middle; margin-left: 0.5rem\">BEER_STYLE</span>\n",
       "</mark>\n",
       ", \n",
       "<mark class=\"entity\" style=\"background: #FDD835; padding: 0.45em 0.6em; margin: 0 0.25em; line-height: 1; border-radius: 0.35em;\">\n",
       "    IPA\n",
       "    <span style=\"font-size: 0.8em; font-weight: bold; line-height: 1; border-radius: 0.35em; text-transform: uppercase; vertical-align: middle; margin-left: 0.5rem\">BEER_STYLE</span>\n",
       "</mark>\n",
       ", and a \n",
       "<mark class=\"entity\" style=\"background: #FDD835; padding: 0.45em 0.6em; margin: 0 0.25em; line-height: 1; border-radius: 0.35em;\">\n",
       "    Berliner Weissbier\n",
       "    <span style=\"font-size: 0.8em; font-weight: bold; line-height: 1; border-radius: 0.35em; text-transform: uppercase; vertical-align: middle; margin-left: 0.5rem\">BEER_STYLE</span>\n",
       "</mark>\n",
       ". They also had several \n",
       "<mark class=\"entity\" style=\"background: #80CBC4; padding: 0.45em 0.6em; margin: 0 0.25em; line-height: 1; border-radius: 0.35em;\">\n",
       "    guest beers on tap\n",
       "    <span style=\"font-size: 0.8em; font-weight: bold; line-height: 1; border-radius: 0.35em; text-transform: uppercase; vertical-align: middle; margin-left: 0.5rem\">FEATURE</span>\n",
       "</mark>\n",
       ". Beer and cocktail menu in a leather portfolio. Very nice. I had their meat pie with braised short rib. Delicious! This is a nice little place. I'll be back for sure.</br></div></span>"
      ],
      "text/plain": [
       "<IPython.core.display.HTML object>"
      ]
     },
     "metadata": {},
     "output_type": "display_data"
    },
    {
     "data": {
      "text/html": [
       "<span class=\"tex2jax_ignore\"><div class=\"entities\" style=\"line-height: 2.5; direction: ltr\">During my \n",
       "<mark class=\"entity\" style=\"background: #C5CAE9; padding: 0.45em 0.6em; margin: 0 0.25em; line-height: 1; border-radius: 0.35em;\">\n",
       "    San Diego\n",
       "    <span style=\"font-size: 0.8em; font-weight: bold; line-height: 1; border-radius: 0.35em; text-transform: uppercase; vertical-align: middle; margin-left: 0.5rem\">LOCATION</span>\n",
       "</mark>\n",
       " visit, I hit this place up two times. Located in a house with a nice sized porch that has plenty of seats. The bar is just inside and it is full of old wood and is dark, and gives you a cool pub feel. Definitely a younger crowd here too. There were about \n",
       "<mark class=\"entity\" style=\"background: #80CBC4; padding: 0.45em 0.6em; margin: 0 0.25em; line-height: 1; border-radius: 0.35em;\">\n",
       "    10-12 brews on tap\n",
       "    <span style=\"font-size: 0.8em; font-weight: bold; line-height: 1; border-radius: 0.35em; text-transform: uppercase; vertical-align: middle; margin-left: 0.5rem\">FEATURE</span>\n",
       "</mark>\n",
       ", and they covered many styles including some \n",
       "<mark class=\"entity\" style=\"background: #FDD835; padding: 0.45em 0.6em; margin: 0 0.25em; line-height: 1; border-radius: 0.35em;\">\n",
       "    sours\n",
       "    <span style=\"font-size: 0.8em; font-weight: bold; line-height: 1; border-radius: 0.35em; text-transform: uppercase; vertical-align: middle; margin-left: 0.5rem\">BEER_STYLE</span>\n",
       "</mark>\n",
       ". The \n",
       "<mark class=\"entity\" style=\"background: #FDD835; padding: 0.45em 0.6em; margin: 0 0.25em; line-height: 1; border-radius: 0.35em;\">\n",
       "    Double IPA\n",
       "    <span style=\"font-size: 0.8em; font-weight: bold; line-height: 1; border-radius: 0.35em; text-transform: uppercase; vertical-align: middle; margin-left: 0.5rem\">BEER_STYLE</span>\n",
       "</mark>\n",
       " and high hopped pale \n",
       "<mark class=\"entity\" style=\"background: #FDD835; padding: 0.45em 0.6em; margin: 0 0.25em; line-height: 1; border-radius: 0.35em;\">\n",
       "    ales\n",
       "    <span style=\"font-size: 0.8em; font-weight: bold; line-height: 1; border-radius: 0.35em; text-transform: uppercase; vertical-align: middle; margin-left: 0.5rem\">BEER_STYLE</span>\n",
       "</mark>\n",
       " were very good. Prices are reasonable and service was good. This is a must stop for anyone visiting the \n",
       "<mark class=\"entity\" style=\"background: #C5CAE9; padding: 0.45em 0.6em; margin: 0 0.25em; line-height: 1; border-radius: 0.35em;\">\n",
       "    downtown area\n",
       "    <span style=\"font-size: 0.8em; font-weight: bold; line-height: 1; border-radius: 0.35em; text-transform: uppercase; vertical-align: middle; margin-left: 0.5rem\">LOCATION</span>\n",
       "</mark>\n",
       ".</br></div></span>"
      ],
      "text/plain": [
       "<IPython.core.display.HTML object>"
      ]
     },
     "metadata": {},
     "output_type": "display_data"
    },
    {
     "data": {
      "text/html": [
       "<span class=\"tex2jax_ignore\"><div class=\"entities\" style=\"line-height: 2.5; direction: ltr\">\n",
       "<mark class=\"entity\" style=\"background: #AED581; padding: 0.45em 0.6em; margin: 0 0.25em; line-height: 1; border-radius: 0.35em;\">\n",
       "    Half Door\n",
       "    <span style=\"font-size: 0.8em; font-weight: bold; line-height: 1; border-radius: 0.35em; text-transform: uppercase; vertical-align: middle; margin-left: 0.5rem\">BREWERY</span>\n",
       "</mark>\n",
       " is a recent entry to \n",
       "<mark class=\"entity\" style=\"background: #C5CAE9; padding: 0.45em 0.6em; margin: 0 0.25em; line-height: 1; border-radius: 0.35em;\">\n",
       "    San Diego\n",
       "    <span style=\"font-size: 0.8em; font-weight: bold; line-height: 1; border-radius: 0.35em; text-transform: uppercase; vertical-align: middle; margin-left: 0.5rem\">LOCATION</span>\n",
       "</mark>\n",
       "'s magnificent beer scene. Located in a regular two-story clapboard house, a few blocks east of the touristy GasLight District, this place is a sheer delight. First, the building itself: an \n",
       "<mark class=\"entity\" style=\"background: #80CBC4; padding: 0.45em 0.6em; margin: 0 0.25em; line-height: 1; border-radius: 0.35em;\">\n",
       "    inviting\n",
       "    <span style=\"font-size: 0.8em; font-weight: bold; line-height: 1; border-radius: 0.35em; text-transform: uppercase; vertical-align: middle; margin-left: 0.5rem\">FEATURE</span>\n",
       "</mark>\n",
       " house with a \n",
       "<mark class=\"entity\" style=\"background: #80CBC4; padding: 0.45em 0.6em; margin: 0 0.25em; line-height: 1; border-radius: 0.35em;\">\n",
       "    large terrace\n",
       "    <span style=\"font-size: 0.8em; font-weight: bold; line-height: 1; border-radius: 0.35em; text-transform: uppercase; vertical-align: middle; margin-left: 0.5rem\">FEATURE</span>\n",
       "</mark>\n",
       " for \n",
       "<mark class=\"entity\" style=\"background: #80CBC4; padding: 0.45em 0.6em; margin: 0 0.25em; line-height: 1; border-radius: 0.35em;\">\n",
       "    outdoor dining\n",
       "    <span style=\"font-size: 0.8em; font-weight: bold; line-height: 1; border-radius: 0.35em; text-transform: uppercase; vertical-align: middle; margin-left: 0.5rem\">FEATURE</span>\n",
       "</mark>\n",
       " and drinking and an upstairs balcony for the same. Inside, there is a well-polished bar amid a woody Victorian décor and \n",
       "<mark class=\"entity\" style=\"background: #80CBC4; padding: 0.45em 0.6em; margin: 0 0.25em; line-height: 1; border-radius: 0.35em;\">\n",
       "    bric-a-brac - and\n",
       "    <span style=\"font-size: 0.8em; font-weight: bold; line-height: 1; border-radius: 0.35em; text-transform: uppercase; vertical-align: middle; margin-left: 0.5rem\">FEATURE</span>\n",
       "</mark>\n",
       ", of course, there is an actual \n",
       "<mark class=\"entity\" style=\"background: #80CBC4; padding: 0.45em 0.6em; margin: 0 0.25em; line-height: 1; border-radius: 0.35em;\">\n",
       "    half-door\n",
       "    <span style=\"font-size: 0.8em; font-weight: bold; line-height: 1; border-radius: 0.35em; text-transform: uppercase; vertical-align: middle; margin-left: 0.5rem\">FEATURE</span>\n",
       "</mark>\n",
       ". There are about a \n",
       "<mark class=\"entity\" style=\"background: #80CBC4; padding: 0.45em 0.6em; margin: 0 0.25em; line-height: 1; border-radius: 0.35em;\">\n",
       "    dozen house\n",
       "    <span style=\"font-size: 0.8em; font-weight: bold; line-height: 1; border-radius: 0.35em; text-transform: uppercase; vertical-align: middle; margin-left: 0.5rem\">FEATURE</span>\n",
       "</mark>\n",
       " beers along with a few \n",
       "<mark class=\"entity\" style=\"background: #80CBC4; padding: 0.45em 0.6em; margin: 0 0.25em; line-height: 1; border-radius: 0.35em;\">\n",
       "    guest\n",
       "    <span style=\"font-size: 0.8em; font-weight: bold; line-height: 1; border-radius: 0.35em; text-transform: uppercase; vertical-align: middle; margin-left: 0.5rem\">FEATURE</span>\n",
       "</mark>\n",
       ", such as \n",
       "<mark class=\"entity\" style=\"background: #AED581; padding: 0.45em 0.6em; margin: 0 0.25em; line-height: 1; border-radius: 0.35em;\">\n",
       "    Monkey's Paw\n",
       "    <span style=\"font-size: 0.8em; font-weight: bold; line-height: 1; border-radius: 0.35em; text-transform: uppercase; vertical-align: middle; margin-left: 0.5rem\">BREWERY</span>\n",
       "</mark>\n",
       ". The beers are very good (I heartily recommend the \n",
       "<mark class=\"entity\" style=\"background: #FDD835; padding: 0.45em 0.6em; margin: 0 0.25em; line-height: 1; border-radius: 0.35em;\">\n",
       "    Coleman Dry Stout\n",
       "    <span style=\"font-size: 0.8em; font-weight: bold; line-height: 1; border-radius: 0.35em; text-transform: uppercase; vertical-align: middle; margin-left: 0.5rem\">BEER_STYLE</span>\n",
       "</mark>\n",
       "). Excellent service and a menu loaded with delicious food (I recommend the sausage mac-n-cheese.) </br></div></span>"
      ],
      "text/plain": [
       "<IPython.core.display.HTML object>"
      ]
     },
     "metadata": {},
     "output_type": "display_data"
    },
    {
     "data": {
      "text/html": [
       "<span class=\"tex2jax_ignore\"><div class=\"entities\" style=\"line-height: 2.5; direction: ltr\">Half-Door should be included in any Gaslight/East Village crawl - it is a few blocks from \n",
       "<mark class=\"entity\" style=\"background: #AED581; padding: 0.45em 0.6em; margin: 0 0.25em; line-height: 1; border-radius: 0.35em;\">\n",
       "    Mission Brewery\n",
       "    <span style=\"font-size: 0.8em; font-weight: bold; line-height: 1; border-radius: 0.35em; text-transform: uppercase; vertical-align: middle; margin-left: 0.5rem\">BREWERY</span>\n",
       "</mark>\n",
       ", another great venue that I have reviewed recently. Hey, check them both out! UPDATE: Returned for lunch during a November 2019 visit. Still a great place with delicious food - I had the Pork Belly hash, this time.</br></div></span>"
      ],
      "text/plain": [
       "<IPython.core.display.HTML object>"
      ]
     },
     "metadata": {},
     "output_type": "display_data"
    },
    {
     "data": {
      "text/html": [
       "<span class=\"tex2jax_ignore\"><div class=\"entities\" style=\"line-height: 2.5; direction: ltr\">One of my favorite stops of my \n",
       "<mark class=\"entity\" style=\"background: #C5CAE9; padding: 0.45em 0.6em; margin: 0 0.25em; line-height: 1; border-radius: 0.35em;\">\n",
       "    San Diego\n",
       "    <span style=\"font-size: 0.8em; font-weight: bold; line-height: 1; border-radius: 0.35em; text-transform: uppercase; vertical-align: middle; margin-left: 0.5rem\">LOCATION</span>\n",
       "</mark>\n",
       " trip. It was strongly recommended by others who visited and was not disappointed. Very \n",
       "<mark class=\"entity\" style=\"background: #80CBC4; padding: 0.45em 0.6em; margin: 0 0.25em; line-height: 1; border-radius: 0.35em;\">\n",
       "    friendly\n",
       "    <span style=\"font-size: 0.8em; font-weight: bold; line-height: 1; border-radius: 0.35em; text-transform: uppercase; vertical-align: middle; margin-left: 0.5rem\">FEATURE</span>\n",
       "</mark>\n",
       " and prompt staff, solid beers and the few apps we had were amazing. Would have loved to spend more time there and would stop there again in a heartbeat.</br></div></span>"
      ],
      "text/plain": [
       "<IPython.core.display.HTML object>"
      ]
     },
     "metadata": {},
     "output_type": "display_data"
    },
    {
     "data": {
      "text/html": [
       "<span class=\"tex2jax_ignore\"><div class=\"entities\" style=\"line-height: 2.5; direction: ltr\">Awesome looking corner lot building dripping with \n",
       "<mark class=\"entity\" style=\"background: #AED581; padding: 0.45em 0.6em; margin: 0 0.25em; line-height: 1; border-radius: 0.35em;\">\n",
       "    Old Southern Charm\n",
       "    <span style=\"font-size: 0.8em; font-weight: bold; line-height: 1; border-radius: 0.35em; text-transform: uppercase; vertical-align: middle; margin-left: 0.5rem\">BREWERY</span>\n",
       "</mark>\n",
       ". Irish. The 2 beers I had were great for the style. Took 40 minutes to get a beer though. The waiter forgot about us. Trying to not let that one extremely disappointing aspect color my review. Would love to go here again but sit at the awesome looking bar.</div></span>"
      ],
      "text/plain": [
       "<IPython.core.display.HTML object>"
      ]
     },
     "metadata": {},
     "output_type": "display_data"
    }
   ],
   "source": [
    "# Test trained model with real data\n",
    "with open('../data/raw/reviews_san-diego_half-door-brewing-co.txt') as file:\n",
    "    reviews = file.readlines()\n",
    "    \n",
    "for review in reviews:\n",
    "    doc = nlp(review)\n",
    "    displacy.render(doc, style=\"ent\", options=options)"
   ]
  },
  {
   "cell_type": "code",
   "execution_count": 45,
   "metadata": {},
   "outputs": [
    {
     "data": {
      "text/html": [
       "<span class=\"tex2jax_ignore\"><div class=\"entities\" style=\"line-height: 2.5; direction: ltr\">This place is the real deal. The penultimate craft \n",
       "<mark class=\"entity\" style=\"background: #80CBC4; padding: 0.45em 0.6em; margin: 0 0.25em; line-height: 1; border-radius: 0.35em;\">\n",
       "    brewery\n",
       "    <span style=\"font-size: 0.8em; font-weight: bold; line-height: 1; border-radius: 0.35em; text-transform: uppercase; vertical-align: middle; margin-left: 0.5rem\">FEATURE</span>\n",
       "</mark>\n",
       " experience in the \n",
       "<mark class=\"entity\" style=\"background: #C5CAE9; padding: 0.45em 0.6em; margin: 0 0.25em; line-height: 1; border-radius: 0.35em;\">\n",
       "    San Diego\n",
       "    <span style=\"font-size: 0.8em; font-weight: bold; line-height: 1; border-radius: 0.35em; text-transform: uppercase; vertical-align: middle; margin-left: 0.5rem\">LOCATION</span>\n",
       "</mark>\n",
       " area and up there with the best in all of \n",
       "<mark class=\"entity\" style=\"background: #C5CAE9; padding: 0.45em 0.6em; margin: 0 0.25em; line-height: 1; border-radius: 0.35em;\">\n",
       "    Southern California\n",
       "    <span style=\"font-size: 0.8em; font-weight: bold; line-height: 1; border-radius: 0.35em; text-transform: uppercase; vertical-align: middle; margin-left: 0.5rem\">LOCATION</span>\n",
       "</mark>\n",
       ". Quality is top notch, variety of offerings is more than enough for several visits, and the food options outside were satisfying (though a tad expensive). Even during the pandemic, it was a vibrant and modern facility and the kind of destination I had expected and hoped for. Been waiting years to finally visit. And they have their own street/address, so you know they’re special.</br></div></span>"
      ],
      "text/plain": [
       "<IPython.core.display.HTML object>"
      ]
     },
     "metadata": {},
     "output_type": "display_data"
    },
    {
     "data": {
      "text/html": [
       "<span class=\"tex2jax_ignore\"><div class=\"entities\" style=\"line-height: 2.5; direction: ltr\">Visited with my wife on a recent trip to \n",
       "<mark class=\"entity\" style=\"background: #C5CAE9; padding: 0.45em 0.6em; margin: 0 0.25em; line-height: 1; border-radius: 0.35em;\">\n",
       "    San Diego\n",
       "    <span style=\"font-size: 0.8em; font-weight: bold; line-height: 1; border-radius: 0.35em; text-transform: uppercase; vertical-align: middle; margin-left: 0.5rem\">LOCATION</span>\n",
       "</mark>\n",
       " and \n",
       "<mark class=\"entity\" style=\"background: #C5CAE9; padding: 0.45em 0.6em; margin: 0 0.25em; line-height: 1; border-radius: 0.35em;\">\n",
       "    Los Angeles\n",
       "    <span style=\"font-size: 0.8em; font-weight: bold; line-height: 1; border-radius: 0.35em; text-transform: uppercase; vertical-align: middle; margin-left: 0.5rem\">LOCATION</span>\n",
       "</mark>\n",
       ". Tried the following as part of a flight: \n",
       "<mark class=\"entity\" style=\"background: #AED581; padding: 0.45em 0.6em; margin: 0 0.25em; line-height: 1; border-radius: 0.35em;\">\n",
       "    AleSmith Evil Dead\n",
       "    <span style=\"font-size: 0.8em; font-weight: bold; line-height: 1; border-radius: 0.35em; text-transform: uppercase; vertical-align: middle; margin-left: 0.5rem\">BREWERY</span>\n",
       "</mark>\n",
       " Red AleSmith Decadence 2017 AleSmith \n",
       "<mark class=\"entity\" style=\"background: #C5CAE9; padding: 0.45em 0.6em; margin: 0 0.25em; line-height: 1; border-radius: 0.35em;\">\n",
       "    San Diego\n",
       "    <span style=\"font-size: 0.8em; font-weight: bold; line-height: 1; border-radius: 0.35em; text-transform: uppercase; vertical-align: middle; margin-left: 0.5rem\">LOCATION</span>\n",
       "</mark>\n",
       " \n",
       "<mark class=\"entity\" style=\"background: #FDD835; padding: 0.45em 0.6em; margin: 0 0.25em; line-height: 1; border-radius: 0.35em;\">\n",
       "    Pale Ale\n",
       "    <span style=\"font-size: 0.8em; font-weight: bold; line-height: 1; border-radius: 0.35em; text-transform: uppercase; vertical-align: middle; margin-left: 0.5rem\">BEER_STYLE</span>\n",
       "</mark>\n",
       " .394 \n",
       "<mark class=\"entity\" style=\"background: #FDD835; padding: 0.45em 0.6em; margin: 0 0.25em; line-height: 1; border-radius: 0.35em;\">\n",
       "    AleSmith\n",
       "    <span style=\"font-size: 0.8em; font-weight: bold; line-height: 1; border-radius: 0.35em; text-transform: uppercase; vertical-align: middle; margin-left: 0.5rem\">BEER_STYLE</span>\n",
       "</mark>\n",
       " \n",
       "<mark class=\"entity\" style=\"background: #FDD835; padding: 0.45em 0.6em; margin: 0 0.25em; line-height: 1; border-radius: 0.35em;\">\n",
       "    Speedway Stout\n",
       "    <span style=\"font-size: 0.8em; font-weight: bold; line-height: 1; border-radius: 0.35em; text-transform: uppercase; vertical-align: middle; margin-left: 0.5rem\">BEER_STYLE</span>\n",
       "</mark>\n",
       " - \n",
       "<mark class=\"entity\" style=\"background: #FDD835; padding: 0.45em 0.6em; margin: 0 0.25em; line-height: 1; border-radius: 0.35em;\">\n",
       "    Vietnamese\n",
       "    <span style=\"font-size: 0.8em; font-weight: bold; line-height: 1; border-radius: 0.35em; text-transform: uppercase; vertical-align: middle; margin-left: 0.5rem\">BEER_STYLE</span>\n",
       "</mark>\n",
       " Coffee Beers were superb across the board. Also bought some \n",
       "<mark class=\"entity\" style=\"background: #FDD835; padding: 0.45em 0.6em; margin: 0 0.25em; line-height: 1; border-radius: 0.35em;\">\n",
       "    Old Numbskull\n",
       "    <span style=\"font-size: 0.8em; font-weight: bold; line-height: 1; border-radius: 0.35em; text-transform: uppercase; vertical-align: middle; margin-left: 0.5rem\">BEER_STYLE</span>\n",
       "</mark>\n",
       " and \n",
       "<mark class=\"entity\" style=\"background: #FDD835; padding: 0.45em 0.6em; margin: 0 0.25em; line-height: 1; border-radius: 0.35em;\">\n",
       "    Speedway Stout\n",
       "    <span style=\"font-size: 0.8em; font-weight: bold; line-height: 1; border-radius: 0.35em; text-transform: uppercase; vertical-align: middle; margin-left: 0.5rem\">BEER_STYLE</span>\n",
       "</mark>\n",
       " to go; both were phenomenal. Service at the bar was fine as the beertender was quick to grab our drinks. The guy in the retail store was a bit more engaging, which we appreciated. Cool atmosphere in the \n",
       "<mark class=\"entity\" style=\"background: #80CBC4; padding: 0.45em 0.6em; margin: 0 0.25em; line-height: 1; border-radius: 0.35em;\">\n",
       "    beautiful\n",
       "    <span style=\"font-size: 0.8em; font-weight: bold; line-height: 1; border-radius: 0.35em; text-transform: uppercase; vertical-align: middle; margin-left: 0.5rem\">FEATURE</span>\n",
       "</mark>\n",
       ", \n",
       "<mark class=\"entity\" style=\"background: #80CBC4; padding: 0.45em 0.6em; margin: 0 0.25em; line-height: 1; border-radius: 0.35em;\">\n",
       "    gargantuan taproom\n",
       "    <span style=\"font-size: 0.8em; font-weight: bold; line-height: 1; border-radius: 0.35em; text-transform: uppercase; vertical-align: middle; margin-left: 0.5rem\">FEATURE</span>\n",
       "</mark>\n",
       " and we had fun touring the Tony \n",
       "<mark class=\"entity\" style=\"background: #AED581; padding: 0.45em 0.6em; margin: 0 0.25em; line-height: 1; border-radius: 0.35em;\">\n",
       "    Gwynn Museum\n",
       "    <span style=\"font-size: 0.8em; font-weight: bold; line-height: 1; border-radius: 0.35em; text-transform: uppercase; vertical-align: middle; margin-left: 0.5rem\">BREWERY</span>\n",
       "</mark>\n",
       ". Our overall experience was very special, and we would happily come back.</br></div></span>"
      ],
      "text/plain": [
       "<IPython.core.display.HTML object>"
      ]
     },
     "metadata": {},
     "output_type": "display_data"
    },
    {
     "data": {
      "text/html": [
       "<span class=\"tex2jax_ignore\"><div class=\"entities\" style=\"line-height: 2.5; direction: ltr\">\n",
       "<mark class=\"entity\" style=\"background: #80CBC4; padding: 0.45em 0.6em; margin: 0 0.25em; line-height: 1; border-radius: 0.35em;\">\n",
       "    Huge\n",
       "    <span style=\"font-size: 0.8em; font-weight: bold; line-height: 1; border-radius: 0.35em; text-transform: uppercase; vertical-align: middle; margin-left: 0.5rem\">FEATURE</span>\n",
       "</mark>\n",
       " \n",
       "<mark class=\"entity\" style=\"background: #80CBC4; padding: 0.45em 0.6em; margin: 0 0.25em; line-height: 1; border-radius: 0.35em;\">\n",
       "    tasting room\n",
       "    <span style=\"font-size: 0.8em; font-weight: bold; line-height: 1; border-radius: 0.35em; text-transform: uppercase; vertical-align: middle; margin-left: 0.5rem\">FEATURE</span>\n",
       "</mark>\n",
       " in the front of \n",
       "<mark class=\"entity\" style=\"background: #80CBC4; padding: 0.45em 0.6em; margin: 0 0.25em; line-height: 1; border-radius: 0.35em;\">\n",
       "    brewery building\n",
       "    <span style=\"font-size: 0.8em; font-weight: bold; line-height: 1; border-radius: 0.35em; text-transform: uppercase; vertical-align: middle; margin-left: 0.5rem\">FEATURE</span>\n",
       "</mark>\n",
       ". Merch shop is on the left as one enters, and the right opens up to a \n",
       "<mark class=\"entity\" style=\"background: #80CBC4; padding: 0.45em 0.6em; margin: 0 0.25em; line-height: 1; border-radius: 0.35em;\">\n",
       "    two-story taproom\n",
       "    <span style=\"font-size: 0.8em; font-weight: bold; line-height: 1; border-radius: 0.35em; text-transform: uppercase; vertical-align: middle; margin-left: 0.5rem\">FEATURE</span>\n",
       "</mark>\n",
       " with \n",
       "<mark class=\"entity\" style=\"background: #80CBC4; padding: 0.45em 0.6em; margin: 0 0.25em; line-height: 1; border-radius: 0.35em;\">\n",
       "    windows\n",
       "    <span style=\"font-size: 0.8em; font-weight: bold; line-height: 1; border-radius: 0.35em; text-transform: uppercase; vertical-align: middle; margin-left: 0.5rem\">FEATURE</span>\n",
       "</mark>\n",
       " into the \n",
       "<mark class=\"entity\" style=\"background: #80CBC4; padding: 0.45em 0.6em; margin: 0 0.25em; line-height: 1; border-radius: 0.35em;\">\n",
       "    brewery\n",
       "    <span style=\"font-size: 0.8em; font-weight: bold; line-height: 1; border-radius: 0.35em; text-transform: uppercase; vertical-align: middle; margin-left: 0.5rem\">FEATURE</span>\n",
       "</mark>\n",
       ". Zigzag bar seats probably 40 to 50, and there are a number of tables spread about the room. Additionally, there is a \n",
       "<mark class=\"entity\" style=\"background: #80CBC4; padding: 0.45em 0.6em; margin: 0 0.25em; line-height: 1; border-radius: 0.35em;\">\n",
       "    patio\n",
       "    <span style=\"font-size: 0.8em; font-weight: bold; line-height: 1; border-radius: 0.35em; text-transform: uppercase; vertical-align: middle; margin-left: 0.5rem\">FEATURE</span>\n",
       "</mark>\n",
       " in front with nightly food truck. \n",
       "<mark class=\"entity\" style=\"background: #80CBC4; padding: 0.45em 0.6em; margin: 0 0.25em; line-height: 1; border-radius: 0.35em;\">\n",
       "    25 beers on tap\n",
       "    <span style=\"font-size: 0.8em; font-weight: bold; line-height: 1; border-radius: 0.35em; text-transform: uppercase; vertical-align: middle; margin-left: 0.5rem\">FEATURE</span>\n",
       "</mark>\n",
       ", half were \n",
       "<mark class=\"entity\" style=\"background: #80CBC4; padding: 0.45em 0.6em; margin: 0 0.25em; line-height: 1; border-radius: 0.35em;\">\n",
       "    brewery\n",
       "    <span style=\"font-size: 0.8em; font-weight: bold; line-height: 1; border-radius: 0.35em; text-transform: uppercase; vertical-align: middle; margin-left: 0.5rem\">FEATURE</span>\n",
       "</mark>\n",
       " only seasonals and specials. Place had an after-work unwind sort of vibe. \n",
       "<mark class=\"entity\" style=\"background: #80CBC4; padding: 0.45em 0.6em; margin: 0 0.25em; line-height: 1; border-radius: 0.35em;\">\n",
       "    Friendly\n",
       "    <span style=\"font-size: 0.8em; font-weight: bold; line-height: 1; border-radius: 0.35em; text-transform: uppercase; vertical-align: middle; margin-left: 0.5rem\">FEATURE</span>\n",
       "</mark>\n",
       " efficient bartenders.</br></div></span>"
      ],
      "text/plain": [
       "<IPython.core.display.HTML object>"
      ]
     },
     "metadata": {},
     "output_type": "display_data"
    },
    {
     "data": {
      "text/html": [
       "<span class=\"tex2jax_ignore\"><div class=\"entities\" style=\"line-height: 2.5; direction: ltr\">\n",
       "<mark class=\"entity\" style=\"background: #AED581; padding: 0.45em 0.6em; margin: 0 0.25em; line-height: 1; border-radius: 0.35em;\">\n",
       "    AleSmith\n",
       "    <span style=\"font-size: 0.8em; font-weight: bold; line-height: 1; border-radius: 0.35em; text-transform: uppercase; vertical-align: middle; margin-left: 0.5rem\">BREWERY</span>\n",
       "</mark>\n",
       " is a fairly large \n",
       "<mark class=\"entity\" style=\"background: #80CBC4; padding: 0.45em 0.6em; margin: 0 0.25em; line-height: 1; border-radius: 0.35em;\">\n",
       "    tasting room\n",
       "    <span style=\"font-size: 0.8em; font-weight: bold; line-height: 1; border-radius: 0.35em; text-transform: uppercase; vertical-align: middle; margin-left: 0.5rem\">FEATURE</span>\n",
       "</mark>\n",
       " and production house. Tonight they had a couple of \n",
       "<mark class=\"entity\" style=\"background: #80CBC4; padding: 0.45em 0.6em; margin: 0 0.25em; line-height: 1; border-radius: 0.35em;\">\n",
       "    food trucks\n",
       "    <span style=\"font-size: 0.8em; font-weight: bold; line-height: 1; border-radius: 0.35em; text-transform: uppercase; vertical-align: middle; margin-left: 0.5rem\">FEATURE</span>\n",
       "</mark>\n",
       ". Once you enter the building you have a \n",
       "<mark class=\"entity\" style=\"background: #80CBC4; padding: 0.45em 0.6em; margin: 0 0.25em; line-height: 1; border-radius: 0.35em;\">\n",
       "    gift shop\n",
       "    <span style=\"font-size: 0.8em; font-weight: bold; line-height: 1; border-radius: 0.35em; text-transform: uppercase; vertical-align: middle; margin-left: 0.5rem\">FEATURE</span>\n",
       "</mark>\n",
       " and place to purchase beers to go. There is a \n",
       "<mark class=\"entity\" style=\"background: #80CBC4; padding: 0.45em 0.6em; margin: 0 0.25em; line-height: 1; border-radius: 0.35em;\">\n",
       "    large bar\n",
       "    <span style=\"font-size: 0.8em; font-weight: bold; line-height: 1; border-radius: 0.35em; text-transform: uppercase; vertical-align: middle; margin-left: 0.5rem\">FEATURE</span>\n",
       "</mark>\n",
       " area with a view to the production area behind it. They had ample seating inside and out. The beer \n",
       "<mark class=\"entity\" style=\"background: #80CBC4; padding: 0.45em 0.6em; margin: 0 0.25em; line-height: 1; border-radius: 0.35em;\">\n",
       "    selection\n",
       "    <span style=\"font-size: 0.8em; font-weight: bold; line-height: 1; border-radius: 0.35em; text-transform: uppercase; vertical-align: middle; margin-left: 0.5rem\">FEATURE</span>\n",
       "</mark>\n",
       " tonight was nice. They had a couple Speedway variants I tried - Jamaican Blue Mountain and Thai. Both were solid beers. Had a couple of tasters and made my way back to my hotel I'm staying for a conference. Overall, a splendid place to visit and hang out with friends.</br></div></span>"
      ],
      "text/plain": [
       "<IPython.core.display.HTML object>"
      ]
     },
     "metadata": {},
     "output_type": "display_data"
    },
    {
     "data": {
      "text/html": [
       "<span class=\"tex2jax_ignore\"><div class=\"entities\" style=\"line-height: 2.5; direction: ltr\">Clean well kept and organized all around nice family \n",
       "<mark class=\"entity\" style=\"background: #80CBC4; padding: 0.45em 0.6em; margin: 0 0.25em; line-height: 1; border-radius: 0.35em;\">\n",
       "    friendly\n",
       "    <span style=\"font-size: 0.8em; font-weight: bold; line-height: 1; border-radius: 0.35em; text-transform: uppercase; vertical-align: middle; margin-left: 0.5rem\">FEATURE</span>\n",
       "</mark>\n",
       " atmosphere \n",
       "<mark class=\"entity\" style=\"background: #80CBC4; padding: 0.45em 0.6em; margin: 0 0.25em; line-height: 1; border-radius: 0.35em;\">\n",
       "    large bar\n",
       "    <span style=\"font-size: 0.8em; font-weight: bold; line-height: 1; border-radius: 0.35em; text-transform: uppercase; vertical-align: middle; margin-left: 0.5rem\">FEATURE</span>\n",
       "</mark>\n",
       " with lots of \n",
       "<mark class=\"entity\" style=\"background: #80CBC4; padding: 0.45em 0.6em; margin: 0 0.25em; line-height: 1; border-radius: 0.35em;\">\n",
       "    open seating\n",
       "    <span style=\"font-size: 0.8em; font-weight: bold; line-height: 1; border-radius: 0.35em; text-transform: uppercase; vertical-align: middle; margin-left: 0.5rem\">FEATURE</span>\n",
       "</mark>\n",
       " options. Staff is \n",
       "<mark class=\"entity\" style=\"background: #80CBC4; padding: 0.45em 0.6em; margin: 0 0.25em; line-height: 1; border-radius: 0.35em;\">\n",
       "    friendly\n",
       "    <span style=\"font-size: 0.8em; font-weight: bold; line-height: 1; border-radius: 0.35em; text-transform: uppercase; vertical-align: middle; margin-left: 0.5rem\">FEATURE</span>\n",
       "</mark>\n",
       " and \n",
       "<mark class=\"entity\" style=\"background: #80CBC4; padding: 0.45em 0.6em; margin: 0 0.25em; line-height: 1; border-radius: 0.35em;\">\n",
       "    knowledgeable\n",
       "    <span style=\"font-size: 0.8em; font-weight: bold; line-height: 1; border-radius: 0.35em; text-transform: uppercase; vertical-align: middle; margin-left: 0.5rem\">FEATURE</span>\n",
       "</mark>\n",
       " food truck they had looked and smelled very good. Some \n",
       "<mark class=\"entity\" style=\"background: #80CBC4; padding: 0.45em 0.6em; margin: 0 0.25em; line-height: 1; border-radius: 0.35em;\">\n",
       "    games\n",
       "    <span style=\"font-size: 0.8em; font-weight: bold; line-height: 1; border-radius: 0.35em; text-transform: uppercase; vertical-align: middle; margin-left: 0.5rem\">FEATURE</span>\n",
       "</mark>\n",
       " outside and nice upper deck with view and seeing the blue angels fly over didn’t hurt. Adding a signature non alcoholic drink or two and would have been 5s across the top!</br></div></span>"
      ],
      "text/plain": [
       "<IPython.core.display.HTML object>"
      ]
     },
     "metadata": {},
     "output_type": "display_data"
    },
    {
     "data": {
      "text/html": [
       "<span class=\"tex2jax_ignore\"><div class=\"entities\" style=\"line-height: 2.5; direction: ltr\">Really nice place. The \n",
       "<mark class=\"entity\" style=\"background: #80CBC4; padding: 0.45em 0.6em; margin: 0 0.25em; line-height: 1; border-radius: 0.35em;\">\n",
       "    patio\n",
       "    <span style=\"font-size: 0.8em; font-weight: bold; line-height: 1; border-radius: 0.35em; text-transform: uppercase; vertical-align: middle; margin-left: 0.5rem\">FEATURE</span>\n",
       "</mark>\n",
       " was set up perfect with great \n",
       "<mark class=\"entity\" style=\"background: #80CBC4; padding: 0.45em 0.6em; margin: 0 0.25em; line-height: 1; border-radius: 0.35em;\">\n",
       "    food trucks\n",
       "    <span style=\"font-size: 0.8em; font-weight: bold; line-height: 1; border-radius: 0.35em; text-transform: uppercase; vertical-align: middle; margin-left: 0.5rem\">FEATURE</span>\n",
       "</mark>\n",
       " and \n",
       "<mark class=\"entity\" style=\"background: #80CBC4; padding: 0.45em 0.6em; margin: 0 0.25em; line-height: 1; border-radius: 0.35em;\">\n",
       "    patio games\n",
       "    <span style=\"font-size: 0.8em; font-weight: bold; line-height: 1; border-radius: 0.35em; text-transform: uppercase; vertical-align: middle; margin-left: 0.5rem\">FEATURE</span>\n",
       "</mark>\n",
       ". Really big tasting room with \n",
       "<mark class=\"entity\" style=\"background: #80CBC4; padding: 0.45em 0.6em; margin: 0 0.25em; line-height: 1; border-radius: 0.35em;\">\n",
       "    30 plus beers on tap\n",
       "    <span style=\"font-size: 0.8em; font-weight: bold; line-height: 1; border-radius: 0.35em; text-transform: uppercase; vertical-align: middle; margin-left: 0.5rem\">FEATURE</span>\n",
       "</mark>\n",
       " and the Tony Gwynn museum was awesome !</br></div></span>"
      ],
      "text/plain": [
       "<IPython.core.display.HTML object>"
      ]
     },
     "metadata": {},
     "output_type": "display_data"
    },
    {
     "data": {
      "text/html": [
       "<span class=\"tex2jax_ignore\"><div class=\"entities\" style=\"line-height: 2.5; direction: ltr\">This place is beautifully designed, as far as the architecture and layout. \n",
       "<mark class=\"entity\" style=\"background: #80CBC4; padding: 0.45em 0.6em; margin: 0 0.25em; line-height: 1; border-radius: 0.35em;\">\n",
       "    Beautiful building\n",
       "    <span style=\"font-size: 0.8em; font-weight: bold; line-height: 1; border-radius: 0.35em; text-transform: uppercase; vertical-align: middle; margin-left: 0.5rem\">FEATURE</span>\n",
       "</mark>\n",
       ", \n",
       "<mark class=\"entity\" style=\"background: #80CBC4; padding: 0.45em 0.6em; margin: 0 0.25em; line-height: 1; border-radius: 0.35em;\">\n",
       "    huge open space\n",
       "    <span style=\"font-size: 0.8em; font-weight: bold; line-height: 1; border-radius: 0.35em; text-transform: uppercase; vertical-align: middle; margin-left: 0.5rem\">FEATURE</span>\n",
       "</mark>\n",
       " with plenty of bar seating, table, outdoors, private area and special \n",
       "<mark class=\"entity\" style=\"background: #FDD835; padding: 0.45em 0.6em; margin: 0 0.25em; line-height: 1; border-radius: 0.35em;\">\n",
       "    barrel age room\n",
       "    <span style=\"font-size: 0.8em; font-weight: bold; line-height: 1; border-radius: 0.35em; text-transform: uppercase; vertical-align: middle; margin-left: 0.5rem\">BEER_STYLE</span>\n",
       "</mark>\n",
       ". Quality of establishment is top notch. Everything is in excellent shape and the mini-museum for \n",
       "<mark class=\"entity\" style=\"background: #AED581; padding: 0.45em 0.6em; margin: 0 0.25em; line-height: 1; border-radius: 0.35em;\">\n",
       "    Tony Gwynn\n",
       "    <span style=\"font-size: 0.8em; font-weight: bold; line-height: 1; border-radius: 0.35em; text-transform: uppercase; vertical-align: middle; margin-left: 0.5rem\">BREWERY</span>\n",
       "</mark>\n",
       " is \n",
       "<mark class=\"entity\" style=\"background: #80CBC4; padding: 0.45em 0.6em; margin: 0 0.25em; line-height: 1; border-radius: 0.35em;\">\n",
       "    fantastic\n",
       "    <span style=\"font-size: 0.8em; font-weight: bold; line-height: 1; border-radius: 0.35em; text-transform: uppercase; vertical-align: middle; margin-left: 0.5rem\">FEATURE</span>\n",
       "</mark>\n",
       " (with a bunch of his trophies and all). Can't complain about the service or the staff in general either. They were not only quick but they also brought beer from their \n",
       "<mark class=\"entity\" style=\"background: #FDD835; padding: 0.45em 0.6em; margin: 0 0.25em; line-height: 1; border-radius: 0.35em;\">\n",
       "    barrel aging\n",
       "    <span style=\"font-size: 0.8em; font-weight: bold; line-height: 1; border-radius: 0.35em; text-transform: uppercase; vertical-align: middle; margin-left: 0.5rem\">BEER_STYLE</span>\n",
       "</mark>\n",
       " section (where I was supposed to go to get BA beers on draft). Their shop clerk was also really \n",
       "<mark class=\"entity\" style=\"background: #80CBC4; padding: 0.45em 0.6em; margin: 0 0.25em; line-height: 1; border-radius: 0.35em;\">\n",
       "    friendly\n",
       "    <span style=\"font-size: 0.8em; font-weight: bold; line-height: 1; border-radius: 0.35em; text-transform: uppercase; vertical-align: middle; margin-left: 0.5rem\">FEATURE</span>\n",
       "</mark>\n",
       " and insightful. \n",
       "<mark class=\"entity\" style=\"background: #80CBC4; padding: 0.45em 0.6em; margin: 0 0.25em; line-height: 1; border-radius: 0.35em;\">\n",
       "    Selection\n",
       "    <span style=\"font-size: 0.8em; font-weight: bold; line-height: 1; border-radius: 0.35em; text-transform: uppercase; vertical-align: middle; margin-left: 0.5rem\">FEATURE</span>\n",
       "</mark>\n",
       " was huge, of both regular offering and \n",
       "<mark class=\"entity\" style=\"background: #FDD835; padding: 0.45em 0.6em; margin: 0 0.25em; line-height: 1; border-radius: 0.35em;\">\n",
       "    barrel aged\n",
       "    <span style=\"font-size: 0.8em; font-weight: bold; line-height: 1; border-radius: 0.35em; text-transform: uppercase; vertical-align: middle; margin-left: 0.5rem\">BEER_STYLE</span>\n",
       "</mark>\n",
       ". They do not serve food but there is a food truck outside always if you get hungry. Just a great place to visit. Wish it was closer to \n",
       "<mark class=\"entity\" style=\"background: #C5CAE9; padding: 0.45em 0.6em; margin: 0 0.25em; line-height: 1; border-radius: 0.35em;\">\n",
       "    downtown San Diego\n",
       "    <span style=\"font-size: 0.8em; font-weight: bold; line-height: 1; border-radius: 0.35em; text-transform: uppercase; vertical-align: middle; margin-left: 0.5rem\">LOCATION</span>\n",
       "</mark>\n",
       " but it is totally worth a 25 min drive from there to visit this unique place.</br></div></span>"
      ],
      "text/plain": [
       "<IPython.core.display.HTML object>"
      ]
     },
     "metadata": {},
     "output_type": "display_data"
    },
    {
     "data": {
      "text/html": [
       "<span class=\"tex2jax_ignore\"><div class=\"entities\" style=\"line-height: 2.5; direction: ltr\">this is a \n",
       "<mark class=\"entity\" style=\"background: #80CBC4; padding: 0.45em 0.6em; margin: 0 0.25em; line-height: 1; border-radius: 0.35em;\">\n",
       "    brewery\n",
       "    <span style=\"font-size: 0.8em; font-weight: bold; line-height: 1; border-radius: 0.35em; text-transform: uppercase; vertical-align: middle; margin-left: 0.5rem\">FEATURE</span>\n",
       "</mark>\n",
       " i have respected forever, one of the first to turn me on to \n",
       "<mark class=\"entity\" style=\"background: #FDD835; padding: 0.45em 0.6em; margin: 0 0.25em; line-height: 1; border-radius: 0.35em;\">\n",
       "    strong ales\n",
       "    <span style=\"font-size: 0.8em; font-weight: bold; line-height: 1; border-radius: 0.35em; text-transform: uppercase; vertical-align: middle; margin-left: 0.5rem\">BEER_STYLE</span>\n",
       "</mark>\n",
       " like \n",
       "<mark class=\"entity\" style=\"background: #FDD835; padding: 0.45em 0.6em; margin: 0 0.25em; line-height: 1; border-radius: 0.35em;\">\n",
       "    old ale\n",
       "    <span style=\"font-size: 0.8em; font-weight: bold; line-height: 1; border-radius: 0.35em; text-transform: uppercase; vertical-align: middle; margin-left: 0.5rem\">BEER_STYLE</span>\n",
       "</mark>\n",
       " and \n",
       "<mark class=\"entity\" style=\"background: #FDD835; padding: 0.45em 0.6em; margin: 0 0.25em; line-height: 1; border-radius: 0.35em;\">\n",
       "    barleywine\n",
       "    <span style=\"font-size: 0.8em; font-weight: bold; line-height: 1; border-radius: 0.35em; text-transform: uppercase; vertical-align: middle; margin-left: 0.5rem\">BEER_STYLE</span>\n",
       "</mark>\n",
       ", and i have been a longtime lover of their speedway \n",
       "<mark class=\"entity\" style=\"background: #FDD835; padding: 0.45em 0.6em; margin: 0 0.25em; line-height: 1; border-radius: 0.35em;\">\n",
       "    stout\n",
       "    <span style=\"font-size: 0.8em; font-weight: bold; line-height: 1; border-radius: 0.35em; text-transform: uppercase; vertical-align: middle; margin-left: 0.5rem\">BEER_STYLE</span>\n",
       "</mark>\n",
       ", so it was sort of a full circle thing for me to get to visit their enormous new(ish) \n",
       "<mark class=\"entity\" style=\"background: #80CBC4; padding: 0.45em 0.6em; margin: 0 0.25em; line-height: 1; border-radius: 0.35em;\">\n",
       "    brewery\n",
       "    <span style=\"font-size: 0.8em; font-weight: bold; line-height: 1; border-radius: 0.35em; text-transform: uppercase; vertical-align: middle; margin-left: 0.5rem\">FEATURE</span>\n",
       "</mark>\n",
       ". its a \n",
       "<mark class=\"entity\" style=\"background: #80CBC4; padding: 0.45em 0.6em; margin: 0 0.25em; line-height: 1; border-radius: 0.35em;\">\n",
       "    huge space\n",
       "    <span style=\"font-size: 0.8em; font-weight: bold; line-height: 1; border-radius: 0.35em; text-transform: uppercase; vertical-align: middle; margin-left: 0.5rem\">FEATURE</span>\n",
       "</mark>\n",
       ", almost feels like a hotel lobby, with \n",
       "<mark class=\"entity\" style=\"background: #80CBC4; padding: 0.45em 0.6em; margin: 0 0.25em; line-height: 1; border-radius: 0.35em;\">\n",
       "    big leather couches\n",
       "    <span style=\"font-size: 0.8em; font-weight: bold; line-height: 1; border-radius: 0.35em; text-transform: uppercase; vertical-align: middle; margin-left: 0.5rem\">FEATURE</span>\n",
       "</mark>\n",
       ", high ceilings, low light, noisy and bustling, kind of an \n",
       "<mark class=\"entity\" style=\"background: #80CBC4; padding: 0.45em 0.6em; margin: 0 0.25em; line-height: 1; border-radius: 0.35em;\">\n",
       "    urban industrial\n",
       "    <span style=\"font-size: 0.8em; font-weight: bold; line-height: 1; border-radius: 0.35em; text-transform: uppercase; vertical-align: middle; margin-left: 0.5rem\">FEATURE</span>\n",
       "</mark>\n",
       " feel to it, tanks visible behind the bar, tons of fermentation capacity here, \n",
       "<mark class=\"entity\" style=\"background: #80CBC4; padding: 0.45em 0.6em; margin: 0 0.25em; line-height: 1; border-radius: 0.35em;\">\n",
       "    huge\n",
       "    <span style=\"font-size: 0.8em; font-weight: bold; line-height: 1; border-radius: 0.35em; text-transform: uppercase; vertical-align: middle; margin-left: 0.5rem\">FEATURE</span>\n",
       "</mark>\n",
       " but \n",
       "<mark class=\"entity\" style=\"background: #80CBC4; padding: 0.45em 0.6em; margin: 0 0.25em; line-height: 1; border-radius: 0.35em;\">\n",
       "    comfortable\n",
       "    <span style=\"font-size: 0.8em; font-weight: bold; line-height: 1; border-radius: 0.35em; text-transform: uppercase; vertical-align: middle; margin-left: 0.5rem\">FEATURE</span>\n",
       "</mark>\n",
       ", if a bit overly refined and lacking uniqueness as a space. its \n",
       "<mark class=\"entity\" style=\"background: #80CBC4; padding: 0.45em 0.6em; margin: 0 0.25em; line-height: 1; border-radius: 0.35em;\">\n",
       "    comfortable\n",
       "    <span style=\"font-size: 0.8em; font-weight: bold; line-height: 1; border-radius: 0.35em; text-transform: uppercase; vertical-align: middle; margin-left: 0.5rem\">FEATURE</span>\n",
       "</mark>\n",
       " though, and it was exiting just to be here. the beer list included all of the staples, a few new ones by me, and a range of speedway variants i was super pumped to get into, including jamaican, \n",
       "<mark class=\"entity\" style=\"background: #80CBC4; padding: 0.45em 0.6em; margin: 0 0.25em; line-height: 1; border-radius: 0.35em;\">\n",
       "    vietnamese\n",
       "    <span style=\"font-size: 0.8em; font-weight: bold; line-height: 1; border-radius: 0.35em; text-transform: uppercase; vertical-align: middle; margin-left: 0.5rem\">FEATURE</span>\n",
       "</mark>\n",
       ", chire, and thai. they were all awesome! they also have a \n",
       "<mark class=\"entity\" style=\"background: #80CBC4; padding: 0.45em 0.6em; margin: 0 0.25em; line-height: 1; border-radius: 0.35em;\">\n",
       "    cool gift shop\n",
       "    <span style=\"font-size: 0.8em; font-weight: bold; line-height: 1; border-radius: 0.35em; text-transform: uppercase; vertical-align: middle; margin-left: 0.5rem\">FEATURE</span>\n",
       "</mark>\n",
       " with some bottles to go. a neat mix of people in here from corporate gathering to \n",
       "<mark class=\"entity\" style=\"background: #80CBC4; padding: 0.45em 0.6em; margin: 0 0.25em; line-height: 1; border-radius: 0.35em;\">\n",
       "    laid back\n",
       "    <span style=\"font-size: 0.8em; font-weight: bold; line-height: 1; border-radius: 0.35em; text-transform: uppercase; vertical-align: middle; margin-left: 0.5rem\">FEATURE</span>\n",
       "</mark>\n",
       " california looking folks, mellow for how busy it was. service was fine, sort of unexcited but we didnt spend much time at the bar, opting instead for one of the \n",
       "<mark class=\"entity\" style=\"background: #80CBC4; padding: 0.45em 0.6em; margin: 0 0.25em; line-height: 1; border-radius: 0.35em;\">\n",
       "    leather couches\n",
       "    <span style=\"font-size: 0.8em; font-weight: bold; line-height: 1; border-radius: 0.35em; text-transform: uppercase; vertical-align: middle; margin-left: 0.5rem\">FEATURE</span>\n",
       "</mark>\n",
       " where we had our minds blown by the speedway flight. its cool to see how successful these guys have been, their new space is \n",
       "<mark class=\"entity\" style=\"background: #80CBC4; padding: 0.45em 0.6em; margin: 0 0.25em; line-height: 1; border-radius: 0.35em;\">\n",
       "    beautiful\n",
       "    <span style=\"font-size: 0.8em; font-weight: bold; line-height: 1; border-radius: 0.35em; text-transform: uppercase; vertical-align: middle; margin-left: 0.5rem\">FEATURE</span>\n",
       "</mark>\n",
       ", and the beers continue to speak for themselves. we had a great time here, definitely worth a visit, and if you are unfamiliar with their beers, be sure not to miss it!</br></div></span>"
      ],
      "text/plain": [
       "<IPython.core.display.HTML object>"
      ]
     },
     "metadata": {},
     "output_type": "display_data"
    },
    {
     "data": {
      "text/html": [
       "<span class=\"tex2jax_ignore\"><div class=\"entities\" style=\"line-height: 2.5; direction: ltr\">This was my first time to \n",
       "<mark class=\"entity\" style=\"background: #FDD835; padding: 0.45em 0.6em; margin: 0 0.25em; line-height: 1; border-radius: 0.35em;\">\n",
       "    AleSmith\n",
       "    <span style=\"font-size: 0.8em; font-weight: bold; line-height: 1; border-radius: 0.35em; text-transform: uppercase; vertical-align: middle; margin-left: 0.5rem\">BEER_STYLE</span>\n",
       "</mark>\n",
       ". Very cool facility, huge! The \n",
       "<mark class=\"entity\" style=\"background: #80CBC4; padding: 0.45em 0.6em; margin: 0 0.25em; line-height: 1; border-radius: 0.35em;\">\n",
       "    selection\n",
       "    <span style=\"font-size: 0.8em; font-weight: bold; line-height: 1; border-radius: 0.35em; text-transform: uppercase; vertical-align: middle; margin-left: 0.5rem\">FEATURE</span>\n",
       "</mark>\n",
       " when I went was great for \n",
       "<mark class=\"entity\" style=\"background: #FDD835; padding: 0.45em 0.6em; margin: 0 0.25em; line-height: 1; border-radius: 0.35em;\">\n",
       "    Speedway Stout\n",
       "    <span style=\"font-size: 0.8em; font-weight: bold; line-height: 1; border-radius: 0.35em; text-transform: uppercase; vertical-align: middle; margin-left: 0.5rem\">BEER_STYLE</span>\n",
       "</mark>\n",
       " variants, but for those looking beyond heavy stouts, I’ve gotta say there maybe could have been a little more. Service was great, speedy and \n",
       "<mark class=\"entity\" style=\"background: #80CBC4; padding: 0.45em 0.6em; margin: 0 0.25em; line-height: 1; border-radius: 0.35em;\">\n",
       "    friendly\n",
       "    <span style=\"font-size: 0.8em; font-weight: bold; line-height: 1; border-radius: 0.35em; text-transform: uppercase; vertical-align: middle; margin-left: 0.5rem\">FEATURE</span>\n",
       "</mark>\n",
       ". Beer quality was solid, from what I had. With the right event going on, during a full house session, I can really see this being a fun place to be!</br></div></span>"
      ],
      "text/plain": [
       "<IPython.core.display.HTML object>"
      ]
     },
     "metadata": {},
     "output_type": "display_data"
    },
    {
     "data": {
      "text/html": [
       "<span class=\"tex2jax_ignore\"><div class=\"entities\" style=\"line-height: 2.5; direction: ltr\">Hit up \n",
       "<mark class=\"entity\" style=\"background: #AED581; padding: 0.45em 0.6em; margin: 0 0.25em; line-height: 1; border-radius: 0.35em;\">\n",
       "    AleSmith\n",
       "    <span style=\"font-size: 0.8em; font-weight: bold; line-height: 1; border-radius: 0.35em; text-transform: uppercase; vertical-align: middle; margin-left: 0.5rem\">BREWERY</span>\n",
       "</mark>\n",
       " on a recent trip to \n",
       "<mark class=\"entity\" style=\"background: #C5CAE9; padding: 0.45em 0.6em; margin: 0 0.25em; line-height: 1; border-radius: 0.35em;\">\n",
       "    San Diego\n",
       "    <span style=\"font-size: 0.8em; font-weight: bold; line-height: 1; border-radius: 0.35em; text-transform: uppercase; vertical-align: middle; margin-left: 0.5rem\">LOCATION</span>\n",
       "</mark>\n",
       ". Lots of people, big crowd with big lines and long waits to get a beer. There was not enough seats for my friends and I, so we had to stand on the deck near the restrooms. Service was not that good but I could understand as they seemed understaffed for a Saturday afternoon. My recommendation is that they expand their \n",
       "<mark class=\"entity\" style=\"background: #80CBC4; padding: 0.45em 0.6em; margin: 0 0.25em; line-height: 1; border-radius: 0.35em;\">\n",
       "    tasting room\n",
       "    <span style=\"font-size: 0.8em; font-weight: bold; line-height: 1; border-radius: 0.35em; text-transform: uppercase; vertical-align: middle; margin-left: 0.5rem\">FEATURE</span>\n",
       "</mark>\n",
       ", add more seats and staff.</br></div></span>"
      ],
      "text/plain": [
       "<IPython.core.display.HTML object>"
      ]
     },
     "metadata": {},
     "output_type": "display_data"
    },
    {
     "data": {
      "text/html": [
       "<span class=\"tex2jax_ignore\"><div class=\"entities\" style=\"line-height: 2.5; direction: ltr\">Arguably the best brewery \n",
       "<mark class=\"entity\" style=\"background: #C5CAE9; padding: 0.45em 0.6em; margin: 0 0.25em; line-height: 1; border-radius: 0.35em;\">\n",
       "    in SD\n",
       "    <span style=\"font-size: 0.8em; font-weight: bold; line-height: 1; border-radius: 0.35em; text-transform: uppercase; vertical-align: middle; margin-left: 0.5rem\">LOCATION</span>\n",
       "</mark>\n",
       ". They upgraded to a much larger tasting room a couple years back and have been working on revamping/expanding it since. The \n",
       "<mark class=\"entity\" style=\"background: #80CBC4; padding: 0.45em 0.6em; margin: 0 0.25em; line-height: 1; border-radius: 0.35em;\">\n",
       "    brewery\n",
       "    <span style=\"font-size: 0.8em; font-weight: bold; line-height: 1; border-radius: 0.35em; text-transform: uppercase; vertical-align: middle; margin-left: 0.5rem\">FEATURE</span>\n",
       "</mark>\n",
       " not only boasts a large \n",
       "<mark class=\"entity\" style=\"background: #80CBC4; padding: 0.45em 0.6em; margin: 0 0.25em; line-height: 1; border-radius: 0.35em;\">\n",
       "    tasting room\n",
       "    <span style=\"font-size: 0.8em; font-weight: bold; line-height: 1; border-radius: 0.35em; text-transform: uppercase; vertical-align: middle; margin-left: 0.5rem\">FEATURE</span>\n",
       "</mark>\n",
       " with both \n",
       "<mark class=\"entity\" style=\"background: #80CBC4; padding: 0.45em 0.6em; margin: 0 0.25em; line-height: 1; border-radius: 0.35em;\">\n",
       "    indoor\n",
       "    <span style=\"font-size: 0.8em; font-weight: bold; line-height: 1; border-radius: 0.35em; text-transform: uppercase; vertical-align: middle; margin-left: 0.5rem\">FEATURE</span>\n",
       "</mark>\n",
       " and \n",
       "<mark class=\"entity\" style=\"background: #80CBC4; padding: 0.45em 0.6em; margin: 0 0.25em; line-height: 1; border-radius: 0.35em;\">\n",
       "    outdoor seating\n",
       "    <span style=\"font-size: 0.8em; font-weight: bold; line-height: 1; border-radius: 0.35em; text-transform: uppercase; vertical-align: middle; margin-left: 0.5rem\">FEATURE</span>\n",
       "</mark>\n",
       " but they also have: fire pits, daily food trucks, a Tony Gwynn museum on-site (free), \n",
       "<mark class=\"entity\" style=\"background: #80CBC4; padding: 0.45em 0.6em; margin: 0 0.25em; line-height: 1; border-radius: 0.35em;\">\n",
       "    games\n",
       "    <span style=\"font-size: 0.8em; font-weight: bold; line-height: 1; border-radius: 0.35em; text-transform: uppercase; vertical-align: middle; margin-left: 0.5rem\">FEATURE</span>\n",
       "</mark>\n",
       ", gift/\n",
       "<mark class=\"entity\" style=\"background: #80CBC4; padding: 0.45em 0.6em; margin: 0 0.25em; line-height: 1; border-radius: 0.35em;\">\n",
       "    bottle shop\n",
       "    <span style=\"font-size: 0.8em; font-weight: bold; line-height: 1; border-radius: 0.35em; text-transform: uppercase; vertical-align: middle; margin-left: 0.5rem\">FEATURE</span>\n",
       "</mark>\n",
       ", tours and a private barrel-aged only \n",
       "<mark class=\"entity\" style=\"background: #80CBC4; padding: 0.45em 0.6em; margin: 0 0.25em; line-height: 1; border-radius: 0.35em;\">\n",
       "    tasting room\n",
       "    <span style=\"font-size: 0.8em; font-weight: bold; line-height: 1; border-radius: 0.35em; text-transform: uppercase; vertical-align: middle; margin-left: 0.5rem\">FEATURE</span>\n",
       "</mark>\n",
       " (\n",
       "<mark class=\"entity\" style=\"background: #FDD835; padding: 0.45em 0.6em; margin: 0 0.25em; line-height: 1; border-radius: 0.35em;\">\n",
       "    &quot;Anvil &amp; Stave\n",
       "    <span style=\"font-size: 0.8em; font-weight: bold; line-height: 1; border-radius: 0.35em; text-transform: uppercase; vertical-align: middle; margin-left: 0.5rem\">BEER_STYLE</span>\n",
       "</mark>\n",
       "&quot;). \n",
       "<mark class=\"entity\" style=\"background: #80CBC4; padding: 0.45em 0.6em; margin: 0 0.25em; line-height: 1; border-radius: 0.35em;\">\n",
       "    Super friendly\n",
       "    <span style=\"font-size: 0.8em; font-weight: bold; line-height: 1; border-radius: 0.35em; text-transform: uppercase; vertical-align: middle; margin-left: 0.5rem\">FEATURE</span>\n",
       "</mark>\n",
       " and \n",
       "<mark class=\"entity\" style=\"background: #80CBC4; padding: 0.45em 0.6em; margin: 0 0.25em; line-height: 1; border-radius: 0.35em;\">\n",
       "    helpful\n",
       "    <span style=\"font-size: 0.8em; font-weight: bold; line-height: 1; border-radius: 0.35em; text-transform: uppercase; vertical-align: middle; margin-left: 0.5rem\">FEATURE</span>\n",
       "</mark>\n",
       " staff and \n",
       "<mark class=\"entity\" style=\"background: #FDD835; padding: 0.45em 0.6em; margin: 0 0.25em; line-height: 1; border-radius: 0.35em;\">\n",
       "    Alesmith\n",
       "    <span style=\"font-size: 0.8em; font-weight: bold; line-height: 1; border-radius: 0.35em; text-transform: uppercase; vertical-align: middle; margin-left: 0.5rem\">BEER_STYLE</span>\n",
       "</mark>\n",
       " always has about 20 beers to choose from which include the every day favorites and a handful of barrel-aged, limited, or special beers. When in SD, this is a must.</br></div></span>"
      ],
      "text/plain": [
       "<IPython.core.display.HTML object>"
      ]
     },
     "metadata": {},
     "output_type": "display_data"
    },
    {
     "data": {
      "text/html": [
       "<span class=\"tex2jax_ignore\"><div class=\"entities\" style=\"line-height: 2.5; direction: ltr\">There are a lot of places in industrial parks, and most of them feel like it. That said, \n",
       "<mark class=\"entity\" style=\"background: #AED581; padding: 0.45em 0.6em; margin: 0 0.25em; line-height: 1; border-radius: 0.35em;\">\n",
       "    AleSmith\n",
       "    <span style=\"font-size: 0.8em; font-weight: bold; line-height: 1; border-radius: 0.35em; text-transform: uppercase; vertical-align: middle; margin-left: 0.5rem\">BREWERY</span>\n",
       "</mark>\n",
       " has done a lot to make this a \n",
       "<mark class=\"entity\" style=\"background: #80CBC4; padding: 0.45em 0.6em; margin: 0 0.25em; line-height: 1; border-radius: 0.35em;\">\n",
       "    welcoming space\n",
       "    <span style=\"font-size: 0.8em; font-weight: bold; line-height: 1; border-radius: 0.35em; text-transform: uppercase; vertical-align: middle; margin-left: 0.5rem\">FEATURE</span>\n",
       "</mark>\n",
       ". Lots of room for the happy hour crowd in the main space, plus a cave-like hidden room for \n",
       "<mark class=\"entity\" style=\"background: #FDD835; padding: 0.45em 0.6em; margin: 0 0.25em; line-height: 1; border-radius: 0.35em;\">\n",
       "    barrel-aged\n",
       "    <span style=\"font-size: 0.8em; font-weight: bold; line-height: 1; border-radius: 0.35em; text-transform: uppercase; vertical-align: middle; margin-left: 0.5rem\">BEER_STYLE</span>\n",
       "</mark>\n",
       " brews. \n",
       "<mark class=\"entity\" style=\"background: #80CBC4; padding: 0.45em 0.6em; margin: 0 0.25em; line-height: 1; border-radius: 0.35em;\">\n",
       "    Food trucks\n",
       "    <span style=\"font-size: 0.8em; font-weight: bold; line-height: 1; border-radius: 0.35em; text-transform: uppercase; vertical-align: middle; margin-left: 0.5rem\">FEATURE</span>\n",
       "</mark>\n",
       " are usually outside, and I had to get the bacon grilled cheese. I could spend a lot of time there if I lived nearby, and I was kinda sad I had to move on to the next place because of my limited time. (\n",
       "<mark class=\"entity\" style=\"background: #C5CAE9; padding: 0.45em 0.6em; margin: 0 0.25em; line-height: 1; border-radius: 0.35em;\">\n",
       "    San Diego\n",
       "    <span style=\"font-size: 0.8em; font-weight: bold; line-height: 1; border-radius: 0.35em; text-transform: uppercase; vertical-align: middle; margin-left: 0.5rem\">LOCATION</span>\n",
       "</mark>\n",
       ". Poor poor pitiful me, right?)</br></div></span>"
      ],
      "text/plain": [
       "<IPython.core.display.HTML object>"
      ]
     },
     "metadata": {},
     "output_type": "display_data"
    },
    {
     "data": {
      "text/html": [
       "<span class=\"tex2jax_ignore\"><div class=\"entities\" style=\"line-height: 2.5; direction: ltr\">This place is pretty \n",
       "<mark class=\"entity\" style=\"background: #80CBC4; padding: 0.45em 0.6em; margin: 0 0.25em; line-height: 1; border-radius: 0.35em;\">\n",
       "    awesome\n",
       "    <span style=\"font-size: 0.8em; font-weight: bold; line-height: 1; border-radius: 0.35em; text-transform: uppercase; vertical-align: middle; margin-left: 0.5rem\">FEATURE</span>\n",
       "</mark>\n",
       ". \n",
       "<mark class=\"entity\" style=\"background: #80CBC4; padding: 0.45em 0.6em; margin: 0 0.25em; line-height: 1; border-radius: 0.35em;\">\n",
       "    Awesome selection\n",
       "    <span style=\"font-size: 0.8em; font-weight: bold; line-height: 1; border-radius: 0.35em; text-transform: uppercase; vertical-align: middle; margin-left: 0.5rem\">FEATURE</span>\n",
       "</mark>\n",
       " of beer, \n",
       "<mark class=\"entity\" style=\"background: #80CBC4; padding: 0.45em 0.6em; margin: 0 0.25em; line-height: 1; border-radius: 0.35em;\">\n",
       "    very open\n",
       "    <span style=\"font-size: 0.8em; font-weight: bold; line-height: 1; border-radius: 0.35em; text-transform: uppercase; vertical-align: middle; margin-left: 0.5rem\">FEATURE</span>\n",
       "</mark>\n",
       " with different types of seating, including outdoors. Great service and nice vibe. I could totally hang out here all day with some friends and drink.</br></div></span>"
      ],
      "text/plain": [
       "<IPython.core.display.HTML object>"
      ]
     },
     "metadata": {},
     "output_type": "display_data"
    },
    {
     "data": {
      "text/html": [
       "<span class=\"tex2jax_ignore\"><div class=\"entities\" style=\"line-height: 2.5; direction: ltr\">This is a must-stop place if in the \n",
       "<mark class=\"entity\" style=\"background: #C5CAE9; padding: 0.45em 0.6em; margin: 0 0.25em; line-height: 1; border-radius: 0.35em;\">\n",
       "    San Diego\n",
       "    <span style=\"font-size: 0.8em; font-weight: bold; line-height: 1; border-radius: 0.35em; text-transform: uppercase; vertical-align: middle; margin-left: 0.5rem\">LOCATION</span>\n",
       "</mark>\n",
       " area. A little off the beaten path, especially if you are staying downtown but worth it. The Anvil &amp; Stave is a really cool experience and something you have to do if you are there. The main tasting room has a cool vibe and a nice \n",
       "<mark class=\"entity\" style=\"background: #80CBC4; padding: 0.45em 0.6em; margin: 0 0.25em; line-height: 1; border-radius: 0.35em;\">\n",
       "    selection\n",
       "    <span style=\"font-size: 0.8em; font-weight: bold; line-height: 1; border-radius: 0.35em; text-transform: uppercase; vertical-align: middle; margin-left: 0.5rem\">FEATURE</span>\n",
       "</mark>\n",
       " of beer but the Anvil &amp; Stave is the highlight for sure.</br></div></span>"
      ],
      "text/plain": [
       "<IPython.core.display.HTML object>"
      ]
     },
     "metadata": {},
     "output_type": "display_data"
    },
    {
     "data": {
      "text/html": [
       "<span class=\"tex2jax_ignore\"><div class=\"entities\" style=\"line-height: 2.5; direction: ltr\">Nice location right off \n",
       "<mark class=\"entity\" style=\"background: #C5CAE9; padding: 0.45em 0.6em; margin: 0 0.25em; line-height: 1; border-radius: 0.35em;\">\n",
       "    Miramar\n",
       "    <span style=\"font-size: 0.8em; font-weight: bold; line-height: 1; border-radius: 0.35em; text-transform: uppercase; vertical-align: middle; margin-left: 0.5rem\">LOCATION</span>\n",
       "</mark>\n",
       ". Very clean and open. No food available unless there is a food truck. Solid offerings of beer including some \n",
       "<mark class=\"entity\" style=\"background: #FDD835; padding: 0.45em 0.6em; margin: 0 0.25em; line-height: 1; border-radius: 0.35em;\">\n",
       "    barrell aged\n",
       "    <span style=\"font-size: 0.8em; font-weight: bold; line-height: 1; border-radius: 0.35em; text-transform: uppercase; vertical-align: middle; margin-left: 0.5rem\">BEER_STYLE</span>\n",
       "</mark>\n",
       " options plus some r and d. Worth a visit if \n",
       "<mark class=\"entity\" style=\"background: #C5CAE9; padding: 0.45em 0.6em; margin: 0 0.25em; line-height: 1; border-radius: 0.35em;\">\n",
       "    in San Diego\n",
       "    <span style=\"font-size: 0.8em; font-weight: bold; line-height: 1; border-radius: 0.35em; text-transform: uppercase; vertical-align: middle; margin-left: 0.5rem\">LOCATION</span>\n",
       "</mark>\n",
       " and just around he corner from Ballast Point brewery/restaraunt.</br></div></span>"
      ],
      "text/plain": [
       "<IPython.core.display.HTML object>"
      ]
     },
     "metadata": {},
     "output_type": "display_data"
    },
    {
     "data": {
      "text/html": [
       "<span class=\"tex2jax_ignore\"><div class=\"entities\" style=\"line-height: 2.5; direction: ltr\">Made two stops here and found a \n",
       "<mark class=\"entity\" style=\"background: #80CBC4; padding: 0.45em 0.6em; margin: 0 0.25em; line-height: 1; border-radius: 0.35em;\">\n",
       "    huge open space\n",
       "    <span style=\"font-size: 0.8em; font-weight: bold; line-height: 1; border-radius: 0.35em; text-transform: uppercase; vertical-align: middle; margin-left: 0.5rem\">FEATURE</span>\n",
       "</mark>\n",
       ", long bar area, movies showing and a pretty \n",
       "<mark class=\"entity\" style=\"background: #80CBC4; padding: 0.45em 0.6em; margin: 0 0.25em; line-height: 1; border-radius: 0.35em;\">\n",
       "    big gift shop\n",
       "    <span style=\"font-size: 0.8em; font-weight: bold; line-height: 1; border-radius: 0.35em; text-transform: uppercase; vertical-align: middle; margin-left: 0.5rem\">FEATURE</span>\n",
       "</mark>\n",
       " that also had bottle sales. If you come on the right day, you'll luck out with some Speedway variants, if not you'll just have to settle for variants of some other beer. Hard to go wrong either way. I'd go here if I had a \n",
       "<mark class=\"entity\" style=\"background: #80CBC4; padding: 0.45em 0.6em; margin: 0 0.25em; line-height: 1; border-radius: 0.35em;\">\n",
       "    big group\n",
       "    <span style=\"font-size: 0.8em; font-weight: bold; line-height: 1; border-radius: 0.35em; text-transform: uppercase; vertical-align: middle; margin-left: 0.5rem\">FEATURE</span>\n",
       "</mark>\n",
       " by the way.</br></div></span>"
      ],
      "text/plain": [
       "<IPython.core.display.HTML object>"
      ]
     },
     "metadata": {},
     "output_type": "display_data"
    },
    {
     "data": {
      "text/html": [
       "<span class=\"tex2jax_ignore\"><div class=\"entities\" style=\"line-height: 2.5; direction: ltr\">All \n",
       "<mark class=\"entity\" style=\"background: #FDD835; padding: 0.45em 0.6em; margin: 0 0.25em; line-height: 1; border-radius: 0.35em;\">\n",
       "    Hail\n",
       "    <span style=\"font-size: 0.8em; font-weight: bold; line-height: 1; border-radius: 0.35em; text-transform: uppercase; vertical-align: middle; margin-left: 0.5rem\">BEER_STYLE</span>\n",
       "</mark>\n",
       ", \n",
       "<mark class=\"entity\" style=\"background: #FDD835; padding: 0.45em 0.6em; margin: 0 0.25em; line-height: 1; border-radius: 0.35em;\">\n",
       "    Alesmith\n",
       "    <span style=\"font-size: 0.8em; font-weight: bold; line-height: 1; border-radius: 0.35em; text-transform: uppercase; vertical-align: middle; margin-left: 0.5rem\">BEER_STYLE</span>\n",
       "</mark>\n",
       ". I remain mystified that a brewer in one of the most consistently warm climates can produce such astounding stouts. But the story starts two years ago because \n",
       "<mark class=\"entity\" style=\"background: #AED581; padding: 0.45em 0.6em; margin: 0 0.25em; line-height: 1; border-radius: 0.35em;\">\n",
       "    Alesmith\n",
       "    <span style=\"font-size: 0.8em; font-weight: bold; line-height: 1; border-radius: 0.35em; text-transform: uppercase; vertical-align: middle; margin-left: 0.5rem\">BREWERY</span>\n",
       "</mark>\n",
       " has two on my quest to taste &quot;10001 Beers You Must Taste Before You Die&quot; and they don't distribute in my state. When their beer starts to dribble into Illinois, I was advised by the largest beverage retailer \n",
       "<mark class=\"entity\" style=\"background: #C5CAE9; padding: 0.45em 0.6em; margin: 0 0.25em; line-height: 1; border-radius: 0.35em;\">\n",
       "    in Chicagoland\n",
       "    <span style=\"font-size: 0.8em; font-weight: bold; line-height: 1; border-radius: 0.35em; text-transform: uppercase; vertical-align: middle; margin-left: 0.5rem\">LOCATION</span>\n",
       "</mark>\n",
       " that I would be lucky to get any soon. A month later, we visit my wife's cousin \n",
       "<mark class=\"entity\" style=\"background: #C5CAE9; padding: 0.45em 0.6em; margin: 0 0.25em; line-height: 1; border-radius: 0.35em;\">\n",
       "    in San Diego\n",
       "    <span style=\"font-size: 0.8em; font-weight: bold; line-height: 1; border-radius: 0.35em; text-transform: uppercase; vertical-align: middle; margin-left: 0.5rem\">LOCATION</span>\n",
       "</mark>\n",
       " and he has a driver without much to do. So it seemed like a genius-stroke to ask him to take me to \n",
       "<mark class=\"entity\" style=\"background: #FDD835; padding: 0.45em 0.6em; margin: 0 0.25em; line-height: 1; border-radius: 0.35em;\">\n",
       "    Alesmith\n",
       "    <span style=\"font-size: 0.8em; font-weight: bold; line-height: 1; border-radius: 0.35em; text-transform: uppercase; vertical-align: middle; margin-left: 0.5rem\">BEER_STYLE</span>\n",
       "</mark>\n",
       ". I could drink all I wanted! Well, we arrived and I discovered : no flights, but they sold bottles. We were flying out tomorrow, so I didn't want to buy bottles. Dilemma. Then, I saw a clique of restauranteurs sampling the brews. Without introducing myself, I went over and acted like I knew their biz. The conceit worked and I sampled at least five brews... all excellent and an astounding \n",
       "<mark class=\"entity\" style=\"background: #FDD835; padding: 0.45em 0.6em; margin: 0 0.25em; line-height: 1; border-radius: 0.35em;\">\n",
       "    stout\n",
       "    <span style=\"font-size: 0.8em; font-weight: bold; line-height: 1; border-radius: 0.35em; text-transform: uppercase; vertical-align: middle; margin-left: 0.5rem\">BEER_STYLE</span>\n",
       "</mark>\n",
       ". Lesson: Beer-hunting requires more than persistent, it requires guile... albeit for a good cause.</br></div></span>"
      ],
      "text/plain": [
       "<IPython.core.display.HTML object>"
      ]
     },
     "metadata": {},
     "output_type": "display_data"
    },
    {
     "data": {
      "text/html": [
       "<span class=\"tex2jax_ignore\"><div class=\"entities\" style=\"line-height: 2.5; direction: ltr\">Very cool place, just wish the beer was better. Food truck was pulled up for good eats. \n",
       "<mark class=\"entity\" style=\"background: #80CBC4; padding: 0.45em 0.6em; margin: 0 0.25em; line-height: 1; border-radius: 0.35em;\">\n",
       "    Outdoor patio\n",
       "    <span style=\"font-size: 0.8em; font-weight: bold; line-height: 1; border-radius: 0.35em; text-transform: uppercase; vertical-align: middle; margin-left: 0.5rem\">FEATURE</span>\n",
       "</mark>\n",
       " area had a cool area to \n",
       "<mark class=\"entity\" style=\"background: #80CBC4; padding: 0.45em 0.6em; margin: 0 0.25em; line-height: 1; border-radius: 0.35em;\">\n",
       "    chill\n",
       "    <span style=\"font-size: 0.8em; font-weight: bold; line-height: 1; border-radius: 0.35em; text-transform: uppercase; vertical-align: middle; margin-left: 0.5rem\">FEATURE</span>\n",
       "</mark>\n",
       " by the fire and others were playing corn hole. Inside was massive with lots of stools and tables, all of which were taken on the Saturday evening I was there. Loved the place but unless they produce better beer, I'll probably skip next time (no Speedway \n",
       "<mark class=\"entity\" style=\"background: #FDD835; padding: 0.45em 0.6em; margin: 0 0.25em; line-height: 1; border-radius: 0.35em;\">\n",
       "    stout\n",
       "    <span style=\"font-size: 0.8em; font-weight: bold; line-height: 1; border-radius: 0.35em; text-transform: uppercase; vertical-align: middle; margin-left: 0.5rem\">BEER_STYLE</span>\n",
       "</mark>\n",
       " or any variants available the day I was there).</br></div></span>"
      ],
      "text/plain": [
       "<IPython.core.display.HTML object>"
      ]
     },
     "metadata": {},
     "output_type": "display_data"
    },
    {
     "data": {
      "text/html": [
       "<span class=\"tex2jax_ignore\"><div class=\"entities\" style=\"line-height: 2.5; direction: ltr\">Stopped here to check out their beers because they don't make it to DE. Beers were great as expected. The \n",
       "<mark class=\"entity\" style=\"background: #80CBC4; padding: 0.45em 0.6em; margin: 0 0.25em; line-height: 1; border-radius: 0.35em;\">\n",
       "    tasting room\n",
       "    <span style=\"font-size: 0.8em; font-weight: bold; line-height: 1; border-radius: 0.35em; text-transform: uppercase; vertical-align: middle; margin-left: 0.5rem\">FEATURE</span>\n",
       "</mark>\n",
       " is \n",
       "<mark class=\"entity\" style=\"background: #80CBC4; padding: 0.45em 0.6em; margin: 0 0.25em; line-height: 1; border-radius: 0.35em;\">\n",
       "    spacious\n",
       "    <span style=\"font-size: 0.8em; font-weight: bold; line-height: 1; border-radius: 0.35em; text-transform: uppercase; vertical-align: middle; margin-left: 0.5rem\">FEATURE</span>\n",
       "</mark>\n",
       " and they offer a rack of four samples for tasting. We were there during mid afternoon on a Friday and they were busy but not crowded. Not a bad place to hang out and drink some beer.</br></div></span>"
      ],
      "text/plain": [
       "<IPython.core.display.HTML object>"
      ]
     },
     "metadata": {},
     "output_type": "display_data"
    },
    {
     "data": {
      "text/html": [
       "<span class=\"tex2jax_ignore\"><div class=\"entities\" style=\"line-height: 2.5; direction: ltr\">The new \n",
       "<mark class=\"entity\" style=\"background: #80CBC4; padding: 0.45em 0.6em; margin: 0 0.25em; line-height: 1; border-radius: 0.35em;\">\n",
       "    tasting room\n",
       "    <span style=\"font-size: 0.8em; font-weight: bold; line-height: 1; border-radius: 0.35em; text-transform: uppercase; vertical-align: middle; margin-left: 0.5rem\">FEATURE</span>\n",
       "</mark>\n",
       " is a \n",
       "<mark class=\"entity\" style=\"background: #80CBC4; padding: 0.45em 0.6em; margin: 0 0.25em; line-height: 1; border-radius: 0.35em;\">\n",
       "    huge space\n",
       "    <span style=\"font-size: 0.8em; font-weight: bold; line-height: 1; border-radius: 0.35em; text-transform: uppercase; vertical-align: middle; margin-left: 0.5rem\">FEATURE</span>\n",
       "</mark>\n",
       " in an industrial park. Still a decent vibe given the size and location. They typically have \n",
       "<mark class=\"entity\" style=\"background: #80CBC4; padding: 0.45em 0.6em; margin: 0 0.25em; line-height: 1; border-radius: 0.35em;\">\n",
       "    10-12 standards\n",
       "    <span style=\"font-size: 0.8em; font-weight: bold; line-height: 1; border-radius: 0.35em; text-transform: uppercase; vertical-align: middle; margin-left: 0.5rem\">FEATURE</span>\n",
       "</mark>\n",
       " on tap and \n",
       "<mark class=\"entity\" style=\"background: #80CBC4; padding: 0.45em 0.6em; margin: 0 0.25em; line-height: 1; border-radius: 0.35em;\">\n",
       "    5-6 specialty\n",
       "    <span style=\"font-size: 0.8em; font-weight: bold; line-height: 1; border-radius: 0.35em; text-transform: uppercase; vertical-align: middle; margin-left: 0.5rem\">FEATURE</span>\n",
       "</mark>\n",
       " beers. A series of \n",
       "<mark class=\"entity\" style=\"background: #FDD835; padding: 0.45em 0.6em; margin: 0 0.25em; line-height: 1; border-radius: 0.35em;\">\n",
       "    Mikkeller\n",
       "    <span style=\"font-size: 0.8em; font-weight: bold; line-height: 1; border-radius: 0.35em; text-transform: uppercase; vertical-align: middle; margin-left: 0.5rem\">BEER_STYLE</span>\n",
       "</mark>\n",
       " collabs were available when I visited. As with their standard bottled beers - nothing really blew me away, just a broad range of solid offerings. Beer tenders seemed to be reasonably \n",
       "<mark class=\"entity\" style=\"background: #80CBC4; padding: 0.45em 0.6em; margin: 0 0.25em; line-height: 1; border-radius: 0.35em;\">\n",
       "    knowledgable\n",
       "    <span style=\"font-size: 0.8em; font-weight: bold; line-height: 1; border-radius: 0.35em; text-transform: uppercase; vertical-align: middle; margin-left: 0.5rem\">FEATURE</span>\n",
       "</mark>\n",
       " and \n",
       "<mark class=\"entity\" style=\"background: #80CBC4; padding: 0.45em 0.6em; margin: 0 0.25em; line-height: 1; border-radius: 0.35em;\">\n",
       "    helpful\n",
       "    <span style=\"font-size: 0.8em; font-weight: bold; line-height: 1; border-radius: 0.35em; text-transform: uppercase; vertical-align: middle; margin-left: 0.5rem\">FEATURE</span>\n",
       "</mark>\n",
       ". In most towns \n",
       "<mark class=\"entity\" style=\"background: #AED581; padding: 0.45em 0.6em; margin: 0 0.25em; line-height: 1; border-radius: 0.35em;\">\n",
       "    Alesmith\n",
       "    <span style=\"font-size: 0.8em; font-weight: bold; line-height: 1; border-radius: 0.35em; text-transform: uppercase; vertical-align: middle; margin-left: 0.5rem\">BREWERY</span>\n",
       "</mark>\n",
       " would stand out but not in SD these days.</div></span>"
      ],
      "text/plain": [
       "<IPython.core.display.HTML object>"
      ]
     },
     "metadata": {},
     "output_type": "display_data"
    }
   ],
   "source": [
    "# Test trained model\n",
    "with open('../data/raw/reviews_san-diego_alesmith.txt') as file:\n",
    "    reviews = file.readlines()\n",
    "    \n",
    "for review in reviews:\n",
    "    doc = nlp(review)\n",
    "    displacy.render(doc, style=\"ent\", options=options)"
   ]
  },
  {
   "cell_type": "code",
   "execution_count": null,
   "metadata": {},
   "outputs": [],
   "source": []
  }
 ],
 "metadata": {
  "kernelspec": {
   "display_name": "Python 3",
   "language": "python",
   "name": "python3"
  },
  "language_info": {
   "codemirror_mode": {
    "name": "ipython",
    "version": 3
   },
   "file_extension": ".py",
   "mimetype": "text/x-python",
   "name": "python",
   "nbconvert_exporter": "python",
   "pygments_lexer": "ipython3",
   "version": "3.9.0"
  }
 },
 "nbformat": 4,
 "nbformat_minor": 4
}
