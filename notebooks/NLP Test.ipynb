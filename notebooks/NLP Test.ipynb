{
 "cells": [
  {
   "cell_type": "markdown",
   "metadata": {},
   "source": [
    "# Brewery Review NLP Workbook\n",
    "\n",
    "The purpose of this notebook is to discover and demonstrate the NLP pipeline we will use to process brewery reviews into short phrases.\n",
    "\n",
    "## Examples from Google Maps\n",
    "\n",
    "* Mike Hess Brewing, North Park - Modern, family-friendly hangout featuring a tasting room, board games & brewery views.\n",
    "* North Park Beer Company - Spacious brewery & taproom serving San Diego-style ales & lagers amid dapper decor.\n",
    "* Rip Current Brewing North Park - This chill, wood-paneled joint with a roomy bar offers pub grub & house-brewed craft beers on tap.\n",
    "\n",
    "## Notes\n",
    "\n",
    "* Sentiment - Only analyze positive sentiment reviews for the descriptions. Though it might be interesting to experiement with including both positive and negative reviews.\n",
    "* Opinions - Some reviews include only opinions about a place and may not be accurate or useful. \n",
    "* Named Entity Recognition - This will be interesting to process to see if the models are able to match the right entities.\n",
    "* Context-free Grammar - The Google Maps are somewhat predictable in their structure so I wonder if they generate those senteces with a pre-defined grammar. \n",
    "* Beer Styles - Beer Advocate has current beers and style so it will be straight-forward to scrape the most popular styles to include with the descriptions. \n",
    "* Natural Language Generation (NLG) - How to generate the sentences or phrases so that they make sense?\n",
    "* Markov Chains - Simple solution might be to use [`markovify`](https://github.com/jsvine/markovify) to do the simple generation. It will be very dependant on the reviewer's writing style, but combining all into one might regularize."
   ]
  },
  {
   "cell_type": "code",
   "execution_count": 1,
   "metadata": {},
   "outputs": [],
   "source": [
    "import pandas as pd\n",
    "import markovify\n",
    "import spacy\n",
    "from spacy import displacy\n",
    "import markovify\n",
    "from textblob import TextBlob"
   ]
  },
  {
   "cell_type": "code",
   "execution_count": 2,
   "metadata": {},
   "outputs": [
    {
     "data": {
      "text/plain": [
       "['Nice old fashion building. I love the door knobs for beer taps. The beer selection offers over ten taps. The bar was rented for the night for an association I belong to. There were a couple of hot banquet offerings. They were slightly different and pretty good flavor. The service was good for the event.\\n',\n",
       " \"This place feels more like a bar than a restaurant, but they do pour their own and other it in flights. Located blocks from Petco Park with an inviting porch, it definitely caters to Padres fans and out-of-towners in for a visit. I can't say I loved the beers I had there, but the bartender was helpful an courteous and Half Door was a more than inviting place to kill a happy hour.\\n\",\n",
       " 'Old converted house in downtown with porch/ patio seating. L-shaped bar seats about 15... additional seat around. 16 beers on tap, half theirs, half local guests... nice mix. Friendly local vibe. Good service. Very tasty food.\\n']"
      ]
     },
     "execution_count": 2,
     "metadata": {},
     "output_type": "execute_result"
    }
   ],
   "source": [
    "with open('reviews_san-diego_half-door-brewing-co.txt') as file:\n",
    "    reviews = file.readlines()\n",
    "reviews[:3]"
   ]
  },
  {
   "cell_type": "code",
   "execution_count": 3,
   "metadata": {},
   "outputs": [
    {
     "name": "stdout",
     "output_type": "stream",
     "text": [
      "Nice nice ADJ JJ amod Xxxx True False\n",
      "old old ADJ JJ amod xxx True False\n",
      "fashion fashion NOUN NN compound xxxx True False\n",
      "building building NOUN NN ROOT xxxx True False\n",
      ". . PUNCT . punct . False False\n",
      "I -PRON- PRON PRP nsubj X True True\n",
      "love love VERB VBP ROOT xxxx True False\n",
      "the the DET DT det xxx True True\n",
      "door door NOUN NN compound xxxx True False\n",
      "knobs knob VERB VBZ dobj xxxx True False\n",
      "for for ADP IN prep xxx True True\n",
      "beer beer NOUN NN compound xxxx True False\n",
      "taps tap NOUN NNS pobj xxxx True False\n",
      ". . PUNCT . punct . False False\n",
      "The the DET DT det Xxx True True\n",
      "beer beer NOUN NN compound xxxx True False\n",
      "selection selection NOUN NN nsubj xxxx True False\n",
      "offers offer VERB VBZ ROOT xxxx True False\n",
      "over over ADP IN prep xxxx True True\n",
      "ten ten NUM CD nummod xxx True True\n"
     ]
    }
   ],
   "source": [
    "# Inspect spaCy's tokens\n",
    "nlp = spacy.load(\"en_core_web_sm\")\n",
    "doc = nlp(reviews[0])\n",
    "for token in doc[:20]:\n",
    "    print(token.text, token.lemma_, token.pos_, token.tag_, token.dep_, token.shape_, token.is_alpha, token.is_stop)"
   ]
  },
  {
   "cell_type": "code",
   "execution_count": 4,
   "metadata": {},
   "outputs": [
    {
     "name": "stdout",
     "output_type": "stream",
     "text": [
      "ten 95 98 CARDINAL\n",
      "the night 128 137 TIME\n"
     ]
    }
   ],
   "source": [
    "for ent in doc.ents:\n",
    "    print(ent.text, ent.start_char, ent.end_char, ent.label_)"
   ]
  },
  {
   "cell_type": "code",
   "execution_count": 5,
   "metadata": {},
   "outputs": [
    {
     "name": "stdout",
     "output_type": "stream",
     "text": [
      "Nice old fashion building\n",
      "I\n",
      "beer taps\n",
      "The beer selection\n",
      "ten taps\n",
      "The bar\n",
      "the night\n",
      "an association\n",
      "I\n",
      "a couple\n",
      "hot banquet offerings\n",
      "They\n",
      "slightly different and pretty good flavor\n",
      "The service\n",
      "the event\n",
      "\n",
      "Sentences\n",
      "---------\n",
      "Nice old fashion building.\n",
      "I love the door knobs for beer taps.\n",
      "The beer selection offers over ten taps.\n",
      "The bar was rented for the night for an association I belong to.\n",
      "There were a couple of hot banquet offerings.\n",
      "They were slightly different and pretty good flavor.\n",
      "The service was good for the event.\n",
      "\n"
     ]
    }
   ],
   "source": [
    "noun_chunks = list(doc.noun_chunks)\n",
    "for chunk in noun_chunks:\n",
    "    print(chunk.text)\n",
    "\n",
    "print(\"\\nSentences\")\n",
    "print(\"---------\")\n",
    "sentences = list(doc.sents)\n",
    "for sent in sentences:\n",
    "    print(sent.text)"
   ]
  },
  {
   "cell_type": "code",
   "execution_count": 6,
   "metadata": {},
   "outputs": [
    {
     "data": {
      "text/html": [
       "<span class=\"tex2jax_ignore\"><div class=\"entities\" style=\"line-height: 2.5; direction: ltr\">Nice old fashion building. I love the door knobs for beer taps. The beer selection offers over \n",
       "<mark class=\"entity\" style=\"background: #e4e7d2; padding: 0.45em 0.6em; margin: 0 0.25em; line-height: 1; border-radius: 0.35em;\">\n",
       "    ten\n",
       "    <span style=\"font-size: 0.8em; font-weight: bold; line-height: 1; border-radius: 0.35em; text-transform: uppercase; vertical-align: middle; margin-left: 0.5rem\">CARDINAL</span>\n",
       "</mark>\n",
       " taps. The bar was rented for \n",
       "<mark class=\"entity\" style=\"background: #bfe1d9; padding: 0.45em 0.6em; margin: 0 0.25em; line-height: 1; border-radius: 0.35em;\">\n",
       "    the night\n",
       "    <span style=\"font-size: 0.8em; font-weight: bold; line-height: 1; border-radius: 0.35em; text-transform: uppercase; vertical-align: middle; margin-left: 0.5rem\">TIME</span>\n",
       "</mark>\n",
       " for an association I belong to. There were a couple of hot banquet offerings. They were slightly different and pretty good flavor. The service was good for the event.</br></div></span>"
      ],
      "text/plain": [
       "<IPython.core.display.HTML object>"
      ]
     },
     "metadata": {},
     "output_type": "display_data"
    }
   ],
   "source": [
    "displacy.render(doc, style=\"ent\")"
   ]
  },
  {
   "cell_type": "code",
   "execution_count": 7,
   "metadata": {},
   "outputs": [],
   "source": [
    "# Get raw text as string.\n",
    "with open(\"reviews_san-diego_half-door-brewing-co.txt\") as f:\n",
    "    text = f.read()\n",
    "\n",
    "# Build the Markov model with ALL reviews\n",
    "text_model = markovify.Text(text, state_size=2)"
   ]
  },
  {
   "cell_type": "code",
   "execution_count": 8,
   "metadata": {},
   "outputs": [
    {
     "name": "stdout",
     "output_type": "stream",
     "text": [
      "It has a nice little place.\n",
      "I can't say I loved the beers were unfiltered yummy ness.\n",
      "Tucked away in an old house near Gaslamp District and Petco Park.\n",
      "The food looked good, but as we had were great for the night for an association I belong to.\n",
      "It has a nice little place.\n"
     ]
    }
   ],
   "source": [
    "# Print five randomly-generated sentences\n",
    "for _ in range(5):\n",
    "    print(text_model.make_sentence(tries=100))"
   ]
  },
  {
   "cell_type": "code",
   "execution_count": 9,
   "metadata": {},
   "outputs": [
    {
     "name": "stdout",
     "output_type": "stream",
     "text": [
      "You can do a flight of 3-6 beers and the few apps we had already eaten we did not get a beer though.\n",
      "I can't say I loved the beers I had Imperial Stout, IPA, and a Berliner Weissbier.\n",
      "Still a great place with delicious food - I had Imperial Stout, IPA, and a Berliner Weissbier.\n",
      "Very laid back place with delicious food - I had Imperial Stout, IPA, and a Berliner Weissbier.\n",
      "16 beers on tap.\n"
     ]
    }
   ],
   "source": [
    "# Print three randomly-generated sentences of no more than 280 characters\n",
    "for _ in range(5):\n",
    "    print(text_model.make_short_sentence(144))"
   ]
  },
  {
   "cell_type": "code",
   "execution_count": 10,
   "metadata": {},
   "outputs": [
    {
     "data": {
      "text/html": [
       "<span class=\"tex2jax_ignore\"><div class=\"entities\" style=\"line-height: 2.5; direction: ltr\">Nice old fashion building. I love the door knobs for beer taps. The beer selection offers over \n",
       "<mark class=\"entity\" style=\"background: #e4e7d2; padding: 0.45em 0.6em; margin: 0 0.25em; line-height: 1; border-radius: 0.35em;\">\n",
       "    ten\n",
       "    <span style=\"font-size: 0.8em; font-weight: bold; line-height: 1; border-radius: 0.35em; text-transform: uppercase; vertical-align: middle; margin-left: 0.5rem\">CARDINAL</span>\n",
       "</mark>\n",
       " taps. The bar was rented for \n",
       "<mark class=\"entity\" style=\"background: #bfe1d9; padding: 0.45em 0.6em; margin: 0 0.25em; line-height: 1; border-radius: 0.35em;\">\n",
       "    the night\n",
       "    <span style=\"font-size: 0.8em; font-weight: bold; line-height: 1; border-radius: 0.35em; text-transform: uppercase; vertical-align: middle; margin-left: 0.5rem\">TIME</span>\n",
       "</mark>\n",
       " for an association I belong to. There were a couple of hot banquet offerings. They were slightly different and pretty good flavor. The service was good for the event.</br></div></span>"
      ],
      "text/plain": [
       "<IPython.core.display.HTML object>"
      ]
     },
     "metadata": {},
     "output_type": "display_data"
    },
    {
     "name": "stdout",
     "output_type": "stream",
     "text": [
      "Polarity     : 0.32\n",
      "Subjectivity : 0.5449999999999999\n",
      "\n",
      "-----\n",
      "\n"
     ]
    },
    {
     "data": {
      "text/html": [
       "<span class=\"tex2jax_ignore\"><div class=\"entities\" style=\"line-height: 2.5; direction: ltr\">This place feels more like a bar than a restaurant, but they do pour their own and other it in flights. Located blocks from \n",
       "<mark class=\"entity\" style=\"background: #ff9561; padding: 0.45em 0.6em; margin: 0 0.25em; line-height: 1; border-radius: 0.35em;\">\n",
       "    Petco Park\n",
       "    <span style=\"font-size: 0.8em; font-weight: bold; line-height: 1; border-radius: 0.35em; text-transform: uppercase; vertical-align: middle; margin-left: 0.5rem\">LOC</span>\n",
       "</mark>\n",
       " with an inviting porch, it definitely caters to \n",
       "<mark class=\"entity\" style=\"background: #aa9cfc; padding: 0.45em 0.6em; margin: 0 0.25em; line-height: 1; border-radius: 0.35em;\">\n",
       "    Padres\n",
       "    <span style=\"font-size: 0.8em; font-weight: bold; line-height: 1; border-radius: 0.35em; text-transform: uppercase; vertical-align: middle; margin-left: 0.5rem\">PERSON</span>\n",
       "</mark>\n",
       " fans and out-of-towners in for a visit. I can't say I loved the beers I had there, but the bartender was helpful an courteous and Half Door was a more than inviting place to kill \n",
       "<mark class=\"entity\" style=\"background: #bfe1d9; padding: 0.45em 0.6em; margin: 0 0.25em; line-height: 1; border-radius: 0.35em;\">\n",
       "    a happy hour\n",
       "    <span style=\"font-size: 0.8em; font-weight: bold; line-height: 1; border-radius: 0.35em; text-transform: uppercase; vertical-align: middle; margin-left: 0.5rem\">TIME</span>\n",
       "</mark>\n",
       ".</br></div></span>"
      ],
      "text/plain": [
       "<IPython.core.display.HTML object>"
      ]
     },
     "metadata": {},
     "output_type": "display_data"
    },
    {
     "name": "stdout",
     "output_type": "stream",
     "text": [
      "Polarity     : 0.3787037037037037\n",
      "Subjectivity : 0.6490740740740741\n",
      "\n",
      "-----\n",
      "\n"
     ]
    },
    {
     "data": {
      "text/html": [
       "<span class=\"tex2jax_ignore\"><div class=\"entities\" style=\"line-height: 2.5; direction: ltr\">Old converted house in downtown with porch/ patio seating. L-shaped bar seats \n",
       "<mark class=\"entity\" style=\"background: #e4e7d2; padding: 0.45em 0.6em; margin: 0 0.25em; line-height: 1; border-radius: 0.35em;\">\n",
       "    about 15\n",
       "    <span style=\"font-size: 0.8em; font-weight: bold; line-height: 1; border-radius: 0.35em; text-transform: uppercase; vertical-align: middle; margin-left: 0.5rem\">CARDINAL</span>\n",
       "</mark>\n",
       "... additional seat around. \n",
       "<mark class=\"entity\" style=\"background: #e4e7d2; padding: 0.45em 0.6em; margin: 0 0.25em; line-height: 1; border-radius: 0.35em;\">\n",
       "    16\n",
       "    <span style=\"font-size: 0.8em; font-weight: bold; line-height: 1; border-radius: 0.35em; text-transform: uppercase; vertical-align: middle; margin-left: 0.5rem\">CARDINAL</span>\n",
       "</mark>\n",
       " beers on tap, \n",
       "<mark class=\"entity\" style=\"background: #e4e7d2; padding: 0.45em 0.6em; margin: 0 0.25em; line-height: 1; border-radius: 0.35em;\">\n",
       "    half\n",
       "    <span style=\"font-size: 0.8em; font-weight: bold; line-height: 1; border-radius: 0.35em; text-transform: uppercase; vertical-align: middle; margin-left: 0.5rem\">CARDINAL</span>\n",
       "</mark>\n",
       " theirs, \n",
       "<mark class=\"entity\" style=\"background: #e4e7d2; padding: 0.45em 0.6em; margin: 0 0.25em; line-height: 1; border-radius: 0.35em;\">\n",
       "    half\n",
       "    <span style=\"font-size: 0.8em; font-weight: bold; line-height: 1; border-radius: 0.35em; text-transform: uppercase; vertical-align: middle; margin-left: 0.5rem\">CARDINAL</span>\n",
       "</mark>\n",
       " local guests... nice mix. Friendly local vibe. Good service. Very tasty food.</br></div></span>"
      ],
      "text/plain": [
       "<IPython.core.display.HTML object>"
      ]
     },
     "metadata": {},
     "output_type": "display_data"
    },
    {
     "name": "stdout",
     "output_type": "stream",
     "text": [
      "Polarity     : 0.1824074074074074\n",
      "Subjectivity : 0.3259259259259259\n",
      "\n",
      "-----\n",
      "\n"
     ]
    },
    {
     "name": "stderr",
     "output_type": "stream",
     "text": [
      "/Users/chris/opt/anaconda3/envs/brewery-review-nlp/lib/python3.9/site-packages/spacy/displacy/__init__.py:189: UserWarning: [W006] No entities to visualize found in Doc object. If this is surprising to you, make sure the Doc was processed using a model that supports named entity recognition, and check the `doc.ents` property manually if necessary.\n",
      "  warnings.warn(Warnings.W006)\n"
     ]
    },
    {
     "data": {
      "text/html": [
       "<span class=\"tex2jax_ignore\"><div class=\"entities\" style=\"line-height: 2.5; direction: ltr\">Nice chill place, staff was really nice and helpful offered samples of their house stuff which was really good, The house IPA was nice. Had a old hotel bar saloon feel. will revisit for sure.</br></div></span>"
      ],
      "text/plain": [
       "<IPython.core.display.HTML object>"
      ]
     },
     "metadata": {},
     "output_type": "display_data"
    },
    {
     "name": "stdout",
     "output_type": "stream",
     "text": [
      "Polarity     : 0.5166666666666667\n",
      "Subjectivity : 0.7814814814814816\n",
      "\n",
      "-----\n",
      "\n"
     ]
    },
    {
     "data": {
      "text/html": [
       "<span class=\"tex2jax_ignore\"><div class=\"entities\" style=\"line-height: 2.5; direction: ltr\">Stopped by here \n",
       "<mark class=\"entity\" style=\"background: #bfe1d9; padding: 0.45em 0.6em; margin: 0 0.25em; line-height: 1; border-radius: 0.35em;\">\n",
       "    last Monday\n",
       "    <span style=\"font-size: 0.8em; font-weight: bold; line-height: 1; border-radius: 0.35em; text-transform: uppercase; vertical-align: middle; margin-left: 0.5rem\">DATE</span>\n",
       "</mark>\n",
       " \n",
       "<mark class=\"entity\" style=\"background: #bfe1d9; padding: 0.45em 0.6em; margin: 0 0.25em; line-height: 1; border-radius: 0.35em;\">\n",
       "    night\n",
       "    <span style=\"font-size: 0.8em; font-weight: bold; line-height: 1; border-radius: 0.35em; text-transform: uppercase; vertical-align: middle; margin-left: 0.5rem\">TIME</span>\n",
       "</mark>\n",
       " to try some beers. Very laid back place with upper and lower porches and bar, table and coach seating. Bar tender was very nice and offered samples right away. You can do a flight of \n",
       "<mark class=\"entity\" style=\"background: #e4e7d2; padding: 0.45em 0.6em; margin: 0 0.25em; line-height: 1; border-radius: 0.35em;\">\n",
       "    3\n",
       "    <span style=\"font-size: 0.8em; font-weight: bold; line-height: 1; border-radius: 0.35em; text-transform: uppercase; vertical-align: middle; margin-left: 0.5rem\">CARDINAL</span>\n",
       "</mark>\n",
       "-6 beers and they had everything from a wide range of styles. Everything I had was very good and most were pretty true to style. The food looked good, but as we had already eaten we did not get a chance to try it.</br></div></span>"
      ],
      "text/plain": [
       "<IPython.core.display.HTML object>"
      ]
     },
     "metadata": {},
     "output_type": "display_data"
    },
    {
     "name": "stdout",
     "output_type": "stream",
     "text": [
      "Polarity     : 0.3229761904761905\n",
      "Subjectivity : 0.4860317460317461\n",
      "\n",
      "-----\n",
      "\n"
     ]
    }
   ],
   "source": [
    "# Sentiment analysis for each review\n",
    "# https://spacy.io/api/annotation#named-entities\n",
    "for review in reviews[:5]:\n",
    "    doc = nlp(review)\n",
    "    displacy.render(doc, style=\"ent\")\n",
    "    review_text = TextBlob(review)\n",
    "    print(f\"Polarity     : {review_text.sentiment.polarity}\")\n",
    "    print(f\"Subjectivity : {review_text.sentiment.subjectivity}\")\n",
    "    print(\"\\n-----\\n\")"
   ]
  },
  {
   "cell_type": "markdown",
   "metadata": {},
   "source": [
    "Since we're looking for the value of sentences/reviews, it seems **Named Entity Recognition (NER)** is the best way to quantify that. Specifically, pulling out particular **features and beer styles** served from reviews. \n",
    "\n",
    "spaCy's models support online learning so we can update the NER training to include new entities. \n",
    "\n",
    "1. Collect 100-200 reviews for Named Entity Recognition annotation. \n",
    "2. Set up Doccano to ease annotation and possibly crowd-source.\n",
    "3. Use the trained model to pull out the named entities (specifically the FEATUREs and BEER_STYLEs entities) from a submitted review or collection of reviews.\n",
    "4. Use the collected entities to construct a descriptive sentence for the brewery via Markov Chain text generation. Something like \"Spacious brewery & taproom serving San Diego-style ales & lagers amid dapper decor.\" would be a pattern of something like \"FEATURE FEATURE [serving|offering|featuring] BEER_STYLE & BEER_STYLE [amid|with|among] FEATURE\"\n",
    "\n",
    "Let's first attempt to do better with NER with the previous reviews by annotating them and training a model first to see the results."
   ]
  },
  {
   "cell_type": "code",
   "execution_count": 11,
   "metadata": {},
   "outputs": [
    {
     "name": "stdout",
     "output_type": "stream",
     "text": [
      "[INFO] Stored the spacy training data and filename is dataset-reviews.txt\n"
     ]
    }
   ],
   "source": [
    "# Load the TRAIN_DATA from the Doccano export\n",
    "import json\n",
    "\n",
    "filename = (\"dataset-reviews.json1\")\n",
    "TRAIN_DATA = []\n",
    "\n",
    "with open(filename) as file:\n",
    "    lines = file.readlines()\n",
    "    for train_data in lines:\n",
    "        data = json.loads(train_data)\n",
    "        ents = [tuple(entity[:3]) for entity in data['labels']]\n",
    "        TRAIN_DATA.append((data['text'],{'entities':ents}))\n",
    "\n",
    "with open('{}'.format(filename.replace('json1','txt')),'w') as write:\n",
    "    write.write(str(TRAIN_DATA))\n",
    "\n",
    "print(\"[INFO] Stored the spacy training data and filename is {}\".format(filename.replace('json1','txt')))"
   ]
  },
  {
   "cell_type": "code",
   "execution_count": 12,
   "metadata": {},
   "outputs": [
    {
     "name": "stdout",
     "output_type": "stream",
     "text": [
      "['Descriptor', 'Feature', 'Beer Style', 'Geography']\n"
     ]
    }
   ],
   "source": [
    "# Load the LABELS from the Doccano export\n",
    "labels_filename = (\"beer-reviews_labels.json\")\n",
    "LABELS = []\n",
    "\n",
    "with open(labels_filename) as file:\n",
    "    labels = json.load(file)\n",
    "    LABELS = [label['text'] for label in labels]\n",
    "    \n",
    "print(LABELS)"
   ]
  },
  {
   "cell_type": "code",
   "execution_count": 57,
   "metadata": {},
   "outputs": [
    {
     "name": "stdout",
     "output_type": "stream",
     "text": [
      "Loading model 'en_core_web_sm'\n",
      "Adding LABEL 'Descriptor'\n",
      "Adding LABEL 'Feature'\n",
      "Adding LABEL 'Beer Style'\n",
      "Adding LABEL 'Geography'\n"
     ]
    }
   ],
   "source": [
    "# Create a blank Language model and load the LABELS \n",
    "import random\n",
    "random.seed(42)\n",
    "\n",
    "# Load existing model\n",
    "model = \"en_core_web_sm\"\n",
    "nlp = spacy.load(model)\n",
    "print(f\"Loading model '{model}'\")\n",
    "\n",
    "# create blank Language class\n",
    "# nlp = spacy.blank(\"en\")\n",
    "# print(\"Created blank 'en' model\")\n",
    "\n",
    "# create the built-in pipeline components and add them to the pipeline\n",
    "# nlp.create_pipe works for built-ins that are registered with spaCy\n",
    "if \"ner\" not in nlp.pipe_names:\n",
    "    ner = nlp.create_pipe(\"ner\")\n",
    "    nlp.add_pipe(ner, last=True)\n",
    "# otherwise, get it so we can add labels\n",
    "else:\n",
    "    ner = nlp.get_pipe(\"ner\")\n",
    "\n",
    "for label in LABELS:\n",
    "    print(f\"Adding LABEL '{label}'\")\n",
    "    ner.add_label(label)"
   ]
  },
  {
   "cell_type": "code",
   "execution_count": 58,
   "metadata": {},
   "outputs": [
    {
     "name": "stderr",
     "output_type": "stream",
     "text": [
      "/Users/chris/opt/anaconda3/envs/brewery-review-nlp/lib/python3.9/site-packages/spacy/language.py:482: UserWarning: [W030] Some entities could not be aligned in the text \"Old converted house in downtown with porch/ patio ...\" with entities \"[(0, 19, 'Descriptor'), (37, 42, 'Feature'), (44, ...\". Use `spacy.gold.biluo_tags_from_offsets(nlp.make_doc(text), entities)` to check the alignment. Misaligned entities (with BILUO tag '-') will be ignored during training.\n",
      "  gold = GoldParse(doc, **gold)\n"
     ]
    },
    {
     "name": "stdout",
     "output_type": "stream",
     "text": [
      "0 Losses: {'ner': 1275.8886749391859}\n",
      "1 Losses: {'ner': 1223.1566314496388}\n",
      "2 Losses: {'ner': 1154.2765608840155}\n",
      "3 Losses: {'ner': 999.058812284386}\n",
      "4 Losses: {'ner': 964.6543312711184}\n",
      "5 Losses: {'ner': 911.8268294308357}\n",
      "6 Losses: {'ner': 907.4669493740075}\n",
      "7 Losses: {'ner': 903.2247680664295}\n",
      "8 Losses: {'ner': 900.614084863977}\n",
      "9 Losses: {'ner': 871.3192322192481}\n",
      "10 Losses: {'ner': 841.9325673216954}\n",
      "11 Losses: {'ner': 874.4364948098846}\n",
      "12 Losses: {'ner': 883.6780644041573}\n",
      "13 Losses: {'ner': 859.1121552437544}\n",
      "14 Losses: {'ner': 863.2692194125666}\n",
      "15 Losses: {'ner': 822.9937080852687}\n",
      "16 Losses: {'ner': 860.9923203364015}\n",
      "17 Losses: {'ner': 817.9911745581776}\n",
      "18 Losses: {'ner': 806.0338823614875}\n",
      "19 Losses: {'ner': 824.5808729375713}\n",
      "20 Losses: {'ner': 818.4297319427133}\n",
      "21 Losses: {'ner': 816.6597462808713}\n",
      "22 Losses: {'ner': 815.2460536826402}\n",
      "23 Losses: {'ner': 802.0367407044396}\n",
      "24 Losses: {'ner': 781.4608365339227}\n",
      "25 Losses: {'ner': 789.8412521161863}\n",
      "26 Losses: {'ner': 775.6826196499169}\n",
      "27 Losses: {'ner': 765.966509167105}\n",
      "28 Losses: {'ner': 765.8121590334922}\n",
      "29 Losses: {'ner': 780.7193778399378}\n",
      "30 Losses: {'ner': 762.6338787226123}\n",
      "31 Losses: {'ner': 775.3668594621122}\n",
      "32 Losses: {'ner': 774.990104816854}\n",
      "33 Losses: {'ner': 753.2542694583535}\n",
      "34 Losses: {'ner': 747.313157863915}\n",
      "35 Losses: {'ner': 736.7236373908818}\n",
      "36 Losses: {'ner': 756.3934593424201}\n",
      "37 Losses: {'ner': 739.612218655413}\n",
      "38 Losses: {'ner': 755.2642089910805}\n",
      "39 Losses: {'ner': 754.166191952303}\n",
      "40 Losses: {'ner': 741.4878064282238}\n",
      "41 Losses: {'ner': 751.5015656501055}\n",
      "42 Losses: {'ner': 759.950228754431}\n",
      "43 Losses: {'ner': 731.581991231069}\n",
      "44 Losses: {'ner': 747.2220489997417}\n",
      "45 Losses: {'ner': 733.4658033698797}\n",
      "46 Losses: {'ner': 746.0467385798693}\n",
      "47 Losses: {'ner': 749.3437894284725}\n",
      "48 Losses: {'ner': 754.9192541688681}\n",
      "49 Losses: {'ner': 753.3961406946182}\n",
      "50 Losses: {'ner': 743.3475418388844}\n",
      "51 Losses: {'ner': 727.1242015846074}\n",
      "52 Losses: {'ner': 750.3792686611414}\n",
      "53 Losses: {'ner': 724.228040009737}\n",
      "54 Losses: {'ner': 763.9145198985934}\n",
      "55 Losses: {'ner': 755.1236845999956}\n",
      "56 Losses: {'ner': 737.0611514002085}\n",
      "57 Losses: {'ner': 760.0028258049861}\n",
      "58 Losses: {'ner': 746.4957749247551}\n",
      "59 Losses: {'ner': 721.797713920474}\n",
      "60 Losses: {'ner': 740.7282769382}\n",
      "61 Losses: {'ner': 749.4969524871558}\n",
      "62 Losses: {'ner': 733.2876909617335}\n",
      "63 Losses: {'ner': 729.5542673021555}\n",
      "64 Losses: {'ner': 749.2596924901009}\n",
      "65 Losses: {'ner': 740.5581178665161}\n",
      "66 Losses: {'ner': 729.4086195677519}\n",
      "67 Losses: {'ner': 732.5351720452309}\n",
      "68 Losses: {'ner': 726.0921505689621}\n",
      "69 Losses: {'ner': 730.0500834584236}\n",
      "70 Losses: {'ner': 730.3434228301048}\n",
      "71 Losses: {'ner': 731.2638165950775}\n",
      "72 Losses: {'ner': 715.4971303939819}\n",
      "73 Losses: {'ner': 707.9322876483202}\n",
      "74 Losses: {'ner': 700.4669928327203}\n",
      "75 Losses: {'ner': 728.6004000497051}\n",
      "76 Losses: {'ner': 711.1875815084204}\n",
      "77 Losses: {'ner': 717.4449097961187}\n",
      "78 Losses: {'ner': 740.6322964280844}\n",
      "79 Losses: {'ner': 709.9319955743849}\n",
      "80 Losses: {'ner': 695.8426436753944}\n",
      "81 Losses: {'ner': 718.7101676166058}\n",
      "82 Losses: {'ner': 717.4540561586618}\n",
      "83 Losses: {'ner': 735.0760249495506}\n",
      "84 Losses: {'ner': 743.7916933447123}\n",
      "85 Losses: {'ner': 704.2369279712439}\n",
      "86 Losses: {'ner': 725.794300287962}\n",
      "87 Losses: {'ner': 710.1397744119167}\n",
      "88 Losses: {'ner': 724.0573490411043}\n",
      "89 Losses: {'ner': 694.8537502288818}\n",
      "90 Losses: {'ner': 722.7551573514938}\n",
      "91 Losses: {'ner': 716.7618789672852}\n",
      "92 Losses: {'ner': 726.2930201292038}\n",
      "93 Losses: {'ner': 703.8420028686523}\n",
      "94 Losses: {'ner': 743.3250348567963}\n",
      "95 Losses: {'ner': 724.201177239418}\n",
      "96 Losses: {'ner': 710.0179349780083}\n",
      "97 Losses: {'ner': 721.1302089691162}\n",
      "98 Losses: {'ner': 721.140586912632}\n",
      "99 Losses: {'ner': 707.987627029419}\n"
     ]
    }
   ],
   "source": [
    "# Train the model\n",
    "from spacy.util import minibatch, compounding, decaying\n",
    "import warnings\n",
    "\n",
    "# Number of iterations\n",
    "n_iter=100\n",
    "\n",
    "# Drop to prevent over-fitting\n",
    "# drop = 0.2\n",
    "drop = decaying(0.6, 0.2, 1e-4)\n",
    "\n",
    "# Set optimizer and begin training\n",
    "optimizer = nlp.begin_training()\n",
    "\n",
    "# This is checked later ???\n",
    "move_names = list(ner.move_names)\n",
    "\n",
    "# Minibatch sizes\n",
    "sizes = compounding(1.0, 4.0, 1.001)\n",
    "\n",
    "loss = {\n",
    "    'ner': []\n",
    "}\n",
    "\n",
    "pipe_exceptions = [\"ner\", \"trf_wordpiecer\", \"trf_tok2vec\"]\n",
    "other_pipes = [pipe for pipe in nlp.pipe_names if pipe not in pipe_exceptions]\n",
    "# only train NER\n",
    "with nlp.disable_pipes(*other_pipes), warnings.catch_warnings():\n",
    "    # show warnings for misaligned entity spans once\n",
    "    warnings.filterwarnings(\"once\", category=UserWarning, module='spacy')\n",
    "\n",
    "    # batch up the examples using spaCy's minibatch\n",
    "    # NOTE: These are defaults from https://spacy.io/usage/training#ner\n",
    "    for itn in range(n_iter):\n",
    "        random.shuffle(TRAIN_DATA)\n",
    "        batches = minibatch(TRAIN_DATA, size=sizes)\n",
    "        losses = {}\n",
    "        for batch in batches:\n",
    "            texts, annotations = zip(*batch)\n",
    "            nlp.update(texts, annotations, sgd=optimizer, drop=next(drop), losses=losses)\n",
    "        print(f\"{itn} Losses: {losses}\")\n",
    "        loss['ner'].append(losses['ner'])"
   ]
  },
  {
   "cell_type": "code",
   "execution_count": 50,
   "metadata": {},
   "outputs": [
    {
     "data": {
      "image/png": "[encoded data removed]",
      "text/plain": [
       "<Figure size 720x360 with 1 Axes>"
      ]
     },
     "metadata": {
      "needs_background": "light"
     },
     "output_type": "display_data"
    }
   ],
   "source": [
    "import matplotlib.pyplot as plt\n",
    "\n",
    "plt.figure(figsize=(10,5))\n",
    "plt.plot(range(n_iter), loss['ner'])\n",
    "plt.xlabel('Epochs')\n",
    "plt.ylabel('Loss')\n",
    "plt.show()"
   ]
  },
  {
   "cell_type": "code",
   "execution_count": 51,
   "metadata": {},
   "outputs": [
    {
     "data": {
      "text/plain": [
       "['This place is the real deal. The penultimate craft brewery experience in the San Diego area and up there with the best in all of Southern California. Quality is top notch, variety of offerings is more than enough for several visits, and the food options outside were satisfying (though a tad expensive). Even during the pandemic, it was a vibrant and modern facility and the kind of destination I had expected and hoped for. Been waiting years to finally visit. And they have their own street/address, so you know they’re special.\\n',\n",
       " 'Visited with my wife on a recent trip to San Diego and Los Angeles. Tried the following as part of a flight: AleSmith Evil Dead Red AleSmith Decadence 2017 AleSmith San Diego Pale Ale .394 AleSmith Speedway Stout - Vietnamese Coffee Beers were superb across the board. Also bought some Old Numbskull and Speedway Stout to go; both were phenomenal. Service at the bar was fine as the beertender was quick to grab our drinks. The guy in the retail store was a bit more engaging, which we appreciated. Cool atmosphere in the beautiful, gargantuan taproom and we had fun touring the Tony Gwynn Museum. Our overall experience was very special, and we would happily come back.\\n',\n",
       " 'Huge tasting room in the front of brewery building. Merch shop is on the left as one enters, and the right opens up to a two-story taproom with windows into the brewery. Zigzag bar seats probably 40 to 50, and there are a number of tables spread about the room. Additionally, there is a patio in front with nightly food truck. 25 beers on tap, half were brewery only seasonals and specials. Place had an after-work unwind sort of vibe. Friendly efficient bartenders.\\n']"
      ]
     },
     "execution_count": 51,
     "metadata": {},
     "output_type": "execute_result"
    }
   ],
   "source": [
    "with open('reviews_san-diego_alesmith.txt') as file:\n",
    "    new_reviews = file.readlines()\n",
    "new_reviews[:3]"
   ]
  },
  {
   "cell_type": "code",
   "execution_count": 52,
   "metadata": {},
   "outputs": [
    {
     "name": "stderr",
     "output_type": "stream",
     "text": [
      "/Users/chris/opt/anaconda3/envs/brewery-review-nlp/lib/python3.9/site-packages/spacy/displacy/__init__.py:189: UserWarning: [W006] No entities to visualize found in Doc object. If this is surprising to you, make sure the Doc was processed using a model that supports named entity recognition, and check the `doc.ents` property manually if necessary.\n",
      "  warnings.warn(Warnings.W006)\n"
     ]
    },
    {
     "data": {
      "text/html": [
       "<span class=\"tex2jax_ignore\"><div class=\"entities\" style=\"line-height: 2.5; direction: ltr\">This place is the real deal. The penultimate craft brewery experience in the San Diego area and up there with the best in all of Southern California. Quality is top notch, variety of offerings is more than enough for several visits, and the food options outside were satisfying (though a tad expensive). Even during the pandemic, it was a vibrant and modern facility and the kind of destination I had expected and hoped for. Been waiting years to finally visit. And they have their own street/address, so you know they’re special.</br></div></span>"
      ],
      "text/plain": [
       "<IPython.core.display.HTML object>"
      ]
     },
     "metadata": {},
     "output_type": "display_data"
    },
    {
     "data": {
      "text/html": [
       "<span class=\"tex2jax_ignore\"><div class=\"entities\" style=\"line-height: 2.5; direction: ltr\">Visited with my wife on a recent trip to San Diego and Los Angeles. Tried the following as part of a flight: AleSmith Evil Dead Red AleSmith Decadence 2017 AleSmith San Diego Pale Ale .394 AleSmith Speedway Stout - Vietnamese Coffee Beers were superb across the board. Also bought some Old Numbskull and Speedway Stout to go; both were phenomenal. Service at the bar was fine as the beertender was quick to grab our drinks. The guy in the retail store was a bit more engaging, which we appreciated. Cool atmosphere in the beautiful, gargantuan taproom and we had fun touring the Tony Gwynn Museum. Our overall experience was very special, and we would happily come back.</br></div></span>"
      ],
      "text/plain": [
       "<IPython.core.display.HTML object>"
      ]
     },
     "metadata": {},
     "output_type": "display_data"
    },
    {
     "data": {
      "text/html": [
       "<span class=\"tex2jax_ignore\"><div class=\"entities\" style=\"line-height: 2.5; direction: ltr\">Huge tasting room in the front of brewery building. Merch shop is on the left as one enters, and the right opens up to a two-story taproom with windows into the brewery. Zigzag bar seats probably 40 to 50, and there are a number of tables spread about the room. Additionally, there is a patio in front with nightly food truck. 25 beers on tap, half were brewery only seasonals and specials. Place had an after-work unwind sort of vibe. Friendly efficient bartenders.</br></div></span>"
      ],
      "text/plain": [
       "<IPython.core.display.HTML object>"
      ]
     },
     "metadata": {},
     "output_type": "display_data"
    },
    {
     "data": {
      "text/html": [
       "<span class=\"tex2jax_ignore\"><div class=\"entities\" style=\"line-height: 2.5; direction: ltr\">AleSmith is a fairly large tasting room and production house. Tonight they had a couple of food trucks. Once you enter the building you have a gift shop and place to purchase beers to go. There is a large bar area with a view to the production area behind it. They had ample seating inside and out. The beer selection tonight was nice. They had a couple Speedway variants I tried - Jamaican Blue Mountain and Thai. Both were solid beers. Had a couple of tasters and made my way back to my hotel I'm staying for a conference. Overall, a splendid place to visit and hang out with friends.</br></div></span>"
      ],
      "text/plain": [
       "<IPython.core.display.HTML object>"
      ]
     },
     "metadata": {},
     "output_type": "display_data"
    },
    {
     "data": {
      "text/html": [
       "<span class=\"tex2jax_ignore\"><div class=\"entities\" style=\"line-height: 2.5; direction: ltr\">Clean well kept and organized all around nice family friendly atmosphere large bar with lots of open seating options. Staff is friendly and knowledgeable food truck they had looked and smelled very good. Some games outside and nice upper deck with view and seeing the blue angels fly over didn’t hurt. Adding a signature non alcoholic drink or two and would have been 5s across the top!</br></div></span>"
      ],
      "text/plain": [
       "<IPython.core.display.HTML object>"
      ]
     },
     "metadata": {},
     "output_type": "display_data"
    }
   ],
   "source": [
    "# Test trained model\n",
    "for review in new_reviews[:5]:\n",
    "    doc = nlp(review)\n",
    "    displacy.render(doc, style=\"ent\")"
   ]
  },
  {
   "cell_type": "markdown",
   "metadata": {},
   "source": [
    "## Examples from Google Maps\n",
    "\n",
    "* Mike Hess Brewing, North Park - Modern, family-friendly hangout featuring a tasting room, board games & brewery views.\n",
    "* North Park Beer Company - Spacious brewery & taproom serving San Diego-style ales & lagers amid dapper decor.\n",
    "* Rip Current Brewing North Park - This chill, wood-paneled joint with a roomy bar offers pub grub & house-brewed craft beers on tap."
   ]
  },
  {
   "cell_type": "code",
   "execution_count": 53,
   "metadata": {},
   "outputs": [
    {
     "name": "stdout",
     "output_type": "stream",
     "text": [
      "{'Beer Style': [], 'Descriptor': [], 'Feature': [], 'Geography': []}\n"
     ]
    }
   ],
   "source": [
    "from pprint import pprint\n",
    "\n",
    "# Create empty dictionary of labels\n",
    "words = {}\n",
    "for label in LABELS:\n",
    "    words[label] = []\n",
    "\n",
    "# Organize entities into dictionary of labels\n",
    "doc = nlp(\" \".join(new_reviews))\n",
    "for ent in doc.ents:\n",
    "    words[ent.label_].append(ent.text)\n",
    "    \n",
    "pprint(words)"
   ]
  },
  {
   "cell_type": "code",
   "execution_count": 54,
   "metadata": {},
   "outputs": [
    {
     "ename": "IndexError",
     "evalue": "list index out of range",
     "output_type": "error",
     "traceback": [
      "\u001b[0;31m---------------------------------------------------------------------------\u001b[0m",
      "\u001b[0;31mIndexError\u001b[0m                                Traceback (most recent call last)",
      "\u001b[0;32m<ipython-input-54-f76b14bf22ad>\u001b[0m in \u001b[0;36m<module>\u001b[0;34m\u001b[0m\n\u001b[1;32m     15\u001b[0m \u001b[0mgrammar\u001b[0m\u001b[0;34m.\u001b[0m\u001b[0madd_modifiers\u001b[0m\u001b[0;34m(\u001b[0m\u001b[0mbase_english\u001b[0m\u001b[0;34m)\u001b[0m\u001b[0;34m\u001b[0m\u001b[0;34m\u001b[0m\u001b[0m\n\u001b[1;32m     16\u001b[0m \u001b[0;32mfor\u001b[0m \u001b[0mi\u001b[0m \u001b[0;32min\u001b[0m \u001b[0mrange\u001b[0m\u001b[0;34m(\u001b[0m\u001b[0;36m5\u001b[0m\u001b[0;34m)\u001b[0m\u001b[0;34m:\u001b[0m\u001b[0;34m\u001b[0m\u001b[0;34m\u001b[0m\u001b[0m\n\u001b[0;32m---> 17\u001b[0;31m     \u001b[0mprint\u001b[0m\u001b[0;34m(\u001b[0m\u001b[0mgrammar\u001b[0m\u001b[0;34m.\u001b[0m\u001b[0mflatten\u001b[0m\u001b[0;34m(\u001b[0m\u001b[0;34m\"#origin#\"\u001b[0m\u001b[0;34m)\u001b[0m\u001b[0;34m)\u001b[0m\u001b[0;34m\u001b[0m\u001b[0;34m\u001b[0m\u001b[0m\n\u001b[0m",
      "\u001b[0;32m~/opt/anaconda3/envs/brewery-review-nlp/lib/python3.9/site-packages/tracery/__init__.py\u001b[0m in \u001b[0;36mflatten\u001b[0;34m(self, rule, allow_escape_chars)\u001b[0m\n\u001b[1;32m    242\u001b[0m \u001b[0;34m\u001b[0m\u001b[0m\n\u001b[1;32m    243\u001b[0m     \u001b[0;32mdef\u001b[0m \u001b[0mflatten\u001b[0m\u001b[0;34m(\u001b[0m\u001b[0mself\u001b[0m\u001b[0;34m,\u001b[0m \u001b[0mrule\u001b[0m\u001b[0;34m,\u001b[0m \u001b[0mallow_escape_chars\u001b[0m\u001b[0;34m=\u001b[0m\u001b[0;32mFalse\u001b[0m\u001b[0;34m)\u001b[0m\u001b[0;34m:\u001b[0m\u001b[0;34m\u001b[0m\u001b[0;34m\u001b[0m\u001b[0m\n\u001b[0;32m--> 244\u001b[0;31m         \u001b[0mroot\u001b[0m \u001b[0;34m=\u001b[0m \u001b[0mself\u001b[0m\u001b[0;34m.\u001b[0m\u001b[0mexpand\u001b[0m\u001b[0;34m(\u001b[0m\u001b[0mrule\u001b[0m\u001b[0;34m,\u001b[0m \u001b[0mallow_escape_chars\u001b[0m\u001b[0;34m)\u001b[0m\u001b[0;34m\u001b[0m\u001b[0;34m\u001b[0m\u001b[0m\n\u001b[0m\u001b[1;32m    245\u001b[0m         \u001b[0;32mreturn\u001b[0m \u001b[0mroot\u001b[0m\u001b[0;34m.\u001b[0m\u001b[0mfinished_text\u001b[0m\u001b[0;34m\u001b[0m\u001b[0;34m\u001b[0m\u001b[0m\n\u001b[1;32m    246\u001b[0m \u001b[0;34m\u001b[0m\u001b[0m\n",
      "\u001b[0;32m~/opt/anaconda3/envs/brewery-review-nlp/lib/python3.9/site-packages/tracery/__init__.py\u001b[0m in \u001b[0;36mexpand\u001b[0;34m(self, rule, allow_escape_chars)\u001b[0m\n\u001b[1;32m    235\u001b[0m     \u001b[0;32mdef\u001b[0m \u001b[0mexpand\u001b[0m\u001b[0;34m(\u001b[0m\u001b[0mself\u001b[0m\u001b[0;34m,\u001b[0m \u001b[0mrule\u001b[0m\u001b[0;34m,\u001b[0m \u001b[0mallow_escape_chars\u001b[0m\u001b[0;34m=\u001b[0m\u001b[0;32mFalse\u001b[0m\u001b[0;34m)\u001b[0m\u001b[0;34m:\u001b[0m\u001b[0;34m\u001b[0m\u001b[0;34m\u001b[0m\u001b[0m\n\u001b[1;32m    236\u001b[0m         \u001b[0mroot\u001b[0m \u001b[0;34m=\u001b[0m \u001b[0mself\u001b[0m\u001b[0;34m.\u001b[0m\u001b[0mcreate_root\u001b[0m\u001b[0;34m(\u001b[0m\u001b[0mrule\u001b[0m\u001b[0;34m)\u001b[0m\u001b[0;34m\u001b[0m\u001b[0;34m\u001b[0m\u001b[0m\n\u001b[0;32m--> 237\u001b[0;31m         \u001b[0mroot\u001b[0m\u001b[0;34m.\u001b[0m\u001b[0mexpand\u001b[0m\u001b[0;34m(\u001b[0m\u001b[0;34m)\u001b[0m\u001b[0;34m\u001b[0m\u001b[0;34m\u001b[0m\u001b[0m\n\u001b[0m\u001b[1;32m    238\u001b[0m         \u001b[0;32mif\u001b[0m \u001b[0;32mnot\u001b[0m \u001b[0mallow_escape_chars\u001b[0m\u001b[0;34m:\u001b[0m\u001b[0;34m\u001b[0m\u001b[0;34m\u001b[0m\u001b[0m\n\u001b[1;32m    239\u001b[0m             \u001b[0mroot\u001b[0m\u001b[0;34m.\u001b[0m\u001b[0mclear_escape_chars\u001b[0m\u001b[0;34m(\u001b[0m\u001b[0;34m)\u001b[0m\u001b[0;34m\u001b[0m\u001b[0;34m\u001b[0m\u001b[0m\n",
      "\u001b[0;32m~/opt/anaconda3/envs/brewery-review-nlp/lib/python3.9/site-packages/tracery/__init__.py\u001b[0m in \u001b[0;36mexpand\u001b[0;34m(self, prevent_recursion)\u001b[0m\n\u001b[1;32m     61\u001b[0m             \u001b[0;31m#     more in the future)\u001b[0m\u001b[0;34m\u001b[0m\u001b[0;34m\u001b[0m\u001b[0;34m\u001b[0m\u001b[0m\n\u001b[1;32m     62\u001b[0m             \u001b[0;32mif\u001b[0m \u001b[0mself\u001b[0m\u001b[0;34m.\u001b[0m\u001b[0mtype\u001b[0m \u001b[0;34m==\u001b[0m \u001b[0;34m-\u001b[0m\u001b[0;36m1\u001b[0m\u001b[0;34m:\u001b[0m\u001b[0;34m\u001b[0m\u001b[0;34m\u001b[0m\u001b[0m\n\u001b[0;32m---> 63\u001b[0;31m                 \u001b[0mself\u001b[0m\u001b[0;34m.\u001b[0m\u001b[0mexpand_children\u001b[0m\u001b[0;34m(\u001b[0m\u001b[0mself\u001b[0m\u001b[0;34m.\u001b[0m\u001b[0mraw\u001b[0m\u001b[0;34m,\u001b[0m \u001b[0mprevent_recursion\u001b[0m\u001b[0;34m)\u001b[0m\u001b[0;34m\u001b[0m\u001b[0;34m\u001b[0m\u001b[0m\n\u001b[0m\u001b[1;32m     64\u001b[0m \u001b[0;34m\u001b[0m\u001b[0m\n\u001b[1;32m     65\u001b[0m             \u001b[0;32melif\u001b[0m \u001b[0mself\u001b[0m\u001b[0;34m.\u001b[0m\u001b[0mtype\u001b[0m \u001b[0;34m==\u001b[0m \u001b[0;36m0\u001b[0m\u001b[0;34m:\u001b[0m\u001b[0;34m\u001b[0m\u001b[0;34m\u001b[0m\u001b[0m\n",
      "\u001b[0;32m~/opt/anaconda3/envs/brewery-review-nlp/lib/python3.9/site-packages/tracery/__init__.py\u001b[0m in \u001b[0;36mexpand_children\u001b[0;34m(self, child_rule, prevent_recursion)\u001b[0m\n\u001b[1;32m     44\u001b[0m                 \u001b[0mself\u001b[0m\u001b[0;34m.\u001b[0m\u001b[0mchildren\u001b[0m\u001b[0;34m.\u001b[0m\u001b[0mappend\u001b[0m\u001b[0;34m(\u001b[0m\u001b[0mnode\u001b[0m\u001b[0;34m)\u001b[0m\u001b[0;34m\u001b[0m\u001b[0;34m\u001b[0m\u001b[0m\n\u001b[1;32m     45\u001b[0m                 \u001b[0;32mif\u001b[0m \u001b[0;32mnot\u001b[0m \u001b[0mprevent_recursion\u001b[0m\u001b[0;34m:\u001b[0m\u001b[0;34m\u001b[0m\u001b[0;34m\u001b[0m\u001b[0m\n\u001b[0;32m---> 46\u001b[0;31m                     \u001b[0mnode\u001b[0m\u001b[0;34m.\u001b[0m\u001b[0mexpand\u001b[0m\u001b[0;34m(\u001b[0m\u001b[0mprevent_recursion\u001b[0m\u001b[0;34m)\u001b[0m\u001b[0;34m\u001b[0m\u001b[0;34m\u001b[0m\u001b[0m\n\u001b[0m\u001b[1;32m     47\u001b[0m                 \u001b[0mself\u001b[0m\u001b[0;34m.\u001b[0m\u001b[0mfinished_text\u001b[0m \u001b[0;34m+=\u001b[0m \u001b[0mnode\u001b[0m\u001b[0;34m.\u001b[0m\u001b[0mfinished_text\u001b[0m\u001b[0;34m\u001b[0m\u001b[0;34m\u001b[0m\u001b[0m\n\u001b[1;32m     48\u001b[0m         \u001b[0;32melse\u001b[0m\u001b[0;34m:\u001b[0m\u001b[0;34m\u001b[0m\u001b[0;34m\u001b[0m\u001b[0m\n",
      "\u001b[0;32m~/opt/anaconda3/envs/brewery-review-nlp/lib/python3.9/site-packages/tracery/__init__.py\u001b[0m in \u001b[0;36mexpand\u001b[0;34m(self, prevent_recursion)\u001b[0m\n\u001b[1;32m     82\u001b[0m                 selected_rule = self.grammar.select_rule(self.symbol, self,\n\u001b[1;32m     83\u001b[0m                                                          self.errors)\n\u001b[0;32m---> 84\u001b[0;31m                 \u001b[0mself\u001b[0m\u001b[0;34m.\u001b[0m\u001b[0mexpand_children\u001b[0m\u001b[0;34m(\u001b[0m\u001b[0mselected_rule\u001b[0m\u001b[0;34m,\u001b[0m \u001b[0mprevent_recursion\u001b[0m\u001b[0;34m)\u001b[0m\u001b[0;34m\u001b[0m\u001b[0;34m\u001b[0m\u001b[0m\n\u001b[0m\u001b[1;32m     85\u001b[0m \u001b[0;34m\u001b[0m\u001b[0m\n\u001b[1;32m     86\u001b[0m                 \u001b[0;31m# apply modifiers\u001b[0m\u001b[0;34m\u001b[0m\u001b[0;34m\u001b[0m\u001b[0;34m\u001b[0m\u001b[0m\n",
      "\u001b[0;32m~/opt/anaconda3/envs/brewery-review-nlp/lib/python3.9/site-packages/tracery/__init__.py\u001b[0m in \u001b[0;36mexpand_children\u001b[0;34m(self, child_rule, prevent_recursion)\u001b[0m\n\u001b[1;32m     44\u001b[0m                 \u001b[0mself\u001b[0m\u001b[0;34m.\u001b[0m\u001b[0mchildren\u001b[0m\u001b[0;34m.\u001b[0m\u001b[0mappend\u001b[0m\u001b[0;34m(\u001b[0m\u001b[0mnode\u001b[0m\u001b[0;34m)\u001b[0m\u001b[0;34m\u001b[0m\u001b[0;34m\u001b[0m\u001b[0m\n\u001b[1;32m     45\u001b[0m                 \u001b[0;32mif\u001b[0m \u001b[0;32mnot\u001b[0m \u001b[0mprevent_recursion\u001b[0m\u001b[0;34m:\u001b[0m\u001b[0;34m\u001b[0m\u001b[0;34m\u001b[0m\u001b[0m\n\u001b[0;32m---> 46\u001b[0;31m                     \u001b[0mnode\u001b[0m\u001b[0;34m.\u001b[0m\u001b[0mexpand\u001b[0m\u001b[0;34m(\u001b[0m\u001b[0mprevent_recursion\u001b[0m\u001b[0;34m)\u001b[0m\u001b[0;34m\u001b[0m\u001b[0;34m\u001b[0m\u001b[0m\n\u001b[0m\u001b[1;32m     47\u001b[0m                 \u001b[0mself\u001b[0m\u001b[0;34m.\u001b[0m\u001b[0mfinished_text\u001b[0m \u001b[0;34m+=\u001b[0m \u001b[0mnode\u001b[0m\u001b[0;34m.\u001b[0m\u001b[0mfinished_text\u001b[0m\u001b[0;34m\u001b[0m\u001b[0;34m\u001b[0m\u001b[0m\n\u001b[1;32m     48\u001b[0m         \u001b[0;32melse\u001b[0m\u001b[0;34m:\u001b[0m\u001b[0;34m\u001b[0m\u001b[0;34m\u001b[0m\u001b[0m\n",
      "\u001b[0;32m~/opt/anaconda3/envs/brewery-review-nlp/lib/python3.9/site-packages/tracery/__init__.py\u001b[0m in \u001b[0;36mexpand\u001b[0;34m(self, prevent_recursion)\u001b[0m\n\u001b[1;32m     80\u001b[0m                     \u001b[0mpreaction\u001b[0m\u001b[0;34m.\u001b[0m\u001b[0mactivate\u001b[0m\u001b[0;34m(\u001b[0m\u001b[0;34m)\u001b[0m\u001b[0;34m\u001b[0m\u001b[0;34m\u001b[0m\u001b[0m\n\u001b[1;32m     81\u001b[0m                 \u001b[0mself\u001b[0m\u001b[0;34m.\u001b[0m\u001b[0mfinished_text\u001b[0m \u001b[0;34m=\u001b[0m \u001b[0mself\u001b[0m\u001b[0;34m.\u001b[0m\u001b[0mraw\u001b[0m\u001b[0;34m\u001b[0m\u001b[0;34m\u001b[0m\u001b[0m\n\u001b[0;32m---> 82\u001b[0;31m                 selected_rule = self.grammar.select_rule(self.symbol, self,\n\u001b[0m\u001b[1;32m     83\u001b[0m                                                          self.errors)\n\u001b[1;32m     84\u001b[0m                 \u001b[0mself\u001b[0m\u001b[0;34m.\u001b[0m\u001b[0mexpand_children\u001b[0m\u001b[0;34m(\u001b[0m\u001b[0mselected_rule\u001b[0m\u001b[0;34m,\u001b[0m \u001b[0mprevent_recursion\u001b[0m\u001b[0;34m)\u001b[0m\u001b[0;34m\u001b[0m\u001b[0;34m\u001b[0m\u001b[0m\n",
      "\u001b[0;32m~/opt/anaconda3/envs/brewery-review-nlp/lib/python3.9/site-packages/tracery/__init__.py\u001b[0m in \u001b[0;36mselect_rule\u001b[0;34m(self, key, node, errors)\u001b[0m\n\u001b[1;32m    259\u001b[0m     \u001b[0;32mdef\u001b[0m \u001b[0mselect_rule\u001b[0m\u001b[0;34m(\u001b[0m\u001b[0mself\u001b[0m\u001b[0;34m,\u001b[0m \u001b[0mkey\u001b[0m\u001b[0;34m,\u001b[0m \u001b[0mnode\u001b[0m\u001b[0;34m,\u001b[0m \u001b[0merrors\u001b[0m\u001b[0;34m)\u001b[0m\u001b[0;34m:\u001b[0m\u001b[0;34m\u001b[0m\u001b[0;34m\u001b[0m\u001b[0m\n\u001b[1;32m    260\u001b[0m         \u001b[0;32mif\u001b[0m \u001b[0mkey\u001b[0m \u001b[0;32min\u001b[0m \u001b[0mself\u001b[0m\u001b[0;34m.\u001b[0m\u001b[0msymbols\u001b[0m\u001b[0;34m:\u001b[0m\u001b[0;34m\u001b[0m\u001b[0;34m\u001b[0m\u001b[0m\n\u001b[0;32m--> 261\u001b[0;31m             \u001b[0;32mreturn\u001b[0m \u001b[0mself\u001b[0m\u001b[0;34m.\u001b[0m\u001b[0msymbols\u001b[0m\u001b[0;34m[\u001b[0m\u001b[0mkey\u001b[0m\u001b[0;34m]\u001b[0m\u001b[0;34m.\u001b[0m\u001b[0mselect_rule\u001b[0m\u001b[0;34m(\u001b[0m\u001b[0mnode\u001b[0m\u001b[0;34m,\u001b[0m \u001b[0merrors\u001b[0m\u001b[0;34m)\u001b[0m\u001b[0;34m\u001b[0m\u001b[0;34m\u001b[0m\u001b[0m\n\u001b[0m\u001b[1;32m    262\u001b[0m         \u001b[0;32melse\u001b[0m\u001b[0;34m:\u001b[0m\u001b[0;34m\u001b[0m\u001b[0;34m\u001b[0m\u001b[0m\n\u001b[1;32m    263\u001b[0m             \u001b[0merrors\u001b[0m\u001b[0;34m.\u001b[0m\u001b[0mappend\u001b[0m\u001b[0;34m(\u001b[0m\u001b[0;34m\"No symbol for \"\u001b[0m \u001b[0;34m+\u001b[0m \u001b[0mstr\u001b[0m\u001b[0;34m(\u001b[0m\u001b[0mkey\u001b[0m\u001b[0;34m)\u001b[0m\u001b[0;34m)\u001b[0m\u001b[0;34m\u001b[0m\u001b[0;34m\u001b[0m\u001b[0m\n",
      "\u001b[0;32m~/opt/anaconda3/envs/brewery-review-nlp/lib/python3.9/site-packages/tracery/__init__.py\u001b[0m in \u001b[0;36mselect_rule\u001b[0;34m(self, node, errors)\u001b[0m\n\u001b[1;32m    198\u001b[0m             errors.append(\"The rule stack for '\" + self.key +\n\u001b[1;32m    199\u001b[0m                           \"' is empty, too many pops?\")\n\u001b[0;32m--> 200\u001b[0;31m         \u001b[0;32mreturn\u001b[0m \u001b[0mself\u001b[0m\u001b[0;34m.\u001b[0m\u001b[0mstack\u001b[0m\u001b[0;34m[\u001b[0m\u001b[0;34m-\u001b[0m\u001b[0;36m1\u001b[0m\u001b[0;34m]\u001b[0m\u001b[0;34m.\u001b[0m\u001b[0mselect_rule\u001b[0m\u001b[0;34m(\u001b[0m\u001b[0;34m)\u001b[0m\u001b[0;34m\u001b[0m\u001b[0;34m\u001b[0m\u001b[0m\n\u001b[0m\u001b[1;32m    201\u001b[0m \u001b[0;34m\u001b[0m\u001b[0m\n\u001b[1;32m    202\u001b[0m     \u001b[0;32mdef\u001b[0m \u001b[0mget_active_rules\u001b[0m\u001b[0;34m(\u001b[0m\u001b[0mself\u001b[0m\u001b[0;34m)\u001b[0m\u001b[0;34m:\u001b[0m\u001b[0;34m\u001b[0m\u001b[0;34m\u001b[0m\u001b[0m\n",
      "\u001b[0;32m~/opt/anaconda3/envs/brewery-review-nlp/lib/python3.9/site-packages/tracery/__init__.py\u001b[0m in \u001b[0;36mselect_rule\u001b[0;34m(self)\u001b[0m\n\u001b[1;32m    167\u001b[0m         \u001b[0;31m# selecting a rule, none of which seem to be implemented yet! so for\u001b[0m\u001b[0;34m\u001b[0m\u001b[0;34m\u001b[0m\u001b[0;34m\u001b[0m\u001b[0m\n\u001b[1;32m    168\u001b[0m         \u001b[0;31m# now I'm just going to ...\u001b[0m\u001b[0;34m\u001b[0m\u001b[0;34m\u001b[0m\u001b[0;34m\u001b[0m\u001b[0m\n\u001b[0;32m--> 169\u001b[0;31m         \u001b[0;32mreturn\u001b[0m \u001b[0mrandom\u001b[0m\u001b[0;34m.\u001b[0m\u001b[0mchoice\u001b[0m\u001b[0;34m(\u001b[0m\u001b[0mself\u001b[0m\u001b[0;34m.\u001b[0m\u001b[0mdefault_rules\u001b[0m\u001b[0;34m)\u001b[0m\u001b[0;34m\u001b[0m\u001b[0;34m\u001b[0m\u001b[0m\n\u001b[0m\u001b[1;32m    170\u001b[0m \u001b[0;34m\u001b[0m\u001b[0m\n\u001b[1;32m    171\u001b[0m     \u001b[0;32mdef\u001b[0m \u001b[0mclear_state\u001b[0m\u001b[0;34m(\u001b[0m\u001b[0mself\u001b[0m\u001b[0;34m)\u001b[0m\u001b[0;34m:\u001b[0m\u001b[0;34m\u001b[0m\u001b[0;34m\u001b[0m\u001b[0m\n",
      "\u001b[0;32m~/opt/anaconda3/envs/brewery-review-nlp/lib/python3.9/random.py\u001b[0m in \u001b[0;36mchoice\u001b[0;34m(self, seq)\u001b[0m\n\u001b[1;32m    344\u001b[0m         \u001b[0;34m\"\"\"Choose a random element from a non-empty sequence.\"\"\"\u001b[0m\u001b[0;34m\u001b[0m\u001b[0;34m\u001b[0m\u001b[0m\n\u001b[1;32m    345\u001b[0m         \u001b[0;31m# raises IndexError if seq is empty\u001b[0m\u001b[0;34m\u001b[0m\u001b[0;34m\u001b[0m\u001b[0;34m\u001b[0m\u001b[0m\n\u001b[0;32m--> 346\u001b[0;31m         \u001b[0;32mreturn\u001b[0m \u001b[0mseq\u001b[0m\u001b[0;34m[\u001b[0m\u001b[0mself\u001b[0m\u001b[0;34m.\u001b[0m\u001b[0m_randbelow\u001b[0m\u001b[0;34m(\u001b[0m\u001b[0mlen\u001b[0m\u001b[0;34m(\u001b[0m\u001b[0mseq\u001b[0m\u001b[0;34m)\u001b[0m\u001b[0;34m)\u001b[0m\u001b[0;34m]\u001b[0m\u001b[0;34m\u001b[0m\u001b[0;34m\u001b[0m\u001b[0m\n\u001b[0m\u001b[1;32m    347\u001b[0m \u001b[0;34m\u001b[0m\u001b[0m\n\u001b[1;32m    348\u001b[0m     \u001b[0;32mdef\u001b[0m \u001b[0mshuffle\u001b[0m\u001b[0;34m(\u001b[0m\u001b[0mself\u001b[0m\u001b[0;34m,\u001b[0m \u001b[0mx\u001b[0m\u001b[0;34m,\u001b[0m \u001b[0mrandom\u001b[0m\u001b[0;34m=\u001b[0m\u001b[0;32mNone\u001b[0m\u001b[0;34m)\u001b[0m\u001b[0;34m:\u001b[0m\u001b[0;34m\u001b[0m\u001b[0;34m\u001b[0m\u001b[0m\n",
      "\u001b[0;31mIndexError\u001b[0m: list index out of range"
     ]
    }
   ],
   "source": [
    "import tracery\n",
    "from tracery.modifiers import base_english\n",
    "\n",
    "# Inspired by Allison Parrish:\n",
    "# https://github.com/aparrish/rwet/blob/master/tracery-and-python.ipynb\n",
    "\n",
    "rules = {\n",
    "  \"origin\": \"#descriptor.a.capitalize# brewery located in #geography# featuring #feature.a# and serving #beer_style#.\",\n",
    "  \"beer_style\": words['Beer Style'],\n",
    "  \"feature\": words['Feature'],\n",
    "  \"geography\": words['Geography'],\n",
    "  \"descriptor\": words['Descriptor']\n",
    "}\n",
    "grammar = tracery.Grammar(rules)\n",
    "grammar.add_modifiers(base_english)\n",
    "for i in range(5):\n",
    "    print(grammar.flatten(\"#origin#\"))"
   ]
  },
  {
   "cell_type": "code",
   "execution_count": 55,
   "metadata": {},
   "outputs": [
    {
     "ename": "IndexError",
     "evalue": "list index out of range",
     "output_type": "error",
     "traceback": [
      "\u001b[0;31m---------------------------------------------------------------------------\u001b[0m",
      "\u001b[0;31mIndexError\u001b[0m                                Traceback (most recent call last)",
      "\u001b[0;32m<ipython-input-55-e7774cb8421b>\u001b[0m in \u001b[0;36m<module>\u001b[0;34m\u001b[0m\n\u001b[1;32m     20\u001b[0m \u001b[0;34m\u001b[0m\u001b[0m\n\u001b[1;32m     21\u001b[0m \u001b[0;32mfor\u001b[0m \u001b[0mi\u001b[0m \u001b[0;32min\u001b[0m \u001b[0mrange\u001b[0m\u001b[0;34m(\u001b[0m\u001b[0;36m5\u001b[0m\u001b[0;34m)\u001b[0m\u001b[0;34m:\u001b[0m\u001b[0;34m\u001b[0m\u001b[0;34m\u001b[0m\u001b[0m\n\u001b[0;32m---> 22\u001b[0;31m     \u001b[0mprint\u001b[0m\u001b[0;34m(\u001b[0m\u001b[0mgrammar\u001b[0m\u001b[0;34m.\u001b[0m\u001b[0mflatten\u001b[0m\u001b[0;34m(\u001b[0m\u001b[0;34m\"#origin#\"\u001b[0m\u001b[0;34m)\u001b[0m\u001b[0;34m)\u001b[0m\u001b[0;34m\u001b[0m\u001b[0;34m\u001b[0m\u001b[0m\n\u001b[0m",
      "\u001b[0;32m~/opt/anaconda3/envs/brewery-review-nlp/lib/python3.9/site-packages/tracery/__init__.py\u001b[0m in \u001b[0;36mflatten\u001b[0;34m(self, rule, allow_escape_chars)\u001b[0m\n\u001b[1;32m    242\u001b[0m \u001b[0;34m\u001b[0m\u001b[0m\n\u001b[1;32m    243\u001b[0m     \u001b[0;32mdef\u001b[0m \u001b[0mflatten\u001b[0m\u001b[0;34m(\u001b[0m\u001b[0mself\u001b[0m\u001b[0;34m,\u001b[0m \u001b[0mrule\u001b[0m\u001b[0;34m,\u001b[0m \u001b[0mallow_escape_chars\u001b[0m\u001b[0;34m=\u001b[0m\u001b[0;32mFalse\u001b[0m\u001b[0;34m)\u001b[0m\u001b[0;34m:\u001b[0m\u001b[0;34m\u001b[0m\u001b[0;34m\u001b[0m\u001b[0m\n\u001b[0;32m--> 244\u001b[0;31m         \u001b[0mroot\u001b[0m \u001b[0;34m=\u001b[0m \u001b[0mself\u001b[0m\u001b[0;34m.\u001b[0m\u001b[0mexpand\u001b[0m\u001b[0;34m(\u001b[0m\u001b[0mrule\u001b[0m\u001b[0;34m,\u001b[0m \u001b[0mallow_escape_chars\u001b[0m\u001b[0;34m)\u001b[0m\u001b[0;34m\u001b[0m\u001b[0;34m\u001b[0m\u001b[0m\n\u001b[0m\u001b[1;32m    245\u001b[0m         \u001b[0;32mreturn\u001b[0m \u001b[0mroot\u001b[0m\u001b[0;34m.\u001b[0m\u001b[0mfinished_text\u001b[0m\u001b[0;34m\u001b[0m\u001b[0;34m\u001b[0m\u001b[0m\n\u001b[1;32m    246\u001b[0m \u001b[0;34m\u001b[0m\u001b[0m\n",
      "\u001b[0;32m~/opt/anaconda3/envs/brewery-review-nlp/lib/python3.9/site-packages/tracery/__init__.py\u001b[0m in \u001b[0;36mexpand\u001b[0;34m(self, rule, allow_escape_chars)\u001b[0m\n\u001b[1;32m    235\u001b[0m     \u001b[0;32mdef\u001b[0m \u001b[0mexpand\u001b[0m\u001b[0;34m(\u001b[0m\u001b[0mself\u001b[0m\u001b[0;34m,\u001b[0m \u001b[0mrule\u001b[0m\u001b[0;34m,\u001b[0m \u001b[0mallow_escape_chars\u001b[0m\u001b[0;34m=\u001b[0m\u001b[0;32mFalse\u001b[0m\u001b[0;34m)\u001b[0m\u001b[0;34m:\u001b[0m\u001b[0;34m\u001b[0m\u001b[0;34m\u001b[0m\u001b[0m\n\u001b[1;32m    236\u001b[0m         \u001b[0mroot\u001b[0m \u001b[0;34m=\u001b[0m \u001b[0mself\u001b[0m\u001b[0;34m.\u001b[0m\u001b[0mcreate_root\u001b[0m\u001b[0;34m(\u001b[0m\u001b[0mrule\u001b[0m\u001b[0;34m)\u001b[0m\u001b[0;34m\u001b[0m\u001b[0;34m\u001b[0m\u001b[0m\n\u001b[0;32m--> 237\u001b[0;31m         \u001b[0mroot\u001b[0m\u001b[0;34m.\u001b[0m\u001b[0mexpand\u001b[0m\u001b[0;34m(\u001b[0m\u001b[0;34m)\u001b[0m\u001b[0;34m\u001b[0m\u001b[0;34m\u001b[0m\u001b[0m\n\u001b[0m\u001b[1;32m    238\u001b[0m         \u001b[0;32mif\u001b[0m \u001b[0;32mnot\u001b[0m \u001b[0mallow_escape_chars\u001b[0m\u001b[0;34m:\u001b[0m\u001b[0;34m\u001b[0m\u001b[0;34m\u001b[0m\u001b[0m\n\u001b[1;32m    239\u001b[0m             \u001b[0mroot\u001b[0m\u001b[0;34m.\u001b[0m\u001b[0mclear_escape_chars\u001b[0m\u001b[0;34m(\u001b[0m\u001b[0;34m)\u001b[0m\u001b[0;34m\u001b[0m\u001b[0;34m\u001b[0m\u001b[0m\n",
      "\u001b[0;32m~/opt/anaconda3/envs/brewery-review-nlp/lib/python3.9/site-packages/tracery/__init__.py\u001b[0m in \u001b[0;36mexpand\u001b[0;34m(self, prevent_recursion)\u001b[0m\n\u001b[1;32m     61\u001b[0m             \u001b[0;31m#     more in the future)\u001b[0m\u001b[0;34m\u001b[0m\u001b[0;34m\u001b[0m\u001b[0;34m\u001b[0m\u001b[0m\n\u001b[1;32m     62\u001b[0m             \u001b[0;32mif\u001b[0m \u001b[0mself\u001b[0m\u001b[0;34m.\u001b[0m\u001b[0mtype\u001b[0m \u001b[0;34m==\u001b[0m \u001b[0;34m-\u001b[0m\u001b[0;36m1\u001b[0m\u001b[0;34m:\u001b[0m\u001b[0;34m\u001b[0m\u001b[0;34m\u001b[0m\u001b[0m\n\u001b[0;32m---> 63\u001b[0;31m                 \u001b[0mself\u001b[0m\u001b[0;34m.\u001b[0m\u001b[0mexpand_children\u001b[0m\u001b[0;34m(\u001b[0m\u001b[0mself\u001b[0m\u001b[0;34m.\u001b[0m\u001b[0mraw\u001b[0m\u001b[0;34m,\u001b[0m \u001b[0mprevent_recursion\u001b[0m\u001b[0;34m)\u001b[0m\u001b[0;34m\u001b[0m\u001b[0;34m\u001b[0m\u001b[0m\n\u001b[0m\u001b[1;32m     64\u001b[0m \u001b[0;34m\u001b[0m\u001b[0m\n\u001b[1;32m     65\u001b[0m             \u001b[0;32melif\u001b[0m \u001b[0mself\u001b[0m\u001b[0;34m.\u001b[0m\u001b[0mtype\u001b[0m \u001b[0;34m==\u001b[0m \u001b[0;36m0\u001b[0m\u001b[0;34m:\u001b[0m\u001b[0;34m\u001b[0m\u001b[0;34m\u001b[0m\u001b[0m\n",
      "\u001b[0;32m~/opt/anaconda3/envs/brewery-review-nlp/lib/python3.9/site-packages/tracery/__init__.py\u001b[0m in \u001b[0;36mexpand_children\u001b[0;34m(self, child_rule, prevent_recursion)\u001b[0m\n\u001b[1;32m     44\u001b[0m                 \u001b[0mself\u001b[0m\u001b[0;34m.\u001b[0m\u001b[0mchildren\u001b[0m\u001b[0;34m.\u001b[0m\u001b[0mappend\u001b[0m\u001b[0;34m(\u001b[0m\u001b[0mnode\u001b[0m\u001b[0;34m)\u001b[0m\u001b[0;34m\u001b[0m\u001b[0;34m\u001b[0m\u001b[0m\n\u001b[1;32m     45\u001b[0m                 \u001b[0;32mif\u001b[0m \u001b[0;32mnot\u001b[0m \u001b[0mprevent_recursion\u001b[0m\u001b[0;34m:\u001b[0m\u001b[0;34m\u001b[0m\u001b[0;34m\u001b[0m\u001b[0m\n\u001b[0;32m---> 46\u001b[0;31m                     \u001b[0mnode\u001b[0m\u001b[0;34m.\u001b[0m\u001b[0mexpand\u001b[0m\u001b[0;34m(\u001b[0m\u001b[0mprevent_recursion\u001b[0m\u001b[0;34m)\u001b[0m\u001b[0;34m\u001b[0m\u001b[0;34m\u001b[0m\u001b[0m\n\u001b[0m\u001b[1;32m     47\u001b[0m                 \u001b[0mself\u001b[0m\u001b[0;34m.\u001b[0m\u001b[0mfinished_text\u001b[0m \u001b[0;34m+=\u001b[0m \u001b[0mnode\u001b[0m\u001b[0;34m.\u001b[0m\u001b[0mfinished_text\u001b[0m\u001b[0;34m\u001b[0m\u001b[0;34m\u001b[0m\u001b[0m\n\u001b[1;32m     48\u001b[0m         \u001b[0;32melse\u001b[0m\u001b[0;34m:\u001b[0m\u001b[0;34m\u001b[0m\u001b[0;34m\u001b[0m\u001b[0m\n",
      "\u001b[0;32m~/opt/anaconda3/envs/brewery-review-nlp/lib/python3.9/site-packages/tracery/__init__.py\u001b[0m in \u001b[0;36mexpand\u001b[0;34m(self, prevent_recursion)\u001b[0m\n\u001b[1;32m     82\u001b[0m                 selected_rule = self.grammar.select_rule(self.symbol, self,\n\u001b[1;32m     83\u001b[0m                                                          self.errors)\n\u001b[0;32m---> 84\u001b[0;31m                 \u001b[0mself\u001b[0m\u001b[0;34m.\u001b[0m\u001b[0mexpand_children\u001b[0m\u001b[0;34m(\u001b[0m\u001b[0mselected_rule\u001b[0m\u001b[0;34m,\u001b[0m \u001b[0mprevent_recursion\u001b[0m\u001b[0;34m)\u001b[0m\u001b[0;34m\u001b[0m\u001b[0;34m\u001b[0m\u001b[0m\n\u001b[0m\u001b[1;32m     85\u001b[0m \u001b[0;34m\u001b[0m\u001b[0m\n\u001b[1;32m     86\u001b[0m                 \u001b[0;31m# apply modifiers\u001b[0m\u001b[0;34m\u001b[0m\u001b[0;34m\u001b[0m\u001b[0;34m\u001b[0m\u001b[0m\n",
      "\u001b[0;32m~/opt/anaconda3/envs/brewery-review-nlp/lib/python3.9/site-packages/tracery/__init__.py\u001b[0m in \u001b[0;36mexpand_children\u001b[0;34m(self, child_rule, prevent_recursion)\u001b[0m\n\u001b[1;32m     44\u001b[0m                 \u001b[0mself\u001b[0m\u001b[0;34m.\u001b[0m\u001b[0mchildren\u001b[0m\u001b[0;34m.\u001b[0m\u001b[0mappend\u001b[0m\u001b[0;34m(\u001b[0m\u001b[0mnode\u001b[0m\u001b[0;34m)\u001b[0m\u001b[0;34m\u001b[0m\u001b[0;34m\u001b[0m\u001b[0m\n\u001b[1;32m     45\u001b[0m                 \u001b[0;32mif\u001b[0m \u001b[0;32mnot\u001b[0m \u001b[0mprevent_recursion\u001b[0m\u001b[0;34m:\u001b[0m\u001b[0;34m\u001b[0m\u001b[0;34m\u001b[0m\u001b[0m\n\u001b[0;32m---> 46\u001b[0;31m                     \u001b[0mnode\u001b[0m\u001b[0;34m.\u001b[0m\u001b[0mexpand\u001b[0m\u001b[0;34m(\u001b[0m\u001b[0mprevent_recursion\u001b[0m\u001b[0;34m)\u001b[0m\u001b[0;34m\u001b[0m\u001b[0;34m\u001b[0m\u001b[0m\n\u001b[0m\u001b[1;32m     47\u001b[0m                 \u001b[0mself\u001b[0m\u001b[0;34m.\u001b[0m\u001b[0mfinished_text\u001b[0m \u001b[0;34m+=\u001b[0m \u001b[0mnode\u001b[0m\u001b[0;34m.\u001b[0m\u001b[0mfinished_text\u001b[0m\u001b[0;34m\u001b[0m\u001b[0;34m\u001b[0m\u001b[0m\n\u001b[1;32m     48\u001b[0m         \u001b[0;32melse\u001b[0m\u001b[0;34m:\u001b[0m\u001b[0;34m\u001b[0m\u001b[0;34m\u001b[0m\u001b[0m\n",
      "\u001b[0;32m~/opt/anaconda3/envs/brewery-review-nlp/lib/python3.9/site-packages/tracery/__init__.py\u001b[0m in \u001b[0;36mexpand\u001b[0;34m(self, prevent_recursion)\u001b[0m\n\u001b[1;32m     80\u001b[0m                     \u001b[0mpreaction\u001b[0m\u001b[0;34m.\u001b[0m\u001b[0mactivate\u001b[0m\u001b[0;34m(\u001b[0m\u001b[0;34m)\u001b[0m\u001b[0;34m\u001b[0m\u001b[0;34m\u001b[0m\u001b[0m\n\u001b[1;32m     81\u001b[0m                 \u001b[0mself\u001b[0m\u001b[0;34m.\u001b[0m\u001b[0mfinished_text\u001b[0m \u001b[0;34m=\u001b[0m \u001b[0mself\u001b[0m\u001b[0;34m.\u001b[0m\u001b[0mraw\u001b[0m\u001b[0;34m\u001b[0m\u001b[0;34m\u001b[0m\u001b[0m\n\u001b[0;32m---> 82\u001b[0;31m                 selected_rule = self.grammar.select_rule(self.symbol, self,\n\u001b[0m\u001b[1;32m     83\u001b[0m                                                          self.errors)\n\u001b[1;32m     84\u001b[0m                 \u001b[0mself\u001b[0m\u001b[0;34m.\u001b[0m\u001b[0mexpand_children\u001b[0m\u001b[0;34m(\u001b[0m\u001b[0mselected_rule\u001b[0m\u001b[0;34m,\u001b[0m \u001b[0mprevent_recursion\u001b[0m\u001b[0;34m)\u001b[0m\u001b[0;34m\u001b[0m\u001b[0;34m\u001b[0m\u001b[0m\n",
      "\u001b[0;32m~/opt/anaconda3/envs/brewery-review-nlp/lib/python3.9/site-packages/tracery/__init__.py\u001b[0m in \u001b[0;36mselect_rule\u001b[0;34m(self, key, node, errors)\u001b[0m\n\u001b[1;32m    259\u001b[0m     \u001b[0;32mdef\u001b[0m \u001b[0mselect_rule\u001b[0m\u001b[0;34m(\u001b[0m\u001b[0mself\u001b[0m\u001b[0;34m,\u001b[0m \u001b[0mkey\u001b[0m\u001b[0;34m,\u001b[0m \u001b[0mnode\u001b[0m\u001b[0;34m,\u001b[0m \u001b[0merrors\u001b[0m\u001b[0;34m)\u001b[0m\u001b[0;34m:\u001b[0m\u001b[0;34m\u001b[0m\u001b[0;34m\u001b[0m\u001b[0m\n\u001b[1;32m    260\u001b[0m         \u001b[0;32mif\u001b[0m \u001b[0mkey\u001b[0m \u001b[0;32min\u001b[0m \u001b[0mself\u001b[0m\u001b[0;34m.\u001b[0m\u001b[0msymbols\u001b[0m\u001b[0;34m:\u001b[0m\u001b[0;34m\u001b[0m\u001b[0;34m\u001b[0m\u001b[0m\n\u001b[0;32m--> 261\u001b[0;31m             \u001b[0;32mreturn\u001b[0m \u001b[0mself\u001b[0m\u001b[0;34m.\u001b[0m\u001b[0msymbols\u001b[0m\u001b[0;34m[\u001b[0m\u001b[0mkey\u001b[0m\u001b[0;34m]\u001b[0m\u001b[0;34m.\u001b[0m\u001b[0mselect_rule\u001b[0m\u001b[0;34m(\u001b[0m\u001b[0mnode\u001b[0m\u001b[0;34m,\u001b[0m \u001b[0merrors\u001b[0m\u001b[0;34m)\u001b[0m\u001b[0;34m\u001b[0m\u001b[0;34m\u001b[0m\u001b[0m\n\u001b[0m\u001b[1;32m    262\u001b[0m         \u001b[0;32melse\u001b[0m\u001b[0;34m:\u001b[0m\u001b[0;34m\u001b[0m\u001b[0;34m\u001b[0m\u001b[0m\n\u001b[1;32m    263\u001b[0m             \u001b[0merrors\u001b[0m\u001b[0;34m.\u001b[0m\u001b[0mappend\u001b[0m\u001b[0;34m(\u001b[0m\u001b[0;34m\"No symbol for \"\u001b[0m \u001b[0;34m+\u001b[0m \u001b[0mstr\u001b[0m\u001b[0;34m(\u001b[0m\u001b[0mkey\u001b[0m\u001b[0;34m)\u001b[0m\u001b[0;34m)\u001b[0m\u001b[0;34m\u001b[0m\u001b[0;34m\u001b[0m\u001b[0m\n",
      "\u001b[0;32m~/opt/anaconda3/envs/brewery-review-nlp/lib/python3.9/site-packages/tracery/__init__.py\u001b[0m in \u001b[0;36mselect_rule\u001b[0;34m(self, node, errors)\u001b[0m\n\u001b[1;32m    198\u001b[0m             errors.append(\"The rule stack for '\" + self.key +\n\u001b[1;32m    199\u001b[0m                           \"' is empty, too many pops?\")\n\u001b[0;32m--> 200\u001b[0;31m         \u001b[0;32mreturn\u001b[0m \u001b[0mself\u001b[0m\u001b[0;34m.\u001b[0m\u001b[0mstack\u001b[0m\u001b[0;34m[\u001b[0m\u001b[0;34m-\u001b[0m\u001b[0;36m1\u001b[0m\u001b[0;34m]\u001b[0m\u001b[0;34m.\u001b[0m\u001b[0mselect_rule\u001b[0m\u001b[0;34m(\u001b[0m\u001b[0;34m)\u001b[0m\u001b[0;34m\u001b[0m\u001b[0;34m\u001b[0m\u001b[0m\n\u001b[0m\u001b[1;32m    201\u001b[0m \u001b[0;34m\u001b[0m\u001b[0m\n\u001b[1;32m    202\u001b[0m     \u001b[0;32mdef\u001b[0m \u001b[0mget_active_rules\u001b[0m\u001b[0;34m(\u001b[0m\u001b[0mself\u001b[0m\u001b[0;34m)\u001b[0m\u001b[0;34m:\u001b[0m\u001b[0;34m\u001b[0m\u001b[0;34m\u001b[0m\u001b[0m\n",
      "\u001b[0;32m~/opt/anaconda3/envs/brewery-review-nlp/lib/python3.9/site-packages/tracery/__init__.py\u001b[0m in \u001b[0;36mselect_rule\u001b[0;34m(self)\u001b[0m\n\u001b[1;32m    167\u001b[0m         \u001b[0;31m# selecting a rule, none of which seem to be implemented yet! so for\u001b[0m\u001b[0;34m\u001b[0m\u001b[0;34m\u001b[0m\u001b[0;34m\u001b[0m\u001b[0m\n\u001b[1;32m    168\u001b[0m         \u001b[0;31m# now I'm just going to ...\u001b[0m\u001b[0;34m\u001b[0m\u001b[0;34m\u001b[0m\u001b[0;34m\u001b[0m\u001b[0m\n\u001b[0;32m--> 169\u001b[0;31m         \u001b[0;32mreturn\u001b[0m \u001b[0mrandom\u001b[0m\u001b[0;34m.\u001b[0m\u001b[0mchoice\u001b[0m\u001b[0;34m(\u001b[0m\u001b[0mself\u001b[0m\u001b[0;34m.\u001b[0m\u001b[0mdefault_rules\u001b[0m\u001b[0;34m)\u001b[0m\u001b[0;34m\u001b[0m\u001b[0;34m\u001b[0m\u001b[0m\n\u001b[0m\u001b[1;32m    170\u001b[0m \u001b[0;34m\u001b[0m\u001b[0m\n\u001b[1;32m    171\u001b[0m     \u001b[0;32mdef\u001b[0m \u001b[0mclear_state\u001b[0m\u001b[0;34m(\u001b[0m\u001b[0mself\u001b[0m\u001b[0;34m)\u001b[0m\u001b[0;34m:\u001b[0m\u001b[0;34m\u001b[0m\u001b[0;34m\u001b[0m\u001b[0m\n",
      "\u001b[0;32m~/opt/anaconda3/envs/brewery-review-nlp/lib/python3.9/random.py\u001b[0m in \u001b[0;36mchoice\u001b[0;34m(self, seq)\u001b[0m\n\u001b[1;32m    344\u001b[0m         \u001b[0;34m\"\"\"Choose a random element from a non-empty sequence.\"\"\"\u001b[0m\u001b[0;34m\u001b[0m\u001b[0;34m\u001b[0m\u001b[0m\n\u001b[1;32m    345\u001b[0m         \u001b[0;31m# raises IndexError if seq is empty\u001b[0m\u001b[0;34m\u001b[0m\u001b[0;34m\u001b[0m\u001b[0;34m\u001b[0m\u001b[0m\n\u001b[0;32m--> 346\u001b[0;31m         \u001b[0;32mreturn\u001b[0m \u001b[0mseq\u001b[0m\u001b[0;34m[\u001b[0m\u001b[0mself\u001b[0m\u001b[0;34m.\u001b[0m\u001b[0m_randbelow\u001b[0m\u001b[0;34m(\u001b[0m\u001b[0mlen\u001b[0m\u001b[0;34m(\u001b[0m\u001b[0mseq\u001b[0m\u001b[0;34m)\u001b[0m\u001b[0;34m)\u001b[0m\u001b[0;34m]\u001b[0m\u001b[0;34m\u001b[0m\u001b[0;34m\u001b[0m\u001b[0m\n\u001b[0m\u001b[1;32m    347\u001b[0m \u001b[0;34m\u001b[0m\u001b[0m\n\u001b[1;32m    348\u001b[0m     \u001b[0;32mdef\u001b[0m \u001b[0mshuffle\u001b[0m\u001b[0;34m(\u001b[0m\u001b[0mself\u001b[0m\u001b[0;34m,\u001b[0m \u001b[0mx\u001b[0m\u001b[0;34m,\u001b[0m \u001b[0mrandom\u001b[0m\u001b[0;34m=\u001b[0m\u001b[0;32mNone\u001b[0m\u001b[0;34m)\u001b[0m\u001b[0;34m:\u001b[0m\u001b[0;34m\u001b[0m\u001b[0;34m\u001b[0m\u001b[0m\n",
      "\u001b[0;31mIndexError\u001b[0m: list index out of range"
     ]
    }
   ],
   "source": [
    "# Let's test with training data (i.e., the most ideal we might expect to get)\n",
    "doc = nlp(\" \".join(reviews))\n",
    "\n",
    "words = {}\n",
    "for label in LABELS:\n",
    "    words[label] = []\n",
    "\n",
    "for ent in doc.ents:\n",
    "    words[ent.label_].append(ent.text)\n",
    "grammar = tracery.Grammar(rules)\n",
    "grammar.add_modifiers(base_english)\n",
    "\n",
    "rules = {\n",
    "  \"origin\": \"#descriptor.a.capitalize# brewery located in #geography# featuring #feature.a# and serving #beer_style#.\",\n",
    "  \"beer_style\": words['Beer Style'],\n",
    "  \"feature\": words['Feature'],\n",
    "  \"geography\": words['Geography'],\n",
    "  \"descriptor\": words['Descriptor']\n",
    "}\n",
    "\n",
    "for i in range(5):\n",
    "    print(grammar.flatten(\"#origin#\"))"
   ]
  },
  {
   "cell_type": "markdown",
   "metadata": {},
   "source": [
    "Not great, but also not too bad either! Especially only 15 review sample paragraphs.\n",
    "\n",
    "Further experimentation:\n",
    "\n",
    "* **Splitting reviews into sentences** might make more sense and produce better results and more samples.\n",
    "* **MORE REVIEWS!** spaCy recommends a couple hundred to a couple thousand samples for training NER.\n",
    "* **Parts of speed split** We might also add the \"Tagging\" pipeline for training since some labels' POS can be slightly different. This might be difficult to accomplish to 100% satisfaction.\n",
    "* **Streamlit** The final goal is to get this into a Streamlit app where you can input reviews (minimum?) and get a randomized summarization based on a number of different styles of grammar."
   ]
  }
 ],
 "metadata": {
  "kernelspec": {
   "display_name": "Python 3",
   "language": "python",
   "name": "python3"
  },
  "language_info": {
   "codemirror_mode": {
    "name": "ipython",
    "version": 3
   },
   "file_extension": ".py",
   "mimetype": "text/x-python",
   "name": "python",
   "nbconvert_exporter": "python",
   "pygments_lexer": "ipython3",
   "version": "3.9.0"
  }
 },
 "nbformat": 4,
 "nbformat_minor": 4
}
