{
 "cells": [
  {
   "cell_type": "markdown",
   "metadata": {},
   "source": [
    "# Beer Advocate Scraper\n",
    "\n",
    "## Purpose\n",
    "\n",
    "This notebook will go through scraping the Beer Advocate site for breweries and reviews.\n",
    "\n",
    "## Method\n",
    "\n",
    "1. Scrape Place index for cities (86 cities)\n",
    "    a. Store as CSV\n",
    "2. Loop through the cities\n",
    "    a. Store Breweries in DB (?? breweries)\n",
    "    b. How to determine if already stored?\n",
    "3. Loop through breweries\n",
    "    a. Store Reviews in DB\n",
    "\n",
    "## Schema\n",
    "\n",
    "* Cities\n",
    "    * Name\n",
    "    * URL\n",
    "    * BA City ID\n",
    "* Breweries\n",
    "    * Name\n",
    "    * Address\n",
    "    * City\n",
    "    * State / Province\n",
    "    * Postal Code\n",
    "    * Rating\n",
    "    * Total Ratings\n",
    "    * URL\n",
    "    * BA Brewery ID\n",
    "* Reviews\n",
    "    * BA Brewery ID\n",
    "    * Text\n",
    "    * Date\n"
   ]
  },
  {
   "cell_type": "code",
   "execution_count": 99,
   "metadata": {},
   "outputs": [],
   "source": [
    "import re\n",
    "import requests\n",
    "import numpy as np\n",
    "import pandas as pd\n",
    "from bs4 import BeautifulSoup"
   ]
  },
  {
   "cell_type": "code",
   "execution_count": 100,
   "metadata": {},
   "outputs": [],
   "source": [
    "from sqlalchemy import Column, Date, Integer, Float, String, UnicodeText, Table\n",
    "from sqlalchemy.ext.declarative import declarative_base\n",
    "\n",
    "Base = declarative_base()\n",
    "\n",
    "class City(Base):\n",
    "    __tablename__ = 'cities'\n",
    "    id = Column(Integer, primary_key=True)\n",
    "    name = Column(String)\n",
    "    url = Column(String)\n",
    "    ba_city_id = Column(Integer)\n",
    "    \n",
    "class Brewery(Base):\n",
    "    __tablename__ = 'brewery'\n",
    "    id = Column(Integer, primary_key=True)\n",
    "    name = Column(String)\n",
    "    address = Column(String)\n",
    "    city = Column(String)\n",
    "    state_province = Column(String)\n",
    "    postal_code = Column(String)\n",
    "    url = Column(String)\n",
    "    rating = Column(Float)\n",
    "    total_ratings = Column(Integer)\n",
    "    ba_brewery_id = Column(Integer)\n",
    "    \n",
    "class Review(Base):\n",
    "    __tablename__ = 'reviews'\n",
    "    id = Column(Integer, primary_key=True)\n",
    "    rating = Column(Float)\n",
    "    text = Column(UnicodeText)\n",
    "    date = Column(Date)\n",
    "    ba_brewery_id = Column(Integer)\n",
    "    \n",
    "engine = create_engine(f\"sqlite:///brewery_reviews.db\")\n",
    "Session = sessionmaker()\n",
    "Session.configure(bind=engine)\n",
    "session = Session()\n",
    "\n",
    "Base.metadata.create_all(engine)"
   ]
  },
  {
   "cell_type": "code",
   "execution_count": 101,
   "metadata": {},
   "outputs": [],
   "source": [
    "# Get the page and parse\n",
    "ba_domain = \"https://www.beeradvocate.com\"\n",
    "places_url = \"https://www.beeradvocate.com/place/\"\n",
    "request_headers = {'User-agent': 'Springboard Capstone Project Research Tool by Chris Mears <chris.mears@gmail.com>'}\n",
    "\n",
    "# TODO: Add User-Agent for ethical scraping\n",
    "places_page = requests.get(places_url, headers=request_headers)\n",
    "places_soup = BeautifulSoup(places_page.text)"
   ]
  },
  {
   "cell_type": "code",
   "execution_count": 102,
   "metadata": {},
   "outputs": [
    {
     "name": "stdout",
     "output_type": "stream",
     "text": [
      "Number of Cities: 86\n"
     ]
    }
   ],
   "source": [
    "# Select all of the brewery items\n",
    "# <a href=\"/place/city/73/\">Anchorage</a>\n",
    "cities = places_soup.find_all(href=re.compile(\"\\/place\\/city\\/\"))\n",
    "print(f\"Number of Cities: {len(cities)}\")"
   ]
  },
  {
   "cell_type": "code",
   "execution_count": 103,
   "metadata": {},
   "outputs": [],
   "source": [
    "# Clean-up: Delete all rows in City\n",
    "# session.query(City).delete()"
   ]
  },
  {
   "cell_type": "code",
   "execution_count": 104,
   "metadata": {},
   "outputs": [],
   "source": [
    "# Add cities to DB\n",
    "for city in cities:\n",
    "    name = city.string\n",
    "    url = f\"{ba_domain}{city['href']}\"\n",
    "    ba_city_id = re.match(r\"\\/place\\/city\\/(\\d+)\\/\", city['href']).group(1)\n",
    "    \n",
    "    # Skip if city already exists\n",
    "    if session.query(City).filter(City.ba_city_id==ba_city_id).first() is None:\n",
    "        new_city = City(name=name, url=url, ba_city_id=ba_city_id)\n",
    "        session.add(new_city)\n",
    "\n",
    "# Write to DB\n",
    "session.commit()"
   ]
  },
  {
   "cell_type": "code",
   "execution_count": 105,
   "metadata": {},
   "outputs": [
    {
     "name": "stdout",
     "output_type": "stream",
     "text": [
      "1 Birmingham https://www.beeradvocate.com/place/city/83/ 83\n",
      "2 Anchorage https://www.beeradvocate.com/place/city/73/ 73\n",
      "3 Phoenix https://www.beeradvocate.com/place/city/29/ 29\n",
      "4 Los Angeles https://www.beeradvocate.com/place/city/9/ 9\n",
      "5 San Diego https://www.beeradvocate.com/place/city/28/ 28\n",
      "6 San Francisco https://www.beeradvocate.com/place/city/17/ 17\n",
      "7 Boulder https://www.beeradvocate.com/place/city/79/ 79\n",
      "8 Denver https://www.beeradvocate.com/place/city/7/ 7\n",
      "9 Fort Collins https://www.beeradvocate.com/place/city/53/ 53\n",
      "10 Hartford https://www.beeradvocate.com/place/city/38/ 38\n"
     ]
    }
   ],
   "source": [
    "# Inspect\n",
    "for city in session.query(City).limit(10):\n",
    "    print(city.id, city.name, city.url, city.ba_city_id)"
   ]
  },
  {
   "cell_type": "code",
   "execution_count": 106,
   "metadata": {},
   "outputs": [],
   "source": [
    "# Get first city\n",
    "city = session.query(City).all()[0]\n",
    "\n",
    "# Read city page\n",
    "city_page = requests.get(city.url, headers=request_headers)\n",
    "city_soup = BeautifulSoup(city_page.text)"
   ]
  },
  {
   "cell_type": "code",
   "execution_count": 107,
   "metadata": {},
   "outputs": [
    {
     "name": "stdout",
     "output_type": "stream",
     "text": [
      "No. Items: 28\n"
     ]
    }
   ],
   "source": [
    "breweries = soup.find_all(href=re.compile(\"\\/beer\\/profile\\/\"))\n",
    "print(f\"Number of Breweries: {len(breweries)}\")"
   ]
  },
  {
   "cell_type": "code",
   "execution_count": 108,
   "metadata": {},
   "outputs": [],
   "source": [
    "# Clean-up: Delete all rows in Brewery\n",
    "# session.query(Brewery).delete()"
   ]
  },
  {
   "cell_type": "code",
   "execution_count": 109,
   "metadata": {},
   "outputs": [],
   "source": [
    "# Add breweries to DB\n",
    "for brewery in breweries:\n",
    "    name = brewery.string\n",
    "    url = f\"{ba_domain}{brewery['href']}\"\n",
    "    ba_brewery_id = re.match(r\"\\/beer\\/profile\\/(\\d+)\\/\", brewery['href']).group(1)\n",
    "    \n",
    "    # Skip if it already exists\n",
    "    if session.query(Brewery).filter(Brewery.ba_brewery_id==ba_brewery_id).first() is None:\n",
    "        new_brewery = Brewery(name=name, url=url, ba_brewery_id=ba_brewery_id)\n",
    "        session.add(new_brewery)\n",
    "\n",
    "# Write to DB\n",
    "session.commit()"
   ]
  },
  {
   "cell_type": "code",
   "execution_count": 110,
   "metadata": {},
   "outputs": [
    {
     "name": "stdout",
     "output_type": "stream",
     "text": [
      "1 Birmingham District Brewing https://www.beeradvocate.com/beer/profile/54932/ 54932\n",
      "2 Trimtab Brewing Company https://www.beeradvocate.com/beer/profile/33996/ 33996\n",
      "3 Good People Brewing Company https://www.beeradvocate.com/beer/profile/17282/ 17282\n",
      "4 Cahaba Brewing Company https://www.beeradvocate.com/beer/profile/27947/ 27947\n",
      "5 Avondale Brewing Co. https://www.beeradvocate.com/beer/profile/25916/ 25916\n",
      "6 Ghost Train Brewing Company https://www.beeradvocate.com/beer/profile/43120/ 43120\n",
      "7 Highland Package Store https://www.beeradvocate.com/beer/profile/23845/?view=ratings 23845\n",
      "8 Slice https://www.beeradvocate.com/beer/profile/27347/?view=ratings 27347\n",
      "9 Garage Cafe https://www.beeradvocate.com/beer/profile/14373/?view=ratings 14373\n",
      "10 Good People Brewing Company - Birmingham Airport https://www.beeradvocate.com/beer/profile/31770/?view=ratings 31770\n"
     ]
    }
   ],
   "source": [
    "# Inspect\n",
    "for brewery in session.query(Brewery).limit(10):\n",
    "    print(brewery.id, brewery.name, brewery.url, brewery.ba_brewery_id)"
   ]
  },
  {
   "cell_type": "code",
   "execution_count": 112,
   "metadata": {},
   "outputs": [],
   "source": [
    "brewery = session.query(Brewery).limit(1)[0]\n",
    "brewery_url = f\"{ba_domain}/beer/profile/{brewery.ba_brewery_id}/?view=ratings\"\n",
    "\n",
    "# Read city page\n",
    "brewery_page = requests.get(brewery_url, headers=request_headers)\n",
    "brewery_soup = BeautifulSoup(brewery_page.text)"
   ]
  },
  {
   "cell_type": "code",
   "execution_count": 114,
   "metadata": {},
   "outputs": [
    {
     "name": "stdout",
     "output_type": "stream",
     "text": [
      "Number of Reviews: 1\n"
     ]
    }
   ],
   "source": [
    "reviews = brewery_soup.find_all(id=\"rating_fullview_content_2\")\n",
    "print(f\"Number of Reviews: {len(reviews)}\")"
   ]
  },
  {
   "cell_type": "code",
   "execution_count": 115,
   "metadata": {},
   "outputs": [
    {
     "data": {
      "text/plain": [
       "[<span class=\"muted\"><b><a class=\"username\" href=\"/community/members/wickedbeer.1046282/\">WickedBeer</a></b> from Alabama</span>,\n",
       " <span class=\"muted\">vibe: 4.5 | quality: 4 | service: 4 | selection: 4.25</span>,\n",
       " <span class=\"muted\"><a href=\"/beer/profile/54932/?view=ratings&amp;ba=WickedBeer#review\">Jul 25, 2019</a></span>]"
      ]
     },
     "execution_count": 115,
     "metadata": {},
     "output_type": "execute_result"
    }
   ],
   "source": [
    "reviews[0].select('.muted')"
   ]
  }
 ],
 "metadata": {
  "kernelspec": {
   "display_name": "Python 3",
   "language": "python",
   "name": "python3"
  },
  "language_info": {
   "codemirror_mode": {
    "name": "ipython",
    "version": 3
   },
   "file_extension": ".py",
   "mimetype": "text/x-python",
   "name": "python",
   "nbconvert_exporter": "python",
   "pygments_lexer": "ipython3",
   "version": "3.9.0"
  }
 },
 "nbformat": 4,
 "nbformat_minor": 4
}
