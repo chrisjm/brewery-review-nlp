{
 "cells": [
  {
   "cell_type": "markdown",
   "metadata": {},
   "source": [
    "# 04 - Model Tuning 🔧\n",
    "\n",
    "## Problem\n",
    "\n",
    "How can we generate short descriptions including a list of popular beer styles from brewery reviews with natural language processing (NLP)? \n",
    "\n",
    "NOTE: This is similar to how Google Maps provides short blurbs for businesses such as “From scratch, Northern Italian dining.” \n",
    "\n",
    "For example, \"Spacious warehouse brewery with daily food trucks. Allows dogs. Features IPAs, Hazy IPAs, and high-gravity stouts.\"\n",
    "\n",
    "## Notebook Objectives\n",
    "\n",
    "* Evaluate at least 3 models with metrics"
   ]
  },
  {
   "cell_type": "code",
   "execution_count": 1,
   "metadata": {},
   "outputs": [],
   "source": [
    "import numpy as np\n",
    "import pandas as pd\n",
    "import matplotlib.pyplot as plt\n",
    "import seaborn as sns\n",
    "import warnings\n",
    "import json\n",
    "import time\n",
    "import math\n",
    "from pprint import pprint\n",
    "\n",
    "import random\n",
    "random.seed(42)\n",
    "\n",
    "# Progress bar\n",
    "# from tqdm import tqdm, trange\n",
    "from tqdm.notebook import tqdm, trange\n",
    "\n",
    "# NLP Toolkit\n",
    "import spacy\n",
    "from spacy import displacy\n",
    "from spacy.util import minibatch, compounding, decaying\n",
    "\n",
    "# Set default plot size\n",
    "plt.rcParams['figure.figsize'] = (10, 5)\n",
    "\n",
    "%matplotlib inline"
   ]
  },
  {
   "cell_type": "code",
   "execution_count": 2,
   "metadata": {},
   "outputs": [],
   "source": [
    "# Q: unused?\n",
    "def load_doccano_data(file_path):\n",
    "    '''Load the Doccano annotation data and return as a list'''\n",
    "    data = []\n",
    "    with open(file_path) as file:\n",
    "        lines = file.readlines()\n",
    "        for line in lines:\n",
    "            annot_data = json.loads(line)\n",
    "            \n",
    "            # Ignore annotation data without labels and without approval\n",
    "            if len(annot_data['labels']) == 0 and annot_data['annotation_approver'] == None: continue\n",
    "            \n",
    "            # Generate list of entity tuples\n",
    "            ents = [tuple(entity[:3]) for entity in annot_data['labels']]\n",
    "            \n",
    "            # Append tuples of raw text and entities\n",
    "            data.append((annot_data['text'], {'entities': ents}))\n",
    "    print(f\"Number of examples: {len(data)}\")\n",
    "    return data"
   ]
  },
  {
   "cell_type": "code",
   "execution_count": 3,
   "metadata": {},
   "outputs": [],
   "source": [
    "# Q: unused?\n",
    "def save_spacy_train_data(data, output_path):\n",
    "    '''Save the spaCy data'''\n",
    "    with open(file_path,'w') as file:\n",
    "        file.write(str(data))\n",
    "    print(f\"Wrote spaCy training data to {output_path}\")"
   ]
  },
  {
   "cell_type": "code",
   "execution_count": 4,
   "metadata": {},
   "outputs": [],
   "source": [
    "def load_doccano_labels(file_path):\n",
    "    '''Load the LABELS from a Doccano export'''\n",
    "    labels = []\n",
    "    with open(file_path) as file:\n",
    "        labels = [label['text'] for label in json.load(file)]\n",
    "    return labels"
   ]
  },
  {
   "cell_type": "code",
   "execution_count": 5,
   "metadata": {},
   "outputs": [],
   "source": [
    "def update_model_with_labels(model, labels, output_path):\n",
    "    '''Save model with additional NER labels'''\n",
    "    nlp = spacy.load(model)\n",
    "    print(f\"Loaded model '{model}'.\")\n",
    "\n",
    "    # Get the NER component so we can add labels\n",
    "    ner = nlp.get_pipe(\"ner\")\n",
    "    for label in labels:\n",
    "        ner.add_label(label)\n",
    "        print(f\"Added label '{label}'.\")\n",
    "\n",
    "    # Save the model to disk\n",
    "    nlp.to_disk(output_path)\n",
    "    print(f\"Wrote base model to {output_path}.\")"
   ]
  },
  {
   "cell_type": "code",
   "execution_count": 6,
   "metadata": {},
   "outputs": [],
   "source": [
    "def doccano_to_ner_jsonl(file_path, output_path, labels):\n",
    "    '''Convert Doccano JSONL to NER JSONL'''\n",
    "    data = []  \n",
    "    with open(file_path) as file:\n",
    "        lines = file.readlines()\n",
    "\n",
    "        for line in lines:\n",
    "            annot_data = json.loads(line)\n",
    "\n",
    "            # Ignore annotations without labels and no approval\n",
    "            if len(annot_data['labels']) == 0 and annot_data['annotation_approver'] == None: continue\n",
    "\n",
    "            # Rename \"labels\" to \"entities\"\n",
    "            if \"labels\" in line:\n",
    "                annot_data[\"entities\"] = annot_data.pop(\"labels\")\n",
    "            else:\n",
    "                annot_data[\"entities\"] = []\n",
    "\n",
    "            # Reorganize the entities\n",
    "            tmp_ents = []\n",
    "            for entity in annot_data[\"entities\"]:\n",
    "                if entity[2] in labels:\n",
    "                    tmp_ents.append({\"start\": entity[0], \"end\": entity[1], \"label\": entity[2]})\n",
    "                annot_data[\"entities\"] = tmp_ents\n",
    "            \n",
    "            # Append line\n",
    "            data.append(json.dumps({\"entities\": annot_data[\"entities\"], \"text\": annot_data[\"text\"]}))\n",
    "    \n",
    "    # Write NER JSONL file\n",
    "    with open(output_path, 'w') as file:\n",
    "        file.write((\"\\n\").join(data) + \"\\n\")\n",
    "    \n",
    "    print(f\"Wrote NER JSONL to {output_path}\")"
   ]
  },
  {
   "cell_type": "code",
   "execution_count": 7,
   "metadata": {},
   "outputs": [],
   "source": [
    "def train_dev_split_ner_jsonl(file_path, train_size=0.8):\n",
    "    '''Split data into train and dev sets and save'''\n",
    "    data = []\n",
    "    \n",
    "    # Read JSONL lines\n",
    "    with open(file_path) as file:\n",
    "        data = file.readlines()\n",
    "        \n",
    "    # Randomize data\n",
    "    random.shuffle(data)\n",
    "        \n",
    "    # Calculate split point\n",
    "    n = math.floor(train_size * len(data))\n",
    "\n",
    "    # Split the data\n",
    "    train_data = data[:n]\n",
    "    dev_data = data[n:]\n",
    "\n",
    "    # Generate filenames based on type and sample size\n",
    "    train_file_path = file_path.replace('.jsonl',f'-train-{len(train_data)}.jsonl')\n",
    "    dev_file_path = file_path.replace('.jsonl',f'-dev-{len(dev_data)}.jsonl')\n",
    "\n",
    "    # Write files\n",
    "    with open(train_file_path, 'w') as file:\n",
    "        file.write(\"\".join(train_data))\n",
    "    print(f\"Wrote NER JSONL training data to {train_file_path} ({len(train_data)} samples)\")\n",
    "\n",
    "    with open(dev_file_path, 'w') as file:\n",
    "        file.write(\"\".join(dev_data))\n",
    "    print(f\"Wrote NER JSONL dev data to {dev_file_path} ({len(dev_data)} samples)\")\n",
    "    \n",
    "    return train_file_path, dev_file_path"
   ]
  },
  {
   "cell_type": "code",
   "execution_count": 8,
   "metadata": {},
   "outputs": [
    {
     "name": "stdout",
     "output_type": "stream",
     "text": [
      "['BEER_STYLE', 'LOCATION', 'BREWERY', 'FEATURE']\n"
     ]
    }
   ],
   "source": [
    "# Shared variables \n",
    "annotations_filename = \"../data/annotations/final-training-set/reviews-annotated-ner-200-p2.jsonl\"\n",
    "labels_filename = \"../data/annotations/final-training-set/labels.json\"\n",
    "output_path = \"../data/annotations/final-training-set/\"\n",
    "labels = load_doccano_labels(labels_filename)\n",
    "print(labels)"
   ]
  },
  {
   "cell_type": "markdown",
   "metadata": {},
   "source": [
    "## Save Base Models for Transfer Learning"
   ]
  },
  {
   "cell_type": "markdown",
   "metadata": {},
   "source": [
    "### `en_core_web_sm`"
   ]
  },
  {
   "cell_type": "code",
   "execution_count": 9,
   "metadata": {},
   "outputs": [
    {
     "name": "stdout",
     "output_type": "stream",
     "text": [
      "Loaded model 'en_core_web_sm'.\n",
      "Added label 'BEER_STYLE'.\n",
      "Added label 'LOCATION'.\n",
      "Added label 'BREWERY'.\n",
      "Added label 'FEATURE'.\n",
      "Wrote base model to ../models/base_model_sm.\n"
     ]
    }
   ],
   "source": [
    "sm_model = \"en_core_web_sm\"\n",
    "sm_model_path = \"../models/base_model_sm\"\n",
    "update_model_with_labels(sm_model, labels, sm_model_path)"
   ]
  },
  {
   "cell_type": "markdown",
   "metadata": {},
   "source": [
    "### `en_core_web_md`"
   ]
  },
  {
   "cell_type": "code",
   "execution_count": 10,
   "metadata": {},
   "outputs": [
    {
     "name": "stdout",
     "output_type": "stream",
     "text": [
      "Loaded model 'en_core_web_md'.\n",
      "Added label 'BEER_STYLE'.\n",
      "Added label 'LOCATION'.\n",
      "Added label 'BREWERY'.\n",
      "Added label 'FEATURE'.\n",
      "Wrote base model to ../models/base_model_md.\n"
     ]
    }
   ],
   "source": [
    "md_model = \"en_core_web_md\"\n",
    "md_model_path = \"../models/base_model_md\"\n",
    "update_model_with_labels(md_model, labels, md_model_path)"
   ]
  },
  {
   "cell_type": "markdown",
   "metadata": {},
   "source": [
    "## Split Train and Test"
   ]
  },
  {
   "cell_type": "code",
   "execution_count": 11,
   "metadata": {},
   "outputs": [
    {
     "name": "stdout",
     "output_type": "stream",
     "text": [
      "Wrote NER JSONL to ../data/annotations/final-training-set/reviews-annotated-ner-200-p2-ner.jsonl\n"
     ]
    }
   ],
   "source": [
    "# Convert Doccano JSONL to NER JSONL\n",
    "ner_jsonl_file_path = annotations_filename.replace('.jsonl','-ner.jsonl')\n",
    "doccano_to_ner_jsonl(annotations_filename, ner_jsonl_file_path, labels)"
   ]
  },
  {
   "cell_type": "code",
   "execution_count": 12,
   "metadata": {},
   "outputs": [
    {
     "name": "stdout",
     "output_type": "stream",
     "text": [
      "Wrote NER JSONL training data to ../data/annotations/final-training-set/reviews-annotated-ner-200-p2-ner-train-160.jsonl (160 samples)\n",
      "Wrote NER JSONL dev data to ../data/annotations/final-training-set/reviews-annotated-ner-200-p2-ner-dev-40.jsonl (40 samples)\n"
     ]
    }
   ],
   "source": [
    "# Split data into training and dev\n",
    "train_file_path, dev_file_path = train_dev_split_ner_jsonl(ner_jsonl_file_path, train_size=0.8)"
   ]
  },
  {
   "cell_type": "code",
   "execution_count": 13,
   "metadata": {},
   "outputs": [
    {
     "name": "stdout",
     "output_type": "stream",
     "text": [
      "\u001b[38;5;2m✔ Generated output file (160 documents):\n",
      "../data/annotations/final-training-set/reviews-annotated-ner-200-p2-ner-train-160.json\u001b[0m\n"
     ]
    }
   ],
   "source": [
    "%%bash -s \"$train_file_path\" \"$output_path\"\n",
    "python -m spacy convert $1 $2 --lang en"
   ]
  },
  {
   "cell_type": "code",
   "execution_count": 14,
   "metadata": {},
   "outputs": [
    {
     "name": "stdout",
     "output_type": "stream",
     "text": [
      "\u001b[38;5;2m✔ Generated output file (40 documents):\n",
      "../data/annotations/final-training-set/reviews-annotated-ner-200-p2-ner-dev-40.json\u001b[0m\n"
     ]
    }
   ],
   "source": [
    "%%bash -s \"$dev_file_path\" \"$output_path\"\n",
    "python -m spacy convert $1 $2 --lang en"
   ]
  },
  {
   "cell_type": "code",
   "execution_count": 15,
   "metadata": {},
   "outputs": [],
   "source": [
    "spacy_train_file_path = train_file_path.replace('.jsonl', '.json')\n",
    "spacy_dev_file_path = dev_file_path.replace('.jsonl', '.json')"
   ]
  },
  {
   "cell_type": "markdown",
   "metadata": {},
   "source": [
    "## Model v1 - Blank Model"
   ]
  },
  {
   "cell_type": "code",
   "execution_count": 16,
   "metadata": {},
   "outputs": [
    {
     "name": "stdout",
     "output_type": "stream",
     "text": [
      "\u001b[1m\n",
      "=========================== Data format validation ===========================\u001b[0m\n",
      "\u001b[2K\u001b[38;5;2m✔ Corpus is loadable\u001b[0m\n",
      "\u001b[1m\n",
      "=============================== Training stats ===============================\u001b[0m\n",
      "Training pipeline: ner\n",
      "Starting with blank model 'en'\n",
      "160 training docs\n",
      "40 evaluation docs\n",
      "\u001b[38;5;2m✔ No overlap between training and evaluation data\u001b[0m\n",
      "\u001b[38;5;3m⚠ Low number of examples to train from a blank model (160)\u001b[0m\n",
      "\u001b[1m\n",
      "============================== Vocab & Vectors ==============================\u001b[0m\n",
      "\u001b[38;5;4mℹ 14768 total words in the data (2755 unique)\u001b[0m\n",
      "\u001b[38;5;4mℹ No word vectors present in the model\u001b[0m\n",
      "\u001b[1m\n",
      "========================== Named Entity Recognition ==========================\u001b[0m\n",
      "\u001b[38;5;4mℹ 4 new labels, 0 existing labels\u001b[0m\n",
      "0 missing values (tokens with '-' label)\n",
      "\u001b[38;5;2m✔ Good amount of examples for all labels\u001b[0m\n",
      "\u001b[38;5;2m✔ Examples without occurrences available for all labels\u001b[0m\n",
      "\u001b[38;5;2m✔ No entities consisting of or starting/ending with whitespace\u001b[0m\n",
      "\u001b[38;5;2m✔ No entities consisting of or starting/ending with punctuation\u001b[0m\n",
      "\u001b[1m\n",
      "================================== Summary ==================================\u001b[0m\n",
      "\u001b[38;5;2m✔ 6 checks passed\u001b[0m\n",
      "\u001b[38;5;3m⚠ 1 warning\u001b[0m\n"
     ]
    }
   ],
   "source": [
    "%%bash -s \"$spacy_train_file_path\" \"$spacy_dev_file_path\"\n",
    "python -m spacy debug-data en $1 $2 --pipeline ner"
   ]
  },
  {
   "cell_type": "code",
   "execution_count": 60,
   "metadata": {},
   "outputs": [
    {
     "name": "stdout",
     "output_type": "stream",
     "text": [
      "\u001b[38;5;2m✔ Created output directory: ../models/v1\u001b[0m\n",
      "Training pipeline: ['ner']\n",
      "Starting with blank model 'en'\n",
      "Counting training words (limit=0)\n",
      "\n",
      "Itn  NER Loss   NER P   NER R   NER F   Token %  CPU WPS\n",
      "---  ---------  ------  ------  ------  -------  -------\n",
      "  1   2308.440  100.000   0.654   1.299  100.000    29609\n",
      "  2   1444.723  43.396  15.033  22.330  100.000    23903\n",
      "  3   3534.244  52.055  24.837  33.628  100.000    29594\n",
      "  4   1086.787  49.474  30.719  37.903  100.000    28335\n",
      "  5   1353.483  54.545  31.373  39.834  100.000    29403\n",
      "  6    926.315  56.863  37.908  45.490  100.000    26456\n",
      "  7    685.207  58.036  42.484  49.057  100.000    28319\n",
      "  8    618.671  56.522  42.484  48.507  100.000    28431\n",
      "  9    635.116  58.824  45.752  51.471  100.000    28669\n",
      " 10    430.208  57.258  46.405  51.264  100.000    27540\n",
      " 11    484.619  57.480  47.712  52.143  100.000    31129\n",
      " 12    332.482  58.065  47.059  51.986  100.000    24187\n",
      " 13    466.704  57.724  46.405  51.449  100.000    24129\n",
      " 14    277.551  56.911  45.752  50.725  100.000    29426\n",
      " 15    370.162  58.400  47.712  52.518  100.000    20119\n",
      " 16    236.645  56.452  45.752  50.542  100.000    30130\n",
      " 17    176.176  53.077  45.098  48.763  100.000    25917\n",
      " 18    176.373  53.125  44.444  48.399  100.000    25817\n",
      " 19    161.426  52.308  44.444  48.057  100.000    28847\n",
      " 20    136.612  54.264  45.752  49.645  100.000    24400\n",
      " 21    161.680  52.381  43.137  47.312  100.000    28085\n",
      " 22    114.282  52.381  43.137  47.312  100.000    24484\n",
      " 23    107.238  53.077  45.098  48.763  100.000    28416\n",
      " 24     72.846  52.672  45.098  48.592  100.000    21222\n",
      " 25     61.382  50.376  43.791  46.853  100.000    25457\n",
      " 26     90.392  48.507  42.484  45.296  100.000    28193\n",
      " 27     76.637  50.388  42.484  46.099  100.000    30709\n",
      " 28     90.361  50.781  42.484  46.263  100.000    27334\n",
      " 29     65.722  52.713  44.444  48.227  100.000    28558\n",
      " 30     59.817  51.562  43.137  46.975  100.000    28833\n",
      "\u001b[38;5;2m✔ Saved model to output directory\u001b[0m\n",
      "../models/v1/model-final\n",
      "\u001b[2K\u001b[38;5;2m✔ Created best model\u001b[0m\n",
      "../models/v1/model-best\n"
     ]
    },
    {
     "name": "stderr",
     "output_type": "stream",
     "text": [
      "                                                       \r"
     ]
    }
   ],
   "source": [
    "%%bash -s \"$spacy_train_file_path\" \"$spacy_dev_file_path\" \"../models/v1\"\n",
    "python -m spacy train en $3 $1 $2 -p ner"
   ]
  },
  {
   "cell_type": "code",
   "execution_count": 63,
   "metadata": {},
   "outputs": [
    {
     "name": "stdout",
     "output_type": "stream",
     "text": [
      "\u001b[1m\n",
      "================================== Results ==================================\u001b[0m\n",
      "\n",
      "Time      0.16 s\n",
      "Words     4226  \n",
      "Words/s   27195 \n",
      "TOK       100.00\n",
      "POS       0.00  \n",
      "UAS       0.00  \n",
      "LAS       0.00  \n",
      "NER P     58.40 \n",
      "NER R     47.71 \n",
      "NER F     52.52 \n",
      "Textcat   0.00  \n",
      "\n",
      "\u001b[38;5;2m✔ Generated 10 parses as HTML\u001b[0m\n",
      "../reports/evaluations\n"
     ]
    },
    {
     "name": "stderr",
     "output_type": "stream",
     "text": [
      "/Users/chris/opt/anaconda3/envs/brewery-review-nlp/lib/python3.9/site-packages/spacy/displacy/__init__.py:189: UserWarning: [W006] No entities to visualize found in Doc object. If this is surprising to you, make sure the Doc was processed using a model that supports named entity recognition, and check the `doc.ents` property manually if necessary.\n",
      "  warnings.warn(Warnings.W006)\n"
     ]
    }
   ],
   "source": [
    "%%bash -s \"$spacy_dev_file_path\" \"../models/v1/model-best\" \"../reports/evaluations/\"\n",
    "python -m spacy evaluate $2 $1 --displacy-path $3 --displacy-limit 10"
   ]
  },
  {
   "cell_type": "markdown",
   "metadata": {},
   "source": [
    "## Model v2 - Transfer Learning with `en_core_web_sm`"
   ]
  },
  {
   "cell_type": "code",
   "execution_count": 19,
   "metadata": {},
   "outputs": [
    {
     "name": "stdout",
     "output_type": "stream",
     "text": [
      "\u001b[1m\n",
      "=========================== Data format validation ===========================\u001b[0m\n",
      "\u001b[2K\u001b[38;5;2m✔ Corpus is loadable\u001b[0m\n",
      "\u001b[1m\n",
      "=============================== Training stats ===============================\u001b[0m\n",
      "Training pipeline: ner\n",
      "Starting with base model '../models/base_model_sm'\n",
      "160 training docs\n",
      "40 evaluation docs\n",
      "\u001b[38;5;2m✔ No overlap between training and evaluation data\u001b[0m\n",
      "\u001b[1m\n",
      "============================== Vocab & Vectors ==============================\u001b[0m\n",
      "\u001b[38;5;4mℹ 14768 total words in the data (2755 unique)\u001b[0m\n",
      "\u001b[38;5;4mℹ No word vectors present in the model\u001b[0m\n",
      "\u001b[1m\n",
      "========================== Named Entity Recognition ==========================\u001b[0m\n",
      "\u001b[38;5;4mℹ 0 new labels, 4 existing labels\u001b[0m\n",
      "0 missing values (tokens with '-' label)\n",
      "\u001b[38;5;2m✔ Good amount of examples for all labels\u001b[0m\n",
      "\u001b[38;5;2m✔ Examples without occurrences available for all labels\u001b[0m\n",
      "\u001b[38;5;2m✔ No entities consisting of or starting/ending with whitespace\u001b[0m\n",
      "\u001b[38;5;2m✔ No entities consisting of or starting/ending with punctuation\u001b[0m\n",
      "\u001b[1m\n",
      "================================== Summary ==================================\u001b[0m\n",
      "\u001b[38;5;2m✔ 6 checks passed\u001b[0m\n"
     ]
    }
   ],
   "source": [
    "%%bash -s \"$spacy_train_file_path\" \"$spacy_dev_file_path\" \"$sm_model_path\"\n",
    "python -m spacy debug-data en $1 $2 --base-model $3 --pipeline ner"
   ]
  },
  {
   "cell_type": "code",
   "execution_count": 22,
   "metadata": {},
   "outputs": [
    {
     "name": "stdout",
     "output_type": "stream",
     "text": [
      "\u001b[38;5;2m✔ Created output directory: ../models/v2\u001b[0m\n",
      "Training pipeline: ['ner']\n",
      "Starting with base model '../models/base_model_sm'\n",
      "Extending component from base model 'ner'\n",
      "Counting training words (limit=0)\n",
      "\n",
      "Itn  NER Loss   NER P   NER R   NER F   Token %  CPU WPS\n",
      "---  ---------  ------  ------  ------  -------  -------\n",
      "  1   1435.517   0.000   0.000   0.000  100.000    22321\n",
      "  2   1511.661  57.895  14.379  23.037  100.000    25264\n",
      "  3    941.415  57.955  33.333  42.324  100.000    24755\n",
      "  4    821.753  61.616  39.869  48.413  100.000    18656\n",
      "  5    741.171  61.111  43.137  50.575  100.000    24624\n",
      "  6    711.275  60.504  47.059  52.941  100.000    22703\n",
      "  7    614.466  62.295  49.673  55.273  100.000    21533\n",
      "  8    499.789  62.121  53.595  57.544  100.000    21639\n",
      "  9    512.802  62.319  56.209  59.107  100.000    22672\n",
      " 10    393.317  62.774  56.209  59.310  100.000    18354\n",
      " 11    294.463  62.500  55.556  58.824  100.000    25319\n",
      " 12    257.461  61.702  56.863  59.184  100.000    25044\n",
      " 13    250.952  61.151  55.556  58.219  100.000    18431\n",
      " 14    247.689  60.140  56.209  58.108  100.000    22920\n",
      " 15    226.043  63.121  58.170  60.544  100.000    24643\n",
      " 16    178.393  61.379  58.170  59.732  100.000    22404\n",
      " 17    148.638  62.329  59.477  60.870  100.000    23678\n",
      " 18    151.144  60.959  58.170  59.532  100.000    24903\n",
      " 19     92.140  59.864  57.516  58.667  100.000    18085\n",
      " 20    101.329  59.864  57.516  58.667  100.000    22791\n",
      " 21    104.183  60.544  58.170  59.333  100.000    24732\n",
      " 22    112.917  61.379  58.170  59.732  100.000    17943\n",
      " 23     70.316  60.403  58.824  59.603  100.000    22494\n",
      " 24     81.918  61.806  58.170  59.933  100.000    23589\n",
      " 25     64.788  61.644  58.824  60.201  100.000    21060\n",
      " 26     74.233  61.111  57.516  59.259  100.000    20705\n",
      " 27     64.193  61.111  57.516  59.259  100.000    14615\n",
      " 28     55.805  61.111  57.516  59.259  100.000    18726\n",
      " 29     59.025  61.379  58.170  59.732  100.000    25942\n",
      " 30     41.340  61.806  58.170  59.933  100.000    20943\n",
      "\u001b[38;5;2m✔ Saved model to output directory\u001b[0m\n",
      "../models/v2/model-final\n",
      "\u001b[2K\u001b[38;5;2m✔ Created best model\u001b[0m\n",
      "../models/v2/model-best\n"
     ]
    },
    {
     "name": "stderr",
     "output_type": "stream",
     "text": [
      "                                                       \r"
     ]
    }
   ],
   "source": [
    "%%bash -s \"$spacy_train_file_path\" \"$spacy_dev_file_path\" \"$sm_model_path\" \"../models/v2\"\n",
    "python -m spacy train en $4 $1 $2 -b $3 -p ner"
   ]
  },
  {
   "cell_type": "code",
   "execution_count": 59,
   "metadata": {},
   "outputs": [
    {
     "name": "stdout",
     "output_type": "stream",
     "text": [
      "\u001b[1m\n",
      "================================== Results ==================================\u001b[0m\n",
      "\n",
      "Time      0.46 s\n",
      "Words     4226  \n",
      "Words/s   9212  \n",
      "TOK       100.00\n",
      "POS       0.00  \n",
      "UAS       0.00  \n",
      "LAS       0.00  \n",
      "NER P     62.76 \n",
      "NER R     59.48 \n",
      "NER F     61.07 \n",
      "Textcat   0.00  \n",
      "\n",
      "\u001b[38;5;2m✔ Generated 10 parses as HTML\u001b[0m\n",
      "../reports/evaluations\n"
     ]
    }
   ],
   "source": [
    "%%bash -s \"$spacy_dev_file_path\" \"../models/v2/model-best\" \"../reports/evaluations/\"\n",
    "python -m spacy evaluate $2 $1 --displacy-path $3 --displacy-limit 10"
   ]
  },
  {
   "cell_type": "markdown",
   "metadata": {},
   "source": [
    "## Model v3 - Transfer Learning with `en_core_web_md`"
   ]
  },
  {
   "cell_type": "code",
   "execution_count": 25,
   "metadata": {},
   "outputs": [
    {
     "name": "stdout",
     "output_type": "stream",
     "text": [
      "\u001b[1m\n",
      "=========================== Data format validation ===========================\u001b[0m\n",
      "\u001b[2K\u001b[38;5;2m✔ Corpus is loadable\u001b[0m\n",
      "\u001b[1m\n",
      "=============================== Training stats ===============================\u001b[0m\n",
      "Training pipeline: ner\n",
      "Starting with base model '../models/base_model_md'\n",
      "160 training docs\n",
      "40 evaluation docs\n",
      "\u001b[38;5;2m✔ No overlap between training and evaluation data\u001b[0m\n",
      "\u001b[1m\n",
      "============================== Vocab & Vectors ==============================\u001b[0m\n",
      "\u001b[38;5;4mℹ 14768 total words in the data (2755 unique)\u001b[0m\n",
      "\u001b[38;5;4mℹ 20000 vectors (684830 unique keys, 300 dimensions)\u001b[0m\n",
      "\u001b[38;5;3m⚠ 75 words in training data without vectors (0.01%)\u001b[0m\n",
      "\u001b[1m\n",
      "========================== Named Entity Recognition ==========================\u001b[0m\n",
      "\u001b[38;5;4mℹ 0 new labels, 4 existing labels\u001b[0m\n",
      "0 missing values (tokens with '-' label)\n",
      "\u001b[38;5;2m✔ Good amount of examples for all labels\u001b[0m\n",
      "\u001b[38;5;2m✔ Examples without occurrences available for all labels\u001b[0m\n",
      "\u001b[38;5;2m✔ No entities consisting of or starting/ending with whitespace\u001b[0m\n",
      "\u001b[38;5;2m✔ No entities consisting of or starting/ending with punctuation\u001b[0m\n",
      "\u001b[1m\n",
      "================================== Summary ==================================\u001b[0m\n",
      "\u001b[38;5;2m✔ 6 checks passed\u001b[0m\n",
      "\u001b[38;5;3m⚠ 1 warning\u001b[0m\n"
     ]
    }
   ],
   "source": [
    "%%bash -s \"$spacy_train_file_path\" \"$spacy_dev_file_path\" \"$md_model_path\"\n",
    "python -m spacy debug-data en $1 $2 --base-model $3 --pipeline ner"
   ]
  },
  {
   "cell_type": "code",
   "execution_count": 26,
   "metadata": {},
   "outputs": [
    {
     "name": "stdout",
     "output_type": "stream",
     "text": [
      "\u001b[38;5;2m✔ Created output directory: ../models/v3\u001b[0m\n",
      "Training pipeline: ['ner']\n",
      "Starting with base model '../models/base_model_md'\n",
      "Extending component from base model 'ner'\n",
      "Counting training words (limit=0)\n",
      "\n",
      "Itn  NER Loss   NER P   NER R   NER F   Token %  CPU WPS\n",
      "---  ---------  ------  ------  ------  -------  -------\n",
      "  1   1418.108   0.000   0.000   0.000  100.000    19614\n",
      "  2   1064.884  61.765  13.725  22.460  100.000    29505\n",
      "  3    976.129  58.824  32.680  42.017  100.000    29090\n",
      "  4    823.943  64.000  41.830  50.593  100.000    27963\n",
      "  5    730.364  63.810  43.791  51.938  100.000    27426\n",
      "  6    639.481  62.609  47.059  53.731  100.000    28939\n",
      "  7    546.394  58.197  46.405  51.636  100.000    29730\n",
      "  8    467.865  56.738  52.288  54.422  100.000    26055\n",
      "  9    508.672  57.343  53.595  55.405  100.000    29452\n",
      " 10    506.857  58.741  54.902  56.757  100.000    29517\n",
      " 11    369.919  60.993  56.209  58.503  100.000    27793\n",
      " 12    285.529  60.140  56.209  58.108  100.000    28764\n",
      " 13    297.420  61.538  57.516  59.459  100.000    22309\n",
      " 14    199.304  60.417  56.863  58.586  100.000    28461\n",
      " 15    203.124  58.741  54.902  56.757  100.000    28329\n",
      " 16    194.812  60.959  58.170  59.532  100.000    26999\n",
      " 17    163.787  62.069  58.824  60.403  100.000    29037\n",
      " 18    136.599  61.379  58.170  59.732  100.000    25601\n",
      " 19     97.343  60.959  58.170  59.532  100.000    27921\n",
      " 20    126.204  61.538  57.516  59.459  100.000    27617\n",
      " 21    121.148  62.676  58.170  60.339  100.000    29021\n",
      " 22    113.481  62.937  58.824  60.811  100.000    28629\n",
      " 23     97.806  62.676  58.170  60.339  100.000    28223\n",
      " 24     85.265  62.937  58.824  60.811  100.000    28671\n",
      " 25     90.384  60.959  58.170  59.532  100.000    25606\n",
      " 26     57.016  60.959  58.170  59.532  100.000    28785\n",
      " 27     64.494  61.111  57.516  59.259  100.000    23907\n",
      " 28     69.048  61.806  58.170  59.933  100.000    28686\n",
      " 29     61.296  61.268  56.863  58.983  100.000    28654\n",
      " 30     41.202  60.417  56.863  58.586  100.000    28627\n",
      "\u001b[38;5;2m✔ Saved model to output directory\u001b[0m\n",
      "../models/v3/model-final\n",
      "\u001b[2K\u001b[38;5;2m✔ Created best model\u001b[0m\n",
      "../models/v3/model-best\n"
     ]
    },
    {
     "name": "stderr",
     "output_type": "stream",
     "text": [
      "                                                       \r"
     ]
    }
   ],
   "source": [
    "%%bash -s \"$spacy_train_file_path\" \"$spacy_dev_file_path\" \"$md_model_path\" \"../models/v3\"\n",
    "python -m spacy train en $4 $1 $2 -b $3 -p ner"
   ]
  },
  {
   "cell_type": "code",
   "execution_count": 64,
   "metadata": {},
   "outputs": [
    {
     "name": "stdout",
     "output_type": "stream",
     "text": [
      "\u001b[1m\n",
      "================================== Results ==================================\u001b[0m\n",
      "\n",
      "Time      0.56 s\n",
      "Words     4226  \n",
      "Words/s   7585  \n",
      "TOK       100.00\n",
      "POS       0.00  \n",
      "UAS       0.00  \n",
      "LAS       0.00  \n",
      "NER P     62.94 \n",
      "NER R     58.82 \n",
      "NER F     60.81 \n",
      "Textcat   0.00  \n",
      "\n",
      "\u001b[38;5;2m✔ Generated 10 parses as HTML\u001b[0m\n",
      "../reports/evaluations\n"
     ]
    }
   ],
   "source": [
    "%%bash -s \"$spacy_dev_file_path\" \"../models/v3/model-best\" \"../reports/evaluations/\"\n",
    "python -m spacy evaluate $2 $1 --displacy-path $3 --displacy-limit 10"
   ]
  },
  {
   "cell_type": "markdown",
   "metadata": {},
   "source": [
    "## Model v4 - Transfer Learning with `en_core_web_md` and 50 epochs"
   ]
  },
  {
   "cell_type": "code",
   "execution_count": 50,
   "metadata": {},
   "outputs": [
    {
     "name": "stdout",
     "output_type": "stream",
     "text": [
      "\u001b[1m\n",
      "=========================== Data format validation ===========================\u001b[0m\n",
      "\u001b[2K\u001b[38;5;2m✔ Corpus is loadable\u001b[0m\n",
      "\u001b[1m\n",
      "=============================== Training stats ===============================\u001b[0m\n",
      "Training pipeline: ner\n",
      "Starting with base model '../models/base_model_md'\n",
      "160 training docs\n",
      "40 evaluation docs\n",
      "\u001b[38;5;2m✔ No overlap between training and evaluation data\u001b[0m\n",
      "\u001b[1m\n",
      "============================== Vocab & Vectors ==============================\u001b[0m\n",
      "\u001b[38;5;4mℹ 14768 total words in the data (2755 unique)\u001b[0m\n",
      "\u001b[38;5;4mℹ 20000 vectors (684830 unique keys, 300 dimensions)\u001b[0m\n",
      "\u001b[38;5;3m⚠ 75 words in training data without vectors (0.01%)\u001b[0m\n",
      "\u001b[1m\n",
      "========================== Named Entity Recognition ==========================\u001b[0m\n",
      "\u001b[38;5;4mℹ 0 new labels, 4 existing labels\u001b[0m\n",
      "0 missing values (tokens with '-' label)\n",
      "\u001b[38;5;2m✔ Good amount of examples for all labels\u001b[0m\n",
      "\u001b[38;5;2m✔ Examples without occurrences available for all labels\u001b[0m\n",
      "\u001b[38;5;2m✔ No entities consisting of or starting/ending with whitespace\u001b[0m\n",
      "\u001b[38;5;2m✔ No entities consisting of or starting/ending with punctuation\u001b[0m\n",
      "\u001b[1m\n",
      "================================== Summary ==================================\u001b[0m\n",
      "\u001b[38;5;2m✔ 6 checks passed\u001b[0m\n",
      "\u001b[38;5;3m⚠ 1 warning\u001b[0m\n"
     ]
    }
   ],
   "source": [
    "%%bash -s \"$spacy_train_file_path\" \"$spacy_dev_file_path\" \"$md_model_path\"\n",
    "python -m spacy debug-data en $1 $2 --base-model $3 --pipeline ner"
   ]
  },
  {
   "cell_type": "code",
   "execution_count": 51,
   "metadata": {},
   "outputs": [
    {
     "name": "stdout",
     "output_type": "stream",
     "text": [
      "\u001b[38;5;2m✔ Created output directory: ../models/v4\u001b[0m\n",
      "Training pipeline: ['ner']\n",
      "Starting with base model '../models/base_model_md'\n",
      "Extending component from base model 'ner'\n",
      "Counting training words (limit=0)\n",
      "\n",
      "Itn  NER Loss   NER P   NER R   NER F   Token %  CPU WPS\n",
      "---  ---------  ------  ------  ------  -------  -------\n",
      "  1   1418.108   0.000   0.000   0.000  100.000    25167\n",
      "  2   1064.884  61.765  13.725  22.460  100.000    25311\n",
      "  3    976.129  58.824  32.680  42.017  100.000    29120\n",
      "  4    823.943  64.000  41.830  50.593  100.000    27769\n",
      "  5    730.364  63.810  43.791  51.938  100.000    29287\n",
      "  6    639.481  62.609  47.059  53.731  100.000    28351\n",
      "  7    546.394  58.197  46.405  51.636  100.000    29786\n",
      "  8    467.865  56.738  52.288  54.422  100.000    27194\n",
      "  9    508.672  57.343  53.595  55.405  100.000    28181\n",
      " 10    506.857  58.741  54.902  56.757  100.000    28757\n",
      " 11    369.919  60.993  56.209  58.503  100.000    29690\n",
      " 12    285.529  60.140  56.209  58.108  100.000    29154\n",
      " 13    297.420  61.538  57.516  59.459  100.000    27630\n",
      " 14    199.304  60.417  56.863  58.586  100.000    28938\n",
      " 15    203.124  58.741  54.902  56.757  100.000    28262\n",
      " 16    194.812  60.959  58.170  59.532  100.000    27497\n",
      " 17    163.787  62.069  58.824  60.403  100.000    28449\n",
      " 18    136.599  61.379  58.170  59.732  100.000    28716\n",
      " 19     97.343  60.959  58.170  59.532  100.000    29750\n",
      " 20    126.204  61.538  57.516  59.459  100.000    28853\n",
      " 21    121.148  62.676  58.170  60.339  100.000    28070\n",
      " 22    113.481  62.937  58.824  60.811  100.000    29238\n",
      " 23     97.806  62.676  58.170  60.339  100.000    28363\n",
      " 24     85.265  62.937  58.824  60.811  100.000    29071\n",
      " 25     90.384  60.959  58.170  59.532  100.000    28330\n",
      " 26     57.016  60.959  58.170  59.532  100.000    29779\n",
      " 27     64.494  61.111  57.516  59.259  100.000    27989\n",
      " 28     69.048  61.806  58.170  59.933  100.000    26787\n",
      " 29     61.296  61.268  56.863  58.983  100.000    28446\n",
      " 30     41.202  60.417  56.863  58.586  100.000    28169\n",
      " 31     64.944  60.690  57.516  59.060  100.000    27791\n",
      " 32     50.725  60.959  58.170  59.532  100.000    29025\n",
      " 33     58.877  60.544  58.170  59.333  100.000    28521\n",
      " 34     48.103  60.274  57.516  58.863  100.000    28686\n",
      " 35     42.324  61.224  58.824  60.000  100.000    28637\n",
      " 36     49.839  61.905  59.477  60.667  100.000    27746\n",
      " 37     32.088  61.905  59.477  60.667  100.000    28977\n",
      " 38     30.488  61.224  58.824  60.000  100.000    29043\n",
      " 39     35.286  61.224  58.824  60.000  100.000    29336\n",
      " 40     32.274  61.905  59.477  60.667  100.000    29412\n",
      " 41     26.028  61.905  59.477  60.667  100.000    28098\n",
      " 42      9.044  62.759  59.477  61.074  100.000    27969\n",
      " 43     27.749  62.069  58.824  60.403  100.000    29607\n",
      " 44     33.946  61.644  58.824  60.201  100.000    27637\n",
      " 45     24.027  61.745  60.131  60.927  100.000    28663\n",
      " 46     12.224  61.486  59.477  60.465  100.000    29000\n",
      " 47     20.712  60.265  59.477  59.868  100.000    28538\n",
      " 48     25.280  60.265  59.477  59.868  100.000    29703\n",
      " 49     16.693  60.265  59.477  59.868  100.000    27695\n",
      " 50     23.768  60.265  59.477  59.868  100.000    29062\n",
      "\u001b[38;5;2m✔ Saved model to output directory\u001b[0m\n",
      "../models/v4/model-final\n",
      "\u001b[2K\u001b[38;5;2m✔ Created best model\u001b[0m\n",
      "../models/v4/model-best\n"
     ]
    },
    {
     "name": "stderr",
     "output_type": "stream",
     "text": [
      "                                                       \r"
     ]
    }
   ],
   "source": [
    "%%bash -s \"$spacy_train_file_path\" \"$spacy_dev_file_path\" \"$md_model_path\" \"../models/v4\"\n",
    "python -m spacy train en $4 $1 $2 -b $3 -p ner -n 50"
   ]
  },
  {
   "cell_type": "code",
   "execution_count": 65,
   "metadata": {},
   "outputs": [
    {
     "name": "stdout",
     "output_type": "stream",
     "text": [
      "\u001b[1m\n",
      "================================== Results ==================================\u001b[0m\n",
      "\n",
      "Time      0.47 s\n",
      "Words     4226  \n",
      "Words/s   9073  \n",
      "TOK       100.00\n",
      "POS       0.00  \n",
      "UAS       0.00  \n",
      "LAS       0.00  \n",
      "NER P     62.76 \n",
      "NER R     59.48 \n",
      "NER F     61.07 \n",
      "Textcat   0.00  \n",
      "\n",
      "\u001b[38;5;2m✔ Generated 10 parses as HTML\u001b[0m\n",
      "../reports/evaluations\n"
     ]
    }
   ],
   "source": [
    "%%bash -s \"$spacy_dev_file_path\" \"../models/v4/model-best\" \"../reports/evaluations/\"\n",
    "python -m spacy evaluate $2 $1 --displacy-path $3 --displacy-limit 10"
   ]
  },
  {
   "cell_type": "markdown",
   "metadata": {},
   "source": [
    "## Evaluate Model (manually)"
   ]
  },
  {
   "cell_type": "code",
   "execution_count": 38,
   "metadata": {},
   "outputs": [],
   "source": [
    "# Set up colors and options for displaCy\n",
    "colors = {\"FEATURE\": \"#80CBC4\", \"BEER_STYLE\": \"#FDD835\", \"LOCATION\": \"#C5CAE9\", \"BREWERY\": \"#AED581\"}\n",
    "options = {\"colors\": colors} "
   ]
  },
  {
   "cell_type": "code",
   "execution_count": 54,
   "metadata": {},
   "outputs": [],
   "source": [
    "# Load saved model\n",
    "nlp = spacy.load(\"../models/v4/model-best\")"
   ]
  },
  {
   "cell_type": "code",
   "execution_count": 55,
   "metadata": {},
   "outputs": [
    {
     "data": {
      "text/html": [
       "<span class=\"tex2jax_ignore\"><div class=\"entities\" style=\"line-height: 2.5; direction: ltr\">Nice \n",
       "<mark class=\"entity\" style=\"background: #80CBC4; padding: 0.45em 0.6em; margin: 0 0.25em; line-height: 1; border-radius: 0.35em;\">\n",
       "    old\n",
       "    <span style=\"font-size: 0.8em; font-weight: bold; line-height: 1; border-radius: 0.35em; text-transform: uppercase; vertical-align: middle; margin-left: 0.5rem\">FEATURE</span>\n",
       "</mark>\n",
       " fashion building. I love the door knobs for \n",
       "<mark class=\"entity\" style=\"background: #80CBC4; padding: 0.45em 0.6em; margin: 0 0.25em; line-height: 1; border-radius: 0.35em;\">\n",
       "    beer taps\n",
       "    <span style=\"font-size: 0.8em; font-weight: bold; line-height: 1; border-radius: 0.35em; text-transform: uppercase; vertical-align: middle; margin-left: 0.5rem\">FEATURE</span>\n",
       "</mark>\n",
       ". The beer \n",
       "<mark class=\"entity\" style=\"background: #80CBC4; padding: 0.45em 0.6em; margin: 0 0.25em; line-height: 1; border-radius: 0.35em;\">\n",
       "    selection\n",
       "    <span style=\"font-size: 0.8em; font-weight: bold; line-height: 1; border-radius: 0.35em; text-transform: uppercase; vertical-align: middle; margin-left: 0.5rem\">FEATURE</span>\n",
       "</mark>\n",
       " offers over ten taps. The bar was rented for the night for an association I belong to. There were a couple of hot banquet offerings. They were slightly different and pretty good flavor. The service was good for the event.</br></div></span>"
      ],
      "text/plain": [
       "<IPython.core.display.HTML object>"
      ]
     },
     "metadata": {},
     "output_type": "display_data"
    },
    {
     "data": {
      "text/html": [
       "<span class=\"tex2jax_ignore\"><div class=\"entities\" style=\"line-height: 2.5; direction: ltr\">This place feels more like a bar than a restaurant, but they do pour their own and other it in flights. Located blocks from \n",
       "<mark class=\"entity\" style=\"background: #C5CAE9; padding: 0.45em 0.6em; margin: 0 0.25em; line-height: 1; border-radius: 0.35em;\">\n",
       "    Petco Park\n",
       "    <span style=\"font-size: 0.8em; font-weight: bold; line-height: 1; border-radius: 0.35em; text-transform: uppercase; vertical-align: middle; margin-left: 0.5rem\">LOCATION</span>\n",
       "</mark>\n",
       " with an \n",
       "<mark class=\"entity\" style=\"background: #80CBC4; padding: 0.45em 0.6em; margin: 0 0.25em; line-height: 1; border-radius: 0.35em;\">\n",
       "    inviting\n",
       "    <span style=\"font-size: 0.8em; font-weight: bold; line-height: 1; border-radius: 0.35em; text-transform: uppercase; vertical-align: middle; margin-left: 0.5rem\">FEATURE</span>\n",
       "</mark>\n",
       " porch, it definitely caters to Padres fans and out-of-towners in for a visit. I can't say I loved the beers I had there, but the bartender was \n",
       "<mark class=\"entity\" style=\"background: #80CBC4; padding: 0.45em 0.6em; margin: 0 0.25em; line-height: 1; border-radius: 0.35em;\">\n",
       "    helpful\n",
       "    <span style=\"font-size: 0.8em; font-weight: bold; line-height: 1; border-radius: 0.35em; text-transform: uppercase; vertical-align: middle; margin-left: 0.5rem\">FEATURE</span>\n",
       "</mark>\n",
       " an courteous and \n",
       "<mark class=\"entity\" style=\"background: #AED581; padding: 0.45em 0.6em; margin: 0 0.25em; line-height: 1; border-radius: 0.35em;\">\n",
       "    Half Door\n",
       "    <span style=\"font-size: 0.8em; font-weight: bold; line-height: 1; border-radius: 0.35em; text-transform: uppercase; vertical-align: middle; margin-left: 0.5rem\">BREWERY</span>\n",
       "</mark>\n",
       " was a more than inviting place to kill a happy hour.</br></div></span>"
      ],
      "text/plain": [
       "<IPython.core.display.HTML object>"
      ]
     },
     "metadata": {},
     "output_type": "display_data"
    },
    {
     "data": {
      "text/html": [
       "<span class=\"tex2jax_ignore\"><div class=\"entities\" style=\"line-height: 2.5; direction: ltr\">\n",
       "<mark class=\"entity\" style=\"background: #80CBC4; padding: 0.45em 0.6em; margin: 0 0.25em; line-height: 1; border-radius: 0.35em;\">\n",
       "    Old\n",
       "    <span style=\"font-size: 0.8em; font-weight: bold; line-height: 1; border-radius: 0.35em; text-transform: uppercase; vertical-align: middle; margin-left: 0.5rem\">FEATURE</span>\n",
       "</mark>\n",
       " converted \n",
       "<mark class=\"entity\" style=\"background: #80CBC4; padding: 0.45em 0.6em; margin: 0 0.25em; line-height: 1; border-radius: 0.35em;\">\n",
       "    house\n",
       "    <span style=\"font-size: 0.8em; font-weight: bold; line-height: 1; border-radius: 0.35em; text-transform: uppercase; vertical-align: middle; margin-left: 0.5rem\">FEATURE</span>\n",
       "</mark>\n",
       " \n",
       "<mark class=\"entity\" style=\"background: #C5CAE9; padding: 0.45em 0.6em; margin: 0 0.25em; line-height: 1; border-radius: 0.35em;\">\n",
       "    in downtown\n",
       "    <span style=\"font-size: 0.8em; font-weight: bold; line-height: 1; border-radius: 0.35em; text-transform: uppercase; vertical-align: middle; margin-left: 0.5rem\">LOCATION</span>\n",
       "</mark>\n",
       " with porch/ \n",
       "<mark class=\"entity\" style=\"background: #80CBC4; padding: 0.45em 0.6em; margin: 0 0.25em; line-height: 1; border-radius: 0.35em;\">\n",
       "    patio\n",
       "    <span style=\"font-size: 0.8em; font-weight: bold; line-height: 1; border-radius: 0.35em; text-transform: uppercase; vertical-align: middle; margin-left: 0.5rem\">FEATURE</span>\n",
       "</mark>\n",
       " seating. L-shaped bar seats about 15... additional seat around. \n",
       "<mark class=\"entity\" style=\"background: #80CBC4; padding: 0.45em 0.6em; margin: 0 0.25em; line-height: 1; border-radius: 0.35em;\">\n",
       "    16 beers on tap\n",
       "    <span style=\"font-size: 0.8em; font-weight: bold; line-height: 1; border-radius: 0.35em; text-transform: uppercase; vertical-align: middle; margin-left: 0.5rem\">FEATURE</span>\n",
       "</mark>\n",
       ", half theirs, half local guests... nice mix. \n",
       "<mark class=\"entity\" style=\"background: #80CBC4; padding: 0.45em 0.6em; margin: 0 0.25em; line-height: 1; border-radius: 0.35em;\">\n",
       "    Friendly\n",
       "    <span style=\"font-size: 0.8em; font-weight: bold; line-height: 1; border-radius: 0.35em; text-transform: uppercase; vertical-align: middle; margin-left: 0.5rem\">FEATURE</span>\n",
       "</mark>\n",
       " local vibe. Good service. Very tasty food.</br></div></span>"
      ],
      "text/plain": [
       "<IPython.core.display.HTML object>"
      ]
     },
     "metadata": {},
     "output_type": "display_data"
    },
    {
     "data": {
      "text/html": [
       "<span class=\"tex2jax_ignore\"><div class=\"entities\" style=\"line-height: 2.5; direction: ltr\">Nice chill place, staff was really nice and \n",
       "<mark class=\"entity\" style=\"background: #80CBC4; padding: 0.45em 0.6em; margin: 0 0.25em; line-height: 1; border-radius: 0.35em;\">\n",
       "    helpful\n",
       "    <span style=\"font-size: 0.8em; font-weight: bold; line-height: 1; border-radius: 0.35em; text-transform: uppercase; vertical-align: middle; margin-left: 0.5rem\">FEATURE</span>\n",
       "</mark>\n",
       " offered samples of their house stuff which was really good, The house \n",
       "<mark class=\"entity\" style=\"background: #FDD835; padding: 0.45em 0.6em; margin: 0 0.25em; line-height: 1; border-radius: 0.35em;\">\n",
       "    IPA\n",
       "    <span style=\"font-size: 0.8em; font-weight: bold; line-height: 1; border-radius: 0.35em; text-transform: uppercase; vertical-align: middle; margin-left: 0.5rem\">BEER_STYLE</span>\n",
       "</mark>\n",
       " was nice. Had a old hotel bar saloon feel. will revisit for sure.</br></div></span>"
      ],
      "text/plain": [
       "<IPython.core.display.HTML object>"
      ]
     },
     "metadata": {},
     "output_type": "display_data"
    },
    {
     "data": {
      "text/html": [
       "<span class=\"tex2jax_ignore\"><div class=\"entities\" style=\"line-height: 2.5; direction: ltr\">Stopped by here last Monday night to try some beers. Very \n",
       "<mark class=\"entity\" style=\"background: #80CBC4; padding: 0.45em 0.6em; margin: 0 0.25em; line-height: 1; border-radius: 0.35em;\">\n",
       "    laid back\n",
       "    <span style=\"font-size: 0.8em; font-weight: bold; line-height: 1; border-radius: 0.35em; text-transform: uppercase; vertical-align: middle; margin-left: 0.5rem\">FEATURE</span>\n",
       "</mark>\n",
       " place with upper and lower porches and bar, table and coach seating. Bar tender was very nice and offered samples right away. You can do a flight of 3-6 beers and they had everything from a wide range of styles. Everything I had was very good and most were pretty true to style. The food looked good, but as we had already eaten we did not get a chance to try it.</br></div></span>"
      ],
      "text/plain": [
       "<IPython.core.display.HTML object>"
      ]
     },
     "metadata": {},
     "output_type": "display_data"
    },
    {
     "data": {
      "text/html": [
       "<span class=\"tex2jax_ignore\"><div class=\"entities\" style=\"line-height: 2.5; direction: ltr\">Tucked away in an \n",
       "<mark class=\"entity\" style=\"background: #80CBC4; padding: 0.45em 0.6em; margin: 0 0.25em; line-height: 1; border-radius: 0.35em;\">\n",
       "    old house\n",
       "    <span style=\"font-size: 0.8em; font-weight: bold; line-height: 1; border-radius: 0.35em; text-transform: uppercase; vertical-align: middle; margin-left: 0.5rem\">FEATURE</span>\n",
       "</mark>\n",
       " near Petco. Loved the food, the beer was average at best. Their NE \n",
       "<mark class=\"entity\" style=\"background: #FDD835; padding: 0.45em 0.6em; margin: 0 0.25em; line-height: 1; border-radius: 0.35em;\">\n",
       "    IPA\n",
       "    <span style=\"font-size: 0.8em; font-weight: bold; line-height: 1; border-radius: 0.35em; text-transform: uppercase; vertical-align: middle; margin-left: 0.5rem\">BEER_STYLE</span>\n",
       "</mark>\n",
       " wasn't very good, but their dark beers were worth the pour. I might go back, it's not a bad choice but in \n",
       "<mark class=\"entity\" style=\"background: #C5CAE9; padding: 0.45em 0.6em; margin: 0 0.25em; line-height: 1; border-radius: 0.35em;\">\n",
       "    San Diego\n",
       "    <span style=\"font-size: 0.8em; font-weight: bold; line-height: 1; border-radius: 0.35em; text-transform: uppercase; vertical-align: middle; margin-left: 0.5rem\">LOCATION</span>\n",
       "</mark>\n",
       " there's a lot of better places.</br></div></span>"
      ],
      "text/plain": [
       "<IPython.core.display.HTML object>"
      ]
     },
     "metadata": {},
     "output_type": "display_data"
    },
    {
     "data": {
      "text/html": [
       "<span class=\"tex2jax_ignore\"><div class=\"entities\" style=\"line-height: 2.5; direction: ltr\">What a \n",
       "<mark class=\"entity\" style=\"background: #80CBC4; padding: 0.45em 0.6em; margin: 0 0.25em; line-height: 1; border-radius: 0.35em;\">\n",
       "    fantastic discovery\n",
       "    <span style=\"font-size: 0.8em; font-weight: bold; line-height: 1; border-radius: 0.35em; text-transform: uppercase; vertical-align: middle; margin-left: 0.5rem\">FEATURE</span>\n",
       "</mark>\n",
       " on our first day \n",
       "<mark class=\"entity\" style=\"background: #C5CAE9; padding: 0.45em 0.6em; margin: 0 0.25em; line-height: 1; border-radius: 0.35em;\">\n",
       "    in San Diego\n",
       "    <span style=\"font-size: 0.8em; font-weight: bold; line-height: 1; border-radius: 0.35em; text-transform: uppercase; vertical-align: middle; margin-left: 0.5rem\">LOCATION</span>\n",
       "</mark>\n",
       ". \n",
       "<mark class=\"entity\" style=\"background: #80CBC4; padding: 0.45em 0.6em; margin: 0 0.25em; line-height: 1; border-radius: 0.35em;\">\n",
       "    Knowledgeable\n",
       "    <span style=\"font-size: 0.8em; font-weight: bold; line-height: 1; border-radius: 0.35em; text-transform: uppercase; vertical-align: middle; margin-left: 0.5rem\">FEATURE</span>\n",
       "</mark>\n",
       " staff with put being snobby. Wonderful setting in a old Victorian house. Many of the beers were unfiltered yummy ness. \n",
       "<mark class=\"entity\" style=\"background: #80CBC4; padding: 0.45em 0.6em; margin: 0 0.25em; line-height: 1; border-radius: 0.35em;\">\n",
       "    Good selection\n",
       "    <span style=\"font-size: 0.8em; font-weight: bold; line-height: 1; border-radius: 0.35em; text-transform: uppercase; vertical-align: middle; margin-left: 0.5rem\">FEATURE</span>\n",
       "</mark>\n",
       " of local \n",
       "<mark class=\"entity\" style=\"background: #FDD835; padding: 0.45em 0.6em; margin: 0 0.25em; line-height: 1; border-radius: 0.35em;\">\n",
       "    Honda\n",
       "    <span style=\"font-size: 0.8em; font-weight: bold; line-height: 1; border-radius: 0.35em; text-transform: uppercase; vertical-align: middle; margin-left: 0.5rem\">BEER_STYLE</span>\n",
       "</mark>\n",
       " too.</br></div></span>"
      ],
      "text/plain": [
       "<IPython.core.display.HTML object>"
      ]
     },
     "metadata": {},
     "output_type": "display_data"
    },
    {
     "data": {
      "text/html": [
       "<span class=\"tex2jax_ignore\"><div class=\"entities\" style=\"line-height: 2.5; direction: ltr\">I'll start off by saying I really enjoyed my visit here. It's located in a former two story house \n",
       "<mark class=\"entity\" style=\"background: #C5CAE9; padding: 0.45em 0.6em; margin: 0 0.25em; line-height: 1; border-radius: 0.35em;\">\n",
       "    near Gaslamp District\n",
       "    <span style=\"font-size: 0.8em; font-weight: bold; line-height: 1; border-radius: 0.35em; text-transform: uppercase; vertical-align: middle; margin-left: 0.5rem\">LOCATION</span>\n",
       "</mark>\n",
       " and \n",
       "<mark class=\"entity\" style=\"background: #C5CAE9; padding: 0.45em 0.6em; margin: 0 0.25em; line-height: 1; border-radius: 0.35em;\">\n",
       "    Petco Park\n",
       "    <span style=\"font-size: 0.8em; font-weight: bold; line-height: 1; border-radius: 0.35em; text-transform: uppercase; vertical-align: middle; margin-left: 0.5rem\">LOCATION</span>\n",
       "</mark>\n",
       ". They have \n",
       "<mark class=\"entity\" style=\"background: #80CBC4; padding: 0.45em 0.6em; margin: 0 0.25em; line-height: 1; border-radius: 0.35em;\">\n",
       "    patio\n",
       "    <span style=\"font-size: 0.8em; font-weight: bold; line-height: 1; border-radius: 0.35em; text-transform: uppercase; vertical-align: middle; margin-left: 0.5rem\">FEATURE</span>\n",
       "</mark>\n",
       " seating outside with a bar area inside and tables on two levels. The atmosphere here is unique. It has a nice \n",
       "<mark class=\"entity\" style=\"background: #80CBC4; padding: 0.45em 0.6em; margin: 0 0.25em; line-height: 1; border-radius: 0.35em;\">\n",
       "    inviting\n",
       "    <span style=\"font-size: 0.8em; font-weight: bold; line-height: 1; border-radius: 0.35em; text-transform: uppercase; vertical-align: middle; margin-left: 0.5rem\">FEATURE</span>\n",
       "</mark>\n",
       " feel. For me, it's somewhat similar to the same vibe I get when visiting \n",
       "<mark class=\"entity\" style=\"background: #AED581; padding: 0.45em 0.6em; margin: 0 0.25em; line-height: 1; border-radius: 0.35em;\">\n",
       "    Queenstown Public House\n",
       "    <span style=\"font-size: 0.8em; font-weight: bold; line-height: 1; border-radius: 0.35em; text-transform: uppercase; vertical-align: middle; margin-left: 0.5rem\">BREWERY</span>\n",
       "</mark>\n",
       " near Little Italy.</br></div></span>"
      ],
      "text/plain": [
       "<IPython.core.display.HTML object>"
      ]
     },
     "metadata": {},
     "output_type": "display_data"
    },
    {
     "data": {
      "text/html": [
       "<span class=\"tex2jax_ignore\"><div class=\"entities\" style=\"line-height: 2.5; direction: ltr\">The house beers were solid. I had \n",
       "<mark class=\"entity\" style=\"background: #FDD835; padding: 0.45em 0.6em; margin: 0 0.25em; line-height: 1; border-radius: 0.35em;\">\n",
       "    Imperial Stout\n",
       "    <span style=\"font-size: 0.8em; font-weight: bold; line-height: 1; border-radius: 0.35em; text-transform: uppercase; vertical-align: middle; margin-left: 0.5rem\">BEER_STYLE</span>\n",
       "</mark>\n",
       ", \n",
       "<mark class=\"entity\" style=\"background: #FDD835; padding: 0.45em 0.6em; margin: 0 0.25em; line-height: 1; border-radius: 0.35em;\">\n",
       "    IPA\n",
       "    <span style=\"font-size: 0.8em; font-weight: bold; line-height: 1; border-radius: 0.35em; text-transform: uppercase; vertical-align: middle; margin-left: 0.5rem\">BEER_STYLE</span>\n",
       "</mark>\n",
       ", and a \n",
       "<mark class=\"entity\" style=\"background: #FDD835; padding: 0.45em 0.6em; margin: 0 0.25em; line-height: 1; border-radius: 0.35em;\">\n",
       "    Berliner Weissbier\n",
       "    <span style=\"font-size: 0.8em; font-weight: bold; line-height: 1; border-radius: 0.35em; text-transform: uppercase; vertical-align: middle; margin-left: 0.5rem\">BEER_STYLE</span>\n",
       "</mark>\n",
       ". They also had several guest beers on tap. Beer and cocktail menu in a leather portfolio. Very nice. I had their meat pie with braised short rib. Delicious! This is a nice little place. I'll be back for sure.</br></div></span>"
      ],
      "text/plain": [
       "<IPython.core.display.HTML object>"
      ]
     },
     "metadata": {},
     "output_type": "display_data"
    },
    {
     "data": {
      "text/html": [
       "<span class=\"tex2jax_ignore\"><div class=\"entities\" style=\"line-height: 2.5; direction: ltr\">During my \n",
       "<mark class=\"entity\" style=\"background: #C5CAE9; padding: 0.45em 0.6em; margin: 0 0.25em; line-height: 1; border-radius: 0.35em;\">\n",
       "    San Diego\n",
       "    <span style=\"font-size: 0.8em; font-weight: bold; line-height: 1; border-radius: 0.35em; text-transform: uppercase; vertical-align: middle; margin-left: 0.5rem\">LOCATION</span>\n",
       "</mark>\n",
       " visit, I hit this place up two times. Located in a house with a nice sized porch that has plenty of seats. The bar is just inside and it is full of old wood and is dark, and gives you a cool pub feel. Definitely a younger crowd here too. There were about \n",
       "<mark class=\"entity\" style=\"background: #80CBC4; padding: 0.45em 0.6em; margin: 0 0.25em; line-height: 1; border-radius: 0.35em;\">\n",
       "    10-12 brews on tap\n",
       "    <span style=\"font-size: 0.8em; font-weight: bold; line-height: 1; border-radius: 0.35em; text-transform: uppercase; vertical-align: middle; margin-left: 0.5rem\">FEATURE</span>\n",
       "</mark>\n",
       ", and they covered many styles including some \n",
       "<mark class=\"entity\" style=\"background: #FDD835; padding: 0.45em 0.6em; margin: 0 0.25em; line-height: 1; border-radius: 0.35em;\">\n",
       "    sours\n",
       "    <span style=\"font-size: 0.8em; font-weight: bold; line-height: 1; border-radius: 0.35em; text-transform: uppercase; vertical-align: middle; margin-left: 0.5rem\">BEER_STYLE</span>\n",
       "</mark>\n",
       ". The \n",
       "<mark class=\"entity\" style=\"background: #FDD835; padding: 0.45em 0.6em; margin: 0 0.25em; line-height: 1; border-radius: 0.35em;\">\n",
       "    Double IPA\n",
       "    <span style=\"font-size: 0.8em; font-weight: bold; line-height: 1; border-radius: 0.35em; text-transform: uppercase; vertical-align: middle; margin-left: 0.5rem\">BEER_STYLE</span>\n",
       "</mark>\n",
       " and high hopped \n",
       "<mark class=\"entity\" style=\"background: #FDD835; padding: 0.45em 0.6em; margin: 0 0.25em; line-height: 1; border-radius: 0.35em;\">\n",
       "    pale ales\n",
       "    <span style=\"font-size: 0.8em; font-weight: bold; line-height: 1; border-radius: 0.35em; text-transform: uppercase; vertical-align: middle; margin-left: 0.5rem\">BEER_STYLE</span>\n",
       "</mark>\n",
       " were very good. Prices are reasonable and service was good. This is a must stop for anyone visiting the \n",
       "<mark class=\"entity\" style=\"background: #C5CAE9; padding: 0.45em 0.6em; margin: 0 0.25em; line-height: 1; border-radius: 0.35em;\">\n",
       "    downtown area\n",
       "    <span style=\"font-size: 0.8em; font-weight: bold; line-height: 1; border-radius: 0.35em; text-transform: uppercase; vertical-align: middle; margin-left: 0.5rem\">LOCATION</span>\n",
       "</mark>\n",
       ".</br></div></span>"
      ],
      "text/plain": [
       "<IPython.core.display.HTML object>"
      ]
     },
     "metadata": {},
     "output_type": "display_data"
    },
    {
     "data": {
      "text/html": [
       "<span class=\"tex2jax_ignore\"><div class=\"entities\" style=\"line-height: 2.5; direction: ltr\">\n",
       "<mark class=\"entity\" style=\"background: #AED581; padding: 0.45em 0.6em; margin: 0 0.25em; line-height: 1; border-radius: 0.35em;\">\n",
       "    Half Door\n",
       "    <span style=\"font-size: 0.8em; font-weight: bold; line-height: 1; border-radius: 0.35em; text-transform: uppercase; vertical-align: middle; margin-left: 0.5rem\">BREWERY</span>\n",
       "</mark>\n",
       " is a recent entry to \n",
       "<mark class=\"entity\" style=\"background: #C5CAE9; padding: 0.45em 0.6em; margin: 0 0.25em; line-height: 1; border-radius: 0.35em;\">\n",
       "    San Diego\n",
       "    <span style=\"font-size: 0.8em; font-weight: bold; line-height: 1; border-radius: 0.35em; text-transform: uppercase; vertical-align: middle; margin-left: 0.5rem\">LOCATION</span>\n",
       "</mark>\n",
       "'s \n",
       "<mark class=\"entity\" style=\"background: #80CBC4; padding: 0.45em 0.6em; margin: 0 0.25em; line-height: 1; border-radius: 0.35em;\">\n",
       "    magnificent beer\n",
       "    <span style=\"font-size: 0.8em; font-weight: bold; line-height: 1; border-radius: 0.35em; text-transform: uppercase; vertical-align: middle; margin-left: 0.5rem\">FEATURE</span>\n",
       "</mark>\n",
       " scene. Located in a regular two-story clapboard house, a few blocks east of the touristy \n",
       "<mark class=\"entity\" style=\"background: #C5CAE9; padding: 0.45em 0.6em; margin: 0 0.25em; line-height: 1; border-radius: 0.35em;\">\n",
       "    GasLight District\n",
       "    <span style=\"font-size: 0.8em; font-weight: bold; line-height: 1; border-radius: 0.35em; text-transform: uppercase; vertical-align: middle; margin-left: 0.5rem\">LOCATION</span>\n",
       "</mark>\n",
       ", this place is a sheer delight. First, the building itself: an \n",
       "<mark class=\"entity\" style=\"background: #80CBC4; padding: 0.45em 0.6em; margin: 0 0.25em; line-height: 1; border-radius: 0.35em;\">\n",
       "    inviting house\n",
       "    <span style=\"font-size: 0.8em; font-weight: bold; line-height: 1; border-radius: 0.35em; text-transform: uppercase; vertical-align: middle; margin-left: 0.5rem\">FEATURE</span>\n",
       "</mark>\n",
       " with a large terrace for \n",
       "<mark class=\"entity\" style=\"background: #80CBC4; padding: 0.45em 0.6em; margin: 0 0.25em; line-height: 1; border-radius: 0.35em;\">\n",
       "    outdoor dining\n",
       "    <span style=\"font-size: 0.8em; font-weight: bold; line-height: 1; border-radius: 0.35em; text-transform: uppercase; vertical-align: middle; margin-left: 0.5rem\">FEATURE</span>\n",
       "</mark>\n",
       " and drinking and an upstairs balcony for the same. Inside, there is a well-polished bar amid a woody Victorian décor and bric-a-brac - and, of course, there is an actual half-door. There are about a dozen house beers along with a few guest, such as \n",
       "<mark class=\"entity\" style=\"background: #AED581; padding: 0.45em 0.6em; margin: 0 0.25em; line-height: 1; border-radius: 0.35em;\">\n",
       "    Monkey's Paw\n",
       "    <span style=\"font-size: 0.8em; font-weight: bold; line-height: 1; border-radius: 0.35em; text-transform: uppercase; vertical-align: middle; margin-left: 0.5rem\">BREWERY</span>\n",
       "</mark>\n",
       ". The beers are very good (I heartily recommend the Coleman \n",
       "<mark class=\"entity\" style=\"background: #FDD835; padding: 0.45em 0.6em; margin: 0 0.25em; line-height: 1; border-radius: 0.35em;\">\n",
       "    Dry Stout\n",
       "    <span style=\"font-size: 0.8em; font-weight: bold; line-height: 1; border-radius: 0.35em; text-transform: uppercase; vertical-align: middle; margin-left: 0.5rem\">BEER_STYLE</span>\n",
       "</mark>\n",
       "). Excellent service and a menu loaded with delicious food (I recommend the sausage mac-n-cheese.) </br></div></span>"
      ],
      "text/plain": [
       "<IPython.core.display.HTML object>"
      ]
     },
     "metadata": {},
     "output_type": "display_data"
    },
    {
     "data": {
      "text/html": [
       "<span class=\"tex2jax_ignore\"><div class=\"entities\" style=\"line-height: 2.5; direction: ltr\">Half-Door should be included in any Gaslight/East Village crawl - it is a few blocks from \n",
       "<mark class=\"entity\" style=\"background: #AED581; padding: 0.45em 0.6em; margin: 0 0.25em; line-height: 1; border-radius: 0.35em;\">\n",
       "    Mission Brewery\n",
       "    <span style=\"font-size: 0.8em; font-weight: bold; line-height: 1; border-radius: 0.35em; text-transform: uppercase; vertical-align: middle; margin-left: 0.5rem\">BREWERY</span>\n",
       "</mark>\n",
       ", another great venue that I have reviewed recently. Hey, check them both out! UPDATE: Returned for lunch during a November 2019 visit. Still a great place with delicious food - I had the Pork Belly hash, this time.</br></div></span>"
      ],
      "text/plain": [
       "<IPython.core.display.HTML object>"
      ]
     },
     "metadata": {},
     "output_type": "display_data"
    },
    {
     "data": {
      "text/html": [
       "<span class=\"tex2jax_ignore\"><div class=\"entities\" style=\"line-height: 2.5; direction: ltr\">One of my favorite stops of my \n",
       "<mark class=\"entity\" style=\"background: #C5CAE9; padding: 0.45em 0.6em; margin: 0 0.25em; line-height: 1; border-radius: 0.35em;\">\n",
       "    San Diego\n",
       "    <span style=\"font-size: 0.8em; font-weight: bold; line-height: 1; border-radius: 0.35em; text-transform: uppercase; vertical-align: middle; margin-left: 0.5rem\">LOCATION</span>\n",
       "</mark>\n",
       " trip. It was strongly recommended by others who visited and was not disappointed. \n",
       "<mark class=\"entity\" style=\"background: #80CBC4; padding: 0.45em 0.6em; margin: 0 0.25em; line-height: 1; border-radius: 0.35em;\">\n",
       "    Very friendly\n",
       "    <span style=\"font-size: 0.8em; font-weight: bold; line-height: 1; border-radius: 0.35em; text-transform: uppercase; vertical-align: middle; margin-left: 0.5rem\">FEATURE</span>\n",
       "</mark>\n",
       " and prompt staff, solid beers and the few apps we had were amazing. Would have loved to spend more time there and would stop there again in a heartbeat.</br></div></span>"
      ],
      "text/plain": [
       "<IPython.core.display.HTML object>"
      ]
     },
     "metadata": {},
     "output_type": "display_data"
    },
    {
     "data": {
      "text/html": [
       "<span class=\"tex2jax_ignore\"><div class=\"entities\" style=\"line-height: 2.5; direction: ltr\">Awesome looking corner lot building dripping with \n",
       "<mark class=\"entity\" style=\"background: #80CBC4; padding: 0.45em 0.6em; margin: 0 0.25em; line-height: 1; border-radius: 0.35em;\">\n",
       "    Old Southern Charm\n",
       "    <span style=\"font-size: 0.8em; font-weight: bold; line-height: 1; border-radius: 0.35em; text-transform: uppercase; vertical-align: middle; margin-left: 0.5rem\">FEATURE</span>\n",
       "</mark>\n",
       ". Irish. The 2 beers I had were great for the style. Took 40 minutes to get a beer though. The waiter forgot about us. Trying to not let that one extremely disappointing aspect color my review. Would love to go here again but sit at the awesome looking bar.</div></span>"
      ],
      "text/plain": [
       "<IPython.core.display.HTML object>"
      ]
     },
     "metadata": {},
     "output_type": "display_data"
    }
   ],
   "source": [
    "# Test trained model with real data\n",
    "with open('../data/raw/reviews_san-diego_half-door-brewing-co.txt') as file:\n",
    "    reviews = file.readlines()\n",
    "    \n",
    "for review in reviews:\n",
    "    doc = nlp(review)\n",
    "    displacy.render(doc, style=\"ent\", options=options)"
   ]
  },
  {
   "cell_type": "code",
   "execution_count": 56,
   "metadata": {},
   "outputs": [
    {
     "data": {
      "text/html": [
       "<span class=\"tex2jax_ignore\"><div class=\"entities\" style=\"line-height: 2.5; direction: ltr\">This place is the real deal. The penultimate craft brewery experience in the \n",
       "<mark class=\"entity\" style=\"background: #C5CAE9; padding: 0.45em 0.6em; margin: 0 0.25em; line-height: 1; border-radius: 0.35em;\">\n",
       "    San Diego\n",
       "    <span style=\"font-size: 0.8em; font-weight: bold; line-height: 1; border-radius: 0.35em; text-transform: uppercase; vertical-align: middle; margin-left: 0.5rem\">LOCATION</span>\n",
       "</mark>\n",
       " area and up there with the best in all of \n",
       "<mark class=\"entity\" style=\"background: #C5CAE9; padding: 0.45em 0.6em; margin: 0 0.25em; line-height: 1; border-radius: 0.35em;\">\n",
       "    Southern California\n",
       "    <span style=\"font-size: 0.8em; font-weight: bold; line-height: 1; border-radius: 0.35em; text-transform: uppercase; vertical-align: middle; margin-left: 0.5rem\">LOCATION</span>\n",
       "</mark>\n",
       ". Quality is top notch, variety of offerings is more than enough for several visits, and the food options outside were satisfying (though a tad expensive). Even during the pandemic, it was a vibrant and modern facility and the kind of destination I had expected and hoped for. Been waiting years to finally visit. And they have their own street/address, so you know they’re special.</br></div></span>"
      ],
      "text/plain": [
       "<IPython.core.display.HTML object>"
      ]
     },
     "metadata": {},
     "output_type": "display_data"
    },
    {
     "data": {
      "text/html": [
       "<span class=\"tex2jax_ignore\"><div class=\"entities\" style=\"line-height: 2.5; direction: ltr\">Visited with my wife on a recent trip to \n",
       "<mark class=\"entity\" style=\"background: #C5CAE9; padding: 0.45em 0.6em; margin: 0 0.25em; line-height: 1; border-radius: 0.35em;\">\n",
       "    San Diego\n",
       "    <span style=\"font-size: 0.8em; font-weight: bold; line-height: 1; border-radius: 0.35em; text-transform: uppercase; vertical-align: middle; margin-left: 0.5rem\">LOCATION</span>\n",
       "</mark>\n",
       " and \n",
       "<mark class=\"entity\" style=\"background: #C5CAE9; padding: 0.45em 0.6em; margin: 0 0.25em; line-height: 1; border-radius: 0.35em;\">\n",
       "    Los Angeles\n",
       "    <span style=\"font-size: 0.8em; font-weight: bold; line-height: 1; border-radius: 0.35em; text-transform: uppercase; vertical-align: middle; margin-left: 0.5rem\">LOCATION</span>\n",
       "</mark>\n",
       ". Tried the following as part of a flight: AleSmith Evil Dead Red AleSmith Decadence 2017 AleSmith \n",
       "<mark class=\"entity\" style=\"background: #C5CAE9; padding: 0.45em 0.6em; margin: 0 0.25em; line-height: 1; border-radius: 0.35em;\">\n",
       "    San Diego\n",
       "    <span style=\"font-size: 0.8em; font-weight: bold; line-height: 1; border-radius: 0.35em; text-transform: uppercase; vertical-align: middle; margin-left: 0.5rem\">LOCATION</span>\n",
       "</mark>\n",
       " \n",
       "<mark class=\"entity\" style=\"background: #FDD835; padding: 0.45em 0.6em; margin: 0 0.25em; line-height: 1; border-radius: 0.35em;\">\n",
       "    Pale Ale\n",
       "    <span style=\"font-size: 0.8em; font-weight: bold; line-height: 1; border-radius: 0.35em; text-transform: uppercase; vertical-align: middle; margin-left: 0.5rem\">BEER_STYLE</span>\n",
       "</mark>\n",
       " .394 AleSmith \n",
       "<mark class=\"entity\" style=\"background: #FDD835; padding: 0.45em 0.6em; margin: 0 0.25em; line-height: 1; border-radius: 0.35em;\">\n",
       "    Speedway Stout - Vietnamese Coffee\n",
       "    <span style=\"font-size: 0.8em; font-weight: bold; line-height: 1; border-radius: 0.35em; text-transform: uppercase; vertical-align: middle; margin-left: 0.5rem\">BEER_STYLE</span>\n",
       "</mark>\n",
       " Beers were superb across the board. Also bought some \n",
       "<mark class=\"entity\" style=\"background: #FDD835; padding: 0.45em 0.6em; margin: 0 0.25em; line-height: 1; border-radius: 0.35em;\">\n",
       "    Old Numbskull\n",
       "    <span style=\"font-size: 0.8em; font-weight: bold; line-height: 1; border-radius: 0.35em; text-transform: uppercase; vertical-align: middle; margin-left: 0.5rem\">BEER_STYLE</span>\n",
       "</mark>\n",
       " and \n",
       "<mark class=\"entity\" style=\"background: #FDD835; padding: 0.45em 0.6em; margin: 0 0.25em; line-height: 1; border-radius: 0.35em;\">\n",
       "    Speedway Stout\n",
       "    <span style=\"font-size: 0.8em; font-weight: bold; line-height: 1; border-radius: 0.35em; text-transform: uppercase; vertical-align: middle; margin-left: 0.5rem\">BEER_STYLE</span>\n",
       "</mark>\n",
       " to go; both were phenomenal. Service at the bar was fine as the beertender was quick to grab our drinks. The guy in the retail store was a bit more engaging, which we appreciated. Cool atmosphere in the beautiful, \n",
       "<mark class=\"entity\" style=\"background: #80CBC4; padding: 0.45em 0.6em; margin: 0 0.25em; line-height: 1; border-radius: 0.35em;\">\n",
       "    gargantuan taproom\n",
       "    <span style=\"font-size: 0.8em; font-weight: bold; line-height: 1; border-radius: 0.35em; text-transform: uppercase; vertical-align: middle; margin-left: 0.5rem\">FEATURE</span>\n",
       "</mark>\n",
       " and we had fun touring the Tony Gwynn Museum. Our overall experience was very special, and we would happily come back.</br></div></span>"
      ],
      "text/plain": [
       "<IPython.core.display.HTML object>"
      ]
     },
     "metadata": {},
     "output_type": "display_data"
    },
    {
     "data": {
      "text/html": [
       "<span class=\"tex2jax_ignore\"><div class=\"entities\" style=\"line-height: 2.5; direction: ltr\">\n",
       "<mark class=\"entity\" style=\"background: #80CBC4; padding: 0.45em 0.6em; margin: 0 0.25em; line-height: 1; border-radius: 0.35em;\">\n",
       "    Huge\n",
       "    <span style=\"font-size: 0.8em; font-weight: bold; line-height: 1; border-radius: 0.35em; text-transform: uppercase; vertical-align: middle; margin-left: 0.5rem\">FEATURE</span>\n",
       "</mark>\n",
       " \n",
       "<mark class=\"entity\" style=\"background: #80CBC4; padding: 0.45em 0.6em; margin: 0 0.25em; line-height: 1; border-radius: 0.35em;\">\n",
       "    tasting room\n",
       "    <span style=\"font-size: 0.8em; font-weight: bold; line-height: 1; border-radius: 0.35em; text-transform: uppercase; vertical-align: middle; margin-left: 0.5rem\">FEATURE</span>\n",
       "</mark>\n",
       " in the front of \n",
       "<mark class=\"entity\" style=\"background: #80CBC4; padding: 0.45em 0.6em; margin: 0 0.25em; line-height: 1; border-radius: 0.35em;\">\n",
       "    brewery building\n",
       "    <span style=\"font-size: 0.8em; font-weight: bold; line-height: 1; border-radius: 0.35em; text-transform: uppercase; vertical-align: middle; margin-left: 0.5rem\">FEATURE</span>\n",
       "</mark>\n",
       ". \n",
       "<mark class=\"entity\" style=\"background: #80CBC4; padding: 0.45em 0.6em; margin: 0 0.25em; line-height: 1; border-radius: 0.35em;\">\n",
       "    Merch shop\n",
       "    <span style=\"font-size: 0.8em; font-weight: bold; line-height: 1; border-radius: 0.35em; text-transform: uppercase; vertical-align: middle; margin-left: 0.5rem\">FEATURE</span>\n",
       "</mark>\n",
       " is on the left as one enters, and the right opens up to a \n",
       "<mark class=\"entity\" style=\"background: #80CBC4; padding: 0.45em 0.6em; margin: 0 0.25em; line-height: 1; border-radius: 0.35em;\">\n",
       "    two-story taproom\n",
       "    <span style=\"font-size: 0.8em; font-weight: bold; line-height: 1; border-radius: 0.35em; text-transform: uppercase; vertical-align: middle; margin-left: 0.5rem\">FEATURE</span>\n",
       "</mark>\n",
       " with windows into the \n",
       "<mark class=\"entity\" style=\"background: #80CBC4; padding: 0.45em 0.6em; margin: 0 0.25em; line-height: 1; border-radius: 0.35em;\">\n",
       "    brewery\n",
       "    <span style=\"font-size: 0.8em; font-weight: bold; line-height: 1; border-radius: 0.35em; text-transform: uppercase; vertical-align: middle; margin-left: 0.5rem\">FEATURE</span>\n",
       "</mark>\n",
       ". Zigzag bar seats probably 40 to 50, and there are a number of tables spread about the room. Additionally, there is a \n",
       "<mark class=\"entity\" style=\"background: #80CBC4; padding: 0.45em 0.6em; margin: 0 0.25em; line-height: 1; border-radius: 0.35em;\">\n",
       "    patio\n",
       "    <span style=\"font-size: 0.8em; font-weight: bold; line-height: 1; border-radius: 0.35em; text-transform: uppercase; vertical-align: middle; margin-left: 0.5rem\">FEATURE</span>\n",
       "</mark>\n",
       " in front with nightly food truck. \n",
       "<mark class=\"entity\" style=\"background: #80CBC4; padding: 0.45em 0.6em; margin: 0 0.25em; line-height: 1; border-radius: 0.35em;\">\n",
       "    25 beers on tap\n",
       "    <span style=\"font-size: 0.8em; font-weight: bold; line-height: 1; border-radius: 0.35em; text-transform: uppercase; vertical-align: middle; margin-left: 0.5rem\">FEATURE</span>\n",
       "</mark>\n",
       ", half were \n",
       "<mark class=\"entity\" style=\"background: #80CBC4; padding: 0.45em 0.6em; margin: 0 0.25em; line-height: 1; border-radius: 0.35em;\">\n",
       "    brewery\n",
       "    <span style=\"font-size: 0.8em; font-weight: bold; line-height: 1; border-radius: 0.35em; text-transform: uppercase; vertical-align: middle; margin-left: 0.5rem\">FEATURE</span>\n",
       "</mark>\n",
       " only seasonals and specials. Place had an after-work unwind sort of vibe. \n",
       "<mark class=\"entity\" style=\"background: #80CBC4; padding: 0.45em 0.6em; margin: 0 0.25em; line-height: 1; border-radius: 0.35em;\">\n",
       "    Friendly\n",
       "    <span style=\"font-size: 0.8em; font-weight: bold; line-height: 1; border-radius: 0.35em; text-transform: uppercase; vertical-align: middle; margin-left: 0.5rem\">FEATURE</span>\n",
       "</mark>\n",
       " efficient bartenders.</br></div></span>"
      ],
      "text/plain": [
       "<IPython.core.display.HTML object>"
      ]
     },
     "metadata": {},
     "output_type": "display_data"
    },
    {
     "data": {
      "text/html": [
       "<span class=\"tex2jax_ignore\"><div class=\"entities\" style=\"line-height: 2.5; direction: ltr\">\n",
       "<mark class=\"entity\" style=\"background: #AED581; padding: 0.45em 0.6em; margin: 0 0.25em; line-height: 1; border-radius: 0.35em;\">\n",
       "    AleSmith\n",
       "    <span style=\"font-size: 0.8em; font-weight: bold; line-height: 1; border-radius: 0.35em; text-transform: uppercase; vertical-align: middle; margin-left: 0.5rem\">BREWERY</span>\n",
       "</mark>\n",
       " is a fairly large \n",
       "<mark class=\"entity\" style=\"background: #80CBC4; padding: 0.45em 0.6em; margin: 0 0.25em; line-height: 1; border-radius: 0.35em;\">\n",
       "    tasting room\n",
       "    <span style=\"font-size: 0.8em; font-weight: bold; line-height: 1; border-radius: 0.35em; text-transform: uppercase; vertical-align: middle; margin-left: 0.5rem\">FEATURE</span>\n",
       "</mark>\n",
       " and production house. Tonight they had a couple of \n",
       "<mark class=\"entity\" style=\"background: #80CBC4; padding: 0.45em 0.6em; margin: 0 0.25em; line-height: 1; border-radius: 0.35em;\">\n",
       "    food trucks\n",
       "    <span style=\"font-size: 0.8em; font-weight: bold; line-height: 1; border-radius: 0.35em; text-transform: uppercase; vertical-align: middle; margin-left: 0.5rem\">FEATURE</span>\n",
       "</mark>\n",
       ". Once you enter the building you have a \n",
       "<mark class=\"entity\" style=\"background: #80CBC4; padding: 0.45em 0.6em; margin: 0 0.25em; line-height: 1; border-radius: 0.35em;\">\n",
       "    gift shop\n",
       "    <span style=\"font-size: 0.8em; font-weight: bold; line-height: 1; border-radius: 0.35em; text-transform: uppercase; vertical-align: middle; margin-left: 0.5rem\">FEATURE</span>\n",
       "</mark>\n",
       " and place to purchase beers to go. There is a \n",
       "<mark class=\"entity\" style=\"background: #80CBC4; padding: 0.45em 0.6em; margin: 0 0.25em; line-height: 1; border-radius: 0.35em;\">\n",
       "    large bar\n",
       "    <span style=\"font-size: 0.8em; font-weight: bold; line-height: 1; border-radius: 0.35em; text-transform: uppercase; vertical-align: middle; margin-left: 0.5rem\">FEATURE</span>\n",
       "</mark>\n",
       " area with a view to the production area behind it. They had ample seating inside and out. The beer \n",
       "<mark class=\"entity\" style=\"background: #80CBC4; padding: 0.45em 0.6em; margin: 0 0.25em; line-height: 1; border-radius: 0.35em;\">\n",
       "    selection\n",
       "    <span style=\"font-size: 0.8em; font-weight: bold; line-height: 1; border-radius: 0.35em; text-transform: uppercase; vertical-align: middle; margin-left: 0.5rem\">FEATURE</span>\n",
       "</mark>\n",
       " tonight was nice. They had a couple Speedway variants I tried - Jamaican Blue Mountain and Thai. Both were solid beers. Had a couple of tasters and made my way back to my hotel I'm staying for a conference. Overall, a splendid place to visit and hang out with friends.</br></div></span>"
      ],
      "text/plain": [
       "<IPython.core.display.HTML object>"
      ]
     },
     "metadata": {},
     "output_type": "display_data"
    },
    {
     "data": {
      "text/html": [
       "<span class=\"tex2jax_ignore\"><div class=\"entities\" style=\"line-height: 2.5; direction: ltr\">Clean well kept and organized all around nice family \n",
       "<mark class=\"entity\" style=\"background: #80CBC4; padding: 0.45em 0.6em; margin: 0 0.25em; line-height: 1; border-radius: 0.35em;\">\n",
       "    friendly\n",
       "    <span style=\"font-size: 0.8em; font-weight: bold; line-height: 1; border-radius: 0.35em; text-transform: uppercase; vertical-align: middle; margin-left: 0.5rem\">FEATURE</span>\n",
       "</mark>\n",
       " atmosphere large bar with lots of open seating options. Staff is \n",
       "<mark class=\"entity\" style=\"background: #80CBC4; padding: 0.45em 0.6em; margin: 0 0.25em; line-height: 1; border-radius: 0.35em;\">\n",
       "    friendly\n",
       "    <span style=\"font-size: 0.8em; font-weight: bold; line-height: 1; border-radius: 0.35em; text-transform: uppercase; vertical-align: middle; margin-left: 0.5rem\">FEATURE</span>\n",
       "</mark>\n",
       " and \n",
       "<mark class=\"entity\" style=\"background: #80CBC4; padding: 0.45em 0.6em; margin: 0 0.25em; line-height: 1; border-radius: 0.35em;\">\n",
       "    knowledgeable\n",
       "    <span style=\"font-size: 0.8em; font-weight: bold; line-height: 1; border-radius: 0.35em; text-transform: uppercase; vertical-align: middle; margin-left: 0.5rem\">FEATURE</span>\n",
       "</mark>\n",
       " food truck they had looked and smelled very good. Some games outside and nice upper deck with view and seeing the blue angels fly over didn’t hurt. Adding a signature non alcoholic drink or two and would have been 5s across the top!</br></div></span>"
      ],
      "text/plain": [
       "<IPython.core.display.HTML object>"
      ]
     },
     "metadata": {},
     "output_type": "display_data"
    },
    {
     "data": {
      "text/html": [
       "<span class=\"tex2jax_ignore\"><div class=\"entities\" style=\"line-height: 2.5; direction: ltr\">Really nice place. The \n",
       "<mark class=\"entity\" style=\"background: #80CBC4; padding: 0.45em 0.6em; margin: 0 0.25em; line-height: 1; border-radius: 0.35em;\">\n",
       "    patio\n",
       "    <span style=\"font-size: 0.8em; font-weight: bold; line-height: 1; border-radius: 0.35em; text-transform: uppercase; vertical-align: middle; margin-left: 0.5rem\">FEATURE</span>\n",
       "</mark>\n",
       " was set up perfect with great \n",
       "<mark class=\"entity\" style=\"background: #80CBC4; padding: 0.45em 0.6em; margin: 0 0.25em; line-height: 1; border-radius: 0.35em;\">\n",
       "    food trucks\n",
       "    <span style=\"font-size: 0.8em; font-weight: bold; line-height: 1; border-radius: 0.35em; text-transform: uppercase; vertical-align: middle; margin-left: 0.5rem\">FEATURE</span>\n",
       "</mark>\n",
       " and \n",
       "<mark class=\"entity\" style=\"background: #80CBC4; padding: 0.45em 0.6em; margin: 0 0.25em; line-height: 1; border-radius: 0.35em;\">\n",
       "    patio games\n",
       "    <span style=\"font-size: 0.8em; font-weight: bold; line-height: 1; border-radius: 0.35em; text-transform: uppercase; vertical-align: middle; margin-left: 0.5rem\">FEATURE</span>\n",
       "</mark>\n",
       ". Really big \n",
       "<mark class=\"entity\" style=\"background: #80CBC4; padding: 0.45em 0.6em; margin: 0 0.25em; line-height: 1; border-radius: 0.35em;\">\n",
       "    tasting room\n",
       "    <span style=\"font-size: 0.8em; font-weight: bold; line-height: 1; border-radius: 0.35em; text-transform: uppercase; vertical-align: middle; margin-left: 0.5rem\">FEATURE</span>\n",
       "</mark>\n",
       " with \n",
       "<mark class=\"entity\" style=\"background: #80CBC4; padding: 0.45em 0.6em; margin: 0 0.25em; line-height: 1; border-radius: 0.35em;\">\n",
       "    30 plus beers on tap\n",
       "    <span style=\"font-size: 0.8em; font-weight: bold; line-height: 1; border-radius: 0.35em; text-transform: uppercase; vertical-align: middle; margin-left: 0.5rem\">FEATURE</span>\n",
       "</mark>\n",
       " and the Tony Gwynn museum was awesome !</br></div></span>"
      ],
      "text/plain": [
       "<IPython.core.display.HTML object>"
      ]
     },
     "metadata": {},
     "output_type": "display_data"
    },
    {
     "data": {
      "text/html": [
       "<span class=\"tex2jax_ignore\"><div class=\"entities\" style=\"line-height: 2.5; direction: ltr\">This place is beautifully designed, as far as the architecture and layout. \n",
       "<mark class=\"entity\" style=\"background: #80CBC4; padding: 0.45em 0.6em; margin: 0 0.25em; line-height: 1; border-radius: 0.35em;\">\n",
       "    Beautiful building\n",
       "    <span style=\"font-size: 0.8em; font-weight: bold; line-height: 1; border-radius: 0.35em; text-transform: uppercase; vertical-align: middle; margin-left: 0.5rem\">FEATURE</span>\n",
       "</mark>\n",
       ", \n",
       "<mark class=\"entity\" style=\"background: #80CBC4; padding: 0.45em 0.6em; margin: 0 0.25em; line-height: 1; border-radius: 0.35em;\">\n",
       "    huge open space\n",
       "    <span style=\"font-size: 0.8em; font-weight: bold; line-height: 1; border-radius: 0.35em; text-transform: uppercase; vertical-align: middle; margin-left: 0.5rem\">FEATURE</span>\n",
       "</mark>\n",
       " with plenty of bar seating, table, outdoors, private area and special barrel age room. Quality of establishment is top notch. Everything is in excellent shape and the mini-museum for \n",
       "<mark class=\"entity\" style=\"background: #FDD835; padding: 0.45em 0.6em; margin: 0 0.25em; line-height: 1; border-radius: 0.35em;\">\n",
       "    Tony Gwynn\n",
       "    <span style=\"font-size: 0.8em; font-weight: bold; line-height: 1; border-radius: 0.35em; text-transform: uppercase; vertical-align: middle; margin-left: 0.5rem\">BEER_STYLE</span>\n",
       "</mark>\n",
       " is fantastic (with a bunch of his trophies and all). Can't complain about the service or the staff in general either. They were not only quick but they also brought beer from their \n",
       "<mark class=\"entity\" style=\"background: #FDD835; padding: 0.45em 0.6em; margin: 0 0.25em; line-height: 1; border-radius: 0.35em;\">\n",
       "    barrel aging\n",
       "    <span style=\"font-size: 0.8em; font-weight: bold; line-height: 1; border-radius: 0.35em; text-transform: uppercase; vertical-align: middle; margin-left: 0.5rem\">BEER_STYLE</span>\n",
       "</mark>\n",
       " section (where I was supposed to go to get BA beers on draft). Their shop clerk was also really \n",
       "<mark class=\"entity\" style=\"background: #80CBC4; padding: 0.45em 0.6em; margin: 0 0.25em; line-height: 1; border-radius: 0.35em;\">\n",
       "    friendly\n",
       "    <span style=\"font-size: 0.8em; font-weight: bold; line-height: 1; border-radius: 0.35em; text-transform: uppercase; vertical-align: middle; margin-left: 0.5rem\">FEATURE</span>\n",
       "</mark>\n",
       " and insightful. \n",
       "<mark class=\"entity\" style=\"background: #80CBC4; padding: 0.45em 0.6em; margin: 0 0.25em; line-height: 1; border-radius: 0.35em;\">\n",
       "    Selection\n",
       "    <span style=\"font-size: 0.8em; font-weight: bold; line-height: 1; border-radius: 0.35em; text-transform: uppercase; vertical-align: middle; margin-left: 0.5rem\">FEATURE</span>\n",
       "</mark>\n",
       " was huge, of both regular offering and \n",
       "<mark class=\"entity\" style=\"background: #FDD835; padding: 0.45em 0.6em; margin: 0 0.25em; line-height: 1; border-radius: 0.35em;\">\n",
       "    barrel aged\n",
       "    <span style=\"font-size: 0.8em; font-weight: bold; line-height: 1; border-radius: 0.35em; text-transform: uppercase; vertical-align: middle; margin-left: 0.5rem\">BEER_STYLE</span>\n",
       "</mark>\n",
       ". They do not serve food but there is a food truck outside always if you get hungry. Just a great place to visit. Wish it was closer to \n",
       "<mark class=\"entity\" style=\"background: #C5CAE9; padding: 0.45em 0.6em; margin: 0 0.25em; line-height: 1; border-radius: 0.35em;\">\n",
       "    downtown San Diego\n",
       "    <span style=\"font-size: 0.8em; font-weight: bold; line-height: 1; border-radius: 0.35em; text-transform: uppercase; vertical-align: middle; margin-left: 0.5rem\">LOCATION</span>\n",
       "</mark>\n",
       " but it is totally worth a 25 min drive from there to visit this unique place.</br></div></span>"
      ],
      "text/plain": [
       "<IPython.core.display.HTML object>"
      ]
     },
     "metadata": {},
     "output_type": "display_data"
    },
    {
     "data": {
      "text/html": [
       "<span class=\"tex2jax_ignore\"><div class=\"entities\" style=\"line-height: 2.5; direction: ltr\">this is a \n",
       "<mark class=\"entity\" style=\"background: #80CBC4; padding: 0.45em 0.6em; margin: 0 0.25em; line-height: 1; border-radius: 0.35em;\">\n",
       "    brewery\n",
       "    <span style=\"font-size: 0.8em; font-weight: bold; line-height: 1; border-radius: 0.35em; text-transform: uppercase; vertical-align: middle; margin-left: 0.5rem\">FEATURE</span>\n",
       "</mark>\n",
       " i have respected forever, one of the first to turn me on to \n",
       "<mark class=\"entity\" style=\"background: #FDD835; padding: 0.45em 0.6em; margin: 0 0.25em; line-height: 1; border-radius: 0.35em;\">\n",
       "    strong ales\n",
       "    <span style=\"font-size: 0.8em; font-weight: bold; line-height: 1; border-radius: 0.35em; text-transform: uppercase; vertical-align: middle; margin-left: 0.5rem\">BEER_STYLE</span>\n",
       "</mark>\n",
       " like \n",
       "<mark class=\"entity\" style=\"background: #FDD835; padding: 0.45em 0.6em; margin: 0 0.25em; line-height: 1; border-radius: 0.35em;\">\n",
       "    old ale\n",
       "    <span style=\"font-size: 0.8em; font-weight: bold; line-height: 1; border-radius: 0.35em; text-transform: uppercase; vertical-align: middle; margin-left: 0.5rem\">BEER_STYLE</span>\n",
       "</mark>\n",
       " and \n",
       "<mark class=\"entity\" style=\"background: #FDD835; padding: 0.45em 0.6em; margin: 0 0.25em; line-height: 1; border-radius: 0.35em;\">\n",
       "    barleywine\n",
       "    <span style=\"font-size: 0.8em; font-weight: bold; line-height: 1; border-radius: 0.35em; text-transform: uppercase; vertical-align: middle; margin-left: 0.5rem\">BEER_STYLE</span>\n",
       "</mark>\n",
       ", and i have been a longtime lover of their speedway \n",
       "<mark class=\"entity\" style=\"background: #FDD835; padding: 0.45em 0.6em; margin: 0 0.25em; line-height: 1; border-radius: 0.35em;\">\n",
       "    stout\n",
       "    <span style=\"font-size: 0.8em; font-weight: bold; line-height: 1; border-radius: 0.35em; text-transform: uppercase; vertical-align: middle; margin-left: 0.5rem\">BEER_STYLE</span>\n",
       "</mark>\n",
       ", so it was sort of a full circle thing for me to get to visit their enormous new(ish) \n",
       "<mark class=\"entity\" style=\"background: #80CBC4; padding: 0.45em 0.6em; margin: 0 0.25em; line-height: 1; border-radius: 0.35em;\">\n",
       "    brewery\n",
       "    <span style=\"font-size: 0.8em; font-weight: bold; line-height: 1; border-radius: 0.35em; text-transform: uppercase; vertical-align: middle; margin-left: 0.5rem\">FEATURE</span>\n",
       "</mark>\n",
       ". its a \n",
       "<mark class=\"entity\" style=\"background: #80CBC4; padding: 0.45em 0.6em; margin: 0 0.25em; line-height: 1; border-radius: 0.35em;\">\n",
       "    huge space\n",
       "    <span style=\"font-size: 0.8em; font-weight: bold; line-height: 1; border-radius: 0.35em; text-transform: uppercase; vertical-align: middle; margin-left: 0.5rem\">FEATURE</span>\n",
       "</mark>\n",
       ", almost feels like a hotel lobby, with big \n",
       "<mark class=\"entity\" style=\"background: #80CBC4; padding: 0.45em 0.6em; margin: 0 0.25em; line-height: 1; border-radius: 0.35em;\">\n",
       "    leather couches\n",
       "    <span style=\"font-size: 0.8em; font-weight: bold; line-height: 1; border-radius: 0.35em; text-transform: uppercase; vertical-align: middle; margin-left: 0.5rem\">FEATURE</span>\n",
       "</mark>\n",
       ", high ceilings, low light, noisy and bustling, kind of an urban industrial feel to it, tanks visible behind the bar, tons of fermentation capacity here, huge but comfortable, if a bit overly refined and lacking uniqueness as a space. its comfortable though, and it was exiting just to be here. the beer list included all of the staples, a few new ones by me, and a range of speedway variants i was super pumped to get into, including \n",
       "<mark class=\"entity\" style=\"background: #FDD835; padding: 0.45em 0.6em; margin: 0 0.25em; line-height: 1; border-radius: 0.35em;\">\n",
       "    jamaican\n",
       "    <span style=\"font-size: 0.8em; font-weight: bold; line-height: 1; border-radius: 0.35em; text-transform: uppercase; vertical-align: middle; margin-left: 0.5rem\">BEER_STYLE</span>\n",
       "</mark>\n",
       ", \n",
       "<mark class=\"entity\" style=\"background: #FDD835; padding: 0.45em 0.6em; margin: 0 0.25em; line-height: 1; border-radius: 0.35em;\">\n",
       "    vietnamese\n",
       "    <span style=\"font-size: 0.8em; font-weight: bold; line-height: 1; border-radius: 0.35em; text-transform: uppercase; vertical-align: middle; margin-left: 0.5rem\">BEER_STYLE</span>\n",
       "</mark>\n",
       ", chire, and thai. they were all awesome! they also have a \n",
       "<mark class=\"entity\" style=\"background: #80CBC4; padding: 0.45em 0.6em; margin: 0 0.25em; line-height: 1; border-radius: 0.35em;\">\n",
       "    cool gift shop\n",
       "    <span style=\"font-size: 0.8em; font-weight: bold; line-height: 1; border-radius: 0.35em; text-transform: uppercase; vertical-align: middle; margin-left: 0.5rem\">FEATURE</span>\n",
       "</mark>\n",
       " with some bottles to go. a neat mix of people in here from corporate gathering to laid back \n",
       "<mark class=\"entity\" style=\"background: #C5CAE9; padding: 0.45em 0.6em; margin: 0 0.25em; line-height: 1; border-radius: 0.35em;\">\n",
       "    california\n",
       "    <span style=\"font-size: 0.8em; font-weight: bold; line-height: 1; border-radius: 0.35em; text-transform: uppercase; vertical-align: middle; margin-left: 0.5rem\">LOCATION</span>\n",
       "</mark>\n",
       " looking folks, mellow for how busy it was. service was fine, sort of unexcited but we didnt spend much time at the bar, opting instead for one of the \n",
       "<mark class=\"entity\" style=\"background: #80CBC4; padding: 0.45em 0.6em; margin: 0 0.25em; line-height: 1; border-radius: 0.35em;\">\n",
       "    leather couches\n",
       "    <span style=\"font-size: 0.8em; font-weight: bold; line-height: 1; border-radius: 0.35em; text-transform: uppercase; vertical-align: middle; margin-left: 0.5rem\">FEATURE</span>\n",
       "</mark>\n",
       " where we had our minds blown by the speedway flight. its cool to see how successful these guys have been, their new space is beautiful, and the beers continue to speak for themselves. we had a great time here, definitely worth a visit, and if you are unfamiliar with their beers, be sure not to miss it!</br></div></span>"
      ],
      "text/plain": [
       "<IPython.core.display.HTML object>"
      ]
     },
     "metadata": {},
     "output_type": "display_data"
    },
    {
     "data": {
      "text/html": [
       "<span class=\"tex2jax_ignore\"><div class=\"entities\" style=\"line-height: 2.5; direction: ltr\">This was my first time to AleSmith. Very cool facility, huge! The \n",
       "<mark class=\"entity\" style=\"background: #80CBC4; padding: 0.45em 0.6em; margin: 0 0.25em; line-height: 1; border-radius: 0.35em;\">\n",
       "    selection\n",
       "    <span style=\"font-size: 0.8em; font-weight: bold; line-height: 1; border-radius: 0.35em; text-transform: uppercase; vertical-align: middle; margin-left: 0.5rem\">FEATURE</span>\n",
       "</mark>\n",
       " when I went was great for \n",
       "<mark class=\"entity\" style=\"background: #FDD835; padding: 0.45em 0.6em; margin: 0 0.25em; line-height: 1; border-radius: 0.35em;\">\n",
       "    Speedway Stout\n",
       "    <span style=\"font-size: 0.8em; font-weight: bold; line-height: 1; border-radius: 0.35em; text-transform: uppercase; vertical-align: middle; margin-left: 0.5rem\">BEER_STYLE</span>\n",
       "</mark>\n",
       " variants, but for those looking beyond \n",
       "<mark class=\"entity\" style=\"background: #FDD835; padding: 0.45em 0.6em; margin: 0 0.25em; line-height: 1; border-radius: 0.35em;\">\n",
       "    heavy stouts\n",
       "    <span style=\"font-size: 0.8em; font-weight: bold; line-height: 1; border-radius: 0.35em; text-transform: uppercase; vertical-align: middle; margin-left: 0.5rem\">BEER_STYLE</span>\n",
       "</mark>\n",
       ", I’ve gotta say there maybe could have been a little more. Service was great, \n",
       "<mark class=\"entity\" style=\"background: #80CBC4; padding: 0.45em 0.6em; margin: 0 0.25em; line-height: 1; border-radius: 0.35em;\">\n",
       "    speedy\n",
       "    <span style=\"font-size: 0.8em; font-weight: bold; line-height: 1; border-radius: 0.35em; text-transform: uppercase; vertical-align: middle; margin-left: 0.5rem\">FEATURE</span>\n",
       "</mark>\n",
       " and \n",
       "<mark class=\"entity\" style=\"background: #80CBC4; padding: 0.45em 0.6em; margin: 0 0.25em; line-height: 1; border-radius: 0.35em;\">\n",
       "    friendly\n",
       "    <span style=\"font-size: 0.8em; font-weight: bold; line-height: 1; border-radius: 0.35em; text-transform: uppercase; vertical-align: middle; margin-left: 0.5rem\">FEATURE</span>\n",
       "</mark>\n",
       ". Beer quality was solid, from what I had. With the right event going on, during a full house session, I can really see this being a fun place to be!</br></div></span>"
      ],
      "text/plain": [
       "<IPython.core.display.HTML object>"
      ]
     },
     "metadata": {},
     "output_type": "display_data"
    },
    {
     "data": {
      "text/html": [
       "<span class=\"tex2jax_ignore\"><div class=\"entities\" style=\"line-height: 2.5; direction: ltr\">Hit up AleSmith on a recent trip to \n",
       "<mark class=\"entity\" style=\"background: #C5CAE9; padding: 0.45em 0.6em; margin: 0 0.25em; line-height: 1; border-radius: 0.35em;\">\n",
       "    San Diego\n",
       "    <span style=\"font-size: 0.8em; font-weight: bold; line-height: 1; border-radius: 0.35em; text-transform: uppercase; vertical-align: middle; margin-left: 0.5rem\">LOCATION</span>\n",
       "</mark>\n",
       ". Lots of people, big crowd with big lines and long waits to get a beer. There was not enough seats for my friends and I, so we had to stand on the deck near the restrooms. Service was not that good but I could understand as they seemed understaffed for a Saturday afternoon. My recommendation is that they expand their \n",
       "<mark class=\"entity\" style=\"background: #80CBC4; padding: 0.45em 0.6em; margin: 0 0.25em; line-height: 1; border-radius: 0.35em;\">\n",
       "    tasting room\n",
       "    <span style=\"font-size: 0.8em; font-weight: bold; line-height: 1; border-radius: 0.35em; text-transform: uppercase; vertical-align: middle; margin-left: 0.5rem\">FEATURE</span>\n",
       "</mark>\n",
       ", add more seats and staff.</br></div></span>"
      ],
      "text/plain": [
       "<IPython.core.display.HTML object>"
      ]
     },
     "metadata": {},
     "output_type": "display_data"
    },
    {
     "data": {
      "text/html": [
       "<span class=\"tex2jax_ignore\"><div class=\"entities\" style=\"line-height: 2.5; direction: ltr\">Arguably the best \n",
       "<mark class=\"entity\" style=\"background: #80CBC4; padding: 0.45em 0.6em; margin: 0 0.25em; line-height: 1; border-radius: 0.35em;\">\n",
       "    brewery\n",
       "    <span style=\"font-size: 0.8em; font-weight: bold; line-height: 1; border-radius: 0.35em; text-transform: uppercase; vertical-align: middle; margin-left: 0.5rem\">FEATURE</span>\n",
       "</mark>\n",
       " in SD. They upgraded to a much larger tasting room a couple years back and have been working on revamping/expanding it since. The \n",
       "<mark class=\"entity\" style=\"background: #80CBC4; padding: 0.45em 0.6em; margin: 0 0.25em; line-height: 1; border-radius: 0.35em;\">\n",
       "    brewery\n",
       "    <span style=\"font-size: 0.8em; font-weight: bold; line-height: 1; border-radius: 0.35em; text-transform: uppercase; vertical-align: middle; margin-left: 0.5rem\">FEATURE</span>\n",
       "</mark>\n",
       " not only boasts a \n",
       "<mark class=\"entity\" style=\"background: #80CBC4; padding: 0.45em 0.6em; margin: 0 0.25em; line-height: 1; border-radius: 0.35em;\">\n",
       "    large tasting room\n",
       "    <span style=\"font-size: 0.8em; font-weight: bold; line-height: 1; border-radius: 0.35em; text-transform: uppercase; vertical-align: middle; margin-left: 0.5rem\">FEATURE</span>\n",
       "</mark>\n",
       " with both \n",
       "<mark class=\"entity\" style=\"background: #80CBC4; padding: 0.45em 0.6em; margin: 0 0.25em; line-height: 1; border-radius: 0.35em;\">\n",
       "    indoor\n",
       "    <span style=\"font-size: 0.8em; font-weight: bold; line-height: 1; border-radius: 0.35em; text-transform: uppercase; vertical-align: middle; margin-left: 0.5rem\">FEATURE</span>\n",
       "</mark>\n",
       " and \n",
       "<mark class=\"entity\" style=\"background: #80CBC4; padding: 0.45em 0.6em; margin: 0 0.25em; line-height: 1; border-radius: 0.35em;\">\n",
       "    outdoor seating\n",
       "    <span style=\"font-size: 0.8em; font-weight: bold; line-height: 1; border-radius: 0.35em; text-transform: uppercase; vertical-align: middle; margin-left: 0.5rem\">FEATURE</span>\n",
       "</mark>\n",
       " but they also have: fire pits, daily \n",
       "<mark class=\"entity\" style=\"background: #80CBC4; padding: 0.45em 0.6em; margin: 0 0.25em; line-height: 1; border-radius: 0.35em;\">\n",
       "    food trucks\n",
       "    <span style=\"font-size: 0.8em; font-weight: bold; line-height: 1; border-radius: 0.35em; text-transform: uppercase; vertical-align: middle; margin-left: 0.5rem\">FEATURE</span>\n",
       "</mark>\n",
       ", a Tony Gwynn museum on-site (free), \n",
       "<mark class=\"entity\" style=\"background: #80CBC4; padding: 0.45em 0.6em; margin: 0 0.25em; line-height: 1; border-radius: 0.35em;\">\n",
       "    games\n",
       "    <span style=\"font-size: 0.8em; font-weight: bold; line-height: 1; border-radius: 0.35em; text-transform: uppercase; vertical-align: middle; margin-left: 0.5rem\">FEATURE</span>\n",
       "</mark>\n",
       ", \n",
       "<mark class=\"entity\" style=\"background: #80CBC4; padding: 0.45em 0.6em; margin: 0 0.25em; line-height: 1; border-radius: 0.35em;\">\n",
       "    gift/bottle shop\n",
       "    <span style=\"font-size: 0.8em; font-weight: bold; line-height: 1; border-radius: 0.35em; text-transform: uppercase; vertical-align: middle; margin-left: 0.5rem\">FEATURE</span>\n",
       "</mark>\n",
       ", tours and a private barrel-aged only \n",
       "<mark class=\"entity\" style=\"background: #80CBC4; padding: 0.45em 0.6em; margin: 0 0.25em; line-height: 1; border-radius: 0.35em;\">\n",
       "    tasting room\n",
       "    <span style=\"font-size: 0.8em; font-weight: bold; line-height: 1; border-radius: 0.35em; text-transform: uppercase; vertical-align: middle; margin-left: 0.5rem\">FEATURE</span>\n",
       "</mark>\n",
       " (\n",
       "<mark class=\"entity\" style=\"background: #80CBC4; padding: 0.45em 0.6em; margin: 0 0.25em; line-height: 1; border-radius: 0.35em;\">\n",
       "    &quot;Anvil &amp; Stave\n",
       "    <span style=\"font-size: 0.8em; font-weight: bold; line-height: 1; border-radius: 0.35em; text-transform: uppercase; vertical-align: middle; margin-left: 0.5rem\">FEATURE</span>\n",
       "</mark>\n",
       "&quot;). \n",
       "<mark class=\"entity\" style=\"background: #80CBC4; padding: 0.45em 0.6em; margin: 0 0.25em; line-height: 1; border-radius: 0.35em;\">\n",
       "    Super friendly\n",
       "    <span style=\"font-size: 0.8em; font-weight: bold; line-height: 1; border-radius: 0.35em; text-transform: uppercase; vertical-align: middle; margin-left: 0.5rem\">FEATURE</span>\n",
       "</mark>\n",
       " and \n",
       "<mark class=\"entity\" style=\"background: #80CBC4; padding: 0.45em 0.6em; margin: 0 0.25em; line-height: 1; border-radius: 0.35em;\">\n",
       "    helpful\n",
       "    <span style=\"font-size: 0.8em; font-weight: bold; line-height: 1; border-radius: 0.35em; text-transform: uppercase; vertical-align: middle; margin-left: 0.5rem\">FEATURE</span>\n",
       "</mark>\n",
       " staff and \n",
       "<mark class=\"entity\" style=\"background: #AED581; padding: 0.45em 0.6em; margin: 0 0.25em; line-height: 1; border-radius: 0.35em;\">\n",
       "    Alesmith\n",
       "    <span style=\"font-size: 0.8em; font-weight: bold; line-height: 1; border-radius: 0.35em; text-transform: uppercase; vertical-align: middle; margin-left: 0.5rem\">BREWERY</span>\n",
       "</mark>\n",
       " always has about \n",
       "<mark class=\"entity\" style=\"background: #80CBC4; padding: 0.45em 0.6em; margin: 0 0.25em; line-height: 1; border-radius: 0.35em;\">\n",
       "    20 beers\n",
       "    <span style=\"font-size: 0.8em; font-weight: bold; line-height: 1; border-radius: 0.35em; text-transform: uppercase; vertical-align: middle; margin-left: 0.5rem\">FEATURE</span>\n",
       "</mark>\n",
       " to choose from which include the every \n",
       "<mark class=\"entity\" style=\"background: #80CBC4; padding: 0.45em 0.6em; margin: 0 0.25em; line-height: 1; border-radius: 0.35em;\">\n",
       "    day favorites\n",
       "    <span style=\"font-size: 0.8em; font-weight: bold; line-height: 1; border-radius: 0.35em; text-transform: uppercase; vertical-align: middle; margin-left: 0.5rem\">FEATURE</span>\n",
       "</mark>\n",
       " and a handful of \n",
       "<mark class=\"entity\" style=\"background: #80CBC4; padding: 0.45em 0.6em; margin: 0 0.25em; line-height: 1; border-radius: 0.35em;\">\n",
       "    barrel-aged\n",
       "    <span style=\"font-size: 0.8em; font-weight: bold; line-height: 1; border-radius: 0.35em; text-transform: uppercase; vertical-align: middle; margin-left: 0.5rem\">FEATURE</span>\n",
       "</mark>\n",
       ", limited, or special beers. When in SD, this is a must.</br></div></span>"
      ],
      "text/plain": [
       "<IPython.core.display.HTML object>"
      ]
     },
     "metadata": {},
     "output_type": "display_data"
    },
    {
     "data": {
      "text/html": [
       "<span class=\"tex2jax_ignore\"><div class=\"entities\" style=\"line-height: 2.5; direction: ltr\">There are a lot of places \n",
       "<mark class=\"entity\" style=\"background: #C5CAE9; padding: 0.45em 0.6em; margin: 0 0.25em; line-height: 1; border-radius: 0.35em;\">\n",
       "    in industrial parks\n",
       "    <span style=\"font-size: 0.8em; font-weight: bold; line-height: 1; border-radius: 0.35em; text-transform: uppercase; vertical-align: middle; margin-left: 0.5rem\">LOCATION</span>\n",
       "</mark>\n",
       ", and most of them feel like it. That said, \n",
       "<mark class=\"entity\" style=\"background: #AED581; padding: 0.45em 0.6em; margin: 0 0.25em; line-height: 1; border-radius: 0.35em;\">\n",
       "    AleSmith\n",
       "    <span style=\"font-size: 0.8em; font-weight: bold; line-height: 1; border-radius: 0.35em; text-transform: uppercase; vertical-align: middle; margin-left: 0.5rem\">BREWERY</span>\n",
       "</mark>\n",
       " has done a lot to make this a \n",
       "<mark class=\"entity\" style=\"background: #80CBC4; padding: 0.45em 0.6em; margin: 0 0.25em; line-height: 1; border-radius: 0.35em;\">\n",
       "    welcoming\n",
       "    <span style=\"font-size: 0.8em; font-weight: bold; line-height: 1; border-radius: 0.35em; text-transform: uppercase; vertical-align: middle; margin-left: 0.5rem\">FEATURE</span>\n",
       "</mark>\n",
       " space. Lots of room for the happy hour crowd in the main space, plus a cave-like \n",
       "<mark class=\"entity\" style=\"background: #80CBC4; padding: 0.45em 0.6em; margin: 0 0.25em; line-height: 1; border-radius: 0.35em;\">\n",
       "    hidden room\n",
       "    <span style=\"font-size: 0.8em; font-weight: bold; line-height: 1; border-radius: 0.35em; text-transform: uppercase; vertical-align: middle; margin-left: 0.5rem\">FEATURE</span>\n",
       "</mark>\n",
       " for \n",
       "<mark class=\"entity\" style=\"background: #80CBC4; padding: 0.45em 0.6em; margin: 0 0.25em; line-height: 1; border-radius: 0.35em;\">\n",
       "    barrel-aged\n",
       "    <span style=\"font-size: 0.8em; font-weight: bold; line-height: 1; border-radius: 0.35em; text-transform: uppercase; vertical-align: middle; margin-left: 0.5rem\">FEATURE</span>\n",
       "</mark>\n",
       " brews. \n",
       "<mark class=\"entity\" style=\"background: #80CBC4; padding: 0.45em 0.6em; margin: 0 0.25em; line-height: 1; border-radius: 0.35em;\">\n",
       "    Food trucks\n",
       "    <span style=\"font-size: 0.8em; font-weight: bold; line-height: 1; border-radius: 0.35em; text-transform: uppercase; vertical-align: middle; margin-left: 0.5rem\">FEATURE</span>\n",
       "</mark>\n",
       " are usually outside, and I had to get the bacon grilled cheese. I could spend a lot of time there if I lived nearby, and I was kinda sad I had to move on to the next place because of my limited time. (\n",
       "<mark class=\"entity\" style=\"background: #C5CAE9; padding: 0.45em 0.6em; margin: 0 0.25em; line-height: 1; border-radius: 0.35em;\">\n",
       "    San Diego\n",
       "    <span style=\"font-size: 0.8em; font-weight: bold; line-height: 1; border-radius: 0.35em; text-transform: uppercase; vertical-align: middle; margin-left: 0.5rem\">LOCATION</span>\n",
       "</mark>\n",
       ". Poor poor pitiful me, right?)</br></div></span>"
      ],
      "text/plain": [
       "<IPython.core.display.HTML object>"
      ]
     },
     "metadata": {},
     "output_type": "display_data"
    },
    {
     "data": {
      "text/html": [
       "<span class=\"tex2jax_ignore\"><div class=\"entities\" style=\"line-height: 2.5; direction: ltr\">This place is pretty awesome. \n",
       "<mark class=\"entity\" style=\"background: #80CBC4; padding: 0.45em 0.6em; margin: 0 0.25em; line-height: 1; border-radius: 0.35em;\">\n",
       "    Awesome selection\n",
       "    <span style=\"font-size: 0.8em; font-weight: bold; line-height: 1; border-radius: 0.35em; text-transform: uppercase; vertical-align: middle; margin-left: 0.5rem\">FEATURE</span>\n",
       "</mark>\n",
       " of beer, \n",
       "<mark class=\"entity\" style=\"background: #80CBC4; padding: 0.45em 0.6em; margin: 0 0.25em; line-height: 1; border-radius: 0.35em;\">\n",
       "    very open\n",
       "    <span style=\"font-size: 0.8em; font-weight: bold; line-height: 1; border-radius: 0.35em; text-transform: uppercase; vertical-align: middle; margin-left: 0.5rem\">FEATURE</span>\n",
       "</mark>\n",
       " with different types of seating, including outdoors. Great service and nice vibe. I could totally hang out here all day with some friends and drink.</br></div></span>"
      ],
      "text/plain": [
       "<IPython.core.display.HTML object>"
      ]
     },
     "metadata": {},
     "output_type": "display_data"
    },
    {
     "data": {
      "text/html": [
       "<span class=\"tex2jax_ignore\"><div class=\"entities\" style=\"line-height: 2.5; direction: ltr\">This is a must-stop place if in the \n",
       "<mark class=\"entity\" style=\"background: #C5CAE9; padding: 0.45em 0.6em; margin: 0 0.25em; line-height: 1; border-radius: 0.35em;\">\n",
       "    San Diego\n",
       "    <span style=\"font-size: 0.8em; font-weight: bold; line-height: 1; border-radius: 0.35em; text-transform: uppercase; vertical-align: middle; margin-left: 0.5rem\">LOCATION</span>\n",
       "</mark>\n",
       " area. A little off the beaten path, especially if you are staying downtown but worth it. The Anvil &amp; Stave is a really cool experience and something you have to do if you are there. The main \n",
       "<mark class=\"entity\" style=\"background: #80CBC4; padding: 0.45em 0.6em; margin: 0 0.25em; line-height: 1; border-radius: 0.35em;\">\n",
       "    tasting room\n",
       "    <span style=\"font-size: 0.8em; font-weight: bold; line-height: 1; border-radius: 0.35em; text-transform: uppercase; vertical-align: middle; margin-left: 0.5rem\">FEATURE</span>\n",
       "</mark>\n",
       " has a cool vibe and a \n",
       "<mark class=\"entity\" style=\"background: #80CBC4; padding: 0.45em 0.6em; margin: 0 0.25em; line-height: 1; border-radius: 0.35em;\">\n",
       "    nice selection\n",
       "    <span style=\"font-size: 0.8em; font-weight: bold; line-height: 1; border-radius: 0.35em; text-transform: uppercase; vertical-align: middle; margin-left: 0.5rem\">FEATURE</span>\n",
       "</mark>\n",
       " of beer but the Anvil &amp; Stave is the highlight for sure.</br></div></span>"
      ],
      "text/plain": [
       "<IPython.core.display.HTML object>"
      ]
     },
     "metadata": {},
     "output_type": "display_data"
    },
    {
     "data": {
      "text/html": [
       "<span class=\"tex2jax_ignore\"><div class=\"entities\" style=\"line-height: 2.5; direction: ltr\">Nice location right \n",
       "<mark class=\"entity\" style=\"background: #C5CAE9; padding: 0.45em 0.6em; margin: 0 0.25em; line-height: 1; border-radius: 0.35em;\">\n",
       "    off Miramar\n",
       "    <span style=\"font-size: 0.8em; font-weight: bold; line-height: 1; border-radius: 0.35em; text-transform: uppercase; vertical-align: middle; margin-left: 0.5rem\">LOCATION</span>\n",
       "</mark>\n",
       ". Very clean and open. No food available unless there is a food truck. Solid offerings of beer including some \n",
       "<mark class=\"entity\" style=\"background: #FDD835; padding: 0.45em 0.6em; margin: 0 0.25em; line-height: 1; border-radius: 0.35em;\">\n",
       "    barrell aged\n",
       "    <span style=\"font-size: 0.8em; font-weight: bold; line-height: 1; border-radius: 0.35em; text-transform: uppercase; vertical-align: middle; margin-left: 0.5rem\">BEER_STYLE</span>\n",
       "</mark>\n",
       " options plus some r and d. Worth a visit if \n",
       "<mark class=\"entity\" style=\"background: #C5CAE9; padding: 0.45em 0.6em; margin: 0 0.25em; line-height: 1; border-radius: 0.35em;\">\n",
       "    in San Diego\n",
       "    <span style=\"font-size: 0.8em; font-weight: bold; line-height: 1; border-radius: 0.35em; text-transform: uppercase; vertical-align: middle; margin-left: 0.5rem\">LOCATION</span>\n",
       "</mark>\n",
       " and just around he corner from Ballast Point \n",
       "<mark class=\"entity\" style=\"background: #80CBC4; padding: 0.45em 0.6em; margin: 0 0.25em; line-height: 1; border-radius: 0.35em;\">\n",
       "    brewery/restaraunt\n",
       "    <span style=\"font-size: 0.8em; font-weight: bold; line-height: 1; border-radius: 0.35em; text-transform: uppercase; vertical-align: middle; margin-left: 0.5rem\">FEATURE</span>\n",
       "</mark>\n",
       ".</br></div></span>"
      ],
      "text/plain": [
       "<IPython.core.display.HTML object>"
      ]
     },
     "metadata": {},
     "output_type": "display_data"
    },
    {
     "data": {
      "text/html": [
       "<span class=\"tex2jax_ignore\"><div class=\"entities\" style=\"line-height: 2.5; direction: ltr\">Made two stops here and found a \n",
       "<mark class=\"entity\" style=\"background: #80CBC4; padding: 0.45em 0.6em; margin: 0 0.25em; line-height: 1; border-radius: 0.35em;\">\n",
       "    huge open space\n",
       "    <span style=\"font-size: 0.8em; font-weight: bold; line-height: 1; border-radius: 0.35em; text-transform: uppercase; vertical-align: middle; margin-left: 0.5rem\">FEATURE</span>\n",
       "</mark>\n",
       ", long bar area, movies showing and a pretty \n",
       "<mark class=\"entity\" style=\"background: #80CBC4; padding: 0.45em 0.6em; margin: 0 0.25em; line-height: 1; border-radius: 0.35em;\">\n",
       "    big gift shop\n",
       "    <span style=\"font-size: 0.8em; font-weight: bold; line-height: 1; border-radius: 0.35em; text-transform: uppercase; vertical-align: middle; margin-left: 0.5rem\">FEATURE</span>\n",
       "</mark>\n",
       " that also had bottle sales. If you come on the right day, you'll luck out with some Speedway variants, if not you'll just have to settle for variants of some other beer. Hard to go wrong either way. I'd go here if I had a \n",
       "<mark class=\"entity\" style=\"background: #80CBC4; padding: 0.45em 0.6em; margin: 0 0.25em; line-height: 1; border-radius: 0.35em;\">\n",
       "    big group\n",
       "    <span style=\"font-size: 0.8em; font-weight: bold; line-height: 1; border-radius: 0.35em; text-transform: uppercase; vertical-align: middle; margin-left: 0.5rem\">FEATURE</span>\n",
       "</mark>\n",
       " by the way.</br></div></span>"
      ],
      "text/plain": [
       "<IPython.core.display.HTML object>"
      ]
     },
     "metadata": {},
     "output_type": "display_data"
    },
    {
     "data": {
      "text/html": [
       "<span class=\"tex2jax_ignore\"><div class=\"entities\" style=\"line-height: 2.5; direction: ltr\">All Hail, \n",
       "<mark class=\"entity\" style=\"background: #AED581; padding: 0.45em 0.6em; margin: 0 0.25em; line-height: 1; border-radius: 0.35em;\">\n",
       "    Alesmith\n",
       "    <span style=\"font-size: 0.8em; font-weight: bold; line-height: 1; border-radius: 0.35em; text-transform: uppercase; vertical-align: middle; margin-left: 0.5rem\">BREWERY</span>\n",
       "</mark>\n",
       ". I remain mystified that a brewer in one of the most consistently warm climates can produce such astounding stouts. But the story starts two years ago because \n",
       "<mark class=\"entity\" style=\"background: #AED581; padding: 0.45em 0.6em; margin: 0 0.25em; line-height: 1; border-radius: 0.35em;\">\n",
       "    Alesmith\n",
       "    <span style=\"font-size: 0.8em; font-weight: bold; line-height: 1; border-radius: 0.35em; text-transform: uppercase; vertical-align: middle; margin-left: 0.5rem\">BREWERY</span>\n",
       "</mark>\n",
       " has two on my quest to taste &quot;10001 Beers You Must Taste Before \n",
       "<mark class=\"entity\" style=\"background: #AED581; padding: 0.45em 0.6em; margin: 0 0.25em; line-height: 1; border-radius: 0.35em;\">\n",
       "    You Die&quot;\n",
       "    <span style=\"font-size: 0.8em; font-weight: bold; line-height: 1; border-radius: 0.35em; text-transform: uppercase; vertical-align: middle; margin-left: 0.5rem\">BREWERY</span>\n",
       "</mark>\n",
       " and they don't distribute in my state. When their beer starts to dribble into \n",
       "<mark class=\"entity\" style=\"background: #C5CAE9; padding: 0.45em 0.6em; margin: 0 0.25em; line-height: 1; border-radius: 0.35em;\">\n",
       "    Illinois\n",
       "    <span style=\"font-size: 0.8em; font-weight: bold; line-height: 1; border-radius: 0.35em; text-transform: uppercase; vertical-align: middle; margin-left: 0.5rem\">LOCATION</span>\n",
       "</mark>\n",
       ", I was advised by the largest beverage retailer \n",
       "<mark class=\"entity\" style=\"background: #C5CAE9; padding: 0.45em 0.6em; margin: 0 0.25em; line-height: 1; border-radius: 0.35em;\">\n",
       "    in Chicagoland\n",
       "    <span style=\"font-size: 0.8em; font-weight: bold; line-height: 1; border-radius: 0.35em; text-transform: uppercase; vertical-align: middle; margin-left: 0.5rem\">LOCATION</span>\n",
       "</mark>\n",
       " that I would be lucky to get any soon. A month later, we visit my wife's cousin in \n",
       "<mark class=\"entity\" style=\"background: #C5CAE9; padding: 0.45em 0.6em; margin: 0 0.25em; line-height: 1; border-radius: 0.35em;\">\n",
       "    San Diego\n",
       "    <span style=\"font-size: 0.8em; font-weight: bold; line-height: 1; border-radius: 0.35em; text-transform: uppercase; vertical-align: middle; margin-left: 0.5rem\">LOCATION</span>\n",
       "</mark>\n",
       " and he has a driver without much to do. So it seemed like a genius-stroke to ask him to take me to \n",
       "<mark class=\"entity\" style=\"background: #FDD835; padding: 0.45em 0.6em; margin: 0 0.25em; line-height: 1; border-radius: 0.35em;\">\n",
       "    Alesmith\n",
       "    <span style=\"font-size: 0.8em; font-weight: bold; line-height: 1; border-radius: 0.35em; text-transform: uppercase; vertical-align: middle; margin-left: 0.5rem\">BEER_STYLE</span>\n",
       "</mark>\n",
       ". I could drink all I wanted! Well, we arrived and I discovered : no flights, but they sold bottles. We were flying out tomorrow, so I didn't want to buy bottles. Dilemma. Then, I saw a clique of restauranteurs sampling the brews. Without introducing myself, I went over and acted like I knew their biz. The conceit worked and I sampled at least five brews... all excellent and an astounding \n",
       "<mark class=\"entity\" style=\"background: #FDD835; padding: 0.45em 0.6em; margin: 0 0.25em; line-height: 1; border-radius: 0.35em;\">\n",
       "    stout\n",
       "    <span style=\"font-size: 0.8em; font-weight: bold; line-height: 1; border-radius: 0.35em; text-transform: uppercase; vertical-align: middle; margin-left: 0.5rem\">BEER_STYLE</span>\n",
       "</mark>\n",
       ". Lesson: Beer-hunting requires more than persistent, it requires guile... albeit for a good cause.</br></div></span>"
      ],
      "text/plain": [
       "<IPython.core.display.HTML object>"
      ]
     },
     "metadata": {},
     "output_type": "display_data"
    },
    {
     "data": {
      "text/html": [
       "<span class=\"tex2jax_ignore\"><div class=\"entities\" style=\"line-height: 2.5; direction: ltr\">Very cool place, just wish the beer was better. Food truck was pulled up for good eats. \n",
       "<mark class=\"entity\" style=\"background: #80CBC4; padding: 0.45em 0.6em; margin: 0 0.25em; line-height: 1; border-radius: 0.35em;\">\n",
       "    Outdoor patio\n",
       "    <span style=\"font-size: 0.8em; font-weight: bold; line-height: 1; border-radius: 0.35em; text-transform: uppercase; vertical-align: middle; margin-left: 0.5rem\">FEATURE</span>\n",
       "</mark>\n",
       " area had a cool area to chill by the fire and others were playing corn hole. Inside was massive with lots of stools and tables, all of which were taken on the Saturday evening I was there. Loved the place but unless they produce better beer, I'll probably skip next time (no Speedway stout or any variants available the day I was there).</br></div></span>"
      ],
      "text/plain": [
       "<IPython.core.display.HTML object>"
      ]
     },
     "metadata": {},
     "output_type": "display_data"
    },
    {
     "data": {
      "text/html": [
       "<span class=\"tex2jax_ignore\"><div class=\"entities\" style=\"line-height: 2.5; direction: ltr\">Stopped here to check out their beers because they don't make it to DE. Beers were great as expected. The \n",
       "<mark class=\"entity\" style=\"background: #80CBC4; padding: 0.45em 0.6em; margin: 0 0.25em; line-height: 1; border-radius: 0.35em;\">\n",
       "    tasting room\n",
       "    <span style=\"font-size: 0.8em; font-weight: bold; line-height: 1; border-radius: 0.35em; text-transform: uppercase; vertical-align: middle; margin-left: 0.5rem\">FEATURE</span>\n",
       "</mark>\n",
       " is spacious and they offer a rack of four samples for tasting. We were there during mid afternoon on a Friday and they were busy but not crowded. Not a bad place to hang out and drink some beer.</br></div></span>"
      ],
      "text/plain": [
       "<IPython.core.display.HTML object>"
      ]
     },
     "metadata": {},
     "output_type": "display_data"
    },
    {
     "data": {
      "text/html": [
       "<span class=\"tex2jax_ignore\"><div class=\"entities\" style=\"line-height: 2.5; direction: ltr\">The new \n",
       "<mark class=\"entity\" style=\"background: #80CBC4; padding: 0.45em 0.6em; margin: 0 0.25em; line-height: 1; border-radius: 0.35em;\">\n",
       "    tasting room\n",
       "    <span style=\"font-size: 0.8em; font-weight: bold; line-height: 1; border-radius: 0.35em; text-transform: uppercase; vertical-align: middle; margin-left: 0.5rem\">FEATURE</span>\n",
       "</mark>\n",
       " is a \n",
       "<mark class=\"entity\" style=\"background: #80CBC4; padding: 0.45em 0.6em; margin: 0 0.25em; line-height: 1; border-radius: 0.35em;\">\n",
       "    huge space\n",
       "    <span style=\"font-size: 0.8em; font-weight: bold; line-height: 1; border-radius: 0.35em; text-transform: uppercase; vertical-align: middle; margin-left: 0.5rem\">FEATURE</span>\n",
       "</mark>\n",
       " in an industrial park. Still a decent vibe given the size and location. They typically have \n",
       "<mark class=\"entity\" style=\"background: #80CBC4; padding: 0.45em 0.6em; margin: 0 0.25em; line-height: 1; border-radius: 0.35em;\">\n",
       "    10-12 standards\n",
       "    <span style=\"font-size: 0.8em; font-weight: bold; line-height: 1; border-radius: 0.35em; text-transform: uppercase; vertical-align: middle; margin-left: 0.5rem\">FEATURE</span>\n",
       "</mark>\n",
       " on tap and \n",
       "<mark class=\"entity\" style=\"background: #80CBC4; padding: 0.45em 0.6em; margin: 0 0.25em; line-height: 1; border-radius: 0.35em;\">\n",
       "    5-6 specialty beers\n",
       "    <span style=\"font-size: 0.8em; font-weight: bold; line-height: 1; border-radius: 0.35em; text-transform: uppercase; vertical-align: middle; margin-left: 0.5rem\">FEATURE</span>\n",
       "</mark>\n",
       ". A series of \n",
       "<mark class=\"entity\" style=\"background: #FDD835; padding: 0.45em 0.6em; margin: 0 0.25em; line-height: 1; border-radius: 0.35em;\">\n",
       "    Mikkeller\n",
       "    <span style=\"font-size: 0.8em; font-weight: bold; line-height: 1; border-radius: 0.35em; text-transform: uppercase; vertical-align: middle; margin-left: 0.5rem\">BEER_STYLE</span>\n",
       "</mark>\n",
       " collabs were available when I visited. As with their standard bottled beers - nothing really blew me away, just a broad range of solid offerings. Beer tenders seemed to be reasonably \n",
       "<mark class=\"entity\" style=\"background: #80CBC4; padding: 0.45em 0.6em; margin: 0 0.25em; line-height: 1; border-radius: 0.35em;\">\n",
       "    knowledgable\n",
       "    <span style=\"font-size: 0.8em; font-weight: bold; line-height: 1; border-radius: 0.35em; text-transform: uppercase; vertical-align: middle; margin-left: 0.5rem\">FEATURE</span>\n",
       "</mark>\n",
       " and \n",
       "<mark class=\"entity\" style=\"background: #80CBC4; padding: 0.45em 0.6em; margin: 0 0.25em; line-height: 1; border-radius: 0.35em;\">\n",
       "    helpful\n",
       "    <span style=\"font-size: 0.8em; font-weight: bold; line-height: 1; border-radius: 0.35em; text-transform: uppercase; vertical-align: middle; margin-left: 0.5rem\">FEATURE</span>\n",
       "</mark>\n",
       ". In most towns \n",
       "<mark class=\"entity\" style=\"background: #AED581; padding: 0.45em 0.6em; margin: 0 0.25em; line-height: 1; border-radius: 0.35em;\">\n",
       "    Alesmith\n",
       "    <span style=\"font-size: 0.8em; font-weight: bold; line-height: 1; border-radius: 0.35em; text-transform: uppercase; vertical-align: middle; margin-left: 0.5rem\">BREWERY</span>\n",
       "</mark>\n",
       " would stand out but not in SD these days.</div></span>"
      ],
      "text/plain": [
       "<IPython.core.display.HTML object>"
      ]
     },
     "metadata": {},
     "output_type": "display_data"
    }
   ],
   "source": [
    "# Test trained model\n",
    "with open('../data/raw/reviews_san-diego_alesmith.txt') as file:\n",
    "    reviews = file.readlines()\n",
    "    \n",
    "for review in reviews:\n",
    "    doc = nlp(review)\n",
    "    displacy.render(doc, style=\"ent\", options=options)"
   ]
  },
  {
   "cell_type": "code",
   "execution_count": null,
   "metadata": {},
   "outputs": [],
   "source": []
  }
 ],
 "metadata": {
  "kernelspec": {
   "display_name": "Python 3",
   "language": "python",
   "name": "python3"
  },
  "language_info": {
   "codemirror_mode": {
    "name": "ipython",
    "version": 3
   },
   "file_extension": ".py",
   "mimetype": "text/x-python",
   "name": "python",
   "nbconvert_exporter": "python",
   "pygments_lexer": "ipython3",
   "version": "3.9.0"
  }
 },
 "nbformat": 4,
 "nbformat_minor": 4
}
